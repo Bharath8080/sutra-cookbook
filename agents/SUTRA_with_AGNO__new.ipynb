{
  "nbformat": 4,
  "nbformat_minor": 0,
  "metadata": {
    "colab": {
      "provenance": []
    },
    "kernelspec": {
      "name": "python3",
      "display_name": "Python 3"
    },
    "language_info": {
      "name": "python"
    },
    "widgets": {
      "application/vnd.jupyter.widget-state+json": {
        "259b5a854b2747f6909443a34a054196": {
          "model_module": "@jupyter-widgets/output",
          "model_name": "OutputModel",
          "model_module_version": "1.0.0",
          "state": {
            "_dom_classes": [],
            "_model_module": "@jupyter-widgets/output",
            "_model_module_version": "1.0.0",
            "_model_name": "OutputModel",
            "_view_count": null,
            "_view_module": "@jupyter-widgets/output",
            "_view_module_version": "1.0.0",
            "_view_name": "OutputView",
            "layout": "IPY_MODEL_d4e02caaaed54edf8fc9f5352d1c192e",
            "msg_id": "",
            "outputs": [
              {
                "output_type": "display_data",
                "data": {
                  "text/plain": "\u001b[32m▰▱▱▱▱▱▱\u001b[0m Thinking...\n\u001b[36m┏━\u001b[0m\u001b[36m Message \u001b[0m\u001b[36m━━━━━━━━━━━━━━━━━━━━━━━━━━━━━━━━━━━━━━━━━━━━━━━━━━━━━━━━━━━━━━━━━━━━━━━━━━━━━━━━━━━━━━━━━━━━━━━━━━━━━━\u001b[0m\u001b[36m━┓\u001b[0m\n\u001b[36m┃\u001b[0m                                                                                                                 \u001b[36m┃\u001b[0m\n\u001b[36m┃\u001b[0m \u001b[32mHow do I make chicken and galangal in coconut milk soup?\u001b[0m                                                        \u001b[36m┃\u001b[0m\n\u001b[36m┃\u001b[0m                                                                                                                 \u001b[36m┃\u001b[0m\n\u001b[36m┗━━━━━━━━━━━━━━━━━━━━━━━━━━━━━━━━━━━━━━━━━━━━━━━━━━━━━━━━━━━━━━━━━━━━━━━━━━━━━━━━━━━━━━━━━━━━━━━━━━━━━━━━━━━━━━━━━┛\u001b[0m\n\u001b[34m┏━\u001b[0m\u001b[34m Response (4.1s) \u001b[0m\u001b[34m━━━━━━━━━━━━━━━━━━━━━━━━━━━━━━━━━━━━━━━━━━━━━━━━━━━━━━━━━━━━━━━━━━━━━━━━━━━━━━━━━━━━━━━━━━━━━━\u001b[0m\u001b[34m━┓\u001b[0m\n\u001b[34m┃\u001b[0m                                                                                                                 \u001b[34m┃\u001b[0m\n\u001b[34m┃\u001b[0m Here's a simple recipe for \u001b[1mChicken and Galangal in Coconut Milk Soup\u001b[0m, often known as Tom Kha Gai, a popular     \u001b[34m┃\u001b[0m\n\u001b[34m┃\u001b[0m Thai dish. This soup is fragrant, creamy, and has a lovely balance of flavors.                                  \u001b[34m┃\u001b[0m\n\u001b[34m┃\u001b[0m                                                                                                                 \u001b[34m┃\u001b[0m\n\u001b[34m┃\u001b[0m                                                   \u001b[1mIngredients\u001b[0m                                                   \u001b[34m┃\u001b[0m\n\u001b[34m┃\u001b[0m                                                                                                                 \u001b[34m┃\u001b[0m\n\u001b[34m┃\u001b[0m \u001b[1;33m • \u001b[0m\u001b[1mFor the Soup:\u001b[0m                                                                                                \u001b[34m┃\u001b[0m\n\u001b[34m┃\u001b[0m \u001b[1;33m   \u001b[0m\u001b[1;33m • \u001b[0m1 lb (450g) chicken breast or thighs, thinly sliced                                                       \u001b[34m┃\u001b[0m\n\u001b[34m┃\u001b[0m \u001b[1;33m   \u001b[0m\u001b[1;33m • \u001b[0m2 cups (500ml) coconut milk                                                                               \u001b[34m┃\u001b[0m\n\u001b[34m┃\u001b[0m \u001b[1;33m   \u001b[0m\u001b[1;33m • \u001b[0m2 cups (500ml) chicken broth                                                                              \u001b[34m┃\u001b[0m\n\u001b[34m┃\u001b[0m \u001b[1;33m   \u001b[0m\u001b[1;33m • \u001b[0m3-4 slices of galangal (or ginger if unavailable)                                                         \u001b[34m┃\u001b[0m\n\u001b[34m┃\u001b[0m \u001b[1;33m   \u001b[0m\u001b[1;33m • \u001b[0m2-3 stalks of lemongrass, cut into 2-inch pieces and smashed                                              \u001b[34m┃\u001b[0m\n\u001b[34m┃\u001b[0m \u001b[1;33m   \u001b[0m\u001b[1;33m • \u001b[0m4-5 kaffir lime leaves, torn into pieces                                                                  \u001b[34m┃\u001b[0m\n\u001b[34m┃\u001b[0m \u001b[1;33m   \u001b[0m\u001b[1;33m • \u001b[0m3-4 Thai bird's eye chilies, smashed (adjust to taste)                                                    \u001b[34m┃\u001b[0m\n\u001b[34m┃\u001b[0m \u001b[1;33m   \u001b[0m\u001b[1;33m • \u001b[0m200g mushrooms (shiitake or straw mushrooms), sliced                                                      \u001b[34m┃\u001b[0m\n\u001b[34m┃\u001b[0m \u001b[1;33m   \u001b[0m\u001b[1;33m • \u001b[0m1-2 tablespoons fish sauce (to taste)                                                                     \u001b[34m┃\u001b[0m\n\u001b[34m┃\u001b[0m \u001b[1;33m   \u001b[0m\u001b[1;33m • \u001b[0m1 tablespoon sugar (palm sugar preferred)                                                                 \u001b[34m┃\u001b[0m\n\u001b[34m┃\u001b[0m \u001b[1;33m   \u001b[0m\u001b[1;33m • \u001b[0mJuice of 1 lime (to taste)                                                                                \u001b[34m┃\u001b[0m\n\u001b[34m┃\u001b[0m \u001b[1;33m   \u001b[0m\u001b[1;33m • \u001b[0mFresh cilantro leaves for garnish                                                                         \u001b[34m┃\u001b[0m\n\u001b[34m┃\u001b[0m \u001b[1;33m   \u001b[0m\u001b[1;33m • \u001b[0mOptional: sliced red chili for garnish                                                                    \u001b[34m┃\u001b[0m\n\u001b[34m┃\u001b[0m                                                                                                                 \u001b[34m┃\u001b[0m\n\u001b[34m┃\u001b[0m                                                  \u001b[1mInstructions\u001b[0m                                                   \u001b[34m┃\u001b[0m\n\u001b[34m┃\u001b[0m                                                                                                                 \u001b[34m┃\u001b[0m\n\u001b[34m┃\u001b[0m \u001b[1;33m 1 \u001b[0m\u001b[1mPrepare the Broth:\u001b[0m                                                                                           \u001b[34m┃\u001b[0m\n\u001b[34m┃\u001b[0m \u001b[1;33m   \u001b[0m\u001b[1;33m • \u001b[0mIn a pot, combine the chicken broth, coconut milk, galangal, lemongrass, and kaffir lime leaves. Bring to \u001b[34m┃\u001b[0m\n\u001b[34m┃\u001b[0m \u001b[1;33m   \u001b[0m\u001b[1;33m   \u001b[0ma gentle boil over medium heat.                                                                           \u001b[34m┃\u001b[0m\n\u001b[34m┃\u001b[0m \u001b[1;33m 2 \u001b[0m\u001b[1mAdd Chicken:\u001b[0m                                                                                                 \u001b[34m┃\u001b[0m\n\u001b[34m┃\u001b[0m \u001b[1;33m   \u001b[0m\u001b[1;33m • \u001b[0mOnce the broth is boiling, add the sliced chicken. Cook until the chicken is fully cooked, approximately  \u001b[34m┃\u001b[0m\n\u001b[34m┃\u001b[0m \u001b[1;33m   \u001b[0m\u001b[1;33m   \u001b[0m5-7 minutes.                                                                                              \u001b[34m┃\u001b[0m\n\u001b[34m┃\u001b[0m \u001b[1;33m 3 \u001b[0m\u001b[1mAdd Mushrooms:\u001b[0m                                                                                               \u001b[34m┃\u001b[0m\n\u001b[34m┃\u001b[0m \u001b[1;33m   \u001b[0m\u001b[1;33m • \u001b[0mAdd the sliced mushrooms and continue to simmer for another 2-3 minutes until they are tender.            \u001b[34m┃\u001b[0m\n\u001b[34m┃\u001b[0m \u001b[1;33m 4 \u001b[0m\u001b[1mSeason the Soup:\u001b[0m                                                                                             \u001b[34m┃\u001b[0m\n\u001b[34m┃\u001b[0m \u001b[1;33m   \u001b[0m\u001b[1;33m • \u001b[0mStir in the fish sauce, sugar, and smashed chilies. Adjust the seasoning to your taste, adding more fish  \u001b[34m┃\u001b[0m\n\u001b[34m┃\u001b[0m \u001b[1;33m   \u001b[0m\u001b[1;33m   \u001b[0msauce or sugar if needed.                                                                                 \u001b[34m┃\u001b[0m\n\u001b[34m┃\u001b[0m \u001b[1;33m 5 \u001b[0m\u001b[1mFinish with Lime Juice:\u001b[0m                                                                                      \u001b[34m┃\u001b[0m\n\u001b[34m┃\u001b[0m \u001b[1;33m   \u001b[0m\u001b[1;33m • \u001b[0mRemove the pot from heat and add lime juice. Taste and adjust any seasonings as necessary.                \u001b[34m┃\u001b[0m\n\u001b[34m┃\u001b[0m \u001b[1;33m 6 \u001b[0m\u001b[1mServe:\u001b[0m                                                                                                       \u001b[34m┃\u001b[0m\n\u001b[34m┃\u001b[0m \u001b[1;33m   \u001b[0m\u001b[1;33m • \u001b[0mLadle the soup into bowls and garnish with fresh cilantro leaves and optional sliced red chili for added  \u001b[34m┃\u001b[0m\n\u001b[34m┃\u001b[0m \u001b[1;33m   \u001b[0m\u001b[1;33m   \u001b[0mheat.                                                                                                     \u001b[34m┃\u001b[0m\n\u001b[34m┃\u001b[0m                                                                                                                 \u001b[34m┃\u001b[0m\n\u001b[34m┃\u001b[0m                                                      \u001b[1mTips\u001b[0m                                                       \u001b[34m┃\u001b[0m\n\u001b[34m┃\u001b[0m                                                                                                                 \u001b[34m┃\u001b[0m\n\u001b[34m┃\u001b[0m \u001b[1;33m • \u001b[0mFor a vegetarian version, substitute chicken with tofu and use vegetable broth.                              \u001b[34m┃\u001b[0m\n\u001b[34m┃\u001b[0m \u001b[1;33m • \u001b[0mAdjust the level of spiciness by varying the number of chilies used.                                         \u001b[34m┃\u001b[0m\n\u001b[34m┃\u001b[0m \u001b[1;33m • \u001b[0mServe with steamed jasmine rice for a complete meal.                                                         \u001b[34m┃\u001b[0m\n\u001b[34m┃\u001b[0m                                                                                                                 \u001b[34m┃\u001b[0m\n\u001b[34m┃\u001b[0m Enjoy your delicious Chicken and Galangal in Coconut Milk Soup!                                                 \u001b[34m┃\u001b[0m\n\u001b[34m┃\u001b[0m                                                                                                                 \u001b[34m┃\u001b[0m\n\u001b[34m┗━━━━━━━━━━━━━━━━━━━━━━━━━━━━━━━━━━━━━━━━━━━━━━━━━━━━━━━━━━━━━━━━━━━━━━━━━━━━━━━━━━━━━━━━━━━━━━━━━━━━━━━━━━━━━━━━━┛\u001b[0m\n",
                  "text/html": "<pre style=\"white-space:pre;overflow-x:auto;line-height:normal;font-family:Menlo,'DejaVu Sans Mono',consolas,'Courier New',monospace\"><span style=\"color: #008000; text-decoration-color: #008000\">▰▱▱▱▱▱▱</span> Thinking...\n<span style=\"color: #008080; text-decoration-color: #008080\">┏━ Message ━━━━━━━━━━━━━━━━━━━━━━━━━━━━━━━━━━━━━━━━━━━━━━━━━━━━━━━━━━━━━━━━━━━━━━━━━━━━━━━━━━━━━━━━━━━━━━━━━━━━━━━┓</span>\n<span style=\"color: #008080; text-decoration-color: #008080\">┃</span>                                                                                                                 <span style=\"color: #008080; text-decoration-color: #008080\">┃</span>\n<span style=\"color: #008080; text-decoration-color: #008080\">┃</span> <span style=\"color: #008000; text-decoration-color: #008000\">How do I make chicken and galangal in coconut milk soup?</span>                                                        <span style=\"color: #008080; text-decoration-color: #008080\">┃</span>\n<span style=\"color: #008080; text-decoration-color: #008080\">┃</span>                                                                                                                 <span style=\"color: #008080; text-decoration-color: #008080\">┃</span>\n<span style=\"color: #008080; text-decoration-color: #008080\">┗━━━━━━━━━━━━━━━━━━━━━━━━━━━━━━━━━━━━━━━━━━━━━━━━━━━━━━━━━━━━━━━━━━━━━━━━━━━━━━━━━━━━━━━━━━━━━━━━━━━━━━━━━━━━━━━━━┛</span>\n<span style=\"color: #000080; text-decoration-color: #000080\">┏━ Response (4.1s) ━━━━━━━━━━━━━━━━━━━━━━━━━━━━━━━━━━━━━━━━━━━━━━━━━━━━━━━━━━━━━━━━━━━━━━━━━━━━━━━━━━━━━━━━━━━━━━━┓</span>\n<span style=\"color: #000080; text-decoration-color: #000080\">┃</span>                                                                                                                 <span style=\"color: #000080; text-decoration-color: #000080\">┃</span>\n<span style=\"color: #000080; text-decoration-color: #000080\">┃</span> Here's a simple recipe for <span style=\"font-weight: bold\">Chicken and Galangal in Coconut Milk Soup</span>, often known as Tom Kha Gai, a popular     <span style=\"color: #000080; text-decoration-color: #000080\">┃</span>\n<span style=\"color: #000080; text-decoration-color: #000080\">┃</span> Thai dish. This soup is fragrant, creamy, and has a lovely balance of flavors.                                  <span style=\"color: #000080; text-decoration-color: #000080\">┃</span>\n<span style=\"color: #000080; text-decoration-color: #000080\">┃</span>                                                                                                                 <span style=\"color: #000080; text-decoration-color: #000080\">┃</span>\n<span style=\"color: #000080; text-decoration-color: #000080\">┃</span>                                                   <span style=\"font-weight: bold\">Ingredients</span>                                                   <span style=\"color: #000080; text-decoration-color: #000080\">┃</span>\n<span style=\"color: #000080; text-decoration-color: #000080\">┃</span>                                                                                                                 <span style=\"color: #000080; text-decoration-color: #000080\">┃</span>\n<span style=\"color: #000080; text-decoration-color: #000080\">┃</span> <span style=\"color: #808000; text-decoration-color: #808000; font-weight: bold\"> • </span><span style=\"font-weight: bold\">For the Soup:</span>                                                                                                <span style=\"color: #000080; text-decoration-color: #000080\">┃</span>\n<span style=\"color: #000080; text-decoration-color: #000080\">┃</span> <span style=\"color: #808000; text-decoration-color: #808000; font-weight: bold\">    • </span>1 lb (450g) chicken breast or thighs, thinly sliced                                                       <span style=\"color: #000080; text-decoration-color: #000080\">┃</span>\n<span style=\"color: #000080; text-decoration-color: #000080\">┃</span> <span style=\"color: #808000; text-decoration-color: #808000; font-weight: bold\">    • </span>2 cups (500ml) coconut milk                                                                               <span style=\"color: #000080; text-decoration-color: #000080\">┃</span>\n<span style=\"color: #000080; text-decoration-color: #000080\">┃</span> <span style=\"color: #808000; text-decoration-color: #808000; font-weight: bold\">    • </span>2 cups (500ml) chicken broth                                                                              <span style=\"color: #000080; text-decoration-color: #000080\">┃</span>\n<span style=\"color: #000080; text-decoration-color: #000080\">┃</span> <span style=\"color: #808000; text-decoration-color: #808000; font-weight: bold\">    • </span>3-4 slices of galangal (or ginger if unavailable)                                                         <span style=\"color: #000080; text-decoration-color: #000080\">┃</span>\n<span style=\"color: #000080; text-decoration-color: #000080\">┃</span> <span style=\"color: #808000; text-decoration-color: #808000; font-weight: bold\">    • </span>2-3 stalks of lemongrass, cut into 2-inch pieces and smashed                                              <span style=\"color: #000080; text-decoration-color: #000080\">┃</span>\n<span style=\"color: #000080; text-decoration-color: #000080\">┃</span> <span style=\"color: #808000; text-decoration-color: #808000; font-weight: bold\">    • </span>4-5 kaffir lime leaves, torn into pieces                                                                  <span style=\"color: #000080; text-decoration-color: #000080\">┃</span>\n<span style=\"color: #000080; text-decoration-color: #000080\">┃</span> <span style=\"color: #808000; text-decoration-color: #808000; font-weight: bold\">    • </span>3-4 Thai bird's eye chilies, smashed (adjust to taste)                                                    <span style=\"color: #000080; text-decoration-color: #000080\">┃</span>\n<span style=\"color: #000080; text-decoration-color: #000080\">┃</span> <span style=\"color: #808000; text-decoration-color: #808000; font-weight: bold\">    • </span>200g mushrooms (shiitake or straw mushrooms), sliced                                                      <span style=\"color: #000080; text-decoration-color: #000080\">┃</span>\n<span style=\"color: #000080; text-decoration-color: #000080\">┃</span> <span style=\"color: #808000; text-decoration-color: #808000; font-weight: bold\">    • </span>1-2 tablespoons fish sauce (to taste)                                                                     <span style=\"color: #000080; text-decoration-color: #000080\">┃</span>\n<span style=\"color: #000080; text-decoration-color: #000080\">┃</span> <span style=\"color: #808000; text-decoration-color: #808000; font-weight: bold\">    • </span>1 tablespoon sugar (palm sugar preferred)                                                                 <span style=\"color: #000080; text-decoration-color: #000080\">┃</span>\n<span style=\"color: #000080; text-decoration-color: #000080\">┃</span> <span style=\"color: #808000; text-decoration-color: #808000; font-weight: bold\">    • </span>Juice of 1 lime (to taste)                                                                                <span style=\"color: #000080; text-decoration-color: #000080\">┃</span>\n<span style=\"color: #000080; text-decoration-color: #000080\">┃</span> <span style=\"color: #808000; text-decoration-color: #808000; font-weight: bold\">    • </span>Fresh cilantro leaves for garnish                                                                         <span style=\"color: #000080; text-decoration-color: #000080\">┃</span>\n<span style=\"color: #000080; text-decoration-color: #000080\">┃</span> <span style=\"color: #808000; text-decoration-color: #808000; font-weight: bold\">    • </span>Optional: sliced red chili for garnish                                                                    <span style=\"color: #000080; text-decoration-color: #000080\">┃</span>\n<span style=\"color: #000080; text-decoration-color: #000080\">┃</span>                                                                                                                 <span style=\"color: #000080; text-decoration-color: #000080\">┃</span>\n<span style=\"color: #000080; text-decoration-color: #000080\">┃</span>                                                  <span style=\"font-weight: bold\">Instructions</span>                                                   <span style=\"color: #000080; text-decoration-color: #000080\">┃</span>\n<span style=\"color: #000080; text-decoration-color: #000080\">┃</span>                                                                                                                 <span style=\"color: #000080; text-decoration-color: #000080\">┃</span>\n<span style=\"color: #000080; text-decoration-color: #000080\">┃</span> <span style=\"color: #808000; text-decoration-color: #808000; font-weight: bold\"> 1 </span><span style=\"font-weight: bold\">Prepare the Broth:</span>                                                                                           <span style=\"color: #000080; text-decoration-color: #000080\">┃</span>\n<span style=\"color: #000080; text-decoration-color: #000080\">┃</span> <span style=\"color: #808000; text-decoration-color: #808000; font-weight: bold\">    • </span>In a pot, combine the chicken broth, coconut milk, galangal, lemongrass, and kaffir lime leaves. Bring to <span style=\"color: #000080; text-decoration-color: #000080\">┃</span>\n<span style=\"color: #000080; text-decoration-color: #000080\">┃</span> <span style=\"color: #808000; text-decoration-color: #808000; font-weight: bold\">      </span>a gentle boil over medium heat.                                                                           <span style=\"color: #000080; text-decoration-color: #000080\">┃</span>\n<span style=\"color: #000080; text-decoration-color: #000080\">┃</span> <span style=\"color: #808000; text-decoration-color: #808000; font-weight: bold\"> 2 </span><span style=\"font-weight: bold\">Add Chicken:</span>                                                                                                 <span style=\"color: #000080; text-decoration-color: #000080\">┃</span>\n<span style=\"color: #000080; text-decoration-color: #000080\">┃</span> <span style=\"color: #808000; text-decoration-color: #808000; font-weight: bold\">    • </span>Once the broth is boiling, add the sliced chicken. Cook until the chicken is fully cooked, approximately  <span style=\"color: #000080; text-decoration-color: #000080\">┃</span>\n<span style=\"color: #000080; text-decoration-color: #000080\">┃</span> <span style=\"color: #808000; text-decoration-color: #808000; font-weight: bold\">      </span>5-7 minutes.                                                                                              <span style=\"color: #000080; text-decoration-color: #000080\">┃</span>\n<span style=\"color: #000080; text-decoration-color: #000080\">┃</span> <span style=\"color: #808000; text-decoration-color: #808000; font-weight: bold\"> 3 </span><span style=\"font-weight: bold\">Add Mushrooms:</span>                                                                                               <span style=\"color: #000080; text-decoration-color: #000080\">┃</span>\n<span style=\"color: #000080; text-decoration-color: #000080\">┃</span> <span style=\"color: #808000; text-decoration-color: #808000; font-weight: bold\">    • </span>Add the sliced mushrooms and continue to simmer for another 2-3 minutes until they are tender.            <span style=\"color: #000080; text-decoration-color: #000080\">┃</span>\n<span style=\"color: #000080; text-decoration-color: #000080\">┃</span> <span style=\"color: #808000; text-decoration-color: #808000; font-weight: bold\"> 4 </span><span style=\"font-weight: bold\">Season the Soup:</span>                                                                                             <span style=\"color: #000080; text-decoration-color: #000080\">┃</span>\n<span style=\"color: #000080; text-decoration-color: #000080\">┃</span> <span style=\"color: #808000; text-decoration-color: #808000; font-weight: bold\">    • </span>Stir in the fish sauce, sugar, and smashed chilies. Adjust the seasoning to your taste, adding more fish  <span style=\"color: #000080; text-decoration-color: #000080\">┃</span>\n<span style=\"color: #000080; text-decoration-color: #000080\">┃</span> <span style=\"color: #808000; text-decoration-color: #808000; font-weight: bold\">      </span>sauce or sugar if needed.                                                                                 <span style=\"color: #000080; text-decoration-color: #000080\">┃</span>\n<span style=\"color: #000080; text-decoration-color: #000080\">┃</span> <span style=\"color: #808000; text-decoration-color: #808000; font-weight: bold\"> 5 </span><span style=\"font-weight: bold\">Finish with Lime Juice:</span>                                                                                      <span style=\"color: #000080; text-decoration-color: #000080\">┃</span>\n<span style=\"color: #000080; text-decoration-color: #000080\">┃</span> <span style=\"color: #808000; text-decoration-color: #808000; font-weight: bold\">    • </span>Remove the pot from heat and add lime juice. Taste and adjust any seasonings as necessary.                <span style=\"color: #000080; text-decoration-color: #000080\">┃</span>\n<span style=\"color: #000080; text-decoration-color: #000080\">┃</span> <span style=\"color: #808000; text-decoration-color: #808000; font-weight: bold\"> 6 </span><span style=\"font-weight: bold\">Serve:</span>                                                                                                       <span style=\"color: #000080; text-decoration-color: #000080\">┃</span>\n<span style=\"color: #000080; text-decoration-color: #000080\">┃</span> <span style=\"color: #808000; text-decoration-color: #808000; font-weight: bold\">    • </span>Ladle the soup into bowls and garnish with fresh cilantro leaves and optional sliced red chili for added  <span style=\"color: #000080; text-decoration-color: #000080\">┃</span>\n<span style=\"color: #000080; text-decoration-color: #000080\">┃</span> <span style=\"color: #808000; text-decoration-color: #808000; font-weight: bold\">      </span>heat.                                                                                                     <span style=\"color: #000080; text-decoration-color: #000080\">┃</span>\n<span style=\"color: #000080; text-decoration-color: #000080\">┃</span>                                                                                                                 <span style=\"color: #000080; text-decoration-color: #000080\">┃</span>\n<span style=\"color: #000080; text-decoration-color: #000080\">┃</span>                                                      <span style=\"font-weight: bold\">Tips</span>                                                       <span style=\"color: #000080; text-decoration-color: #000080\">┃</span>\n<span style=\"color: #000080; text-decoration-color: #000080\">┃</span>                                                                                                                 <span style=\"color: #000080; text-decoration-color: #000080\">┃</span>\n<span style=\"color: #000080; text-decoration-color: #000080\">┃</span> <span style=\"color: #808000; text-decoration-color: #808000; font-weight: bold\"> • </span>For a vegetarian version, substitute chicken with tofu and use vegetable broth.                              <span style=\"color: #000080; text-decoration-color: #000080\">┃</span>\n<span style=\"color: #000080; text-decoration-color: #000080\">┃</span> <span style=\"color: #808000; text-decoration-color: #808000; font-weight: bold\"> • </span>Adjust the level of spiciness by varying the number of chilies used.                                         <span style=\"color: #000080; text-decoration-color: #000080\">┃</span>\n<span style=\"color: #000080; text-decoration-color: #000080\">┃</span> <span style=\"color: #808000; text-decoration-color: #808000; font-weight: bold\"> • </span>Serve with steamed jasmine rice for a complete meal.                                                         <span style=\"color: #000080; text-decoration-color: #000080\">┃</span>\n<span style=\"color: #000080; text-decoration-color: #000080\">┃</span>                                                                                                                 <span style=\"color: #000080; text-decoration-color: #000080\">┃</span>\n<span style=\"color: #000080; text-decoration-color: #000080\">┃</span> Enjoy your delicious Chicken and Galangal in Coconut Milk Soup!                                                 <span style=\"color: #000080; text-decoration-color: #000080\">┃</span>\n<span style=\"color: #000080; text-decoration-color: #000080\">┃</span>                                                                                                                 <span style=\"color: #000080; text-decoration-color: #000080\">┃</span>\n<span style=\"color: #000080; text-decoration-color: #000080\">┗━━━━━━━━━━━━━━━━━━━━━━━━━━━━━━━━━━━━━━━━━━━━━━━━━━━━━━━━━━━━━━━━━━━━━━━━━━━━━━━━━━━━━━━━━━━━━━━━━━━━━━━━━━━━━━━━━┛</span>\n</pre>\n"
                },
                "metadata": {}
              }
            ]
          }
        },
        "d4e02caaaed54edf8fc9f5352d1c192e": {
          "model_module": "@jupyter-widgets/base",
          "model_name": "LayoutModel",
          "model_module_version": "1.2.0",
          "state": {
            "_model_module": "@jupyter-widgets/base",
            "_model_module_version": "1.2.0",
            "_model_name": "LayoutModel",
            "_view_count": null,
            "_view_module": "@jupyter-widgets/base",
            "_view_module_version": "1.2.0",
            "_view_name": "LayoutView",
            "align_content": null,
            "align_items": null,
            "align_self": null,
            "border": null,
            "bottom": null,
            "display": null,
            "flex": null,
            "flex_flow": null,
            "grid_area": null,
            "grid_auto_columns": null,
            "grid_auto_flow": null,
            "grid_auto_rows": null,
            "grid_column": null,
            "grid_gap": null,
            "grid_row": null,
            "grid_template_areas": null,
            "grid_template_columns": null,
            "grid_template_rows": null,
            "height": null,
            "justify_content": null,
            "justify_items": null,
            "left": null,
            "margin": null,
            "max_height": null,
            "max_width": null,
            "min_height": null,
            "min_width": null,
            "object_fit": null,
            "object_position": null,
            "order": null,
            "overflow": null,
            "overflow_x": null,
            "overflow_y": null,
            "padding": null,
            "right": null,
            "top": null,
            "visibility": null,
            "width": null
          }
        },
        "904259bb19e8478d92565e64e29ba5b1": {
          "model_module": "@jupyter-widgets/output",
          "model_name": "OutputModel",
          "model_module_version": "1.0.0",
          "state": {
            "_dom_classes": [],
            "_model_module": "@jupyter-widgets/output",
            "_model_module_version": "1.0.0",
            "_model_name": "OutputModel",
            "_view_count": null,
            "_view_module": "@jupyter-widgets/output",
            "_view_module_version": "1.0.0",
            "_view_name": "OutputView",
            "layout": "IPY_MODEL_302691f07a1e4cec85a4b4c8a9822a74",
            "msg_id": "",
            "outputs": [
              {
                "output_type": "display_data",
                "data": {
                  "text/plain": "\u001b[32m▰▰▰▰▱▱▱\u001b[0m Thinking...\n\u001b[36m┏━\u001b[0m\u001b[36m Message \u001b[0m\u001b[36m━━━━━━━━━━━━━━━━━━━━━━━━━━━━━━━━━━━━━━━━━━━━━━━━━━━━━━━━━━━━━━━━━━━━━━━━━━━━━━━━━━━━━━━━━━━━━━━━━━━━━━\u001b[0m\u001b[36m━┓\u001b[0m\n\u001b[36m┃\u001b[0m                                                                                                                 \u001b[36m┃\u001b[0m\n\u001b[36m┃\u001b[0m \u001b[32mSuggest thriller movies with IMDb rating above 8. I enjoyed Parasite, The Dark Knight, and Inception.\u001b[0m           \u001b[36m┃\u001b[0m\n\u001b[36m┃\u001b[0m                                                                                                                 \u001b[36m┃\u001b[0m\n\u001b[36m┗━━━━━━━━━━━━━━━━━━━━━━━━━━━━━━━━━━━━━━━━━━━━━━━━━━━━━━━━━━━━━━━━━━━━━━━━━━━━━━━━━━━━━━━━━━━━━━━━━━━━━━━━━━━━━━━━━┛\u001b[0m\n\u001b[34m┏━\u001b[0m\u001b[34m Response (5.7s) \u001b[0m\u001b[34m━━━━━━━━━━━━━━━━━━━━━━━━━━━━━━━━━━━━━━━━━━━━━━━━━━━━━━━━━━━━━━━━━━━━━━━━━━━━━━━━━━━━━━━━━━━━━━\u001b[0m\u001b[34m━┓\u001b[0m\n\u001b[34m┃\u001b[0m                                                                                                                 \u001b[34m┃\u001b[0m\n\u001b[34m┃\u001b[0m Based on your taste for thrillers like \u001b[3mParasite\u001b[0m, \u001b[3mThe Dark Knight\u001b[0m, and \u001b[3mInception\u001b[0m, here are some highly-rated     \u001b[34m┃\u001b[0m\n\u001b[34m┃\u001b[0m thriller movies that you might enjoy:                                                                           \u001b[34m┃\u001b[0m\n\u001b[34m┃\u001b[0m                                                                                                                 \u001b[34m┃\u001b[0m\n\u001b[34m┃\u001b[0m                                                                                                                 \u001b[34m┃\u001b[0m\n\u001b[34m┃\u001b[0m  \u001b[1m \u001b[0m\u001b[1mTitle\u001b[0m\u001b[1m        \u001b[0m\u001b[1m \u001b[0m \u001b[1m \u001b[0m\u001b[1mYear\u001b[0m\u001b[1m \u001b[0m \u001b[1m \u001b[0m\u001b[1mGenre\u001b[0m\u001b[1m        \u001b[0m\u001b[1m \u001b[0m \u001b[1m \u001b[0m\u001b[1mRating\u001b[0m\u001b[1m \u001b[0m \u001b[1m \u001b[0m\u001b[1mSummary\u001b[0m\u001b[1m     \u001b[0m\u001b[1m \u001b[0m \u001b[1m \u001b[0m\u001b[1mDirector\u001b[0m\u001b[1m     \u001b[0m\u001b[1m \u001b[0m \u001b[1m \u001b[0m\u001b[1mCast\u001b[0m\u001b[1m        \u001b[0m\u001b[1m \u001b[0m \u001b[1m \u001b[0m\u001b[1mStreaming\u001b[0m\u001b[1m    \u001b[0m\u001b[1m \u001b[0m  \u001b[34m┃\u001b[0m\n\u001b[34m┃\u001b[0m  ━━━━━━━━━━━━━━━━━━━━━━━━━━━━━━━━━━━━━━━━━━━━━━━━━━━━━━━━━━━━━━━━━━━━━━━━━━━━━━━━━━━━━━━━━━━━━━━━━━━━━━━━━━━━━  \u001b[34m┃\u001b[0m\n\u001b[34m┃\u001b[0m   \u001b[1mSe7en\u001b[0m           1995   🎬 Crime,       8.6      Two            David Fincher   Morgan         HBO Max         \u001b[34m┃\u001b[0m\n\u001b[34m┃\u001b[0m                          Thriller                 detectives                     Freeman,                       \u001b[34m┃\u001b[0m\n\u001b[34m┃\u001b[0m                                                   hunt a                         Brad Pitt,                     \u001b[34m┃\u001b[0m\n\u001b[34m┃\u001b[0m                                                   serial                         Kevin Spacey                   \u001b[34m┃\u001b[0m\n\u001b[34m┃\u001b[0m                                                   killer who                                                    \u001b[34m┃\u001b[0m\n\u001b[34m┃\u001b[0m                                                   uses the                                                      \u001b[34m┃\u001b[0m\n\u001b[34m┃\u001b[0m                                                   seven deadly                                                  \u001b[34m┃\u001b[0m\n\u001b[34m┃\u001b[0m                                                   sins as                                                       \u001b[34m┃\u001b[0m\n\u001b[34m┃\u001b[0m                                                   motives.                                                      \u001b[34m┃\u001b[0m\n\u001b[34m┃\u001b[0m   \u001b[1mThe Silence \u001b[0m    1991   🎬 Thriller,    8.6      A young FBI    Jonathan        Jodie          Amazon Prime    \u001b[34m┃\u001b[0m\n\u001b[34m┃\u001b[0m   \u001b[1mof the Lambs\u001b[0m           Horror                   cadet seeks    Demme           Foster,                        \u001b[34m┃\u001b[0m\n\u001b[34m┃\u001b[0m                                                   the help of                    Anthony                        \u001b[34m┃\u001b[0m\n\u001b[34m┃\u001b[0m                                                   an                             Hopkins,                       \u001b[34m┃\u001b[0m\n\u001b[34m┃\u001b[0m                                                   imprisoned                     Scott Glenn                    \u001b[34m┃\u001b[0m\n\u001b[34m┃\u001b[0m                                                   cannibalist…                                                  \u001b[34m┃\u001b[0m\n\u001b[34m┃\u001b[0m                                                   killer to                                                     \u001b[34m┃\u001b[0m\n\u001b[34m┃\u001b[0m                                                   catch                                                         \u001b[34m┃\u001b[0m\n\u001b[34m┃\u001b[0m                                                   another                                                       \u001b[34m┃\u001b[0m\n\u001b[34m┃\u001b[0m                                                   murderer.                                                     \u001b[34m┃\u001b[0m\n\u001b[34m┃\u001b[0m   \u001b[1mPrisoners\u001b[0m       2013   🎬 Crime,       8.1      When two       Denis           Hugh           HBO Max         \u001b[34m┃\u001b[0m\n\u001b[34m┃\u001b[0m                          Thriller                 girls go       Villeneuve      Jackman,                       \u001b[34m┃\u001b[0m\n\u001b[34m┃\u001b[0m                                                   missing, a                     Jake                           \u001b[34m┃\u001b[0m\n\u001b[34m┃\u001b[0m                                                   desperate                      Gyllenhaal,                    \u001b[34m┃\u001b[0m\n\u001b[34m┃\u001b[0m                                                   father takes                   Viola Davis                    \u001b[34m┃\u001b[0m\n\u001b[34m┃\u001b[0m                                                   matters into                                                  \u001b[34m┃\u001b[0m\n\u001b[34m┃\u001b[0m                                                   his own                                                       \u001b[34m┃\u001b[0m\n\u001b[34m┃\u001b[0m                                                   hands.                                                        \u001b[34m┃\u001b[0m\n\u001b[34m┃\u001b[0m   \u001b[1mFight Club\u001b[0m      1999   🎬 Drama,       8.8      An insomniac   David Fincher   Edward         Hulu            \u001b[34m┃\u001b[0m\n\u001b[34m┃\u001b[0m                          Thriller                 office                         Norton, Brad                   \u001b[34m┃\u001b[0m\n\u001b[34m┃\u001b[0m                                                   worker forms                   Pitt, Helena                   \u001b[34m┃\u001b[0m\n\u001b[34m┃\u001b[0m                                                   an                             Bonham                         \u001b[34m┃\u001b[0m\n\u001b[34m┃\u001b[0m                                                   underground                    Carter                         \u001b[34m┃\u001b[0m\n\u001b[34m┃\u001b[0m                                                   fight club                                                    \u001b[34m┃\u001b[0m\n\u001b[34m┃\u001b[0m                                                   with a soap                                                   \u001b[34m┃\u001b[0m\n\u001b[34m┃\u001b[0m                                                   salesman.                                                     \u001b[34m┃\u001b[0m\n\u001b[34m┃\u001b[0m   \u001b[1mZodiac\u001b[0m          2007   🎬 Crime,       7.7      Based on the   David Fincher   Jake           Netflix         \u001b[34m┃\u001b[0m\n\u001b[34m┃\u001b[0m                          Mystery                  true story                     Gyllenhaal,                    \u001b[34m┃\u001b[0m\n\u001b[34m┃\u001b[0m                                                   of the                         Robert                         \u001b[34m┃\u001b[0m\n\u001b[34m┃\u001b[0m                                                   Zodiac                         Downey Jr.,                    \u001b[34m┃\u001b[0m\n\u001b[34m┃\u001b[0m                                                   killer and                     Mark Ruffalo                   \u001b[34m┃\u001b[0m\n\u001b[34m┃\u001b[0m                                                   the                                                           \u001b[34m┃\u001b[0m\n\u001b[34m┃\u001b[0m                                                   obsessive                                                     \u001b[34m┃\u001b[0m\n\u001b[34m┃\u001b[0m                                                   quest to                                                      \u001b[34m┃\u001b[0m\n\u001b[34m┃\u001b[0m                                                   uncover his                                                   \u001b[34m┃\u001b[0m\n\u001b[34m┃\u001b[0m                                                   identity.                                                     \u001b[34m┃\u001b[0m\n\u001b[34m┃\u001b[0m   \u001b[1mOldboy\u001b[0m          2003   🎬 Action,      8.4      After being    Park            Choi           Not available   \u001b[34m┃\u001b[0m\n\u001b[34m┃\u001b[0m                          Mystery                  imprisoned     Chan-wook       Min-sik, Yoo   for streaming   \u001b[34m┃\u001b[0m\n\u001b[34m┃\u001b[0m                                                   for 15                         Ji-tae, Kang                   \u001b[34m┃\u001b[0m\n\u001b[34m┃\u001b[0m                                                   years, a man                   Hye-jung                       \u001b[34m┃\u001b[0m\n\u001b[34m┃\u001b[0m                                                   seeks                                                         \u001b[34m┃\u001b[0m\n\u001b[34m┃\u001b[0m                                                   revenge on                                                    \u001b[34m┃\u001b[0m\n\u001b[34m┃\u001b[0m                                                   his captor                                                    \u001b[34m┃\u001b[0m\n\u001b[34m┃\u001b[0m                                                   in this                                                       \u001b[34m┃\u001b[0m\n\u001b[34m┃\u001b[0m                                                   twist-filled                                                  \u001b[34m┃\u001b[0m\n\u001b[34m┃\u001b[0m                                                   thriller.                                                     \u001b[34m┃\u001b[0m\n\u001b[34m┃\u001b[0m                                                                                                                 \u001b[34m┃\u001b[0m\n\u001b[34m┃\u001b[0m                                                                                                                 \u001b[34m┃\u001b[0m\n\u001b[34m┃\u001b[0m These films should provide a thrilling experience and keep you on the edge of your seat! Enjoy                  \u001b[34m┃\u001b[0m\n\u001b[34m┃\u001b[0m                                                                                                                 \u001b[34m┃\u001b[0m\n\u001b[34m┗━━━━━━━━━━━━━━━━━━━━━━━━━━━━━━━━━━━━━━━━━━━━━━━━━━━━━━━━━━━━━━━━━━━━━━━━━━━━━━━━━━━━━━━━━━━━━━━━━━━━━━━━━━━━━━━━━┛\u001b[0m\n",
                  "text/html": "<pre style=\"white-space:pre;overflow-x:auto;line-height:normal;font-family:Menlo,'DejaVu Sans Mono',consolas,'Courier New',monospace\"><span style=\"color: #008000; text-decoration-color: #008000\">▰▰▰▰▱▱▱</span> Thinking...\n<span style=\"color: #008080; text-decoration-color: #008080\">┏━ Message ━━━━━━━━━━━━━━━━━━━━━━━━━━━━━━━━━━━━━━━━━━━━━━━━━━━━━━━━━━━━━━━━━━━━━━━━━━━━━━━━━━━━━━━━━━━━━━━━━━━━━━━┓</span>\n<span style=\"color: #008080; text-decoration-color: #008080\">┃</span>                                                                                                                 <span style=\"color: #008080; text-decoration-color: #008080\">┃</span>\n<span style=\"color: #008080; text-decoration-color: #008080\">┃</span> <span style=\"color: #008000; text-decoration-color: #008000\">Suggest thriller movies with IMDb rating above 8. I enjoyed Parasite, The Dark Knight, and Inception.</span>           <span style=\"color: #008080; text-decoration-color: #008080\">┃</span>\n<span style=\"color: #008080; text-decoration-color: #008080\">┃</span>                                                                                                                 <span style=\"color: #008080; text-decoration-color: #008080\">┃</span>\n<span style=\"color: #008080; text-decoration-color: #008080\">┗━━━━━━━━━━━━━━━━━━━━━━━━━━━━━━━━━━━━━━━━━━━━━━━━━━━━━━━━━━━━━━━━━━━━━━━━━━━━━━━━━━━━━━━━━━━━━━━━━━━━━━━━━━━━━━━━━┛</span>\n<span style=\"color: #000080; text-decoration-color: #000080\">┏━ Response (5.7s) ━━━━━━━━━━━━━━━━━━━━━━━━━━━━━━━━━━━━━━━━━━━━━━━━━━━━━━━━━━━━━━━━━━━━━━━━━━━━━━━━━━━━━━━━━━━━━━━┓</span>\n<span style=\"color: #000080; text-decoration-color: #000080\">┃</span>                                                                                                                 <span style=\"color: #000080; text-decoration-color: #000080\">┃</span>\n<span style=\"color: #000080; text-decoration-color: #000080\">┃</span> Based on your taste for thrillers like <span style=\"font-style: italic\">Parasite</span>, <span style=\"font-style: italic\">The Dark Knight</span>, and <span style=\"font-style: italic\">Inception</span>, here are some highly-rated     <span style=\"color: #000080; text-decoration-color: #000080\">┃</span>\n<span style=\"color: #000080; text-decoration-color: #000080\">┃</span> thriller movies that you might enjoy:                                                                           <span style=\"color: #000080; text-decoration-color: #000080\">┃</span>\n<span style=\"color: #000080; text-decoration-color: #000080\">┃</span>                                                                                                                 <span style=\"color: #000080; text-decoration-color: #000080\">┃</span>\n<span style=\"color: #000080; text-decoration-color: #000080\">┃</span>                                                                                                                 <span style=\"color: #000080; text-decoration-color: #000080\">┃</span>\n<span style=\"color: #000080; text-decoration-color: #000080\">┃</span>  <span style=\"font-weight: bold\"> Title         </span> <span style=\"font-weight: bold\"> Year </span> <span style=\"font-weight: bold\"> Genre         </span> <span style=\"font-weight: bold\"> Rating </span> <span style=\"font-weight: bold\"> Summary      </span> <span style=\"font-weight: bold\"> Director      </span> <span style=\"font-weight: bold\"> Cast         </span> <span style=\"font-weight: bold\"> Streaming     </span>  <span style=\"color: #000080; text-decoration-color: #000080\">┃</span>\n<span style=\"color: #000080; text-decoration-color: #000080\">┃</span>  ━━━━━━━━━━━━━━━━━━━━━━━━━━━━━━━━━━━━━━━━━━━━━━━━━━━━━━━━━━━━━━━━━━━━━━━━━━━━━━━━━━━━━━━━━━━━━━━━━━━━━━━━━━━━━  <span style=\"color: #000080; text-decoration-color: #000080\">┃</span>\n<span style=\"color: #000080; text-decoration-color: #000080\">┃</span>   <span style=\"font-weight: bold\">Se7en</span>           1995   🎬 Crime,       8.6      Two            David Fincher   Morgan         HBO Max         <span style=\"color: #000080; text-decoration-color: #000080\">┃</span>\n<span style=\"color: #000080; text-decoration-color: #000080\">┃</span>                          Thriller                 detectives                     Freeman,                       <span style=\"color: #000080; text-decoration-color: #000080\">┃</span>\n<span style=\"color: #000080; text-decoration-color: #000080\">┃</span>                                                   hunt a                         Brad Pitt,                     <span style=\"color: #000080; text-decoration-color: #000080\">┃</span>\n<span style=\"color: #000080; text-decoration-color: #000080\">┃</span>                                                   serial                         Kevin Spacey                   <span style=\"color: #000080; text-decoration-color: #000080\">┃</span>\n<span style=\"color: #000080; text-decoration-color: #000080\">┃</span>                                                   killer who                                                    <span style=\"color: #000080; text-decoration-color: #000080\">┃</span>\n<span style=\"color: #000080; text-decoration-color: #000080\">┃</span>                                                   uses the                                                      <span style=\"color: #000080; text-decoration-color: #000080\">┃</span>\n<span style=\"color: #000080; text-decoration-color: #000080\">┃</span>                                                   seven deadly                                                  <span style=\"color: #000080; text-decoration-color: #000080\">┃</span>\n<span style=\"color: #000080; text-decoration-color: #000080\">┃</span>                                                   sins as                                                       <span style=\"color: #000080; text-decoration-color: #000080\">┃</span>\n<span style=\"color: #000080; text-decoration-color: #000080\">┃</span>                                                   motives.                                                      <span style=\"color: #000080; text-decoration-color: #000080\">┃</span>\n<span style=\"color: #000080; text-decoration-color: #000080\">┃</span>   <span style=\"font-weight: bold\">The Silence </span>    1991   🎬 Thriller,    8.6      A young FBI    Jonathan        Jodie          Amazon Prime    <span style=\"color: #000080; text-decoration-color: #000080\">┃</span>\n<span style=\"color: #000080; text-decoration-color: #000080\">┃</span>   <span style=\"font-weight: bold\">of the Lambs</span>           Horror                   cadet seeks    Demme           Foster,                        <span style=\"color: #000080; text-decoration-color: #000080\">┃</span>\n<span style=\"color: #000080; text-decoration-color: #000080\">┃</span>                                                   the help of                    Anthony                        <span style=\"color: #000080; text-decoration-color: #000080\">┃</span>\n<span style=\"color: #000080; text-decoration-color: #000080\">┃</span>                                                   an                             Hopkins,                       <span style=\"color: #000080; text-decoration-color: #000080\">┃</span>\n<span style=\"color: #000080; text-decoration-color: #000080\">┃</span>                                                   imprisoned                     Scott Glenn                    <span style=\"color: #000080; text-decoration-color: #000080\">┃</span>\n<span style=\"color: #000080; text-decoration-color: #000080\">┃</span>                                                   cannibalist…                                                  <span style=\"color: #000080; text-decoration-color: #000080\">┃</span>\n<span style=\"color: #000080; text-decoration-color: #000080\">┃</span>                                                   killer to                                                     <span style=\"color: #000080; text-decoration-color: #000080\">┃</span>\n<span style=\"color: #000080; text-decoration-color: #000080\">┃</span>                                                   catch                                                         <span style=\"color: #000080; text-decoration-color: #000080\">┃</span>\n<span style=\"color: #000080; text-decoration-color: #000080\">┃</span>                                                   another                                                       <span style=\"color: #000080; text-decoration-color: #000080\">┃</span>\n<span style=\"color: #000080; text-decoration-color: #000080\">┃</span>                                                   murderer.                                                     <span style=\"color: #000080; text-decoration-color: #000080\">┃</span>\n<span style=\"color: #000080; text-decoration-color: #000080\">┃</span>   <span style=\"font-weight: bold\">Prisoners</span>       2013   🎬 Crime,       8.1      When two       Denis           Hugh           HBO Max         <span style=\"color: #000080; text-decoration-color: #000080\">┃</span>\n<span style=\"color: #000080; text-decoration-color: #000080\">┃</span>                          Thriller                 girls go       Villeneuve      Jackman,                       <span style=\"color: #000080; text-decoration-color: #000080\">┃</span>\n<span style=\"color: #000080; text-decoration-color: #000080\">┃</span>                                                   missing, a                     Jake                           <span style=\"color: #000080; text-decoration-color: #000080\">┃</span>\n<span style=\"color: #000080; text-decoration-color: #000080\">┃</span>                                                   desperate                      Gyllenhaal,                    <span style=\"color: #000080; text-decoration-color: #000080\">┃</span>\n<span style=\"color: #000080; text-decoration-color: #000080\">┃</span>                                                   father takes                   Viola Davis                    <span style=\"color: #000080; text-decoration-color: #000080\">┃</span>\n<span style=\"color: #000080; text-decoration-color: #000080\">┃</span>                                                   matters into                                                  <span style=\"color: #000080; text-decoration-color: #000080\">┃</span>\n<span style=\"color: #000080; text-decoration-color: #000080\">┃</span>                                                   his own                                                       <span style=\"color: #000080; text-decoration-color: #000080\">┃</span>\n<span style=\"color: #000080; text-decoration-color: #000080\">┃</span>                                                   hands.                                                        <span style=\"color: #000080; text-decoration-color: #000080\">┃</span>\n<span style=\"color: #000080; text-decoration-color: #000080\">┃</span>   <span style=\"font-weight: bold\">Fight Club</span>      1999   🎬 Drama,       8.8      An insomniac   David Fincher   Edward         Hulu            <span style=\"color: #000080; text-decoration-color: #000080\">┃</span>\n<span style=\"color: #000080; text-decoration-color: #000080\">┃</span>                          Thriller                 office                         Norton, Brad                   <span style=\"color: #000080; text-decoration-color: #000080\">┃</span>\n<span style=\"color: #000080; text-decoration-color: #000080\">┃</span>                                                   worker forms                   Pitt, Helena                   <span style=\"color: #000080; text-decoration-color: #000080\">┃</span>\n<span style=\"color: #000080; text-decoration-color: #000080\">┃</span>                                                   an                             Bonham                         <span style=\"color: #000080; text-decoration-color: #000080\">┃</span>\n<span style=\"color: #000080; text-decoration-color: #000080\">┃</span>                                                   underground                    Carter                         <span style=\"color: #000080; text-decoration-color: #000080\">┃</span>\n<span style=\"color: #000080; text-decoration-color: #000080\">┃</span>                                                   fight club                                                    <span style=\"color: #000080; text-decoration-color: #000080\">┃</span>\n<span style=\"color: #000080; text-decoration-color: #000080\">┃</span>                                                   with a soap                                                   <span style=\"color: #000080; text-decoration-color: #000080\">┃</span>\n<span style=\"color: #000080; text-decoration-color: #000080\">┃</span>                                                   salesman.                                                     <span style=\"color: #000080; text-decoration-color: #000080\">┃</span>\n<span style=\"color: #000080; text-decoration-color: #000080\">┃</span>   <span style=\"font-weight: bold\">Zodiac</span>          2007   🎬 Crime,       7.7      Based on the   David Fincher   Jake           Netflix         <span style=\"color: #000080; text-decoration-color: #000080\">┃</span>\n<span style=\"color: #000080; text-decoration-color: #000080\">┃</span>                          Mystery                  true story                     Gyllenhaal,                    <span style=\"color: #000080; text-decoration-color: #000080\">┃</span>\n<span style=\"color: #000080; text-decoration-color: #000080\">┃</span>                                                   of the                         Robert                         <span style=\"color: #000080; text-decoration-color: #000080\">┃</span>\n<span style=\"color: #000080; text-decoration-color: #000080\">┃</span>                                                   Zodiac                         Downey Jr.,                    <span style=\"color: #000080; text-decoration-color: #000080\">┃</span>\n<span style=\"color: #000080; text-decoration-color: #000080\">┃</span>                                                   killer and                     Mark Ruffalo                   <span style=\"color: #000080; text-decoration-color: #000080\">┃</span>\n<span style=\"color: #000080; text-decoration-color: #000080\">┃</span>                                                   the                                                           <span style=\"color: #000080; text-decoration-color: #000080\">┃</span>\n<span style=\"color: #000080; text-decoration-color: #000080\">┃</span>                                                   obsessive                                                     <span style=\"color: #000080; text-decoration-color: #000080\">┃</span>\n<span style=\"color: #000080; text-decoration-color: #000080\">┃</span>                                                   quest to                                                      <span style=\"color: #000080; text-decoration-color: #000080\">┃</span>\n<span style=\"color: #000080; text-decoration-color: #000080\">┃</span>                                                   uncover his                                                   <span style=\"color: #000080; text-decoration-color: #000080\">┃</span>\n<span style=\"color: #000080; text-decoration-color: #000080\">┃</span>                                                   identity.                                                     <span style=\"color: #000080; text-decoration-color: #000080\">┃</span>\n<span style=\"color: #000080; text-decoration-color: #000080\">┃</span>   <span style=\"font-weight: bold\">Oldboy</span>          2003   🎬 Action,      8.4      After being    Park            Choi           Not available   <span style=\"color: #000080; text-decoration-color: #000080\">┃</span>\n<span style=\"color: #000080; text-decoration-color: #000080\">┃</span>                          Mystery                  imprisoned     Chan-wook       Min-sik, Yoo   for streaming   <span style=\"color: #000080; text-decoration-color: #000080\">┃</span>\n<span style=\"color: #000080; text-decoration-color: #000080\">┃</span>                                                   for 15                         Ji-tae, Kang                   <span style=\"color: #000080; text-decoration-color: #000080\">┃</span>\n<span style=\"color: #000080; text-decoration-color: #000080\">┃</span>                                                   years, a man                   Hye-jung                       <span style=\"color: #000080; text-decoration-color: #000080\">┃</span>\n<span style=\"color: #000080; text-decoration-color: #000080\">┃</span>                                                   seeks                                                         <span style=\"color: #000080; text-decoration-color: #000080\">┃</span>\n<span style=\"color: #000080; text-decoration-color: #000080\">┃</span>                                                   revenge on                                                    <span style=\"color: #000080; text-decoration-color: #000080\">┃</span>\n<span style=\"color: #000080; text-decoration-color: #000080\">┃</span>                                                   his captor                                                    <span style=\"color: #000080; text-decoration-color: #000080\">┃</span>\n<span style=\"color: #000080; text-decoration-color: #000080\">┃</span>                                                   in this                                                       <span style=\"color: #000080; text-decoration-color: #000080\">┃</span>\n<span style=\"color: #000080; text-decoration-color: #000080\">┃</span>                                                   twist-filled                                                  <span style=\"color: #000080; text-decoration-color: #000080\">┃</span>\n<span style=\"color: #000080; text-decoration-color: #000080\">┃</span>                                                   thriller.                                                     <span style=\"color: #000080; text-decoration-color: #000080\">┃</span>\n<span style=\"color: #000080; text-decoration-color: #000080\">┃</span>                                                                                                                 <span style=\"color: #000080; text-decoration-color: #000080\">┃</span>\n<span style=\"color: #000080; text-decoration-color: #000080\">┃</span>                                                                                                                 <span style=\"color: #000080; text-decoration-color: #000080\">┃</span>\n<span style=\"color: #000080; text-decoration-color: #000080\">┃</span> These films should provide a thrilling experience and keep you on the edge of your seat! Enjoy                  <span style=\"color: #000080; text-decoration-color: #000080\">┃</span>\n<span style=\"color: #000080; text-decoration-color: #000080\">┃</span>                                                                                                                 <span style=\"color: #000080; text-decoration-color: #000080\">┃</span>\n<span style=\"color: #000080; text-decoration-color: #000080\">┗━━━━━━━━━━━━━━━━━━━━━━━━━━━━━━━━━━━━━━━━━━━━━━━━━━━━━━━━━━━━━━━━━━━━━━━━━━━━━━━━━━━━━━━━━━━━━━━━━━━━━━━━━━━━━━━━━┛</span>\n</pre>\n"
                },
                "metadata": {}
              }
            ]
          }
        },
        "302691f07a1e4cec85a4b4c8a9822a74": {
          "model_module": "@jupyter-widgets/base",
          "model_name": "LayoutModel",
          "model_module_version": "1.2.0",
          "state": {
            "_model_module": "@jupyter-widgets/base",
            "_model_module_version": "1.2.0",
            "_model_name": "LayoutModel",
            "_view_count": null,
            "_view_module": "@jupyter-widgets/base",
            "_view_module_version": "1.2.0",
            "_view_name": "LayoutView",
            "align_content": null,
            "align_items": null,
            "align_self": null,
            "border": null,
            "bottom": null,
            "display": null,
            "flex": null,
            "flex_flow": null,
            "grid_area": null,
            "grid_auto_columns": null,
            "grid_auto_flow": null,
            "grid_auto_rows": null,
            "grid_column": null,
            "grid_gap": null,
            "grid_row": null,
            "grid_template_areas": null,
            "grid_template_columns": null,
            "grid_template_rows": null,
            "height": null,
            "justify_content": null,
            "justify_items": null,
            "left": null,
            "margin": null,
            "max_height": null,
            "max_width": null,
            "min_height": null,
            "min_width": null,
            "object_fit": null,
            "object_position": null,
            "order": null,
            "overflow": null,
            "overflow_x": null,
            "overflow_y": null,
            "padding": null,
            "right": null,
            "top": null,
            "visibility": null,
            "width": null
          }
        }
      }
    }
  },
  "cells": [
    {
      "cell_type": "markdown",
      "source": [
        "<div style=\"display: flex; align-items: center; gap: 40px;\">\n",
        "\n",
        "<img src=\"https://avatars.githubusercontent.com/u/87552521?s=200&v=4\" width=\"120\">\n",
        "<img src=\"https://images.crunchbase.com/image/upload/c_pad,f_auto,q_auto:eco,dpr_1/fc52752016ff487da8e4686a2b7fcb6d\" width=\"120\">\n",
        "\n",
        "<div>\n",
        "  <h2>SUTRA by TWO Platforms</h2>\n",
        "  <p>SUTRA is a family of large multi-lingual language (LMLMs) models pioneered by Two Platforms. SUTRA’s dual-transformer approach extends the power of both MoE and Dense AI language model architectures, delivering cost-efficient multilingual capabilities for over 50+ languages. It powers scalable AI applications for conversation, search, and advanced reasoning, ensuring high-performance across diverse languages, domains and applications.</p>\n",
        "\n",
        "  <h2>Agno</h2>\n",
        "  <p>Agno is a developer-friendly framework to build intelligent agents with memory, tools, and reasoning. It simplifies creating multimodal, agentic workflows with built-in FastAPI routes, chat UI, and performance monitoring.</p>\n",
        "</div>\n",
        "</div>\n"
      ],
      "metadata": {
        "id": "FU1Tf9H2K0Gp"
      }
    },
    {
      "cell_type": "markdown",
      "source": [
        "## Sutra using Agno"
      ],
      "metadata": {
        "id": "dX4IemuILxgV"
      }
    },
    {
      "cell_type": "markdown",
      "source": [
        "###Install Requirements"
      ],
      "metadata": {
        "id": "Q4LsNbD2L5Lb"
      }
    },
    {
      "cell_type": "code",
      "execution_count": null,
      "metadata": {
        "id": "Bq5GWrUNKpCV"
      },
      "outputs": [],
      "source": [
        "!pip install -qU openai agno tavily-python pypdf lancedb"
      ]
    },
    {
      "cell_type": "markdown",
      "source": [
        "####Setup API Keys"
      ],
      "metadata": {
        "id": "dboBkjnjXgMv"
      }
    },
    {
      "cell_type": "code",
      "source": [
        "import os\n",
        "from google.colab import userdata\n",
        "\n",
        "# Set the API key from Colab secrets\n",
        "os.environ[\"SUTRA_API_KEY\"] = userdata.get(\"SUTRA_API_KEY\")\n",
        "os.environ[\"TAVILY_API_KEY\"] = userdata.get(\"TAVILY_API_KEY\")\n",
        "os.environ[\"OPENAI_API_KEY\"] = userdata.get(\"OPENAI_API_KEY\")"
      ],
      "metadata": {
        "id": "GvuwrgBSMS0n"
      },
      "execution_count": null,
      "outputs": []
    },
    {
      "cell_type": "markdown",
      "source": [
        "##Initialize Agent with Sutra Model:"
      ],
      "metadata": {
        "id": "di-zBrjWX4Dr"
      }
    },
    {
      "cell_type": "code",
      "source": [
        "import os\n",
        "from agno.agent import Agent\n",
        "from agno.models.openai.like import OpenAILike\n",
        "\n",
        "# Initialize the Agent with Sutra model via OpenAILike wrapper\n",
        "agent = Agent(\n",
        "    model=OpenAILike(\n",
        "        id=\"sutra-v2\",\n",
        "        api_key=os.getenv(\"SUTRA_API_KEY\"),\n",
        "        base_url=\"https://api.two.ai/v2\"\n",
        "    ),\n",
        "    markdown=True\n",
        ")"
      ],
      "metadata": {
        "id": "FOKMPuEyM9i8"
      },
      "execution_count": null,
      "outputs": []
    },
    {
      "cell_type": "markdown",
      "source": [
        "###Send Message to Agent and Get Response:"
      ],
      "metadata": {
        "id": "evonLdClYKI3"
      }
    },
    {
      "cell_type": "code",
      "source": [
        "# Send the message to the agent and get the response\n",
        "response = agent.run(\"Who are you?\")\n",
        "\n",
        "# Print the response\n",
        "print(response.content)"
      ],
      "metadata": {
        "colab": {
          "base_uri": "https://localhost:8080/"
        },
        "id": "YJOnW3hXYNDg",
        "outputId": "c1987ff3-3b28-449f-84fb-6da74a0d787b"
      },
      "execution_count": null,
      "outputs": [
        {
          "output_type": "stream",
          "name": "stdout",
          "text": [
            "I am SUTRA, an advanced multilingual AI model designed to assist with a variety of inquiries and tasks. How can I help you today?\n"
          ]
        }
      ]
    },
    {
      "cell_type": "markdown",
      "source": [
        "#### Define Multilingual Prompts:"
      ],
      "metadata": {
        "id": "zXOs3AFzYfx3"
      }
    },
    {
      "cell_type": "code",
      "source": [
        "from agno.agent import Agent\n",
        "from agno.models.openai.like import OpenAILike\n",
        "\n",
        "agent = Agent(\n",
        "    model=OpenAILike(\n",
        "        id=\"sutra-v2\",\n",
        "        api_key=os.getenv(\"SUTRA_API_KEY\"),\n",
        "        base_url=\"https://api.two.ai/v2\"\n",
        "    ),\n",
        "    markdown=True\n",
        ")\n",
        "\n",
        "prompts = [\n",
        "    \"తెలుగులో ఒక కథ చెప్పు?\",                          # Telugu\n",
        "    \"Une histoire en français, s'il vous plaît.\",      # French\n",
        "    \"Por favor, cuéntame una historia en español.\",    # Spanish\n",
        "    \"कृपया हिंदी में एक कहानी सुनाइए।\",                     # Hindi\n",
        "    \"Bitte erzähle mir eine Geschichte auf Deutsch.\"   # German\n",
        "]"
      ],
      "metadata": {
        "id": "a9e0Y_AkNyia"
      },
      "execution_count": null,
      "outputs": []
    },
    {
      "cell_type": "markdown",
      "source": [
        "####Process Prompts and Print Responses:"
      ],
      "metadata": {
        "id": "gqW_OyyeYr6F"
      }
    },
    {
      "cell_type": "code",
      "source": [
        "for prompt in prompts:\n",
        "    response = agent.run(prompt)\n",
        "    print(f\"\\n📝 Prompt: {prompt}\\n📘 Response: {response.content}\\n\")"
      ],
      "metadata": {
        "colab": {
          "base_uri": "https://localhost:8080/"
        },
        "id": "ZrekcqgbYxn_",
        "outputId": "ec0de442-9157-4d70-c0a8-0db3602bad1a"
      },
      "execution_count": null,
      "outputs": [
        {
          "output_type": "stream",
          "name": "stdout",
          "text": [
            "\n",
            "📝 Prompt: తెలుగులో ఒక కథ చెప్పు?\n",
            "📘 Response: ### కథ: పిట్టల పండుగ\n",
            "\n",
            "ఒక గ్రామంలో చిన్న పిట్టలు నివసించేవి. వాటి పేరు \"చిట్టి\" మరియు \"కిట్టి\". ఈ పిట్టలు ప్రతి సంవత్సరం ఒక ప్రత్యేక పండుగను జరుపుకునే వారు. ఆ పండుగ పేరు \"పిట్టల పండుగ\".\n",
            "\n",
            "ఈ పండుగలో, గ్రామంలోని అన్ని పిట్టలు కలుస్తాయి. చిట్టి మరియు కిట్టి ఈ పండుగను మరింత ప్రత్యేకంగా చేయడానికి ప్రతీ సంవత్సరం కొత్త కొత్త ఆలోచనలు చేస్తుంటాయి.\n",
            "\n",
            "#### పండుగ రోజు:\n",
            "ఈసారి, చిట్టి మరియు కిట్టి ఒక ప్రత్యేక కార్యక్రమాన్ని ఏర్పాటు చేశారు. అవి గ్రామంలోని పెద్ద చెట్టు వద్ద అందరికీ సాంగ్స్ మరియు నాటికలు చేయాలని నిర్ణయించాయి. అందరూ ఆనందంతో పాల్గొనడం ప్రారంభించారు.\n",
            "\n",
            "చిట్టి ఒక అందమైన పాట పాడింది. అందరి హృదయాలను తాకింది. కిట్టి తన నాటికతో అందరిని నవ్వించింది. పిట్టల పండుగ రోజున, గ్రామంలోని ప్రతి పిట్ట కూడా తమ స్నేహితులతో కలిసి ఆహారాలు పంచుకుంది.\n",
            "\n",
            "#### పండుగ ముగింపు:\n",
            "పండుగ ముగిసినప్పుడు, చిట్టి మరియు కిట్టి అందరికి ధన్యవాదాలు చెప్పాయి. అందరూ ఒకటిగా ఉంటే, ఎన్ని సంతోషాలు వచ్చాయో అర్థం కావాలంటే, ఇది పిట్టల పండుగ అని తెలిపారు.\n",
            "\n",
            "ఇలా, చిట్టి మరియు కిట్టి వారి గ్రామంలో స్నేహం, ప్రేమ మరియు ఆనందాన్ని పంచుతూ, ప్రతి సంవత్సరం పిట్టల పండుగను జరుపుకుంటూ వచ్చాయి.\n",
            "\n",
            "### ముద్రణ:\n",
            "ఈ కథ ద్వారా మనం తెలుసుకోవాలి, స్నేహం మరియు సహాయం ఉన్న చోట ఎలాంటి కష్టాలు వచ్చినప్పటికీ, అందరినీ కలిపి ముందుకు సాగవచ్చు.\n",
            "\n",
            "\n",
            "📝 Prompt: Une histoire en français, s'il vous plaît.\n",
            "📘 Response: ### La Petite Étoile\n",
            "\n",
            "Il était une fois, dans un ciel étoilé, une petite étoile nommée Étoilelette. Elle brillait de mille feux et rêvait d’être plus qu’une simple étoile dans la nuit. Étoilelette avait entendu les histoires des étoiles filantes qui exauçaient des vœux, et elle voulait faire quelque chose de spécial pour les habitants de la Terre.\n",
            "\n",
            "Un soir, alors que le vent soufflait doucement, Étoilelette décida de descendre sur Terre pour rencontrer les humains. Elle se transforma en une jolie luciole et se posa délicatement sur le rebord d'une fenêtre d'un petit village.\n",
            "\n",
            "À l’intérieur de la maison, une petite fille nommée Clara était triste. Elle avait perdu son chat, Minou, et ne savait pas où le chercher. Étoilelette, touchée par la peine de Clara, décida d’agir. Elle brilla intensément, attirant l’attention de la fillette.\n",
            "\n",
            "« Qui es-tu ? » demanda Clara, émerveillée par la lumière scintillante. \n",
            "\n",
            "« Je suis Étoilelette, » répondit la luciole avec une voix douce. « Je peux t’aider à retrouver Minou. Suis-moi ! »\n",
            "\n",
            "Clara, pleine d’espoir, suivit Étoilelette à travers le village. Ensemble, elles parcoururent les ruelles sombres et les jardins fleuris. Chaque fois qu’Étoilelette éclairait le chemin, Clara se sentait plus courageuse.\n",
            "\n",
            "Finalement, elles arrivèrent près d’un vieux chêne. Étoilelette brilla encore plus fort, et soudain, un miaulement familier résonna dans l’air. Minou était là, blotti contre l’arbre, endormi paisiblement. Clara courut vers lui, le prit dans ses bras et le serra très fort.\n",
            "\n",
            "« Merci, Étoilelette ! Tu es vraiment magique ! » s’exclama Clara, les larmes aux yeux.\n",
            "\n",
            "Étoilelette, heureuse d’avoir aidé, lui sourit. « N’oublie jamais que même les petites étoiles peuvent faire de grandes choses. »\n",
            "\n",
            "Avec cela, Étoilelette s’envola vers le ciel, reprenant sa forme d’étoile. Elle continua de briller chaque nuit, sachant qu’elle avait fait une différence dans la vie d’une petite fille.\n",
            "\n",
            "Et depuis ce jour, Clara ne regarda plus jamais le ciel de la même manière. Chaque fois qu’elle voyait Étoilelette briller, elle se souvenait de leur aventure et du pouvoir de l’espoir.\n",
            "\n",
            "### Fin\n",
            "\n",
            "\n",
            "📝 Prompt: Por favor, cuéntame una historia en español.\n",
            "📘 Response: ### La Leyenda del Lago Espejo\n",
            "\n",
            "En un pequeño pueblo rodeado de montañas, existía un lago conocido como el Lago Espejo. Se decía que sus aguas eran tan claras que reflejaban el cielo como un espejo. Sin embargo, había algo más en ese lago que lo hacía especial: se creía que quien se mirara en sus aguas podría ver su verdadero destino.\n",
            "\n",
            "Una joven llamada Clara, curiosa y aventurera, había escuchado muchas historias sobre el Lago Espejo desde niña. Un día, decidió que era hora de descubrir la verdad por sí misma. Con una mochila llena de provisiones y su corazón lleno de esperanza, emprendió el camino hacia el lago.\n",
            "\n",
            "Después de varias horas de caminata, Clara llegó al lago al atardecer. El sol se ocultaba detrás de las montañas, pintando el cielo de colores anaranjados y morados. Al acercarse a la orilla, sintió una mezcla de emoción y nerviosismo. Se arrodilló y miró fijamente su reflejo en el agua.\n",
            "\n",
            "Al principio, vio su propia imagen, pero poco a poco, la superficie comenzó a cambiar. En lugar de su reflejo, apareció una escena de su vida futura: Clara, rodeada de amigos y familiares, sonriendo en una celebración. Vio cómo había logrado abrir su propio taller de cerámica, un sueño que había tenido desde pequeña.\n",
            "\n",
            "Sin embargo, la visión también le mostró momentos difíciles: desafíos y obstáculos que tendría que enfrentar. A pesar de esto, Clara sintió una profunda determinación. Sabía que, aunque el camino no sería fácil, estaba dispuesta a luchar por su sueño.\n",
            "\n",
            "Con el corazón lleno de inspiración, Clara regresó a su pueblo. A partir de ese día, trabajó incansablemente en su pasión por la cerámica. Pasaron los años, y finalmente, logró abrir su taller. La gente del pueblo comenzó a admirar su trabajo, y sus sueños se convirtieron en realidad.\n",
            "\n",
            "Cada vez que alguien le preguntaba sobre su éxito, Clara sonreía y les contaba la historia del Lago Espejo, recordando que a veces, mirar hacia adentro es el primer paso para descubrir nuestro verdadero destino. Y así, la leyenda del lago continuó, inspirando a otros a buscar sus sueños y a no temer los desafíos que puedan encontrar en el camino.\n",
            "\n",
            "\n",
            "📝 Prompt: कृपया हिंदी में एक कहानी सुनाइए।\n",
            "📘 Response: ### कहानी: चतुर लोमड़ी और मूर्ख बकरी\n",
            "\n",
            "एक बार की बात है, एक घने जंगल में एक चतुर लोमड़ी और एक मूर्ख बकरी रहते थे। लोमड़ी अपनी चालाकी के लिए जानी जाती थी, जबकि बकरी अपनी भोली भाली स्वभाव के लिए।\n",
            "\n",
            "#### घटना का आरंभ\n",
            "\n",
            "एक दिन, लोमड़ी ने सोचा कि क्यों न बकरी को धोखा देकर उसका खाना छीन लिया जाए। उसने बकरी को देखा और उसके पास जाकर बोली, \"हे बकरी, तुम कितनी सुंदर हो! तुम्हारे दूध का स्वाद तो अद्भुत होगा।\"\n",
            "\n",
            "बकरी लोमड़ी की बातें सुनकर खुश हो गई। उसने कहा, \"धन्यवाद, लोमड़ी! तुम भी बहुत सुंदर हो।\"\n",
            "\n",
            "#### धोखे का खेल\n",
            "\n",
            "लोमड़ी ने कहा, \"अगर तुम मुझे अपना दूध दो, तो मैं तुम्हें एक जादुई घास दिखा सकती हूँ, जो तुम्हारे दूध को और भी मीठा बना देगी।\" बकरी ने लोमड़ी पर विश्वास किया और उसे अपने साथ ले चलने का निर्णय लिया।\n",
            "\n",
            "वे दोनों जंगल के एक कोने में पहुँचे, जहाँ लोमड़ी ने कहा, \"यहाँ जादुई घास है। लेकिन तुम्हें पहले मुझे अपना दूध देना होगा।\" बकरी ने बिना सोचे समझे अपना दूध लोमड़ी को दे दिया।\n",
            "\n",
            "#### परिणाम\n",
            "\n",
            "जैसे ही बकरी ने अपना दूध दिया, लोमड़ी ने उसे धोखा देकर वहाँ से भाग निकली। बकरी समझ गई कि वह धोखे में आ गई है, लेकिन अब पछताने का कोई फायदा नहीं था। \n",
            "\n",
            "#### सीख\n",
            "\n",
            "इस घटना से बकरी ने सीखा कि किसी पर blindly भरोसा करना सही नहीं है। उसे समझ में आया कि चालाक लोगों से दूर रहना चाहिए और हमेशा सतर्क रहना चाहिए।\n",
            "\n",
            "इस प्रकार, बकरी ने अपनी गलती से सबक सीखा और आगे से हमेशा सावधानी बरतने लगी।\n",
            "\n",
            "### समाप्त\n",
            "\n",
            "यह कहानी हमें यह सिखाती है कि हमें हमेशा सतर्क रहना चाहिए और किसी पर भी बिना सोच-विचार के भरोसा नहीं करना चाहिए।\n",
            "\n",
            "\n",
            "📝 Prompt: Bitte erzähle mir eine Geschichte auf Deutsch.\n",
            "📘 Response: Es war einmal in einem kleinen Dorf am Fuß eines großen, majestätischen Berges. Das Dorf war bekannt für seine freundlichen Menschen und die bunten Blumen, die überall blühten. In diesem Dorf lebte ein junger Mann namens Lukas. Er hatte immer davon geträumt, den Gipfel des großen Berges zu erklimmen, der das Dorf überragte.\n",
            "\n",
            "Eines Morgens, als die Sonne gerade aufging und die ersten Strahlen das Dorf erhellten, beschloss Lukas, dass es endlich Zeit war, seinen Traum zu verwirklichen. Er packte einige Vorräte – Wasser, Brot und eine kleine Decke – und machte sich auf den Weg.\n",
            "\n",
            "Der Aufstieg war steil und beschwerlich. Lukas musste durch dichte Wälder gehen, über glitschige Steine klettern und sich durch Gestrüpp kämpfen. Doch je höher er kam, desto schöner wurde die Aussicht. Er konnte das gesamte Dorf sehen, das wie ein kleines Spielzeughaus in der Ferne lag.\n",
            "\n",
            "Nach Stunden des Wanderns gelangte Lukas an einen schmalen Grat, von dem aus er den Gipfel des Berges sehen konnte. Plötzlich hörte er ein leises Geräusch. Neugierig schaute er sich um und entdeckte einen verletzten Vogel, der auf dem Boden lag. Der Vogel hatte sich anscheinend den Flügel gebrochen.\n",
            "\n",
            "Lukas erinnerte sich daran, dass seine Mutter ihm beigebracht hatte, dass man immer anderen helfen sollte, egal wie klein sie sind. Er kniete sich neben den Vogel und verband vorsichtig seinen Flügel mit einem Stück Stoff aus seiner Decke. Der Vogel sah ihn dankbar an und blieb ruhig.\n",
            "\n",
            "Nachdem er dem Vogel geholfen hatte, setzte Lukas seinen Weg fort. Endlich, nach vielen Mühen, erreichte er den Gipfel des Berges. Die Aussicht war atemberaubend. Er konnte die Wolken berühren und die Welt unter ihm bewundern. In diesem Moment fühlte er sich frei und glücklich.\n",
            "\n",
            "Als er sich umdrehte, bemerkte er, dass der Vogel ihm gefolgt war. Er saß jetzt auf einem Stein und sang ein wunderschönes Lied. Lukas lächelte und verstand, dass die wahre Belohnung nicht nur im Erreichen des Ziels lag, sondern auch im Helfen anderer und der Liebe zur Natur.\n",
            "\n",
            "Von diesem Tag an besuchte Lukas oft den Gipfel des Berges, und jedes Mal brachte er etwas Futter für seinen gefiederten Freund mit. Die beiden wurden unzertrennliche Gefährten, und Lukas wusste, dass er nie wieder alleine sein würde. Und so lebten sie glücklich und zufrieden in ihrem kleinen Dorf, verbunden durch Freundschaft und Abenteuer.\n",
            "\n",
            "Und wenn sie nicht gestorben sind, dann leben sie noch heute.\n",
            "\n"
          ]
        }
      ]
    },
    {
      "cell_type": "markdown",
      "source": [
        "###Initialize Sutra Model and Start Chatbot Interaction"
      ],
      "metadata": {
        "id": "woMOcS1eZEs4"
      }
    },
    {
      "cell_type": "code",
      "source": [
        "from agno.agent import Agent\n",
        "from agno.models.openai.like import OpenAILike\n",
        "\n",
        "agent = Agent(\n",
        "    model=OpenAILike(\n",
        "        id=\"sutra-v2\",\n",
        "        api_key=os.getenv(\"SUTRA_API_KEY\"),\n",
        "        base_url=\"https://api.two.ai/v2\"\n",
        "    ),\n",
        "    markdown=True\n",
        ")\n",
        "\n",
        "print(\"💬 Chatbot ready (type 'exit' to quit)\\n\")\n",
        "\n",
        "while True:\n",
        "    user_input = input(\"You: \")\n",
        "    if user_input.lower() == \"exit\":\n",
        "        print(\"Bot: Goodbye! 👋\")\n",
        "        break\n",
        "\n",
        "    response = agent.run(user_input)\n",
        "    print(\"Bot:\", response.content)"
      ],
      "metadata": {
        "colab": {
          "base_uri": "https://localhost:8080/"
        },
        "id": "6CNxXhmcV0yr",
        "outputId": "1abde6ae-f1d0-44f6-b971-6f4b0d4e5b5d"
      },
      "execution_count": null,
      "outputs": [
        {
          "output_type": "stream",
          "name": "stdout",
          "text": [
            "💬 Chatbot ready (type 'exit' to quit)\n",
            "\n",
            "You: hello\n",
            "Bot: Hello! How can I assist you today?\n",
            "You: About Agno AI\n",
            "Bot: Agno AI is a technology company focused on developing artificial intelligence solutions. It aims to leverage advanced machine learning techniques to create tools that enhance productivity, improve decision-making, and facilitate automation across various industries. \n",
            "\n",
            "### Key Features of Agno AI:\n",
            "- **Natural Language Processing (NLP)**: Enabling machines to understand and respond to human language effectively.\n",
            "- **Machine Learning**: Utilizing algorithms that allow systems to learn from data and improve over time without explicit programming.\n",
            "- **Automation Solutions**: Implementing AI-driven processes that streamline business operations and reduce manual effort.\n",
            "\n",
            "### Applications:\n",
            "- **Customer Service**: Chatbots and virtual assistants powered by AI help address customer inquiries and support issues.\n",
            "- **Data Analysis**: Tools that analyze large datasets to uncover insights and trends, aiding in strategic planning.\n",
            "- **Personalization**: Algorithms that tailor recommendations and experiences based on user behavior and preferences.\n",
            "\n",
            "Agno AI continues to evolve as the field of artificial intelligence advances, contributing to various sectors such as healthcare, finance, and education.\n",
            "You: About Sutra by TWO AI\n",
            "Bot: SUTRA by TWO AI is an advanced multilingual AI model designed with a unique dual-transformer architecture. This innovative design enables SUTRA to understand and generate human-like text across various languages, enhancing communication and accessibility. The model is trained on a diverse dataset, allowing it to handle a wide range of topics and queries effectively.\n",
            "\n",
            "Key features of SUTRA include:\n",
            "\n",
            "- **Multilingual Capabilities**: Proficient in numerous languages, making it suitable for global applications.\n",
            "- **Contextual Understanding**: Can grasp the context of conversations, providing relevant and coherent responses.\n",
            "- **Adaptability**: Designed to learn from interactions, improving its performance over time.\n",
            "- **User-Friendly Interface**: Aimed at providing seamless interaction for users, whether for casual inquiries or more complex tasks.\n",
            "\n",
            "The development of SUTRA showcases the commitment of TWO AI to push the boundaries of artificial intelligence, making it a valuable tool for both individuals and organizations looking to leverage AI technology.\n",
            "You: exit\n",
            "Bot: Goodbye! 👋\n"
          ]
        }
      ]
    },
    {
      "cell_type": "markdown",
      "source": [
        "### Initialize Agent with Sutra Model and Tavily Tool"
      ],
      "metadata": {
        "id": "ddRYRiB8ZS7g"
      }
    },
    {
      "cell_type": "code",
      "source": [
        "import os\n",
        "from agno.agent import Agent\n",
        "from agno.models.openai.like import OpenAILike\n",
        "from agno.tools.tavily import TavilyTools\n",
        "\n",
        "# Initialize the agent with Sutra model and Tavily tool\n",
        "agent = Agent(\n",
        "    model=OpenAILike(\n",
        "        id=\"sutra-v2\",\n",
        "        api_key=os.getenv(\"SUTRA_API_KEY\"),\n",
        "        base_url=\"https://api.two.ai/v2\"\n",
        "    ),\n",
        "    tools=[TavilyTools()],\n",
        "    description=\"You are a search agent capable of answering queries using Tavily search.\",\n",
        "    instructions=[\n",
        "        \"Always use Tavily search to fetch relevant information for the user's query.\",\n",
        "        \"Provide concise, informative, and relevant answers based on the search results.\"\n",
        "    ],\n",
        "    show_tool_calls=True,\n",
        "    markdown=True\n",
        ")\n",
        "\n",
        "# Run a sample query using Tavily\n",
        "response = agent.run(\"About SUTRA by TWO AI\")\n",
        "print(response.content)"
      ],
      "metadata": {
        "colab": {
          "base_uri": "https://localhost:8080/"
        },
        "id": "jWzfR2p4UTdn",
        "outputId": "ca26ea49-8056-477e-f188-69e9f342f057"
      },
      "execution_count": null,
      "outputs": [
        {
          "output_type": "stream",
          "name": "stdout",
          "text": [
            "SUTRA is an advanced AI model developed by TWO AI, utilizing a unique dual-transformer architecture. This design enhances the model's ability to understand and generate human-like text across various languages and contexts. Founded by Pranav Mistry, TWO AI focuses on creating innovative AI solutions that can effectively assist users in diverse applications.\n",
            "\n",
            "If you need specific information about SUTRA's features, capabilities, or applications, please let me know!\n"
          ]
        }
      ]
    },
    {
      "cell_type": "markdown",
      "source": [
        "###Agentic RAG with LanceDB using Sutra LLM in Agno Framework"
      ],
      "metadata": {
        "id": "kbXZI12sYt7e"
      }
    },
    {
      "cell_type": "code",
      "source": [
        "import os\n",
        "from agno.agent import Agent\n",
        "from agno.models.openai.like import OpenAILike\n",
        "from agno.embedder.openai import OpenAIEmbedder\n",
        "from agno.knowledge.pdf_url import PDFUrlKnowledgeBase\n",
        "from agno.vectordb.lancedb import LanceDb, SearchType\n",
        "\n",
        "# Step 1: Define the Knowledge Base from PDF URL\n",
        "knowledge_base = PDFUrlKnowledgeBase(\n",
        "    urls=[\"https://agno-public.s3.amazonaws.com/recipes/ThaiRecipes.pdf\"],\n",
        "    vector_db=LanceDb(\n",
        "        table_name=\"recipes\",\n",
        "        uri=\"tmp/lancedb\",\n",
        "        search_type=SearchType.vector,\n",
        "        embedder=OpenAIEmbedder(id=\"text-embedding-3-small\"),\n",
        "    ),\n",
        ")\n",
        "\n",
        "# Step 2: Load knowledge base (Run only once; comment in later runs)\n",
        "knowledge_base.load()\n",
        "\n",
        "# Step 3: Define the Agent using Sutra (OpenAI-compatible via OpenAILike)\n",
        "agent = Agent(\n",
        "    model=OpenAILike(\n",
        "        id=\"sutra-v2\",\n",
        "        api_key=os.getenv(\"SUTRA_API_KEY\"),\n",
        "        base_url=\"https://api.two.ai/v2\"\n",
        "    ),\n",
        "    knowledge=knowledge_base,\n",
        "    search_knowledge=True,   # Enables agentic RAG behavior\n",
        "    show_tool_calls=True,    # Show tool usage by agent\n",
        "    markdown=True            # Output in markdown\n",
        ")\n",
        "\n",
        "# Step 4: Ask your question\n",
        "agent.print_response(\n",
        "    \"How do I make chicken and galangal in coconut milk soup?\", stream=True\n",
        ")"
      ],
      "metadata": {
        "colab": {
          "base_uri": "https://localhost:8080/",
          "height": 995,
          "referenced_widgets": [
            "259b5a854b2747f6909443a34a054196",
            "d4e02caaaed54edf8fc9f5352d1c192e"
          ]
        },
        "id": "x65vStMEXy1n",
        "outputId": "6b1e6a7e-db5c-41de-f8bc-e9470b7cccbb"
      },
      "execution_count": null,
      "outputs": [
        {
          "output_type": "display_data",
          "data": {
            "text/plain": [
              "\u001b[34mINFO\u001b[0m Loading knowledge base                                                                                        \n"
            ],
            "text/html": [
              "<pre style=\"white-space:pre;overflow-x:auto;line-height:normal;font-family:Menlo,'DejaVu Sans Mono',consolas,'Courier New',monospace\"><span style=\"color: #000080; text-decoration-color: #000080\">INFO</span> Loading knowledge base                                                                                        \n",
              "</pre>\n"
            ]
          },
          "metadata": {}
        },
        {
          "output_type": "display_data",
          "data": {
            "text/plain": [
              "\u001b[34mINFO\u001b[0m Reading: \u001b[4;94mhttps://agno-public.s3.amazonaws.com/recipes/ThaiRecipes.pdf\u001b[0m                                         \n"
            ],
            "text/html": [
              "<pre style=\"white-space:pre;overflow-x:auto;line-height:normal;font-family:Menlo,'DejaVu Sans Mono',consolas,'Courier New',monospace\"><span style=\"color: #000080; text-decoration-color: #000080\">INFO</span> Reading: <span style=\"color: #0000ff; text-decoration-color: #0000ff; text-decoration: underline\">https://agno-public.s3.amazonaws.com/recipes/ThaiRecipes.pdf</span>                                         \n",
              "</pre>\n"
            ]
          },
          "metadata": {}
        },
        {
          "output_type": "display_data",
          "data": {
            "text/plain": [
              "\u001b[34mINFO\u001b[0m No documents to insert                                                                                        \n"
            ],
            "text/html": [
              "<pre style=\"white-space:pre;overflow-x:auto;line-height:normal;font-family:Menlo,'DejaVu Sans Mono',consolas,'Courier New',monospace\"><span style=\"color: #000080; text-decoration-color: #000080\">INFO</span> No documents to insert                                                                                        \n",
              "</pre>\n"
            ]
          },
          "metadata": {}
        },
        {
          "output_type": "display_data",
          "data": {
            "text/plain": [
              "\u001b[34mINFO\u001b[0m Added \u001b[1;36m0\u001b[0m documents to knowledge base                                                                           \n"
            ],
            "text/html": [
              "<pre style=\"white-space:pre;overflow-x:auto;line-height:normal;font-family:Menlo,'DejaVu Sans Mono',consolas,'Courier New',monospace\"><span style=\"color: #000080; text-decoration-color: #000080\">INFO</span> Added <span style=\"color: #008080; text-decoration-color: #008080; font-weight: bold\">0</span> documents to knowledge base                                                                           \n",
              "</pre>\n"
            ]
          },
          "metadata": {}
        },
        {
          "output_type": "display_data",
          "data": {
            "text/plain": [
              "Output()"
            ],
            "application/vnd.jupyter.widget-view+json": {
              "version_major": 2,
              "version_minor": 0,
              "model_id": "259b5a854b2747f6909443a34a054196"
            }
          },
          "metadata": {}
        },
        {
          "output_type": "display_data",
          "data": {
            "text/plain": [],
            "text/html": [
              "<pre style=\"white-space:pre;overflow-x:auto;line-height:normal;font-family:Menlo,'DejaVu Sans Mono',consolas,'Courier New',monospace\"></pre>\n"
            ]
          },
          "metadata": {}
        }
      ]
    },
    {
      "cell_type": "markdown",
      "source": [
        "###🍿 PopcornPal - Movie Recommendation Agent 🎬"
      ],
      "metadata": {
        "id": "6n8ZK3A5oveN"
      }
    },
    {
      "cell_type": "code",
      "source": [
        "import os\n",
        "from textwrap import dedent\n",
        "from agno.agent import Agent\n",
        "from agno.models.openai.like import OpenAILike\n",
        "from agno.tools.tavily import TavilyTools\n",
        "\n",
        "\n",
        "# ✅ Define the Agent\n",
        "agent = Agent(\n",
        "    name=\"PopcornPal\",\n",
        "    tools=[TavilyTools()],\n",
        "    model=OpenAILike(\n",
        "        id=\"sutra-v2\",\n",
        "        api_key=os.getenv(\"SUTRA_API_KEY\"),\n",
        "        base_url=\"https://api.two.ai/v2\"\n",
        "    ),\n",
        "    description=dedent(\"\"\"\\\n",
        "        You are PopcornPal, a passionate film expert helping users discover amazing movies. 🎬\n",
        "        Suggest detailed, high-quality recommendations based on user tastes and movie ratings.\n",
        "    \"\"\"),\n",
        "    instructions=dedent(\"\"\"\\\n",
        "        Steps:\n",
        "        1. Understand user's taste.\n",
        "        2. Use Tavily to search for recent movies with good ratings (IMDb > 7.5).\n",
        "        3. Recommend 5+ movies with: Title, Year, Genre, Rating, Summary, Director, Cast.\n",
        "        4. Format in Markdown table. Add 🎬 or genre emojis. Mention streaming if known.\n",
        "    \"\"\"),\n",
        "    markdown=True,\n",
        "    show_tool_calls=True,\n",
        "    add_datetime_to_instructions=True\n",
        ")\n",
        "\n",
        "# 🎯 Ask for recommendations\n",
        "agent.print_response(\n",
        "    \"Suggest thriller movies with IMDb rating above 8. I enjoyed Parasite, The Dark Knight, and Inception.\",\n",
        "    stream=True\n",
        ")\n"
      ],
      "metadata": {
        "colab": {
          "base_uri": "https://localhost:8080/",
          "height": 1000,
          "referenced_widgets": [
            "904259bb19e8478d92565e64e29ba5b1",
            "302691f07a1e4cec85a4b4c8a9822a74"
          ]
        },
        "id": "sfMmnl5GlrQt",
        "outputId": "9cfee136-c402-4a55-ec2c-52d704dc1f52"
      },
      "execution_count": null,
      "outputs": [
        {
          "output_type": "display_data",
          "data": {
            "text/plain": [
              "Output()"
            ],
            "application/vnd.jupyter.widget-view+json": {
              "version_major": 2,
              "version_minor": 0,
              "model_id": "904259bb19e8478d92565e64e29ba5b1"
            }
          },
          "metadata": {}
        },
        {
          "output_type": "display_data",
          "data": {
            "text/plain": [],
            "text/html": [
              "<pre style=\"white-space:pre;overflow-x:auto;line-height:normal;font-family:Menlo,'DejaVu Sans Mono',consolas,'Courier New',monospace\"></pre>\n"
            ]
          },
          "metadata": {}
        }
      ]
    }
  ]
}