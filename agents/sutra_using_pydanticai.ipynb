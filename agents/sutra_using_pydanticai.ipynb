{
  "cells": [
    {
      "cell_type": "markdown",
      "metadata": {
        "id": "LDadvSp-9wI_"
      },
      "source": [
        "<div style=\"display: flex; align-items: center; gap: 40px;\">\n",
        "\n",
        "<img src=\"https://play-lh.googleusercontent.com/_O9p4Z4yucA2NLmZBu9mTJCuBwXeT9NcbtrDN6I8gKlkIPRySV0adOmbyipjSj9Gew\" width=\"130\">\n",
        "<img src=\"https://images.lumacdn.com/cdn-cgi/image/format=auto,fit=cover,dpr=2,background=white,quality=75,width=400,height=400/event-covers/7b/af750bca-5957-41ca-9c6f-c47553f4ff2d.png\" width=\"130\">\n",
        "\n",
        "\n",
        "\n",
        "\n",
        "\n",
        "<div>\n",
        "  <h2>SUTRA by TWO Platforms </h2>\n",
        "  <p>SUTRA is a family of large multi-lingual language (LMLMs) models pioneered by Two Platforms. SUTRA’s dual-transformer approach extends the power of both MoE and Dense AI language model architectures, delivering cost-efficient multilingual capabilities for over 50+ languages. It powers scalable AI applications for conversation, search, and advanced reasoning, ensuring high-performance across diverse languages, domains and applications.</p>\n",
        "\n",
        "  <h2>PydanticAI</h2>\n",
        "    <p>PydanticAI is a Python agent framework designed to make it less painful to build production grade applications with Generative AI.</p>\n",
        "  </div>\n",
        "</div>\n",
        "\n"
      ]
    },
    {
      "cell_type": "markdown",
      "metadata": {},
      "source": [
        "[![Open In Colab](https://colab.research.google.com/assets/colab-badge.svg)](https://colab.research.google.com/drive/11NHMyNQmkd7yn_9pIocRD8iHn835tvBK?usp=sharing)\n"
      ]
    },
    {
      "cell_type": "markdown",
      "metadata": {
        "id": "Q5WI0uqA-YGf"
      },
      "source": [
        "## Get Your API Keys\n",
        "\n",
        "Before you begin, make sure you have:\n",
        "\n",
        "1. A SUTRA API key (Get yours at [TWO AI's SUTRA API page](https://www.two.ai/sutra/api))\n",
        "2. Basic familiarity with Python and Jupyter notebooks\n",
        "\n",
        "This notebook is designed to run in Google Colab, so no local Python installation is required."
      ]
    },
    {
      "cell_type": "markdown",
      "metadata": {
        "id": "Ky-J7Rg8-fyc"
      },
      "source": [
        "#SUTRA using PydanticAI"
      ]
    },
    {
      "cell_type": "markdown",
      "metadata": {
        "id": "iO9dkScF-khh"
      },
      "source": [
        "###Install Requirements"
      ]
    },
    {
      "cell_type": "code",
      "execution_count": null,
      "metadata": {
        "colab": {
          "base_uri": "https://localhost:8080/"
        },
        "id": "8uzRGfub-XrV",
        "outputId": "b10be022-5896-4b59-fbc1-7752881dbda6"
      },
      "outputs": [
        {
          "name": "stdout",
          "output_type": "stream",
          "text": [
            "\u001b[?25l   \u001b[90m━━━━━━━━━━━━━━━━━━━━━━━━━━━━━━━━━━━━━━━━\u001b[0m \u001b[32m0.0/129.3 kB\u001b[0m \u001b[31m?\u001b[0m eta \u001b[36m-:--:--\u001b[0m\r\u001b[2K   \u001b[90m━━━━━━━━━━━━━━━━━━━━━━━━━━━━━━━━━━━━━━━━\u001b[0m \u001b[32m129.3/129.3 kB\u001b[0m \u001b[31m4.8 MB/s\u001b[0m eta \u001b[36m0:00:00\u001b[0m\n",
            "\u001b[?25h\u001b[?25l   \u001b[90m━━━━━━━━━━━━━━━━━━━━━━━━━━━━━━━━━━━━━━━━\u001b[0m \u001b[32m0.0/65.8 kB\u001b[0m \u001b[31m?\u001b[0m eta \u001b[36m-:--:--\u001b[0m\r\u001b[2K   \u001b[90m━━━━━━━━━━━━━━━━━━━━━━━━━━━━━━━━━━━━━━━━\u001b[0m \u001b[32m65.8/65.8 kB\u001b[0m \u001b[31m4.2 MB/s\u001b[0m eta \u001b[36m0:00:00\u001b[0m\n",
            "\u001b[2K   \u001b[90m━━━━━━━━━━━━━━━━━━━━━━━━━━━━━━━━━━━━━━━━\u001b[0m \u001b[32m156.6/156.6 kB\u001b[0m \u001b[31m10.4 MB/s\u001b[0m eta \u001b[36m0:00:00\u001b[0m\n",
            "\u001b[2K   \u001b[90m━━━━━━━━━━━━━━━━━━━━━━━━━━━━━━━━━━━━━━━━\u001b[0m \u001b[32m79.4/79.4 kB\u001b[0m \u001b[31m5.2 MB/s\u001b[0m eta \u001b[36m0:00:00\u001b[0m\n",
            "\u001b[?25h\u001b[31mERROR: pip's dependency resolver does not currently take into account all the packages that are installed. This behaviour is the source of the following dependency conflicts.\n",
            "opentelemetry-sdk 1.16.0 requires opentelemetry-api==1.16.0, but you have opentelemetry-api 1.33.0 which is incompatible.\u001b[0m\u001b[31m\n",
            "\u001b[0m"
          ]
        }
      ],
      "source": [
        "# Install required packages\n",
        "!pip install \"pydantic-ai-slim[openai]\" --quiet"
      ]
    },
    {
      "cell_type": "markdown",
      "metadata": {
        "id": "W1CPWYo4-x8q"
      },
      "source": [
        "###Setup API Keys 🔑"
      ]
    },
    {
      "cell_type": "code",
      "execution_count": null,
      "metadata": {
        "id": "ik-QzqRQ9pWa"
      },
      "outputs": [],
      "source": [
        "import os\n",
        "from google.colab import userdata\n",
        "\n",
        "# Set the API key from Colab secrets\n",
        "os.environ[\"SUTRA_API_KEY\"] = userdata.get(\"SUTRA_API_KEY\")"
      ]
    },
    {
      "cell_type": "markdown",
      "metadata": {
        "id": "dwMTx9yq--Zf"
      },
      "source": [
        "###Initialize Sutra Model via **PydanticAI**"
      ]
    },
    {
      "cell_type": "code",
      "execution_count": null,
      "metadata": {
        "id": "jS4fe77D_fF4"
      },
      "outputs": [],
      "source": [
        "import os\n",
        "import nest_asyncio\n",
        "import asyncio\n",
        "from pydantic_ai import Agent\n",
        "from pydantic_ai.models.openai import OpenAIModel\n",
        "from pydantic_ai.providers.openai import OpenAIProvider\n",
        "\n",
        "# Required for running async in Colab\n",
        "nest_asyncio.apply()\n",
        "\n",
        "# ⚙️ Model Configuration\n",
        "sutra_provider = OpenAIProvider(\n",
        "    base_url=\"https://api.two.ai/v2\",\n",
        "    api_key=os.environ[\"SUTRA_API_KEY\"]\n",
        ")\n",
        "\n",
        "sutra_v2 = OpenAIModel(\"sutra-v2\", provider=sutra_provider)\n",
        "sutra_r0 = OpenAIModel(\"sutra-r0\", provider=sutra_provider)\n",
        "\n",
        "v2_agent = Agent(sutra_v2)\n",
        "r0_agent = Agent(sutra_r0)"
      ]
    },
    {
      "cell_type": "markdown",
      "metadata": {
        "id": "_VIa2mAe_yQN"
      },
      "source": [
        "### Multilingual Content Generation"
      ]
    },
    {
      "cell_type": "code",
      "execution_count": null,
      "metadata": {
        "colab": {
          "base_uri": "https://localhost:8080/"
        },
        "id": "uGy_77zQ_4zm",
        "outputId": "8aaf2de4-fb71-4488-d863-147090c7c66f"
      },
      "outputs": [
        {
          "name": "stdout",
          "output_type": "stream",
          "text": [
            "🌐 Multilingual Content Generation\n",
            "\n",
            "\n",
            "[Hindi]\n",
            "एक बार की बात है, एक छोटे से गाँव में एक रोबोट रहता था जिसका नाम 'रवि' था। रवि एक अत्याधुनिक तकनीक से बना था और उसका मुख्य उद्देश्य गाँव के लोगों की मदद करना था। वह दिन-रात काम करता, खेतों में फसल उगाने से लेकर बच्चों को पढ़ाने तक।\n",
            "\n",
            "गाँव में सभी लोग रवि से बहुत प्यार करते थे। लेकिन एक दिन, गाँव में एक बड़ी समस्या आई। बारिश नहीं हो रही थी और फसलें सूखने लगीं। गाँव वाले चिंतित थे और समझ नहीं पा रहे थे कि क्या करें। रवि ने देखा कि गाँव के लोग परेशान हैं और उसने एक योजना बनाई।\n",
            "\n",
            "उसने गाँव के तालाब के पास जाकर अपनी विशेष तकनीक का इस्तेमाल किया। उसने हवा से पानी को संकेंद्रित करने की प्रक्रिया शुरू की। धीरे-धीरे, तालाब में पानी भरने लगा और गाँव के लोग हैरान रह गए। रवि ने अपने प्रयास से न केवल तालाब को भरा, बल्कि गाँव के खेतों में भी पानी पहुंचाया।\n",
            "\n",
            "गाँव में खुशियों की लहर दौड़ गई। सभी ने मिलकर रवि का धन्यवाद किया। उस दिन से, रवि सिर्फ एक रोबोट नहीं रहा, बल्कि गाँव का हीरो बन गया। उसने साबित कर दिया कि तकनीक और मानवता का संगम किसी भी समस्या का समाधान निकाल सकता है। \n",
            "\n",
            "गाँव वाले अब रवि को अपने परिवार का हिस्सा मानते थे, और रवि ने भी अपने दिल में उनकी खुशी को हमेशा के लिए बसा लिया।\n",
            "\n",
            "\n",
            "[Tamil]\n",
            "அன்புள்ள மாணவர்களே,\n",
            "\n",
            "இன்று எங்கள் வாழ்க்கையின் முக்கியமான கட்டங்களில் ஒன்றை சந்திக்கிறோம். நீங்கள் அனைவரும் உங்கள் கனவுகளை அடைய, உங்கள் திறமைகளை வளர்க்க, மற்றும் உங்களை மேம்படுத்த உங்களுக்குள் உள்ள சக்தியை உணர வேண்டும். கல்வி என்பது வெறும் புத்தகங்களை படிப்பது மட்டுமல்ல; இது உங்கள் மனதை விரிவாக்கவும், உங்கள் எண்ணங்களை வளர்க்கவும் உதவுகிறது.\n",
            "\n",
            "நாம் எல்லோரும் வெற்றிபெற விரும்புகிறோம், ஆனால் வெற்றி என்பது ஒரு பயணம். இந்த பயணத்தில் நீங்கள் எதிர்கொள்ளும் சவால்கள் மற்றும் தடைகள் உங்கள் முன்னேற்றத்தை மேலும் வலுப்படுத்தும். நீங்கள் விழுந்தால், மீண்டும் எழுங்கள்; தவறு செய்தால், அதை ஒரு பாடமாகக் Consider செய்யுங்கள். உங்கள் முயற்சி மற்றும் உழைப்பு தான் உங்கள் வெற்றியின் அடிப்படையாக இருக்கும்.\n",
            "\n",
            "நீங்கள் உங்கள் கனவுகளை அடைய, முன் செல்லுங்கள். உங்கள் திறமைகள் மற்றும் கற்பனைக்கு எல்லை கிடையாது. நீங்கள் எதையும் சாதிக்க முடியும், நம்பிக்கை வைத்தால். உங்களைச் சுற்றி உள்ளவர்கள் உங்கள் கனவுகளைப் பற்றி சந்தேகம் கொண்டால், நீங்கள் மட்டும் அல்ல; ஆனால் நீங்கள் உங்கள் கனவுகளை நம்புங்கள். உங்கள் உள்ளத்தில் உள்ள தீயின் ஒளியை வெளிப்படுத்துங்கள்.\n",
            "\n",
            "இந்த உலகில் நீங்கள் யாராக இருக்க வேண்டும், அதைத் தீர்மானிக்க உங்களுக்கு முழு உரிமை உள்ளது. உங்கள் கனவுகளை பின்பற்றுங்கள், உங்கள் திறமைகளை வளருங்கள், மற்றும் உங்கள் சாதனைகளுக்காக போராடுங்கள். நினைவில் வைக்குங்கள், நீங்கள் ஒருவராகவே தனித்துவமானவர்கள், உங்கள் திறமைகளை வெளிப்படுத்துங்கள்.\n",
            "\n",
            "உங்கள் முயற்சிகள், உங்களைச் சுற்றியுள்ள உலகத்தை மாற்றும் சக்தி வாய்ந்தவை. உங்கள் கனவுகளை உண்மையில் மாற்றுங்கள், உங்கள் வாழ்க்கையை அழகு செய்யுங்கள், மற்றும் உலகுக்கு உங்களை அறிமுகப்படுத்துங்கள். \n",
            "\n",
            "நன்றி!\n",
            "\n",
            "\n",
            "[Japanese]\n",
            "春の訪れ  \n",
            "花が咲き誇る  \n",
            "風に舞う蝶  \n",
            "\n",
            "\n",
            "[Arabic]\n",
            "**عنوان القصة: مغامرة الفيل الصغير**\n",
            "\n",
            "في غابةٍ بعيدة، كان هناك فيل صغير يُدعى \"فيلو\". كان فيلو فتى مرحًا وفضولياً يحب الاستكشاف. في يومٍ من الأيام، قرر فيلو أن يخرج في مغامرة جديدة.\n",
            "\n",
            "بدأ فيlo رحلته في الصباح الباكر، حيث كانت الشمس تشرق وتضيء الغابة بألوانها الجميلة. بينما كان يمشي، قابل أصدقاءه: الأرنب \"رامي\"، والقرود \"ميمي\" و\"توتو\". قال لهم فيلو: \"هل تريدون أن تأتيوا معي في مغامرة؟\"\n",
            "\n",
            "فرح الأصدقاء بالفكرة، وقرروا أن يستكشفوا النهر الذي لم يروا مثله من قبل. وصلوا إلى النهر بعد فترة من المشي، ورأوا مياهه تتلألأ تحت أشعة الشمس. بدأوا يلعبون ويقفزون في الماء، وكانوا يستمتعون بوقتهم كثيرًا.\n",
            "\n",
            "بينما كانوا يلعبون، لاحظوا شيئًا غريبًا على الضفة. كان هناك حجر كبير يبدو كأنه يشبه الكنز. اقتربوا منه بحذر، وعندما لمسوه، اكتشفوا أنه ليس حجرًا بل قنبلة فواكه! كانت مليئة بالفواكه اللذيذة مثل الموز والتفاح والبرتقال.\n",
            "\n",
            "فرح الأصدقاء كثيرًا، وقرروا أن يقيموا حفلة صغيرة. جمعوا الفواكه وبدأوا في إعداد الطعام. رقصوا وغنوا معًا، وكانت السعادة تعم المكان.\n",
            "\n",
            "في نهاية اليوم، أدرك فيلو وأصدقاؤه أن المغامرات ليست فقط عن الاكتشافات، بل أيضًا عن مشاركة اللحظات الجميلة مع الأصدقاء. وعدوا بعضهم بأنهم سيستمرون في استكشاف الغابة معًا دائمًا.\n",
            "\n",
            "وعادوا جميعًا إلى منازلهم، قلوبهم مليئة بالفرح وذكريات جميلة عن مغامرتهم الرائعة.\n",
            "\n",
            "**النهاية**\n",
            "\n",
            "\n",
            "[French]\n",
            "Le changement climatique est l'un des défis les plus pressants auxquels notre planète est confrontée aujourd'hui. Il se manifeste par une augmentation des températures mondiales, des phénomènes météorologiques extrêmes, la montée du niveau des mers et la perte de biodiversité. Les activités humaines, telles que la combustion de combustibles fossiles et la déforestation, contribuent à l'accumulation de gaz à effet de serre dans l'atmosphère. Cela entraîne des conséquences graves pour les écosystèmes, la santé humaine et l'économie mondiale. Pour atténuer ces effets, il est essentiel d'adopter des politiques durables, de promouvoir les énergies renouvelables et de sensibiliser les populations à l'importance de préserver notre environnement.\n",
            "\n"
          ]
        }
      ],
      "source": [
        "async def run_content_generation():\n",
        "    print(\"🌐 Multilingual Content Generation\\n\")\n",
        "    examples = {\n",
        "        \"Hindi\": \"Write a short story about a robot in Hindi\",\n",
        "        \"Tamil\": \"Write a motivational speech for students in Tamil\",\n",
        "        \"Japanese\": \"Write a haiku about spring in Japanese\",\n",
        "        \"Arabic\": \"Write a children's story in Arabic\",\n",
        "        \"French\": \"Write a paragraph about climate change in French\"\n",
        "    }\n",
        "    for lang, prompt in examples.items():\n",
        "        result = await v2_agent.run(prompt)\n",
        "        print(f\"\\n[{lang}]\\n{result.output}\\n\")\n",
        "\n",
        "await run_content_generation()"
      ]
    },
    {
      "cell_type": "markdown",
      "metadata": {
        "id": "QfS4U8xsACBG"
      },
      "source": [
        "###Multilingual Translation"
      ]
    },
    {
      "cell_type": "code",
      "execution_count": null,
      "metadata": {
        "colab": {
          "base_uri": "https://localhost:8080/"
        },
        "id": "9ICo88H7AHjz",
        "outputId": "4e524d3e-84f6-435e-f81a-dd1de3932aca"
      },
      "outputs": [
        {
          "name": "stdout",
          "output_type": "stream",
          "text": [
            "🌐 Multilingual Translation\n",
            "\n",
            "\n",
            "To Telugu:\n",
            "'జ్ఞానం శక్తి'\n",
            "\n",
            "To Spanish:\n",
            "El mundo es hermoso.\n",
            "\n",
            "To Russian:\n",
            "\"Единство в разнообразии\"\n"
          ]
        }
      ],
      "source": [
        "async def run_translation():\n",
        "    print(\"🌐 Multilingual Translation\\n\")\n",
        "    phrases = [\n",
        "        \"Knowledge is power\",\n",
        "        \"The world is beautiful\",\n",
        "        \"Unity in diversity\"\n",
        "    ]\n",
        "    target_languages = [\"Telugu\", \"Spanish\", \"Russian\", \"Chinese\", \"Swahili\"]\n",
        "\n",
        "    for phrase, lang in zip(phrases, target_languages):\n",
        "        prompt = f\"Translate this to {lang}: '{phrase}'\"\n",
        "        result = await v2_agent.run(prompt)\n",
        "        print(f\"\\nTo {lang}:\\n{result.output}\")\n",
        "\n",
        "await run_translation()"
      ]
    },
    {
      "cell_type": "markdown",
      "metadata": {
        "id": "qTc573_JANOS"
      },
      "source": [
        "###Reasoning Capabilities"
      ]
    },
    {
      "cell_type": "code",
      "execution_count": null,
      "metadata": {
        "colab": {
          "base_uri": "https://localhost:8080/"
        },
        "id": "mC6UQ_mRAgnP",
        "outputId": "e39438d9-c7d7-4623-fe99-a60150fdf475"
      },
      "outputs": [
        {
          "name": "stdout",
          "output_type": "stream",
          "text": [
            "🧠 Logical and Mathematical Reasoning\n",
            "\n",
            "\n",
            "[Logical Reasoning in Greek]\n",
            "<thinking>\n",
            "The user has presented a logical argument with premises and a conclusion, asking for an evaluation of its validity in Greek. First, I need to analyze the argument's structure to determine if the conclusion logically follows from the premises.\n",
            "\n",
            "The first premise states that all birds can fly, and the second premise identifies penguins as birds. However, the conclusion claims that penguins can fly, which contradicts the known fact that penguins are flightless birds. Therefore, the argument is not valid.\n",
            "\n",
            "Next, I will formulate a response in Greek, clearly stating the reasoning behind the invalidity of the argument while ensuring it is concise and accurate. This will involve translating the analysis into Greek while maintaining clarity in the explanation.\n",
            "</thinking>\n",
            "\n",
            "Ο συλλογισμός δεν είναι έγκυρος. \n",
            "\n",
            "Η πρώτη προ premise δηλώνει ότι όλα τα πουλιά μπορούν να πετούν, ενώ η δεύτερη προ premise αναγνωρίζει τους πιγκουίνους ως πουλιά. Ωστόσο, η συμπερασματική δήλωση ότι οι πιγκουίνοι μπορούν να πετούν αντιφάσκει με την πραγματικότητα, καθώς οι πιγκουίνοι είναι πτηνά που δεν μπορούν να πετούν. Έτσι, το συμπέρασμα δεν ακολουθεί λογικά από τις προ premises.\n",
            "\n",
            "[Math Reasoning in German]\n",
            "<thinking>\n",
            "To solve the equation \\(3x + 6 = 21\\) step by step, I need to isolate the variable \\(x\\). First, I will subtract 6 from both sides of the equation to simplify it. \n",
            "\n",
            "Next, I will divide the remaining value by 3 to find the value of \\(x\\). Throughout this process, I will explain each step in German to ensure clarity for the user. \n",
            "\n",
            "Finally, I will present the solution clearly, confirming the value of \\(x\\) at the end. This structured approach will help the user understand how to solve similar equations in the future.\n",
            "</thinking>\n",
            "\n",
            "Um die Gleichung \\(3x + 6 = 21\\) Schritt für Schritt zu lösen, folge ich diesen Schritten:\n",
            "\n",
            "1. **Gleichung aufstellen**: Wir haben die Gleichung \\(3x + 6 = 21\\).\n",
            "\n",
            "2. **6 von beiden Seiten subtrahieren**: Um \\(x\\) zu isolieren, subtrahiere ich 6 von beiden Seiten der Gleichung:\n",
            "   \\[\n",
            "   3x + 6 - 6 = 21 - 6\n",
            "   \\]\n",
            "   Das vereinfacht sich zu:\n",
            "   \\[\n",
            "   3x = 15\n",
            "   \\]\n",
            "\n",
            "3. **Durch 3 teilen**: Jetzt teile ich beide Seiten der Gleichung durch 3, um \\(x\\) zu finden:\n",
            "   \\[\n",
            "   \\frac{3x}{3} = \\frac{15}{3}\n",
            "   \\]\n",
            "   Das vereinfacht sich zu:\n",
            "   \\[\n",
            "   x = 5\n",
            "   \\]\n",
            "\n",
            "4. **Lösung präsentieren**: Die Lösung für \\(x\\) ist also \\(5\\).\n",
            "\n",
            "Zusammenfassend: Wenn \\(3x + 6 = 21\\), dann ist \\(x = 5\\).\n"
          ]
        }
      ],
      "source": [
        "async def run_reasoning():\n",
        "    print(\"🧠 Logical and Mathematical Reasoning\\n\")\n",
        "\n",
        "    # Logical reasoning in Greek\n",
        "    logic_prompt = \"\"\"\n",
        "    Premise 1: All birds can fly.\n",
        "    Premise 2: Penguins are birds.\n",
        "    Conclusion: Penguins can fly.\n",
        "    Is this argument valid? Explain in Greek.\n",
        "    \"\"\"\n",
        "    result = await r0_agent.run(logic_prompt)\n",
        "    print(f\"\\n[Logical Reasoning in Greek]\\n{result.output}\")\n",
        "\n",
        "    # Math reasoning in German\n",
        "    math_prompt = \"Solve step by step and explain in German: If 3x + 6 = 21, what is x?\"\n",
        "    result = await r0_agent.run(math_prompt)\n",
        "    print(f\"\\n[Math Reasoning in German]\\n{result.output}\")\n",
        "\n",
        "await run_reasoning()"
      ]
    },
    {
      "cell_type": "markdown",
      "metadata": {
        "id": "JFgo9SlhAnkj"
      },
      "source": [
        "###Code Generation in Multilingual Explanation"
      ]
    },
    {
      "cell_type": "code",
      "execution_count": null,
      "metadata": {
        "colab": {
          "base_uri": "https://localhost:8080/"
        },
        "id": "oNmCN8gWArqg",
        "outputId": "11a10584-6ee0-42f2-dc6f-bda869a93362"
      },
      "outputs": [
        {
          "name": "stdout",
          "output_type": "stream",
          "text": [
            "💻 Code Generation with Explanation in Polish\n",
            "\n",
            "Oto funkcja w Pythonie, która sprawdza, czy liczba jest liczbą pierwszą:\n",
            "\n",
            "```python\n",
            "def is_prime(n):\n",
            "    if n <= 1:\n",
            "        return False\n",
            "    for i in range(2, int(n**0.5) + 1):\n",
            "        if n % i == 0:\n",
            "            return False\n",
            "    return True\n",
            "```\n",
            "\n",
            "### Wyjaśnienie w języku polskim:\n",
            "\n",
            "1. **Definicja funkcji**: Funkcja `is_prime(n)` przyjmuje jeden argument `n`, który reprezentuje liczbę, którą chcemy sprawdzić.\n",
            "\n",
            "2. **Sprawdzanie wartości n**:\n",
            "   - Jeśli `n` jest mniejsze lub równe 1, funkcja zwraca `False`, ponieważ liczby 0 i 1 nie są liczbami pierwszymi.\n",
            "\n",
            "3. **Pętla do sprawdzania dzielników**:\n",
            "   - Pętla `for` iteruje od 2 do pierwiastka kwadratowego z `n` (włącznie). Używamy `int(n**0.5) + 1`, aby uzyskać całkowitą wartość pierwiastka kwadratowego, co jest wystarczające do sprawdzenia, czy liczba `n` ma dzielniki.\n",
            "   - Wewnątrz pętli sprawdzamy, czy `n` jest podzielne przez `i`. Jeśli tak, to oznacza, że `n` nie jest liczbą pierwszą, więc funkcja zwraca `False`.\n",
            "\n",
            "4. **Zwracanie wyniku**:\n",
            "   - Jeśli pętla zakończy się bez znalezienia dzielnika, funkcja zwraca `True`, co oznacza, że `n` jest liczbą pierwszą.\n",
            "\n",
            "Przykład użycia funkcji:\n",
            "\n",
            "```python\n",
            "print(is_prime(7))  # Zwróci True, ponieważ 7 jest liczbą pierwszą\n",
            "print(is_prime(10)) # Zwróci False, ponieważ 10 nie jest liczbą pierwszą\n",
            "```\n"
          ]
        }
      ],
      "source": [
        "async def run_code_gen():\n",
        "    print(\"💻 Code Generation with Explanation in Polish\\n\")\n",
        "    prompt = \"Write a Python function to check for prime number and explain in Polish\"\n",
        "    result = await v2_agent.run(prompt)\n",
        "    print(result.output)\n",
        "\n",
        "await run_code_gen()"
      ]
    }
  ],
  "metadata": {
    "colab": {
      "provenance": []
    },
    "kernelspec": {
      "display_name": "Python 3",
      "name": "python3"
    },
    "language_info": {
      "name": "python"
    }
  },
  "nbformat": 4,
  "nbformat_minor": 0
}
