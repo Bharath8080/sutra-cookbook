{
  "cells": [
    {
      "cell_type": "markdown",
      "metadata": {
        "id": "rJDuepU5MI0o"
      },
      "source": [
        "\n",
        "<div style=\"display: flex; align-items: center; gap: 40px;\">\n",
        "\n",
        "<img src=\"https://play-lh.googleusercontent.com/_O9p4Z4yucA2NLmZBu9mTJCuBwXeT9NcbtrDN6I8gKlkIPRySV0adOmbyipjSj9Gew\" width=\"120\">\n",
        "<img src=\"https://images.crunchbase.com/image/upload/c_pad,f_auto,q_auto:eco,dpr_1/fc52752016ff487da8e4686a2b7fcb6d\" width=\"120\">\n",
        "\n",
        "\n",
        "\n",
        "<div>\n",
        "  <h2>SUTRA by TWO Platforms</h2>\n",
        "  <p>SUTRA is a family of large multi-lingual language (LMLMs) models pioneered by Two Platforms. SUTRA’s dual-transformer approach extends the power of both MoE and Dense AI language model architectures, delivering cost-efficient multilingual capabilities for over 50+ languages. It powers scalable AI applications for conversation, search, and advanced reasoning, ensuring high-performance across diverse languages, domains and applications.</p>\n",
        "\n",
        "</div>\n",
        "</div>\n",
        "\n",
        "[![Open In Colab](https://colab.research.google.com/assets/colab-badge.svg)](https://colab.research.google.com/drive/1GrnC7oJXAr7wh2yCEB2-PURdXPkM35Hu?usp=sharing)\n",
        "\n",
        "\n",
        "## What is Agno?\n",
        "\n",
        "Agno is a lightweight library for building agents with memory, knowledge, tools, and reasoning capabilities. It's model-agnostic, allowing you to connect to 23+ model providers without lock-in."
      ]
    },
    {
      "cell_type": "markdown",
      "metadata": {
        "id": "3z7V2CqUcjLX"
      },
      "source": [
        "#SUTRA with Agno\n"
      ]
    },
    {
      "cell_type": "markdown",
      "metadata": {
        "id": "3nGbS8KyN9X2"
      },
      "source": [
        "## Get Your API Keys\n",
        "\n",
        "Before you begin, make sure you have:\n",
        "\n",
        "1. A SUTRA API key (Get yours at [TWO AI's SUTRA API page](https://www.two.ai/sutra/api))\n",
        "2. Basic familiarity with Python and Jupyter notebooks\n",
        "\n",
        "This notebook is designed to run in Google Colab, so no local Python installation is required."
      ]
    },
    {
      "cell_type": "markdown",
      "metadata": {
        "id": "fz_y_cxUMI0q"
      },
      "source": [
        "## Setup and Installation\n",
        "\n",
        "First, let's install the required packages:"
      ]
    },
    {
      "cell_type": "code",
      "execution_count": null,
      "metadata": {
        "id": "JhXf1TuTMI0r"
      },
      "outputs": [],
      "source": [
        "!pip install openai agno duckduckgo-search"
      ]
    },
    {
      "cell_type": "markdown",
      "metadata": {
        "id": "NB0lpP8yMI0s"
      },
      "source": [
        "## Setting up Environment Variables\n",
        "\n",
        "You'll need to set up your API keys. For security reasons, it's best to use environment variables:"
      ]
    },
    {
      "cell_type": "code",
      "execution_count": 2,
      "metadata": {
        "id": "7HgW6CkKMI0s"
      },
      "outputs": [],
      "source": [
        "import os\n",
        "from google.colab import userdata\n",
        "\n",
        "# Set the API key from Colab secrets\n",
        "os.environ[\"SUTRA_API_KEY\"] = userdata.get(\"SUTRA_API_KEY\")\n",
        "os.environ[\"TAVILY_API_KEY\"] = userdata.get(\"TAVILY_API_KEY\")\n",
        "os.environ[\"OPENAI_API_KEY\"] = userdata.get(\"OPENAI_API_KEY\")"
      ]
    },
    {
      "cell_type": "markdown",
      "metadata": {
        "id": "m5Nh9jvVMI0t"
      },
      "source": [
        "## Basic Usage of SUTRA with OpenAI Client\n",
        "\n",
        "Let's first see how to use SUTRA with the standard OpenAI client:"
      ]
    },
    {
      "cell_type": "code",
      "execution_count": 3,
      "metadata": {
        "colab": {
          "base_uri": "https://localhost:8080/"
        },
        "id": "Gh4wyQhVMI0t",
        "outputId": "1c0d45e0-d8c0-4547-d3dd-6c877ee23593"
      },
      "outputs": [
        {
          "name": "stdout",
          "output_type": "stream",
          "text": [
            "The Ganga River, also known as the Ganges, holds immense significance in Indian culture, religion, and ecology. Here are some key aspects of its importance:\n",
            "\n",
            "1. **Religious Significance**: The Ganga is considered the holiest river in Hinduism. It is personified as the goddess Ganga and is worshipped in various rituals. Pilgrims often travel to its banks to perform rites and take holy dips, especially during festivals like Kumbh Mela, which attracts millions.\n",
            "\n",
            "2. **Cultural Heritage**: The river has been a cradle of civilization for thousands of years, sustaining ancient cities like Varanasi, Haridwar, and Allahabad. It is a symbol of life, purity, and hope, influencing art, literature, and music throughout Indian history.\n",
            "\n",
            "3. **Spiritual Cleansing**: Hindus believe that bathing in the Ganga cleanses one of sins and facilitates moksha (liberation from the cycle of birth and death). The ashes of the deceased are often scattered in the river to ensure their souls attain peace.\n",
            "\n",
            "4. **Ecological Importance**: The Ganga supports a diverse ecosystem and is home to various species, including the endangered Ganges river dolphin. It plays a crucial role in agriculture by providing water to millions of farmers along its banks.\n",
            "\n",
            "5. **Economic Resource**: The river is vital for irrigation, drinking water, and transportation. Many industries and towns have developed along its banks, relying on its resources for livelihood.\n",
            "\n",
            "6. **Cultural Symbols**: The Ganga is often referenced in Indian literature, poetry, and folklore, symbolizing purity, serenity, and the continuity of life. Its imagery is prevalent in various forms of artistic expression.\n",
            "\n",
            "7. **Environmental Concerns**: In recent years, the Ganga has faced significant pollution challenges, prompting movements and policies aimed at its conservation. Initiatives like the \"Namami Gange\" program emphasize the need to restore the river's health and sanctity.\n",
            "\n",
            "Overall, the Ganga is more than just a river; it is an integral part of India's cultural and spiritual identity, reflecting the deep connection between nature and human life in Indian society.\n"
          ]
        }
      ],
      "source": [
        "from openai import OpenAI\n",
        "\n",
        "# Initialize the client with Sutra's API endpoint\n",
        "client = OpenAI(\n",
        "    base_url='https://api.two.ai/v2',\n",
        "    api_key=os.environ[\"SUTRA_API_KEY\"]\n",
        ")\n",
        "\n",
        "# Simple completion with Sutra\n",
        "response = client.chat.completions.create(\n",
        "    model=\"sutra-v2\",  # Use Sutra model\n",
        "    messages=[\n",
        "        {\"role\": \"system\", \"content\": \"You are a helpful assistant that specializes in Indian languages and culture.\"},\n",
        "        {\"role\": \"user\", \"content\": \"Tell me about the importance of the Ganga river in Indian culture.\"}\n",
        "    ]\n",
        ")\n",
        "\n",
        "print(response.choices[0].message.content)"
      ]
    },
    {
      "cell_type": "markdown",
      "metadata": {
        "id": "d6uet0F3MI0t"
      },
      "source": [
        "## Multilingual Capabilities of SUTRA\n",
        "\n",
        "One of Sutra's strengths is its multilingual capabilities. Let's test it with Hindi:"
      ]
    },
    {
      "cell_type": "code",
      "execution_count": 4,
      "metadata": {
        "colab": {
          "base_uri": "https://localhost:8080/"
        },
        "id": "MW6wuvE_MI0t",
        "outputId": "7232d7de-23cc-45ad-b3cf-b06beca8d663"
      },
      "outputs": [
        {
          "name": "stdout",
          "output_type": "stream",
          "text": [
            "गंगा नदी भारतीय संस्कृति में अत्यंत महत्वपूर्ण स्थान रखती है। इसे \"गंगाजी\" के नाम से भी जाना जाता है और इसे पवित्र नदी माना जाता है। इसके महत्व के कुछ प्रमुख पहलू इस प्रकार हैं:\n",
            "\n",
            "1. **धार्मिक महत्व**: गंगा को हिंदू धर्म में एक देवी के रूप में पूजा जाता है। मान्यता है कि गंगा के जल में स्नान करने से पाप धुल जाते हैं और मोक्ष की प्राप्ति होती है। हरिद्वार, वाराणसी और इलाहाबाद जैसे नगरों में गंगा के तट पर धार्मिक स्नान और पूजा-अर्चना की जाती है।\n",
            "\n",
            "2. **संस्कृति और परंपरा**: गंगा नदी भारतीय संस्कृति का एक अभिन्न हिस्सा है। यह न केवल धार्मिक अनुष्ठानों का स्थल है बल्कि विभिन्न त्योहारों और मेलों का भी केंद्र है। कुम्भ मेला, जो हर 12 वर्ष में आयोजित होता है, गंगा के किनारे आयोजित किया जाता है।\n",
            "\n",
            "3. **जीविका का साधन**: गंगा नदी आसपास के क्षेत्रों के लिए पानी, कृषि और मत्स्य पालन का एक महत्वपूर्ण स्रोत है। इसके जल से सिंचाई की जाती है, जो स्थानीय अर्थव्यवस्था को सशक्त बनाता है।\n",
            "\n",
            "4. **पर्यावरणीय महत्व**: गंगा नदी का पारिस्थितिकीय तंत्र भी महत्वपूर्ण है। यह अनेक जीवों का आवास है और इसके जल में कई प्रकार की जैव विविधता पाई जाती है। हालाँकि, प्रदूषण के कारण इसकी पारिस्थितिकी को खतरा उत्पन्न हो गया है।\n",
            "\n",
            "5. **सांस्कृतिक प्रतीक**: गंगा नदी भारतीय साहित्य, कला और संगीत में बार-बार उल्लेखित होती है। इसे जीवन, शुद्धता और आत्मा की यात्रा का प्रतीक माना जाता है।\n",
            "\n",
            "इस प्रकार, गंगा नदी न केवल एक भौगोलिक विशेषता है, बल्कि यह भारतीय समाज, संस्कृति और धर्म का एक मूलभूत हिस्सा है।\n"
          ]
        }
      ],
      "source": [
        "# Hindi example\n",
        "response = client.chat.completions.create(\n",
        "    model=\"sutra-v2\",\n",
        "    messages=[\n",
        "        {\"role\": \"system\", \"content\": \"आप एक सहायक AI हैं जो हिंदी में उत्तर देती है।\"},\n",
        "        {\"role\": \"user\", \"content\": \"भारतीय संस्कृति में गंगा नदी का क्या महत्व है?\"}\n",
        "    ]\n",
        ")\n",
        "\n",
        "print(response.choices[0].message.content)"
      ]
    },
    {
      "cell_type": "markdown",
      "metadata": {
        "id": "EsWFf94DMI0v"
      },
      "source": [
        "## Integrating SUTRA with Agno Agent\n",
        "\n",
        "Now, let's integrate Sutra with Agno to create an intelligent agent. We'll create a custom OpenAI model class for Agno that uses Sutra:"
      ]
    },
    {
      "cell_type": "code",
      "execution_count": 5,
      "metadata": {
        "colab": {
          "base_uri": "https://localhost:8080/",
          "height": 991,
          "referenced_widgets": [
            "7f8c90d02c794ebdb04144ab72db9b07",
            "17955860ffac442db97e3fb3cf9cd5df"
          ]
        },
        "id": "1Jd6Hz4yMI0v",
        "outputId": "a965ca8f-7c38-4f5e-9d0b-73857d38d31a"
      },
      "outputs": [
        {
          "data": {
            "text/html": [
              "<pre style=\"white-space:pre;overflow-x:auto;line-height:normal;font-family:Menlo,'DejaVu Sans Mono',consolas,'Courier New',monospace\"><span style=\"color: #000080; text-decoration-color: #000080\">INFO</span> Setting default model to OpenAI Chat                                                                          \n",
              "</pre>\n"
            ],
            "text/plain": [
              "\u001b[34mINFO\u001b[0m Setting default model to OpenAI Chat                                                                          \n"
            ]
          },
          "metadata": {},
          "output_type": "display_data"
        },
        {
          "data": {
            "application/vnd.jupyter.widget-view+json": {
              "model_id": "7f8c90d02c794ebdb04144ab72db9b07",
              "version_major": 2,
              "version_minor": 0
            },
            "text/plain": [
              "Output()"
            ]
          },
          "metadata": {},
          "output_type": "display_data"
        },
        {
          "data": {
            "text/html": [
              "<pre style=\"white-space:pre;overflow-x:auto;line-height:normal;font-family:Menlo,'DejaVu Sans Mono',consolas,'Courier New',monospace\"></pre>\n"
            ],
            "text/plain": []
          },
          "metadata": {},
          "output_type": "display_data"
        }
      ],
      "source": [
        "from agno.agent import Agent\n",
        "from agno.models.openai.like import OpenAILike\n",
        "\n",
        "# Initialize the Agent with Sutra model via OpenAILike wrapper\n",
        "agent = Agent(\n",
        "    model=OpenAILike(\n",
        "        id=\"sutra-v2\",\n",
        "        api_key=os.getenv(\"SUTRA_API_KEY\"),\n",
        "        base_url=\"https://api.two.ai/v2\"\n",
        "    ),\n",
        "    markdown=True\n",
        ")\n",
        "\n",
        "# Create a basic Sutra agent\n",
        "sutra_agent = Agent(\n",
        "    description=\"You are a helpful assistant that specializes in Indian languages and culture.\",\n",
        "    markdown=True\n",
        ")\n",
        "\n",
        "# Test the agent\n",
        "sutra_agent.print_response(\"Tell me about the history of yoga in India.\", stream=True)"
      ]
    },
    {
      "cell_type": "markdown",
      "metadata": {
        "id": "w32PJztZMI0w"
      },
      "source": [
        "## Adding Tools to the SUTRA Agent\n",
        "\n",
        "Let's enhance our Sutra agent by adding tools, such as web search capabilities:"
      ]
    },
    {
      "cell_type": "code",
      "execution_count": 7,
      "metadata": {
        "colab": {
          "base_uri": "https://localhost:8080/",
          "height": 524,
          "referenced_widgets": [
            "0a89c009611140f988720321ef8b5c95",
            "f2ac93ec60354469b5ed2fb4cc3eb0dd"
          ]
        },
        "id": "Mih1SGiSMI0w",
        "outputId": "c9fd0ae2-0e1c-4800-a60c-3440c1f569c7"
      },
      "outputs": [
        {
          "data": {
            "text/html": [
              "<pre style=\"white-space:pre;overflow-x:auto;line-height:normal;font-family:Menlo,'DejaVu Sans Mono',consolas,'Courier New',monospace\"><span style=\"color: #000080; text-decoration-color: #000080\">INFO</span> Setting default model to OpenAI Chat                                                                          \n",
              "</pre>\n"
            ],
            "text/plain": [
              "\u001b[34mINFO\u001b[0m Setting default model to OpenAI Chat                                                                          \n"
            ]
          },
          "metadata": {},
          "output_type": "display_data"
        },
        {
          "data": {
            "application/vnd.jupyter.widget-view+json": {
              "model_id": "0a89c009611140f988720321ef8b5c95",
              "version_major": 2,
              "version_minor": 0
            },
            "text/plain": [
              "Output()"
            ]
          },
          "metadata": {},
          "output_type": "display_data"
        },
        {
          "data": {
            "text/html": [
              "<pre style=\"white-space:pre;overflow-x:auto;line-height:normal;font-family:Menlo,'DejaVu Sans Mono',consolas,'Courier New',monospace\"></pre>\n"
            ],
            "text/plain": []
          },
          "metadata": {},
          "output_type": "display_data"
        }
      ],
      "source": [
        "from agno.tools.duckduckgo import DuckDuckGoTools\n",
        "\n",
        "# Create a Sutra agent with web search capability\n",
        "sutra_agent_with_tools = Agent(\n",
        "    description=\"You are a helpful assistant that specializes in Indian languages, culture, and current events.\",\n",
        "    tools=[DuckDuckGoTools()],\n",
        "    show_tool_calls=True,\n",
        "    markdown=True\n",
        ")\n",
        "\n",
        "# Test the agent with a query that might require web search\n",
        "sutra_agent_with_tools.print_response(\"What are the recent developments in India's space program in hindi?\", stream=True)"
      ]
    },
    {
      "cell_type": "markdown",
      "metadata": {
        "id": "fc-8qsfyMI0x"
      },
      "source": [
        "## Creating a Multilingual SUTRA Agent with Reasoning\n",
        "\n",
        "Now, let's create a more advanced SUTRA agent that can handle multiple languages and has reasoning capabilities:"
      ]
    },
    {
      "cell_type": "code",
      "execution_count": 8,
      "metadata": {
        "colab": {
          "base_uri": "https://localhost:8080/",
          "height": 1000,
          "referenced_widgets": [
            "59306ce17f58439fba5bd5eb7f2a8d27",
            "cc3647cb1b3248e2a2f7b37e0328474e"
          ]
        },
        "id": "4nAZP3NQMI0x",
        "outputId": "0203dfc8-4a9f-46cc-92a4-bb6f31a57011"
      },
      "outputs": [
        {
          "data": {
            "text/html": [
              "<pre style=\"white-space:pre;overflow-x:auto;line-height:normal;font-family:Menlo,'DejaVu Sans Mono',consolas,'Courier New',monospace\"><span style=\"color: #000080; text-decoration-color: #000080\">INFO</span> Setting default model to OpenAI Chat                                                                          \n",
              "</pre>\n"
            ],
            "text/plain": [
              "\u001b[34mINFO\u001b[0m Setting default model to OpenAI Chat                                                                          \n"
            ]
          },
          "metadata": {},
          "output_type": "display_data"
        },
        {
          "data": {
            "application/vnd.jupyter.widget-view+json": {
              "model_id": "59306ce17f58439fba5bd5eb7f2a8d27",
              "version_major": 2,
              "version_minor": 0
            },
            "text/plain": [
              "Output()"
            ]
          },
          "metadata": {},
          "output_type": "display_data"
        },
        {
          "data": {
            "text/html": [
              "<pre style=\"white-space:pre;overflow-x:auto;line-height:normal;font-family:Menlo,'DejaVu Sans Mono',consolas,'Courier New',monospace\"></pre>\n"
            ],
            "text/plain": []
          },
          "metadata": {},
          "output_type": "display_data"
        }
      ],
      "source": [
        "from agno.tools.reasoning import ReasoningTools\n",
        "\n",
        "# Create a multilingual Sutra agent with reasoning capabilities\n",
        "multilingual_sutra_agent = Agent(\n",
        "    description=\"You are a multilingual assistant that can communicate in various Indian languages and has strong reasoning abilities.\",\n",
        "    tools=[\n",
        "        ReasoningTools(add_instructions=True),\n",
        "        DuckDuckGoTools()\n",
        "    ],\n",
        "    instructions=[\n",
        "        \"You can respond in the language used by the user.\",\n",
        "        \"Use reasoning to analyze complex questions before answering.\",\n",
        "        \"If needed, search the web for current information.\"\n",
        "    ],\n",
        "    show_tool_calls=True,\n",
        "    markdown=True\n",
        ")\n",
        "\n",
        "# Test with a complex reasoning task in English\n",
        "multilingual_sutra_agent.print_response(\n",
        "    \"Analyze the impact of climate change on agricultural practices in India. What adaptations are farmers making?\",\n",
        "    stream=True,\n",
        "    show_full_reasoning=True\n",
        ")"
      ]
    },
    {
      "cell_type": "code",
      "execution_count": 9,
      "metadata": {
        "colab": {
          "base_uri": "https://localhost:8080/",
          "height": 1000,
          "referenced_widgets": [
            "974d878f3a4344b69aa39edfd2b9d373",
            "cf90c6ea5b064c7eb0f51fab1aaa2c0f"
          ]
        },
        "id": "Q8B4BEpHMI0x",
        "outputId": "63c60394-0150-42ff-df2a-7279cda9ff09"
      },
      "outputs": [
        {
          "data": {
            "application/vnd.jupyter.widget-view+json": {
              "model_id": "974d878f3a4344b69aa39edfd2b9d373",
              "version_major": 2,
              "version_minor": 0
            },
            "text/plain": [
              "Output()"
            ]
          },
          "metadata": {},
          "output_type": "display_data"
        },
        {
          "data": {
            "text/html": [
              "<pre style=\"white-space:pre;overflow-x:auto;line-height:normal;font-family:Menlo,'DejaVu Sans Mono',consolas,'Courier New',monospace\"></pre>\n"
            ],
            "text/plain": []
          },
          "metadata": {},
          "output_type": "display_data"
        }
      ],
      "source": [
        "# Test with a Hindi query\n",
        "multilingual_sutra_agent.print_response(\n",
        "    \"भारत में जलवायु परिवर्तन का कृषि पर क्या प्रभाव पड़ रहा है? किसान कैसे अनुकूलन कर रहे हैं?\",\n",
        "    stream=True,\n",
        "    show_full_reasoning=True\n",
        ")"
      ]
    },
    {
      "cell_type": "markdown",
      "metadata": {
        "id": "-NSdHxPXMI0z"
      },
      "source": [
        "## Conclusion\n",
        "\n",
        "In this notebook, we've demonstrated how to use the Sutra model with the OpenAI client and integrate it with Agno to create intelligent agents. We've explored:\n",
        "\n",
        "1. Basic usage of Sutra with the OpenAI client\n",
        "2. Multilingual capabilities of SUTRA\n",
        "3. Creating a simple Sutra agent with Agno\n",
        "4. Adding tools like web search to the SUTRA agent\n",
        "5. Building a multilingual SUTRA agent with reasoning capabilities\n",
        "\n",
        "Sutra's strong multilingual capabilities, especially for Indian languages, combined with Agno's flexible agent framework, provide a powerful platform for building intelligent applications that can understand and respond in multiple languages and leverage various tools and knowledge sources."
      ]
    }
  ],
  "metadata": {
    "colab": {
      "provenance": []
    },
    "kernelspec": {
      "display_name": "Python 3",
      "language": "python",
      "name": "python3"
    },
    "language_info": {
      "codemirror_mode": {
        "name": "ipython",
        "version": 3
      },
      "file_extension": ".py",
      "mimetype": "text/x-python",
      "name": "python",
      "nbconvert_exporter": "python",
      "pygments_lexer": "ipython3",
      "version": "3.10.12"
    }
  },
  "nbformat": 4,
  "nbformat_minor": 0
}
