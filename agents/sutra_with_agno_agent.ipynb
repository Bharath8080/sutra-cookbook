{
  "cells": [
    {
      "cell_type": "markdown",
      "metadata": {
        "id": "rJDuepU5MI0o"
      },
      "source": [
        "\n",
        "<div style=\"display: flex; align-items: center; gap: 40px;\">\n",
        "\n",
        "<img src=\"https://play-lh.googleusercontent.com/_O9p4Z4yucA2NLmZBu9mTJCuBwXeT9NcbtrDN6I8gKlkIPRySV0adOmbyipjSj9Gew\" width=\"120\">\n",
        "<img src=\"https://images.crunchbase.com/image/upload/c_pad,f_auto,q_auto:eco,dpr_1/fc52752016ff487da8e4686a2b7fcb6d\" width=\"120\">\n",
        "\n",
        "\n",
        "\n",
        "<div>\n",
        "  <h2>SUTRA by TWO Platforms</h2>\n",
        "  <p>SUTRA is a family of large multi-lingual language (LMLMs) models pioneered by Two Platforms. SUTRA’s dual-transformer approach extends the power of both MoE and Dense AI language model architectures, delivering cost-efficient multilingual capabilities for over 50+ languages. It powers scalable AI applications for conversation, search, and advanced reasoning, ensuring high-performance across diverse languages, domains and applications.</p>\n",
        "\n",
        "</div>\n",
        "</div>\n",
        "\n",
        "[![Open In Colab](https://colab.research.google.com/assets/colab-badge.svg)](https://colab.research.google.com/drive/1GrnC7oJXAr7wh2yCEB2-PURdXPkM35Hu?usp=sharing)\n",
        "\n",
        "\n",
        "## What is Agno?\n",
        "\n",
        "Agno is a lightweight library for building agents with memory, knowledge, tools, and reasoning capabilities. It's model-agnostic, allowing you to connect to 23+ model providers without lock-in."
      ]
    },
    {
      "cell_type": "markdown",
      "metadata": {
        "id": "3z7V2CqUcjLX"
      },
      "source": [
        "#SUTRA with Agno\n"
      ]
    },
    {
      "cell_type": "markdown",
      "metadata": {
        "id": "3nGbS8KyN9X2"
      },
      "source": [
        "## Get Your API Keys\n",
        "\n",
        "Before you begin, make sure you have:\n",
        "\n",
        "1. A SUTRA API key (Get yours at [TWO AI's SUTRA API page](https://www.two.ai/sutra/api))\n",
        "2. Basic familiarity with Python and Jupyter notebooks\n",
        "\n",
        "This notebook is designed to run in Google Colab, so no local Python installation is required."
      ]
    },
    {
      "cell_type": "markdown",
      "metadata": {
        "id": "fz_y_cxUMI0q"
      },
      "source": [
        "## Setup and Installation\n",
        "\n",
        "First, let's install the required packages:"
      ]
    },
    {
      "cell_type": "code",
      "execution_count": null,
      "metadata": {
        "id": "JhXf1TuTMI0r"
      },
      "outputs": [],
      "source": [
        "!pip install openai agno duckduckgo-search"
      ]
    },
    {
      "cell_type": "markdown",
      "metadata": {
        "id": "NB0lpP8yMI0s"
      },
      "source": [
        "## Setting up Environment Variables\n",
        "\n",
        "You'll need to set up your API keys. For security reasons, it's best to use environment variables:"
      ]
    },
    {
      "cell_type": "code",
      "execution_count": 2,
      "metadata": {
        "id": "7HgW6CkKMI0s"
      },
      "outputs": [],
      "source": [
        "import os\n",
        "from google.colab import userdata\n",
        "\n",
        "# Set the API key from Colab secrets\n",
        "os.environ[\"SUTRA_API_KEY\"] = userdata.get(\"SUTRA_API_KEY\")\n",
        "os.environ[\"TAVILY_API_KEY\"] = userdata.get(\"TAVILY_API_KEY\")\n",
        "os.environ[\"OPENAI_API_KEY\"] = userdata.get(\"OPENAI_API_KEY\")"
      ]
    },
    {
      "cell_type": "markdown",
      "metadata": {
        "id": "m5Nh9jvVMI0t"
      },
      "source": [
        "## Basic Usage of SUTRA with OpenAI Client\n",
        "\n",
        "Let's first see how to use SUTRA with the standard OpenAI client:"
      ]
    },
    {
      "cell_type": "code",
      "execution_count": 3,
      "metadata": {
        "colab": {
          "base_uri": "https://localhost:8080/"
        },
        "id": "Gh4wyQhVMI0t",
        "outputId": "1c0d45e0-d8c0-4547-d3dd-6c877ee23593"
      },
      "outputs": [
        {
          "name": "stdout",
          "output_type": "stream",
          "text": [
            "The Ganga River, also known as the Ganges, holds immense significance in Indian culture, religion, and ecology. Here are some key aspects of its importance:\n",
            "\n",
            "1. **Religious Significance**: The Ganga is considered the holiest river in Hinduism. It is personified as the goddess Ganga and is worshipped in various rituals. Pilgrims often travel to its banks to perform rites and take holy dips, especially during festivals like Kumbh Mela, which attracts millions.\n",
            "\n",
            "2. **Cultural Heritage**: The river has been a cradle of civilization for thousands of years, sustaining ancient cities like Varanasi, Haridwar, and Allahabad. It is a symbol of life, purity, and hope, influencing art, literature, and music throughout Indian history.\n",
            "\n",
            "3. **Spiritual Cleansing**: Hindus believe that bathing in the Ganga cleanses one of sins and facilitates moksha (liberation from the cycle of birth and death). The ashes of the deceased are often scattered in the river to ensure their souls attain peace.\n",
            "\n",
            "4. **Ecological Importance**: The Ganga supports a diverse ecosystem and is home to various species, including the endangered Ganges river dolphin. It plays a crucial role in agriculture by providing water to millions of farmers along its banks.\n",
            "\n",
            "5. **Economic Resource**: The river is vital for irrigation, drinking water, and transportation. Many industries and towns have developed along its banks, relying on its resources for livelihood.\n",
            "\n",
            "6. **Cultural Symbols**: The Ganga is often referenced in Indian literature, poetry, and folklore, symbolizing purity, serenity, and the continuity of life. Its imagery is prevalent in various forms of artistic expression.\n",
            "\n",
            "7. **Environmental Concerns**: In recent years, the Ganga has faced significant pollution challenges, prompting movements and policies aimed at its conservation. Initiatives like the \"Namami Gange\" program emphasize the need to restore the river's health and sanctity.\n",
            "\n",
            "Overall, the Ganga is more than just a river; it is an integral part of India's cultural and spiritual identity, reflecting the deep connection between nature and human life in Indian society.\n"
          ]
        }
      ],
      "source": [
        "from openai import OpenAI\n",
        "\n",
        "# Initialize the client with Sutra's API endpoint\n",
        "client = OpenAI(\n",
        "    base_url='https://api.two.ai/v2',\n",
        "    api_key=os.environ[\"SUTRA_API_KEY\"]\n",
        ")\n",
        "\n",
        "# Simple completion with Sutra\n",
        "response = client.chat.completions.create(\n",
        "    model=\"sutra-v2\",  # Use Sutra model\n",
        "    messages=[\n",
        "        {\"role\": \"system\", \"content\": \"You are a helpful assistant that specializes in Indian languages and culture.\"},\n",
        "        {\"role\": \"user\", \"content\": \"Tell me about the importance of the Ganga river in Indian culture.\"}\n",
        "    ]\n",
        ")\n",
        "\n",
        "print(response.choices[0].message.content)"
      ]
    },
    {
      "cell_type": "markdown",
      "metadata": {
        "id": "d6uet0F3MI0t"
      },
      "source": [
        "## Multilingual Capabilities of SUTRA\n",
        "\n",
        "One of Sutra's strengths is its multilingual capabilities. Let's test it with Hindi:"
      ]
    },
    {
      "cell_type": "code",
      "execution_count": 4,
      "metadata": {
        "colab": {
          "base_uri": "https://localhost:8080/"
        },
        "id": "MW6wuvE_MI0t",
        "outputId": "7232d7de-23cc-45ad-b3cf-b06beca8d663"
      },
      "outputs": [
        {
          "name": "stdout",
          "output_type": "stream",
          "text": [
            "गंगा नदी भारतीय संस्कृति में अत्यंत महत्वपूर्ण स्थान रखती है। इसे \"गंगाजी\" के नाम से भी जाना जाता है और इसे पवित्र नदी माना जाता है। इसके महत्व के कुछ प्रमुख पहलू इस प्रकार हैं:\n",
            "\n",
            "1. **धार्मिक महत्व**: गंगा को हिंदू धर्म में एक देवी के रूप में पूजा जाता है। मान्यता है कि गंगा के जल में स्नान करने से पाप धुल जाते हैं और मोक्ष की प्राप्ति होती है। हरिद्वार, वाराणसी और इलाहाबाद जैसे नगरों में गंगा के तट पर धार्मिक स्नान और पूजा-अर्चना की जाती है।\n",
            "\n",
            "2. **संस्कृति और परंपरा**: गंगा नदी भारतीय संस्कृति का एक अभिन्न हिस्सा है। यह न केवल धार्मिक अनुष्ठानों का स्थल है बल्कि विभिन्न त्योहारों और मेलों का भी केंद्र है। कुम्भ मेला, जो हर 12 वर्ष में आयोजित होता है, गंगा के किनारे आयोजित किया जाता है।\n",
            "\n",
            "3. **जीविका का साधन**: गंगा नदी आसपास के क्षेत्रों के लिए पानी, कृषि और मत्स्य पालन का एक महत्वपूर्ण स्रोत है। इसके जल से सिंचाई की जाती है, जो स्थानीय अर्थव्यवस्था को सशक्त बनाता है।\n",
            "\n",
            "4. **पर्यावरणीय महत्व**: गंगा नदी का पारिस्थितिकीय तंत्र भी महत्वपूर्ण है। यह अनेक जीवों का आवास है और इसके जल में कई प्रकार की जैव विविधता पाई जाती है। हालाँकि, प्रदूषण के कारण इसकी पारिस्थितिकी को खतरा उत्पन्न हो गया है।\n",
            "\n",
            "5. **सांस्कृतिक प्रतीक**: गंगा नदी भारतीय साहित्य, कला और संगीत में बार-बार उल्लेखित होती है। इसे जीवन, शुद्धता और आत्मा की यात्रा का प्रतीक माना जाता है।\n",
            "\n",
            "इस प्रकार, गंगा नदी न केवल एक भौगोलिक विशेषता है, बल्कि यह भारतीय समाज, संस्कृति और धर्म का एक मूलभूत हिस्सा है।\n"
          ]
        }
      ],
      "source": [
        "# Hindi example\n",
        "response = client.chat.completions.create(\n",
        "    model=\"sutra-v2\",\n",
        "    messages=[\n",
        "        {\"role\": \"system\", \"content\": \"आप एक सहायक AI हैं जो हिंदी में उत्तर देती है।\"},\n",
        "        {\"role\": \"user\", \"content\": \"भारतीय संस्कृति में गंगा नदी का क्या महत्व है?\"}\n",
        "    ]\n",
        ")\n",
        "\n",
        "print(response.choices[0].message.content)"
      ]
    },
    {
      "cell_type": "markdown",
      "metadata": {
        "id": "EsWFf94DMI0v"
      },
      "source": [
        "## Integrating SUTRA with Agno Agent\n",
        "\n",
        "Now, let's integrate Sutra with Agno to create an intelligent agent. We'll create a custom OpenAI model class for Agno that uses Sutra:"
      ]
    },
    {
      "cell_type": "code",
      "execution_count": 5,
      "metadata": {
        "colab": {
          "base_uri": "https://localhost:8080/",
          "height": 991,
          "referenced_widgets": [
            "7f8c90d02c794ebdb04144ab72db9b07",
            "17955860ffac442db97e3fb3cf9cd5df"
          ]
        },
        "id": "1Jd6Hz4yMI0v",
        "outputId": "a965ca8f-7c38-4f5e-9d0b-73857d38d31a"
      },
      "outputs": [
        {
          "data": {
            "text/html": [
              "<pre style=\"white-space:pre;overflow-x:auto;line-height:normal;font-family:Menlo,'DejaVu Sans Mono',consolas,'Courier New',monospace\"><span style=\"color: #000080; text-decoration-color: #000080\">INFO</span> Setting default model to OpenAI Chat                                                                          \n",
              "</pre>\n"
            ],
            "text/plain": [
              "\u001b[34mINFO\u001b[0m Setting default model to OpenAI Chat                                                                          \n"
            ]
          },
          "metadata": {},
          "output_type": "display_data"
        },
        {
          "data": {
            "application/vnd.jupyter.widget-view+json": {
              "model_id": "7f8c90d02c794ebdb04144ab72db9b07",
              "version_major": 2,
              "version_minor": 0
            },
            "text/plain": [
              "Output()"
            ]
          },
          "metadata": {},
          "output_type": "display_data"
        },
        {
          "data": {
            "text/html": [
              "<pre style=\"white-space:pre;overflow-x:auto;line-height:normal;font-family:Menlo,'DejaVu Sans Mono',consolas,'Courier New',monospace\"></pre>\n"
            ],
            "text/plain": []
          },
          "metadata": {},
          "output_type": "display_data"
        }
      ],
      "source": [
        "from agno.agent import Agent\n",
        "from agno.models.openai.like import OpenAILike\n",
        "\n",
        "# Initialize the Agent with Sutra model via OpenAILike wrapper\n",
        "agent = Agent(\n",
        "    model=OpenAILike(\n",
        "        id=\"sutra-v2\",\n",
        "        api_key=os.getenv(\"SUTRA_API_KEY\"),\n",
        "        base_url=\"https://api.two.ai/v2\"\n",
        "    ),\n",
        "    markdown=True\n",
        ")\n",
        "\n",
        "# Create a basic Sutra agent\n",
        "sutra_agent = Agent(\n",
        "    description=\"You are a helpful assistant that specializes in Indian languages and culture.\",\n",
        "    markdown=True\n",
        ")\n",
        "\n",
        "# Test the agent\n",
        "sutra_agent.print_response(\"Tell me about the history of yoga in India.\", stream=True)"
      ]
    },
    {
      "cell_type": "markdown",
      "metadata": {
        "id": "w32PJztZMI0w"
      },
      "source": [
        "## Adding Tools to the SUTRA Agent\n",
        "\n",
        "Let's enhance our Sutra agent by adding tools, such as web search capabilities:"
      ]
    },
    {
      "cell_type": "code",
      "execution_count": 7,
      "metadata": {
        "colab": {
          "base_uri": "https://localhost:8080/",
          "height": 524,
          "referenced_widgets": [
            "0a89c009611140f988720321ef8b5c95",
            "f2ac93ec60354469b5ed2fb4cc3eb0dd"
          ]
        },
        "id": "Mih1SGiSMI0w",
        "outputId": "c9fd0ae2-0e1c-4800-a60c-3440c1f569c7"
      },
      "outputs": [
        {
          "data": {
            "text/html": [
              "<pre style=\"white-space:pre;overflow-x:auto;line-height:normal;font-family:Menlo,'DejaVu Sans Mono',consolas,'Courier New',monospace\"><span style=\"color: #000080; text-decoration-color: #000080\">INFO</span> Setting default model to OpenAI Chat                                                                          \n",
              "</pre>\n"
            ],
            "text/plain": [
              "\u001b[34mINFO\u001b[0m Setting default model to OpenAI Chat                                                                          \n"
            ]
          },
          "metadata": {},
          "output_type": "display_data"
        },
        {
          "data": {
            "application/vnd.jupyter.widget-view+json": {
              "model_id": "0a89c009611140f988720321ef8b5c95",
              "version_major": 2,
              "version_minor": 0
            },
            "text/plain": [
              "Output()"
            ]
          },
          "metadata": {},
          "output_type": "display_data"
        },
        {
          "data": {
            "text/html": [
              "<pre style=\"white-space:pre;overflow-x:auto;line-height:normal;font-family:Menlo,'DejaVu Sans Mono',consolas,'Courier New',monospace\"></pre>\n"
            ],
            "text/plain": []
          },
          "metadata": {},
          "output_type": "display_data"
        }
      ],
      "source": [
        "from agno.tools.duckduckgo import DuckDuckGoTools\n",
        "\n",
        "# Create a Sutra agent with web search capability\n",
        "sutra_agent_with_tools = Agent(\n",
        "    description=\"You are a helpful assistant that specializes in Indian languages, culture, and current events.\",\n",
        "    tools=[DuckDuckGoTools()],\n",
        "    show_tool_calls=True,\n",
        "    markdown=True\n",
        ")\n",
        "\n",
        "# Test the agent with a query that might require web search\n",
        "sutra_agent_with_tools.print_response(\"What are the recent developments in India's space program in hindi?\", stream=True)"
      ]
    },
    {
      "cell_type": "markdown",
      "metadata": {
        "id": "fc-8qsfyMI0x"
      },
      "source": [
        "## Creating a Multilingual SUTRA Agent with Reasoning\n",
        "\n",
        "Now, let's create a more advanced SUTRA agent that can handle multiple languages and has reasoning capabilities:"
      ]
    },
    {
      "cell_type": "code",
      "execution_count": 8,
      "metadata": {
        "colab": {
          "base_uri": "https://localhost:8080/",
          "height": 1000,
          "referenced_widgets": [
            "59306ce17f58439fba5bd5eb7f2a8d27",
            "cc3647cb1b3248e2a2f7b37e0328474e"
          ]
        },
        "id": "4nAZP3NQMI0x",
        "outputId": "0203dfc8-4a9f-46cc-92a4-bb6f31a57011"
      },
      "outputs": [
        {
          "data": {
            "text/html": [
              "<pre style=\"white-space:pre;overflow-x:auto;line-height:normal;font-family:Menlo,'DejaVu Sans Mono',consolas,'Courier New',monospace\"><span style=\"color: #000080; text-decoration-color: #000080\">INFO</span> Setting default model to OpenAI Chat                                                                          \n",
              "</pre>\n"
            ],
            "text/plain": [
              "\u001b[34mINFO\u001b[0m Setting default model to OpenAI Chat                                                                          \n"
            ]
          },
          "metadata": {},
          "output_type": "display_data"
        },
        {
          "data": {
            "application/vnd.jupyter.widget-view+json": {
              "model_id": "59306ce17f58439fba5bd5eb7f2a8d27",
              "version_major": 2,
              "version_minor": 0
            },
            "text/plain": [
              "Output()"
            ]
          },
          "metadata": {},
          "output_type": "display_data"
        },
        {
          "data": {
            "text/html": [
              "<pre style=\"white-space:pre;overflow-x:auto;line-height:normal;font-family:Menlo,'DejaVu Sans Mono',consolas,'Courier New',monospace\"></pre>\n"
            ],
            "text/plain": []
          },
          "metadata": {},
          "output_type": "display_data"
        }
      ],
      "source": [
        "from agno.tools.reasoning import ReasoningTools\n",
        "\n",
        "# Create a multilingual Sutra agent with reasoning capabilities\n",
        "multilingual_sutra_agent = Agent(\n",
        "    description=\"You are a multilingual assistant that can communicate in various Indian languages and has strong reasoning abilities.\",\n",
        "    tools=[\n",
        "        ReasoningTools(add_instructions=True),\n",
        "        DuckDuckGoTools()\n",
        "    ],\n",
        "    instructions=[\n",
        "        \"You can respond in the language used by the user.\",\n",
        "        \"Use reasoning to analyze complex questions before answering.\",\n",
        "        \"If needed, search the web for current information.\"\n",
        "    ],\n",
        "    show_tool_calls=True,\n",
        "    markdown=True\n",
        ")\n",
        "\n",
        "# Test with a complex reasoning task in English\n",
        "multilingual_sutra_agent.print_response(\n",
        "    \"Analyze the impact of climate change on agricultural practices in India. What adaptations are farmers making?\",\n",
        "    stream=True,\n",
        "    show_full_reasoning=True\n",
        ")"
      ]
    },
    {
      "cell_type": "code",
      "execution_count": 9,
      "metadata": {
        "colab": {
          "base_uri": "https://localhost:8080/",
          "height": 1000,
          "referenced_widgets": [
            "974d878f3a4344b69aa39edfd2b9d373",
            "cf90c6ea5b064c7eb0f51fab1aaa2c0f"
          ]
        },
        "id": "Q8B4BEpHMI0x",
        "outputId": "63c60394-0150-42ff-df2a-7279cda9ff09"
      },
      "outputs": [
        {
          "data": {
            "application/vnd.jupyter.widget-view+json": {
              "model_id": "974d878f3a4344b69aa39edfd2b9d373",
              "version_major": 2,
              "version_minor": 0
            },
            "text/plain": [
              "Output()"
            ]
          },
          "metadata": {},
          "output_type": "display_data"
        },
        {
          "data": {
            "text/html": [
              "<pre style=\"white-space:pre;overflow-x:auto;line-height:normal;font-family:Menlo,'DejaVu Sans Mono',consolas,'Courier New',monospace\"></pre>\n"
            ],
            "text/plain": []
          },
          "metadata": {},
          "output_type": "display_data"
        }
      ],
      "source": [
        "# Test with a Hindi query\n",
        "multilingual_sutra_agent.print_response(\n",
        "    \"भारत में जलवायु परिवर्तन का कृषि पर क्या प्रभाव पड़ रहा है? किसान कैसे अनुकूलन कर रहे हैं?\",\n",
        "    stream=True,\n",
        "    show_full_reasoning=True\n",
        ")"
      ]
    },
    {
      "cell_type": "markdown",
      "metadata": {
        "id": "-NSdHxPXMI0z"
      },
      "source": [
        "## Conclusion\n",
        "\n",
        "In this notebook, we've demonstrated how to use the Sutra model with the OpenAI client and integrate it with Agno to create intelligent agents. We've explored:\n",
        "\n",
        "1. Basic usage of Sutra with the OpenAI client\n",
        "2. Multilingual capabilities of SUTRA\n",
        "3. Creating a simple Sutra agent with Agno\n",
        "4. Adding tools like web search to the SUTRA agent\n",
        "5. Building a multilingual SUTRA agent with reasoning capabilities\n",
        "\n",
        "Sutra's strong multilingual capabilities, especially for Indian languages, combined with Agno's flexible agent framework, provide a powerful platform for building intelligent applications that can understand and respond in multiple languages and leverage various tools and knowledge sources."
      ]
    }
  ],
  "metadata": {
    "colab": {
      "provenance": []
    },
    "kernelspec": {
      "display_name": "Python 3",
      "language": "python",
      "name": "python3"
    },
    "language_info": {
      "codemirror_mode": {
        "name": "ipython",
        "version": 3
      },
      "file_extension": ".py",
      "mimetype": "text/x-python",
      "name": "python",
      "nbconvert_exporter": "python",
      "pygments_lexer": "ipython3",
      "version": "3.10.12"
    },
    "widgets": {
      "application/vnd.jupyter.widget-state+json": {
        "0a89c009611140f988720321ef8b5c95": {
          "model_module": "@jupyter-widgets/output",
          "model_module_version": "1.0.0",
          "model_name": "OutputModel",
          "state": {
            "_dom_classes": [],
            "_model_module": "@jupyter-widgets/output",
            "_model_module_version": "1.0.0",
            "_model_name": "OutputModel",
            "_view_count": null,
            "_view_module": "@jupyter-widgets/output",
            "_view_module_version": "1.0.0",
            "_view_name": "OutputView",
            "layout": "IPY_MODEL_f2ac93ec60354469b5ed2fb4cc3eb0dd",
            "msg_id": "",
            "outputs": [
              {
                "data": {
                  "text/html": "<pre style=\"white-space:pre;overflow-x:auto;line-height:normal;font-family:Menlo,'DejaVu Sans Mono',consolas,'Courier New',monospace\"><span style=\"color: #008000; text-decoration-color: #008000\">▰▱▱▱▱▱▱</span> Thinking...\n<span style=\"color: #008080; text-decoration-color: #008080\">┏━ Message ━━━━━━━━━━━━━━━━━━━━━━━━━━━━━━━━━━━━━━━━━━━━━━━━━━━━━━━━━━━━━━━━━━━━━━━━━━━━━━━━━━━━━━━━━━━━━━━━━━━━━━━┓</span>\n<span style=\"color: #008080; text-decoration-color: #008080\">┃</span>                                                                                                                 <span style=\"color: #008080; text-decoration-color: #008080\">┃</span>\n<span style=\"color: #008080; text-decoration-color: #008080\">┃</span> <span style=\"color: #008000; text-decoration-color: #008000\">What are the recent developments in India's space program in hindi?</span>                                             <span style=\"color: #008080; text-decoration-color: #008080\">┃</span>\n<span style=\"color: #008080; text-decoration-color: #008080\">┃</span>                                                                                                                 <span style=\"color: #008080; text-decoration-color: #008080\">┃</span>\n<span style=\"color: #008080; text-decoration-color: #008080\">┗━━━━━━━━━━━━━━━━━━━━━━━━━━━━━━━━━━━━━━━━━━━━━━━━━━━━━━━━━━━━━━━━━━━━━━━━━━━━━━━━━━━━━━━━━━━━━━━━━━━━━━━━━━━━━━━━━┛</span>\n<span style=\"color: #808000; text-decoration-color: #808000\">┏━ Tool Calls ━━━━━━━━━━━━━━━━━━━━━━━━━━━━━━━━━━━━━━━━━━━━━━━━━━━━━━━━━━━━━━━━━━━━━━━━━━━━━━━━━━━━━━━━━━━━━━━━━━━━┓</span>\n<span style=\"color: #808000; text-decoration-color: #808000\">┃</span>                                                                                                                 <span style=\"color: #808000; text-decoration-color: #808000\">┃</span>\n<span style=\"color: #808000; text-decoration-color: #808000\">┃</span> • duckduckgo_news(query=India space program recent developments, max_results=5)                                 <span style=\"color: #808000; text-decoration-color: #808000\">┃</span>\n<span style=\"color: #808000; text-decoration-color: #808000\">┃</span>                                                                                                                 <span style=\"color: #808000; text-decoration-color: #808000\">┃</span>\n<span style=\"color: #808000; text-decoration-color: #808000\">┗━━━━━━━━━━━━━━━━━━━━━━━━━━━━━━━━━━━━━━━━━━━━━━━━━━━━━━━━━━━━━━━━━━━━━━━━━━━━━━━━━━━━━━━━━━━━━━━━━━━━━━━━━━━━━━━━━┛</span>\n<span style=\"color: #000080; text-decoration-color: #000080\">┏━ Response (20.8s) ━━━━━━━━━━━━━━━━━━━━━━━━━━━━━━━━━━━━━━━━━━━━━━━━━━━━━━━━━━━━━━━━━━━━━━━━━━━━━━━━━━━━━━━━━━━━━━┓</span>\n<span style=\"color: #000080; text-decoration-color: #000080\">┃</span>                                                                                                                 <span style=\"color: #000080; text-decoration-color: #000080\">┃</span>\n<span style=\"color: #000080; text-decoration-color: #000080\">┃</span> यहाँ भारत के अंतरिक्ष कार्यक्रम में हाल के विकास की जानकारी दी गई है:                                                                 <span style=\"color: #000080; text-decoration-color: #000080\">┃</span>\n<span style=\"color: #000080; text-decoration-color: #000080\">┃</span>                                                                                                                 <span style=\"color: #000080; text-decoration-color: #000080\">┃</span>\n<span style=\"color: #000080; text-decoration-color: #000080\">┃</span> <span style=\"color: #808000; text-decoration-color: #808000; font-weight: bold\"> 1 </span><span style=\"font-weight: bold\">EOS-09 सैटेलाइट लॉन्च</span>: इसरो 18 मई को EOS-09 सैटेलाइट लॉन्च करने जा रहा है, जो भारत की रक्षा, आपदा प्रबंधन, और पर्यावरण मॉनिटरिंग क्षमताओं को   <span style=\"color: #000080; text-decoration-color: #000080\">┃</span>\n<span style=\"color: #000080; text-decoration-color: #000080\">┃</span> <span style=\"color: #808000; text-decoration-color: #808000; font-weight: bold\">   </span>उन्नत करेगा। इस सैटेलाइट में उन्नत रडार तकनीक का उपयोग होगा। <a href=\"https://www.indiatvnews.com/science/isro-set-to-launch-eos-09-satellite-a-key-milestone-in-indias-space-program-2025-05-17-990747\" target=\"_blank\"><span style=\"color: #000080; text-decoration-color: #000080; text-decoration: underline\">और पढ़ें</span></a>                                                          <span style=\"color: #000080; text-decoration-color: #000080\">┃</span>\n<span style=\"color: #000080; text-decoration-color: #000080\">┃</span> <span style=\"color: #808000; text-decoration-color: #808000; font-weight: bold\"> 2 </span><span style=\"font-weight: bold\">भारत के अंतरिक्ष स्टेशन के सपने</span>: अमेरिका की एक स्टार्टअप कंपनी भारत के इसरो के साथ साझेदारी करने और 2026 में उसके कक्षा में भेजने हेतु सीट की पेशकश कर <span style=\"color: #000080; text-decoration-color: #000080\">┃</span>\n<span style=\"color: #000080; text-decoration-color: #000080\">┃</span> <span style=\"color: #808000; text-decoration-color: #808000; font-weight: bold\">   </span>रही है। यह प्रस्ताव भारत के आगामी गगनयान क्रू वाहन के लिए एक वैकल्पिक विकल्प के रूप में भी देखा जा रहा है। <a href=\"https://www.msn.com/en-in/science/aeronautics/india-s-space-station-dreams-us-startup-eyes-isro-as-key-ally-offers-seat-aboard-its-2026-orbiting-lab/ar-AA1F05Pk\" target=\"_blank\"><span style=\"color: #000080; text-decoration-color: #000080; text-decoration: underline\">और पढ़ें</span></a>                           <span style=\"color: #000080; text-decoration-color: #000080\">┃</span>\n<span style=\"color: #000080; text-decoration-color: #000080\">┃</span> <span style=\"color: #808000; text-decoration-color: #808000; font-weight: bold\"> 3 </span><span style=\"font-weight: bold\">गगनयान मिशन की देरी</span>: भारत ने अपने पहले गगनयान अंतरिक्ष यात्री को 2027 तक लॉन्च करने की योजना बनाई है। इस मिशन के पहले कुछ अनक्रूड फ्लाइट टेस्ट  <span style=\"color: #000080; text-decoration-color: #000080\">┃</span>\n<span style=\"color: #000080; text-decoration-color: #000080\">┃</span> <span style=\"color: #808000; text-decoration-color: #808000; font-weight: bold\">   </span>इस साल के अंत में शुरू होने की उम्मीद है। <a href=\"https://www.yahoo.com/news/india-delays-1st-gaganyaan-astronaut-100000678.html\" target=\"_blank\"><span style=\"color: #000080; text-decoration-color: #000080; text-decoration: underline\">और पढ़ें</span></a>                                                                           <span style=\"color: #000080; text-decoration-color: #000080\">┃</span>\n<span style=\"color: #000080; text-decoration-color: #000080\">┃</span> <span style=\"color: #808000; text-decoration-color: #808000; font-weight: bold\"> 4 </span><span style=\"font-weight: bold\">दूसरा स्पेस मिशन</span>: 2025 का दूसरा मिशन एक पृथ्वी-अवलोकन रडार सैटेलाइट का लॉन्च होगा, जिसे 17 मई को लॉन्च किया जाएगा। <a href=\"https://www.space.com/space-exploration/launches-spacecraft/watch-india-launch-its-2nd-space-mission-of-the-year-tonight\" target=\"_blank\"><span style=\"color: #000080; text-decoration-color: #000080; text-decoration: underline\">और पढ़ें</span></a>                    <span style=\"color: #000080; text-decoration-color: #000080\">┃</span>\n<span style=\"color: #000080; text-decoration-color: #000080\">┃</span> <span style=\"color: #808000; text-decoration-color: #808000; font-weight: bold\"> 5 </span><span style=\"font-weight: bold\">सैटेलाइट लॉन्च असफल</span>: भारतीय अंतरिक्ष एजेंसी का एक रॉकेट पृथ्वी अवलोकन के लिए सैटेलाइट प्रक्षेपित करने में असफल रहा जब तीसरा चरण विफल हो गया। <a href=\"https://www.msn.com/en-us/news/world/indian-space-agencys-rocket-fails-to-deploy-satellite-for-earth-observation/ar-AA1F1anF\" target=\"_blank\"><span style=\"color: #000080; text-decoration-color: #000080; text-decoration: underline\">और पढ़ें</span></a> <span style=\"color: #000080; text-decoration-color: #000080\">┃</span>\n<span style=\"color: #000080; text-decoration-color: #000080\">┃</span>                                                                                                                 <span style=\"color: #000080; text-decoration-color: #000080\">┃</span>\n<span style=\"color: #000080; text-decoration-color: #000080\">┃</span> ये विकास दर्शाते हैं कि भारत के अंतरिक्ष कार्यक्रम में उत्साहजनक प्रगति हो रही है, हालांकि कुछ चुनौतियाँ भी बरकरार हैं।                                 <span style=\"color: #000080; text-decoration-color: #000080\">┃</span>\n<span style=\"color: #000080; text-decoration-color: #000080\">┃</span>                                                                                                                 <span style=\"color: #000080; text-decoration-color: #000080\">┃</span>\n<span style=\"color: #000080; text-decoration-color: #000080\">┗━━━━━━━━━━━━━━━━━━━━━━━━━━━━━━━━━━━━━━━━━━━━━━━━━━━━━━━━━━━━━━━━━━━━━━━━━━━━━━━━━━━━━━━━━━━━━━━━━━━━━━━━━━━━━━━━━┛</span>\n</pre>\n",
                  "text/plain": "\u001b[32m▰▱▱▱▱▱▱\u001b[0m Thinking...\n\u001b[36m┏━\u001b[0m\u001b[36m Message \u001b[0m\u001b[36m━━━━━━━━━━━━━━━━━━━━━━━━━━━━━━━━━━━━━━━━━━━━━━━━━━━━━━━━━━━━━━━━━━━━━━━━━━━━━━━━━━━━━━━━━━━━━━━━━━━━━━\u001b[0m\u001b[36m━┓\u001b[0m\n\u001b[36m┃\u001b[0m                                                                                                                 \u001b[36m┃\u001b[0m\n\u001b[36m┃\u001b[0m \u001b[32mWhat are the recent developments in India's space program in hindi?\u001b[0m                                             \u001b[36m┃\u001b[0m\n\u001b[36m┃\u001b[0m                                                                                                                 \u001b[36m┃\u001b[0m\n\u001b[36m┗━━━━━━━━━━━━━━━━━━━━━━━━━━━━━━━━━━━━━━━━━━━━━━━━━━━━━━━━━━━━━━━━━━━━━━━━━━━━━━━━━━━━━━━━━━━━━━━━━━━━━━━━━━━━━━━━━┛\u001b[0m\n\u001b[33m┏━\u001b[0m\u001b[33m Tool Calls \u001b[0m\u001b[33m━━━━━━━━━━━━━━━━━━━━━━━━━━━━━━━━━━━━━━━━━━━━━━━━━━━━━━━━━━━━━━━━━━━━━━━━━━━━━━━━━━━━━━━━━━━━━━━━━━━\u001b[0m\u001b[33m━┓\u001b[0m\n\u001b[33m┃\u001b[0m                                                                                                                 \u001b[33m┃\u001b[0m\n\u001b[33m┃\u001b[0m • duckduckgo_news(query=India space program recent developments, max_results=5)                                 \u001b[33m┃\u001b[0m\n\u001b[33m┃\u001b[0m                                                                                                                 \u001b[33m┃\u001b[0m\n\u001b[33m┗━━━━━━━━━━━━━━━━━━━━━━━━━━━━━━━━━━━━━━━━━━━━━━━━━━━━━━━━━━━━━━━━━━━━━━━━━━━━━━━━━━━━━━━━━━━━━━━━━━━━━━━━━━━━━━━━━┛\u001b[0m\n\u001b[34m┏━\u001b[0m\u001b[34m Response (20.8s) \u001b[0m\u001b[34m━━━━━━━━━━━━━━━━━━━━━━━━━━━━━━━━━━━━━━━━━━━━━━━━━━━━━━━━━━━━━━━━━━━━━━━━━━━━━━━━━━━━━━━━━━━━━\u001b[0m\u001b[34m━┓\u001b[0m\n\u001b[34m┃\u001b[0m                                                                                                                 \u001b[34m┃\u001b[0m\n\u001b[34m┃\u001b[0m यहाँ भारत के अंतरिक्ष कार्यक्रम में हाल के विकास की जानकारी दी गई है:                                                                 \u001b[34m┃\u001b[0m\n\u001b[34m┃\u001b[0m                                                                                                                 \u001b[34m┃\u001b[0m\n\u001b[34m┃\u001b[0m \u001b[1;33m 1 \u001b[0m\u001b[1mEOS-09 सैटेलाइट लॉन्च\u001b[0m: इसरो 18 मई को EOS-09 सैटेलाइट लॉन्च करने जा रहा है, जो भारत की रक्षा, आपदा प्रबंधन, और पर्यावरण मॉनिटरिंग क्षमताओं को   \u001b[34m┃\u001b[0m\n\u001b[34m┃\u001b[0m \u001b[1;33m   \u001b[0mउन्नत करेगा। इस सैटेलाइट में उन्नत रडार तकनीक का उपयोग होगा। \u001b]8;id=664525;https://www.indiatvnews.com/science/isro-set-to-launch-eos-09-satellite-a-key-milestone-in-indias-space-program-2025-05-17-990747\u001b\\\u001b[4;34mऔर पढ़ें\u001b[0m\u001b]8;;\u001b\\                                                          \u001b[34m┃\u001b[0m\n\u001b[34m┃\u001b[0m \u001b[1;33m 2 \u001b[0m\u001b[1mभारत के अंतरिक्ष स्टेशन के सपने\u001b[0m: अमेरिका की एक स्टार्टअप कंपनी भारत के इसरो के साथ साझेदारी करने और 2026 में उसके कक्षा में भेजने हेतु सीट की पेशकश कर \u001b[34m┃\u001b[0m\n\u001b[34m┃\u001b[0m \u001b[1;33m   \u001b[0mरही है। यह प्रस्ताव भारत के आगामी गगनयान क्रू वाहन के लिए एक वैकल्पिक विकल्प के रूप में भी देखा जा रहा है। \u001b]8;id=668075;https://www.msn.com/en-in/science/aeronautics/india-s-space-station-dreams-us-startup-eyes-isro-as-key-ally-offers-seat-aboard-its-2026-orbiting-lab/ar-AA1F05Pk\u001b\\\u001b[4;34mऔर पढ़ें\u001b[0m\u001b]8;;\u001b\\                           \u001b[34m┃\u001b[0m\n\u001b[34m┃\u001b[0m \u001b[1;33m 3 \u001b[0m\u001b[1mगगनयान मिशन की देरी\u001b[0m: भारत ने अपने पहले गगनयान अंतरिक्ष यात्री को 2027 तक लॉन्च करने की योजना बनाई है। इस मिशन के पहले कुछ अनक्रूड फ्लाइट टेस्ट  \u001b[34m┃\u001b[0m\n\u001b[34m┃\u001b[0m \u001b[1;33m   \u001b[0mइस साल के अंत में शुरू होने की उम्मीद है। \u001b]8;id=727317;https://www.yahoo.com/news/india-delays-1st-gaganyaan-astronaut-100000678.html\u001b\\\u001b[4;34mऔर पढ़ें\u001b[0m\u001b]8;;\u001b\\                                                                           \u001b[34m┃\u001b[0m\n\u001b[34m┃\u001b[0m \u001b[1;33m 4 \u001b[0m\u001b[1mदूसरा स्पेस मिशन\u001b[0m: 2025 का दूसरा मिशन एक पृथ्वी-अवलोकन रडार सैटेलाइट का लॉन्च होगा, जिसे 17 मई को लॉन्च किया जाएगा। \u001b]8;id=372171;https://www.space.com/space-exploration/launches-spacecraft/watch-india-launch-its-2nd-space-mission-of-the-year-tonight\u001b\\\u001b[4;34mऔर पढ़ें\u001b[0m\u001b]8;;\u001b\\                    \u001b[34m┃\u001b[0m\n\u001b[34m┃\u001b[0m \u001b[1;33m 5 \u001b[0m\u001b[1mसैटेलाइट लॉन्च असफल\u001b[0m: भारतीय अंतरिक्ष एजेंसी का एक रॉकेट पृथ्वी अवलोकन के लिए सैटेलाइट प्रक्षेपित करने में असफल रहा जब तीसरा चरण विफल हो गया। \u001b]8;id=753502;https://www.msn.com/en-us/news/world/indian-space-agencys-rocket-fails-to-deploy-satellite-for-earth-observation/ar-AA1F1anF\u001b\\\u001b[4;34mऔर पढ़ें\u001b[0m\u001b]8;;\u001b\\ \u001b[34m┃\u001b[0m\n\u001b[34m┃\u001b[0m                                                                                                                 \u001b[34m┃\u001b[0m\n\u001b[34m┃\u001b[0m ये विकास दर्शाते हैं कि भारत के अंतरिक्ष कार्यक्रम में उत्साहजनक प्रगति हो रही है, हालांकि कुछ चुनौतियाँ भी बरकरार हैं।                                 \u001b[34m┃\u001b[0m\n\u001b[34m┃\u001b[0m                                                                                                                 \u001b[34m┃\u001b[0m\n\u001b[34m┗━━━━━━━━━━━━━━━━━━━━━━━━━━━━━━━━━━━━━━━━━━━━━━━━━━━━━━━━━━━━━━━━━━━━━━━━━━━━━━━━━━━━━━━━━━━━━━━━━━━━━━━━━━━━━━━━━┛\u001b[0m\n"
                },
                "metadata": {},
                "output_type": "display_data"
              }
            ]
          }
        },
        "17955860ffac442db97e3fb3cf9cd5df": {
          "model_module": "@jupyter-widgets/base",
          "model_module_version": "1.2.0",
          "model_name": "LayoutModel",
          "state": {
            "_model_module": "@jupyter-widgets/base",
            "_model_module_version": "1.2.0",
            "_model_name": "LayoutModel",
            "_view_count": null,
            "_view_module": "@jupyter-widgets/base",
            "_view_module_version": "1.2.0",
            "_view_name": "LayoutView",
            "align_content": null,
            "align_items": null,
            "align_self": null,
            "border": null,
            "bottom": null,
            "display": null,
            "flex": null,
            "flex_flow": null,
            "grid_area": null,
            "grid_auto_columns": null,
            "grid_auto_flow": null,
            "grid_auto_rows": null,
            "grid_column": null,
            "grid_gap": null,
            "grid_row": null,
            "grid_template_areas": null,
            "grid_template_columns": null,
            "grid_template_rows": null,
            "height": null,
            "justify_content": null,
            "justify_items": null,
            "left": null,
            "margin": null,
            "max_height": null,
            "max_width": null,
            "min_height": null,
            "min_width": null,
            "object_fit": null,
            "object_position": null,
            "order": null,
            "overflow": null,
            "overflow_x": null,
            "overflow_y": null,
            "padding": null,
            "right": null,
            "top": null,
            "visibility": null,
            "width": null
          }
        },
        "59306ce17f58439fba5bd5eb7f2a8d27": {
          "model_module": "@jupyter-widgets/output",
          "model_module_version": "1.0.0",
          "model_name": "OutputModel",
          "state": {
            "_dom_classes": [],
            "_model_module": "@jupyter-widgets/output",
            "_model_module_version": "1.0.0",
            "_model_name": "OutputModel",
            "_view_count": null,
            "_view_module": "@jupyter-widgets/output",
            "_view_module_version": "1.0.0",
            "_view_name": "OutputView",
            "layout": "IPY_MODEL_cc3647cb1b3248e2a2f7b37e0328474e",
            "msg_id": "",
            "outputs": [
              {
                "data": {
                  "text/html": "<pre style=\"white-space:pre;overflow-x:auto;line-height:normal;font-family:Menlo,'DejaVu Sans Mono',consolas,'Courier New',monospace\"><span style=\"color: #008000; text-decoration-color: #008000\">▰▱▱▱▱▱▱</span> Thinking...\n<span style=\"color: #008080; text-decoration-color: #008080\">┏━ Message ━━━━━━━━━━━━━━━━━━━━━━━━━━━━━━━━━━━━━━━━━━━━━━━━━━━━━━━━━━━━━━━━━━━━━━━━━━━━━━━━━━━━━━━━━━━━━━━━━━━━━━━┓</span>\n<span style=\"color: #008080; text-decoration-color: #008080\">┃</span>                                                                                                                 <span style=\"color: #008080; text-decoration-color: #008080\">┃</span>\n<span style=\"color: #008080; text-decoration-color: #008080\">┃</span> <span style=\"color: #008000; text-decoration-color: #008000\">Analyze the impact of climate change on agricultural practices in India. What adaptations are farmers making?</span>   <span style=\"color: #008080; text-decoration-color: #008080\">┃</span>\n<span style=\"color: #008080; text-decoration-color: #008080\">┃</span>                                                                                                                 <span style=\"color: #008080; text-decoration-color: #008080\">┃</span>\n<span style=\"color: #008080; text-decoration-color: #008080\">┗━━━━━━━━━━━━━━━━━━━━━━━━━━━━━━━━━━━━━━━━━━━━━━━━━━━━━━━━━━━━━━━━━━━━━━━━━━━━━━━━━━━━━━━━━━━━━━━━━━━━━━━━━━━━━━━━━┛</span>\n<span style=\"color: #008000; text-decoration-color: #008000\">┏━ Reasoning step 1 ━━━━━━━━━━━━━━━━━━━━━━━━━━━━━━━━━━━━━━━━━━━━━━━━━━━━━━━━━━━━━━━━━━━━━━━━━━━━━━━━━━━━━━━━━━━━━━┓</span>\n<span style=\"color: #008000; text-decoration-color: #008000\">┃</span>                                                                                                                 <span style=\"color: #008000; text-decoration-color: #008000\">┃</span>\n<span style=\"color: #008000; text-decoration-color: #008000\">┃</span> <span style=\"font-weight: bold\">Understanding the Impact of Climate Change on Indian Agriculture</span>                                                <span style=\"color: #008000; text-decoration-color: #008000\">┃</span>\n<span style=\"color: #008000; text-decoration-color: #008000\">┃</span> <span style=\"color: #7f7f7f; text-decoration-color: #7f7f7f; font-weight: bold\">Action:</span><span style=\"color: #7f7f7f; text-decoration-color: #7f7f7f\"> Conduct a web search to gather recent information on adaptations by Indian farmers to climate change.</span>   <span style=\"color: #008000; text-decoration-color: #008000\">┃</span>\n<span style=\"color: #008000; text-decoration-color: #008000\">┃</span>                                                                                                                 <span style=\"color: #008000; text-decoration-color: #008000\">┃</span>\n<span style=\"color: #008000; text-decoration-color: #008000\">┃</span> <span style=\"color: #7f7f7f; text-decoration-color: #7f7f7f; font-weight: bold\">Reasoning:</span><span style=\"color: #7f7f7f; text-decoration-color: #7f7f7f\"> Climate change significantly impacts agriculture worldwide, including in India, where a large </span>       <span style=\"color: #008000; text-decoration-color: #008000\">┃</span>\n<span style=\"color: #008000; text-decoration-color: #008000\">┃</span> <span style=\"color: #7f7f7f; text-decoration-color: #7f7f7f\">portion of the population relies on farming for their livelihood. The key effects in India include changes in </span>  <span style=\"color: #008000; text-decoration-color: #008000\">┃</span>\n<span style=\"color: #008000; text-decoration-color: #008000\">┃</span> <span style=\"color: #7f7f7f; text-decoration-color: #7f7f7f\">precipitation patterns, increased frequency of extreme weather events, rising temperatures, and altered growing</span> <span style=\"color: #008000; text-decoration-color: #008000\">┃</span>\n<span style=\"color: #008000; text-decoration-color: #008000\">┃</span> <span style=\"color: #7f7f7f; text-decoration-color: #7f7f7f\">seasons. These changes affect crop yields, soil health, and water availability.</span>                                 <span style=\"color: #008000; text-decoration-color: #008000\">┃</span>\n<span style=\"color: #008000; text-decoration-color: #008000\">┃</span>                                                                                                                 <span style=\"color: #008000; text-decoration-color: #008000\">┃</span>\n<span style=\"color: #008000; text-decoration-color: #008000\">┃</span> <span style=\"color: #7f7f7f; text-decoration-color: #7f7f7f\">To fully understand the current adaptations Indian farmers are making, it's essential to look at how they have </span> <span style=\"color: #008000; text-decoration-color: #008000\">┃</span>\n<span style=\"color: #008000; text-decoration-color: #008000\">┃</span> <span style=\"color: #7f7f7f; text-decoration-color: #7f7f7f\">traditionally dealt with these challenges and what innovative practices are being implemented. This includes </span>   <span style=\"color: #008000; text-decoration-color: #008000\">┃</span>\n<span style=\"color: #008000; text-decoration-color: #008000\">┃</span> <span style=\"color: #7f7f7f; text-decoration-color: #7f7f7f\">water management techniques, crop diversification, adoption of resilient crop varieties, and changes in </span>        <span style=\"color: #008000; text-decoration-color: #008000\">┃</span>\n<span style=\"color: #008000; text-decoration-color: #008000\">┃</span> <span style=\"color: #7f7f7f; text-decoration-color: #7f7f7f\">planting schedules.</span>                                                                                             <span style=\"color: #008000; text-decoration-color: #008000\">┃</span>\n<span style=\"color: #008000; text-decoration-color: #008000\">┃</span>                                                                                                                 <span style=\"color: #008000; text-decoration-color: #008000\">┃</span>\n<span style=\"color: #008000; text-decoration-color: #008000\">┃</span> <span style=\"color: #7f7f7f; text-decoration-color: #7f7f7f\">I will conduct a search to explore recent articles or reports on this topic to gather current data and insights</span> <span style=\"color: #008000; text-decoration-color: #008000\">┃</span>\n<span style=\"color: #008000; text-decoration-color: #008000\">┃</span> <span style=\"color: #7f7f7f; text-decoration-color: #7f7f7f\">into the adaptations being made by Indian farmers due to climate change.</span>                                        <span style=\"color: #008000; text-decoration-color: #008000\">┃</span>\n<span style=\"color: #008000; text-decoration-color: #008000\">┃</span> <span style=\"color: #7f7f7f; text-decoration-color: #7f7f7f; font-weight: bold\">Confidence:</span><span style=\"color: #7f7f7f; text-decoration-color: #7f7f7f\"> 0.9</span>                                                                                                 <span style=\"color: #008000; text-decoration-color: #008000\">┃</span>\n<span style=\"color: #008000; text-decoration-color: #008000\">┃</span>                                                                                                                 <span style=\"color: #008000; text-decoration-color: #008000\">┃</span>\n<span style=\"color: #008000; text-decoration-color: #008000\">┗━━━━━━━━━━━━━━━━━━━━━━━━━━━━━━━━━━━━━━━━━━━━━━━━━━━━━━━━━━━━━━━━━━━━━━━━━━━━━━━━━━━━━━━━━━━━━━━━━━━━━━━━━━━━━━━━━┛</span>\n<span style=\"color: #008000; text-decoration-color: #008000\">┏━ Reasoning step 2 ━━━━━━━━━━━━━━━━━━━━━━━━━━━━━━━━━━━━━━━━━━━━━━━━━━━━━━━━━━━━━━━━━━━━━━━━━━━━━━━━━━━━━━━━━━━━━━┓</span>\n<span style=\"color: #008000; text-decoration-color: #008000\">┃</span>                                                                                                                 <span style=\"color: #008000; text-decoration-color: #008000\">┃</span>\n<span style=\"color: #008000; text-decoration-color: #008000\">┃</span> <span style=\"font-weight: bold\">Analyzing Search Results for Adaptations by Indian Farmers</span>                                                      <span style=\"color: #008000; text-decoration-color: #008000\">┃</span>\n<span style=\"color: #008000; text-decoration-color: #008000\">┃</span> <span style=\"color: #7f7f7f; text-decoration-color: #7f7f7f\">The search results provided several academic and review articles focusing on the impact of climate change on </span>   <span style=\"color: #008000; text-decoration-color: #008000\">┃</span>\n<span style=\"color: #008000; text-decoration-color: #008000\">┃</span> <span style=\"color: #7f7f7f; text-decoration-color: #7f7f7f\">Indian agriculture and the adaptations being made by farmers. Highlights include a systematic review of </span>        <span style=\"color: #008000; text-decoration-color: #008000\">┃</span>\n<span style=\"color: #008000; text-decoration-color: #008000\">┃</span> <span style=\"color: #7f7f7f; text-decoration-color: #7f7f7f\">adaptation strategies, insights into the vulnerability and adaptation among rural agricultural communities, and</span> <span style=\"color: #008000; text-decoration-color: #008000\">┃</span>\n<span style=\"color: #008000; text-decoration-color: #008000\">┃</span> <span style=\"color: #7f7f7f; text-decoration-color: #7f7f7f\">government initiatives to promote climate-smart practices.</span>                                                      <span style=\"color: #008000; text-decoration-color: #008000\">┃</span>\n<span style=\"color: #008000; text-decoration-color: #008000\">┃</span> <span style=\"color: #7f7f7f; text-decoration-color: #7f7f7f; font-weight: bold\">Reasoning:</span><span style=\"color: #7f7f7f; text-decoration-color: #7f7f7f\"> The information gathered from these articles indicates a robust academic and practical interest in </span>  <span style=\"color: #008000; text-decoration-color: #008000\">┃</span>\n<span style=\"color: #008000; text-decoration-color: #008000\">┃</span> <span style=\"color: #7f7f7f; text-decoration-color: #7f7f7f\">how Indian farmers are adapting to climate change. Current adaptations include the adoption of </span>                 <span style=\"color: #008000; text-decoration-color: #008000\">┃</span>\n<span style=\"color: #008000; text-decoration-color: #008000\">┃</span> <span style=\"color: #7f7f7f; text-decoration-color: #7f7f7f\">climate-resilient crops, improved water management practices, and government initiatives to support sustainable</span> <span style=\"color: #008000; text-decoration-color: #008000\">┃</span>\n<span style=\"color: #008000; text-decoration-color: #008000\">┃</span> <span style=\"color: #7f7f7f; text-decoration-color: #7f7f7f\">agricultural practices. These adaptations are aimed at mitigating the adverse effects of climate change, such </span>  <span style=\"color: #008000; text-decoration-color: #008000\">┃</span>\n<span style=\"color: #008000; text-decoration-color: #008000\">┃</span> <span style=\"color: #7f7f7f; text-decoration-color: #7f7f7f\">as unpredictable weather patterns and water scarcity.</span>                                                           <span style=\"color: #008000; text-decoration-color: #008000\">┃</span>\n<span style=\"color: #008000; text-decoration-color: #008000\">┃</span> <span style=\"color: #7f7f7f; text-decoration-color: #7f7f7f; font-weight: bold\">Confidence:</span><span style=\"color: #7f7f7f; text-decoration-color: #7f7f7f\"> 0.9</span>                                                                                                 <span style=\"color: #008000; text-decoration-color: #008000\">┃</span>\n<span style=\"color: #008000; text-decoration-color: #008000\">┃</span>                                                                                                                 <span style=\"color: #008000; text-decoration-color: #008000\">┃</span>\n<span style=\"color: #008000; text-decoration-color: #008000\">┗━━━━━━━━━━━━━━━━━━━━━━━━━━━━━━━━━━━━━━━━━━━━━━━━━━━━━━━━━━━━━━━━━━━━━━━━━━━━━━━━━━━━━━━━━━━━━━━━━━━━━━━━━━━━━━━━━┛</span>\n<span style=\"color: #808000; text-decoration-color: #808000\">┏━ Tool Calls ━━━━━━━━━━━━━━━━━━━━━━━━━━━━━━━━━━━━━━━━━━━━━━━━━━━━━━━━━━━━━━━━━━━━━━━━━━━━━━━━━━━━━━━━━━━━━━━━━━━━┓</span>\n<span style=\"color: #808000; text-decoration-color: #808000\">┃</span>                                                                                                                 <span style=\"color: #808000; text-decoration-color: #808000\">┃</span>\n<span style=\"color: #808000; text-decoration-color: #808000\">┃</span> • think(title=Understanding the Impact of Climate Change on Indian Agriculture, thought=Climate change          <span style=\"color: #808000; text-decoration-color: #808000\">┃</span>\n<span style=\"color: #808000; text-decoration-color: #808000\">┃</span> significantly impacts agriculture worldwide, including in India, where a large portion of the population relies <span style=\"color: #808000; text-decoration-color: #808000\">┃</span>\n<span style=\"color: #808000; text-decoration-color: #808000\">┃</span> on farming for their livelihood. The key effects in India include changes in precipitation patterns, increased  <span style=\"color: #808000; text-decoration-color: #808000\">┃</span>\n<span style=\"color: #808000; text-decoration-color: #808000\">┃</span> frequency of extreme weather events, rising temperatures, and altered growing seasons. These changes affect     <span style=\"color: #808000; text-decoration-color: #808000\">┃</span>\n<span style=\"color: #808000; text-decoration-color: #808000\">┃</span> crop yields, soil health, and water availability.                                                               <span style=\"color: #808000; text-decoration-color: #808000\">┃</span>\n<span style=\"color: #808000; text-decoration-color: #808000\">┃</span>                                                                                                                 <span style=\"color: #808000; text-decoration-color: #808000\">┃</span>\n<span style=\"color: #808000; text-decoration-color: #808000\">┃</span> To fully understand the current adaptations Indian farmers are making, it's essential to look at how they have  <span style=\"color: #808000; text-decoration-color: #808000\">┃</span>\n<span style=\"color: #808000; text-decoration-color: #808000\">┃</span> traditionally dealt with these challenges and what innovative practices are being implemented. This includes    <span style=\"color: #808000; text-decoration-color: #808000\">┃</span>\n<span style=\"color: #808000; text-decoration-color: #808000\">┃</span> water management techniques, crop diversification, adoption of resilient crop varieties, and changes in         <span style=\"color: #808000; text-decoration-color: #808000\">┃</span>\n<span style=\"color: #808000; text-decoration-color: #808000\">┃</span> planting schedules.                                                                                             <span style=\"color: #808000; text-decoration-color: #808000\">┃</span>\n<span style=\"color: #808000; text-decoration-color: #808000\">┃</span>                                                                                                                 <span style=\"color: #808000; text-decoration-color: #808000\">┃</span>\n<span style=\"color: #808000; text-decoration-color: #808000\">┃</span> I will conduct a search to explore recent articles or reports on this topic to gather current data and insights <span style=\"color: #808000; text-decoration-color: #808000\">┃</span>\n<span style=\"color: #808000; text-decoration-color: #808000\">┃</span> into the adaptations being made by Indian farmers due to climate change., action=Conduct a web search to gather <span style=\"color: #808000; text-decoration-color: #808000\">┃</span>\n<span style=\"color: #808000; text-decoration-color: #808000\">┃</span> recent information on adaptations by Indian farmers to climate change., confidence=0.9)                         <span style=\"color: #808000; text-decoration-color: #808000\">┃</span>\n<span style=\"color: #808000; text-decoration-color: #808000\">┃</span> • duckduckgo_search(query=impact of climate change on agriculture in India adaptations by farmers,              <span style=\"color: #808000; text-decoration-color: #808000\">┃</span>\n<span style=\"color: #808000; text-decoration-color: #808000\">┃</span> max_results=5)                                                                                                  <span style=\"color: #808000; text-decoration-color: #808000\">┃</span>\n<span style=\"color: #808000; text-decoration-color: #808000\">┃</span> • analyze(title=Analyzing Search Results for Adaptations by Indian Farmers, result=The search results provided  <span style=\"color: #808000; text-decoration-color: #808000\">┃</span>\n<span style=\"color: #808000; text-decoration-color: #808000\">┃</span> several academic and review articles focusing on the impact of climate change on Indian agriculture and the     <span style=\"color: #808000; text-decoration-color: #808000\">┃</span>\n<span style=\"color: #808000; text-decoration-color: #808000\">┃</span> adaptations being made by farmers. Highlights include a systematic review of adaptation strategies, insights    <span style=\"color: #808000; text-decoration-color: #808000\">┃</span>\n<span style=\"color: #808000; text-decoration-color: #808000\">┃</span> into the vulnerability and adaptation among rural agricultural communities, and government initiatives to       <span style=\"color: #808000; text-decoration-color: #808000\">┃</span>\n<span style=\"color: #808000; text-decoration-color: #808000\">┃</span> promote climate-smart practices., analysis=The information gathered from these articles indicates a robust      <span style=\"color: #808000; text-decoration-color: #808000\">┃</span>\n<span style=\"color: #808000; text-decoration-color: #808000\">┃</span> academic and practical interest in how Indian farmers are adapting to climate change. Current adaptations       <span style=\"color: #808000; text-decoration-color: #808000\">┃</span>\n<span style=\"color: #808000; text-decoration-color: #808000\">┃</span> include the adoption of climate-resilient crops, improved water management practices, and government            <span style=\"color: #808000; text-decoration-color: #808000\">┃</span>\n<span style=\"color: #808000; text-decoration-color: #808000\">┃</span> initiatives to support sustainable agricultural practices. These adaptations are aimed at mitigating the        <span style=\"color: #808000; text-decoration-color: #808000\">┃</span>\n<span style=\"color: #808000; text-decoration-color: #808000\">┃</span> adverse effects of climate change, such as unpredictable weather patterns and water scarcity.,                  <span style=\"color: #808000; text-decoration-color: #808000\">┃</span>\n<span style=\"color: #808000; text-decoration-color: #808000\">┃</span> next_action=final_answer, confidence=0.9)                                                                       <span style=\"color: #808000; text-decoration-color: #808000\">┃</span>\n<span style=\"color: #808000; text-decoration-color: #808000\">┃</span>                                                                                                                 <span style=\"color: #808000; text-decoration-color: #808000\">┃</span>\n<span style=\"color: #808000; text-decoration-color: #808000\">┗━━━━━━━━━━━━━━━━━━━━━━━━━━━━━━━━━━━━━━━━━━━━━━━━━━━━━━━━━━━━━━━━━━━━━━━━━━━━━━━━━━━━━━━━━━━━━━━━━━━━━━━━━━━━━━━━━┛</span>\n<span style=\"color: #000080; text-decoration-color: #000080\">┏━ Response (20.9s) ━━━━━━━━━━━━━━━━━━━━━━━━━━━━━━━━━━━━━━━━━━━━━━━━━━━━━━━━━━━━━━━━━━━━━━━━━━━━━━━━━━━━━━━━━━━━━━┓</span>\n<span style=\"color: #000080; text-decoration-color: #000080\">┃</span>                                                                                                                 <span style=\"color: #000080; text-decoration-color: #000080\">┃</span>\n<span style=\"color: #000080; text-decoration-color: #000080\">┃</span> Climate change has been exerting significant pressure on agricultural practices in India, impacting crop        <span style=\"color: #000080; text-decoration-color: #000080\">┃</span>\n<span style=\"color: #000080; text-decoration-color: #000080\">┃</span> yields, water availability, and overall farm productivity. In response, Indian farmers are adopting various     <span style=\"color: #000080; text-decoration-color: #000080\">┃</span>\n<span style=\"color: #000080; text-decoration-color: #000080\">┃</span> adaptation strategies to mitigate these effects:                                                                <span style=\"color: #000080; text-decoration-color: #000080\">┃</span>\n<span style=\"color: #000080; text-decoration-color: #000080\">┃</span>                                                                                                                 <span style=\"color: #000080; text-decoration-color: #000080\">┃</span>\n<span style=\"color: #000080; text-decoration-color: #000080\">┃</span> <span style=\"color: #808000; text-decoration-color: #808000; font-weight: bold\"> 1 </span><span style=\"font-weight: bold\">Climate-Resilient Crops</span>: Farmers are increasingly planting crop varieties that are more resistant to climate <span style=\"color: #000080; text-decoration-color: #000080\">┃</span>\n<span style=\"color: #000080; text-decoration-color: #000080\">┃</span> <span style=\"color: #808000; text-decoration-color: #808000; font-weight: bold\">   </span>stresses such as droughts and floods. These crops are developed to thrive under less predictable weather     <span style=\"color: #000080; text-decoration-color: #000080\">┃</span>\n<span style=\"color: #000080; text-decoration-color: #000080\">┃</span> <span style=\"color: #808000; text-decoration-color: #808000; font-weight: bold\">   </span>conditions.                                                                                                  <span style=\"color: #000080; text-decoration-color: #000080\">┃</span>\n<span style=\"color: #000080; text-decoration-color: #000080\">┃</span> <span style=\"color: #808000; text-decoration-color: #808000; font-weight: bold\"> 2 </span><span style=\"font-weight: bold\">Water Management Techniques</span>: Efficient irrigation methods, rainwater harvesting, and the use of              <span style=\"color: #000080; text-decoration-color: #000080\">┃</span>\n<span style=\"color: #000080; text-decoration-color: #000080\">┃</span> <span style=\"color: #808000; text-decoration-color: #808000; font-weight: bold\">   </span>micro-irrigation systems like drip and sprinkler systems are becoming more widespread to conserve water and  <span style=\"color: #000080; text-decoration-color: #000080\">┃</span>\n<span style=\"color: #000080; text-decoration-color: #000080\">┃</span> <span style=\"color: #808000; text-decoration-color: #808000; font-weight: bold\">   </span>ensure its optimal use.                                                                                      <span style=\"color: #000080; text-decoration-color: #000080\">┃</span>\n<span style=\"color: #000080; text-decoration-color: #000080\">┃</span> <span style=\"color: #808000; text-decoration-color: #808000; font-weight: bold\"> 3 </span><span style=\"font-weight: bold\">Diversification of Crops</span>: Many farmers are diversifying their crops to reduce dependency on a single type of <span style=\"color: #000080; text-decoration-color: #000080\">┃</span>\n<span style=\"color: #000080; text-decoration-color: #000080\">┃</span> <span style=\"color: #808000; text-decoration-color: #808000; font-weight: bold\">   </span>crop. This diversification helps spread risk and can improve overall resilience to climate variability.      <span style=\"color: #000080; text-decoration-color: #000080\">┃</span>\n<span style=\"color: #000080; text-decoration-color: #000080\">┃</span> <span style=\"color: #808000; text-decoration-color: #808000; font-weight: bold\"> 4 </span><span style=\"font-weight: bold\">Government Initiatives</span>: The Indian government is implementing policies and programs that promote sustainable <span style=\"color: #000080; text-decoration-color: #000080\">┃</span>\n<span style=\"color: #000080; text-decoration-color: #000080\">┃</span> <span style=\"color: #808000; text-decoration-color: #808000; font-weight: bold\">   </span>agricultural practices, provide financial support for adaptation technologies, and offer training to enhance <span style=\"color: #000080; text-decoration-color: #000080\">┃</span>\n<span style=\"color: #000080; text-decoration-color: #000080\">┃</span> <span style=\"color: #808000; text-decoration-color: #808000; font-weight: bold\">   </span>farmers' knowledge about climate-smart practices.                                                            <span style=\"color: #000080; text-decoration-color: #000080\">┃</span>\n<span style=\"color: #000080; text-decoration-color: #000080\">┃</span> <span style=\"color: #808000; text-decoration-color: #808000; font-weight: bold\"> 5 </span><span style=\"font-weight: bold\">Altered Planting Schedules</span>: Adjusting planting and harvesting schedules to align better with the changing    <span style=\"color: #000080; text-decoration-color: #000080\">┃</span>\n<span style=\"color: #000080; text-decoration-color: #000080\">┃</span> <span style=\"color: #808000; text-decoration-color: #808000; font-weight: bold\">   </span>patterns of rainfall and temperature is another strategy being employed.                                     <span style=\"color: #000080; text-decoration-color: #000080\">┃</span>\n<span style=\"color: #000080; text-decoration-color: #000080\">┃</span>                                                                                                                 <span style=\"color: #000080; text-decoration-color: #000080\">┃</span>\n<span style=\"color: #000080; text-decoration-color: #000080\">┃</span> These adaptations aim to enhance the sustainability and resilience of Indian agriculture in the face of ongoing <span style=\"color: #000080; text-decoration-color: #000080\">┃</span>\n<span style=\"color: #000080; text-decoration-color: #000080\">┃</span> climate challenges.                                                                                             <span style=\"color: #000080; text-decoration-color: #000080\">┃</span>\n<span style=\"color: #000080; text-decoration-color: #000080\">┃</span>                                                                                                                 <span style=\"color: #000080; text-decoration-color: #000080\">┃</span>\n<span style=\"color: #000080; text-decoration-color: #000080\">┗━━━━━━━━━━━━━━━━━━━━━━━━━━━━━━━━━━━━━━━━━━━━━━━━━━━━━━━━━━━━━━━━━━━━━━━━━━━━━━━━━━━━━━━━━━━━━━━━━━━━━━━━━━━━━━━━━┛</span>\n</pre>\n",
                  "text/plain": "\u001b[32m▰▱▱▱▱▱▱\u001b[0m Thinking...\n\u001b[36m┏━\u001b[0m\u001b[36m Message \u001b[0m\u001b[36m━━━━━━━━━━━━━━━━━━━━━━━━━━━━━━━━━━━━━━━━━━━━━━━━━━━━━━━━━━━━━━━━━━━━━━━━━━━━━━━━━━━━━━━━━━━━━━━━━━━━━━\u001b[0m\u001b[36m━┓\u001b[0m\n\u001b[36m┃\u001b[0m                                                                                                                 \u001b[36m┃\u001b[0m\n\u001b[36m┃\u001b[0m \u001b[32mAnalyze the impact of climate change on agricultural practices in India. What adaptations are farmers making?\u001b[0m   \u001b[36m┃\u001b[0m\n\u001b[36m┃\u001b[0m                                                                                                                 \u001b[36m┃\u001b[0m\n\u001b[36m┗━━━━━━━━━━━━━━━━━━━━━━━━━━━━━━━━━━━━━━━━━━━━━━━━━━━━━━━━━━━━━━━━━━━━━━━━━━━━━━━━━━━━━━━━━━━━━━━━━━━━━━━━━━━━━━━━━┛\u001b[0m\n\u001b[32m┏━\u001b[0m\u001b[32m Reasoning step 1 \u001b[0m\u001b[32m━━━━━━━━━━━━━━━━━━━━━━━━━━━━━━━━━━━━━━━━━━━━━━━━━━━━━━━━━━━━━━━━━━━━━━━━━━━━━━━━━━━━━━━━━━━━━\u001b[0m\u001b[32m━┓\u001b[0m\n\u001b[32m┃\u001b[0m                                                                                                                 \u001b[32m┃\u001b[0m\n\u001b[32m┃\u001b[0m \u001b[1mUnderstanding the Impact of Climate Change on Indian Agriculture\u001b[0m                                                \u001b[32m┃\u001b[0m\n\u001b[32m┃\u001b[0m \u001b[1;2mAction:\u001b[0m\u001b[2m Conduct a web search to gather recent information on adaptations by Indian farmers to climate change.\u001b[0m   \u001b[32m┃\u001b[0m\n\u001b[32m┃\u001b[0m                                                                                                                 \u001b[32m┃\u001b[0m\n\u001b[32m┃\u001b[0m \u001b[1;2mReasoning:\u001b[0m\u001b[2m Climate change significantly impacts agriculture worldwide, including in India, where a large \u001b[0m       \u001b[32m┃\u001b[0m\n\u001b[32m┃\u001b[0m \u001b[2mportion of the population relies on farming for their livelihood. The key effects in India include changes in \u001b[0m  \u001b[32m┃\u001b[0m\n\u001b[32m┃\u001b[0m \u001b[2mprecipitation patterns, increased frequency of extreme weather events, rising temperatures, and altered growing\u001b[0m \u001b[32m┃\u001b[0m\n\u001b[32m┃\u001b[0m \u001b[2mseasons. These changes affect crop yields, soil health, and water availability.\u001b[0m                                 \u001b[32m┃\u001b[0m\n\u001b[32m┃\u001b[0m                                                                                                                 \u001b[32m┃\u001b[0m\n\u001b[32m┃\u001b[0m \u001b[2mTo fully understand the current adaptations Indian farmers are making, it's essential to look at how they have \u001b[0m \u001b[32m┃\u001b[0m\n\u001b[32m┃\u001b[0m \u001b[2mtraditionally dealt with these challenges and what innovative practices are being implemented. This includes \u001b[0m   \u001b[32m┃\u001b[0m\n\u001b[32m┃\u001b[0m \u001b[2mwater management techniques, crop diversification, adoption of resilient crop varieties, and changes in \u001b[0m        \u001b[32m┃\u001b[0m\n\u001b[32m┃\u001b[0m \u001b[2mplanting schedules.\u001b[0m                                                                                             \u001b[32m┃\u001b[0m\n\u001b[32m┃\u001b[0m                                                                                                                 \u001b[32m┃\u001b[0m\n\u001b[32m┃\u001b[0m \u001b[2mI will conduct a search to explore recent articles or reports on this topic to gather current data and insights\u001b[0m \u001b[32m┃\u001b[0m\n\u001b[32m┃\u001b[0m \u001b[2minto the adaptations being made by Indian farmers due to climate change.\u001b[0m                                        \u001b[32m┃\u001b[0m\n\u001b[32m┃\u001b[0m \u001b[1;2mConfidence:\u001b[0m\u001b[2m 0.9\u001b[0m                                                                                                 \u001b[32m┃\u001b[0m\n\u001b[32m┃\u001b[0m                                                                                                                 \u001b[32m┃\u001b[0m\n\u001b[32m┗━━━━━━━━━━━━━━━━━━━━━━━━━━━━━━━━━━━━━━━━━━━━━━━━━━━━━━━━━━━━━━━━━━━━━━━━━━━━━━━━━━━━━━━━━━━━━━━━━━━━━━━━━━━━━━━━━┛\u001b[0m\n\u001b[32m┏━\u001b[0m\u001b[32m Reasoning step 2 \u001b[0m\u001b[32m━━━━━━━━━━━━━━━━━━━━━━━━━━━━━━━━━━━━━━━━━━━━━━━━━━━━━━━━━━━━━━━━━━━━━━━━━━━━━━━━━━━━━━━━━━━━━\u001b[0m\u001b[32m━┓\u001b[0m\n\u001b[32m┃\u001b[0m                                                                                                                 \u001b[32m┃\u001b[0m\n\u001b[32m┃\u001b[0m \u001b[1mAnalyzing Search Results for Adaptations by Indian Farmers\u001b[0m                                                      \u001b[32m┃\u001b[0m\n\u001b[32m┃\u001b[0m \u001b[2mThe search results provided several academic and review articles focusing on the impact of climate change on \u001b[0m   \u001b[32m┃\u001b[0m\n\u001b[32m┃\u001b[0m \u001b[2mIndian agriculture and the adaptations being made by farmers. Highlights include a systematic review of \u001b[0m        \u001b[32m┃\u001b[0m\n\u001b[32m┃\u001b[0m \u001b[2madaptation strategies, insights into the vulnerability and adaptation among rural agricultural communities, and\u001b[0m \u001b[32m┃\u001b[0m\n\u001b[32m┃\u001b[0m \u001b[2mgovernment initiatives to promote climate-smart practices.\u001b[0m                                                      \u001b[32m┃\u001b[0m\n\u001b[32m┃\u001b[0m \u001b[1;2mReasoning:\u001b[0m\u001b[2m The information gathered from these articles indicates a robust academic and practical interest in \u001b[0m  \u001b[32m┃\u001b[0m\n\u001b[32m┃\u001b[0m \u001b[2mhow Indian farmers are adapting to climate change. Current adaptations include the adoption of \u001b[0m                 \u001b[32m┃\u001b[0m\n\u001b[32m┃\u001b[0m \u001b[2mclimate-resilient crops, improved water management practices, and government initiatives to support sustainable\u001b[0m \u001b[32m┃\u001b[0m\n\u001b[32m┃\u001b[0m \u001b[2magricultural practices. These adaptations are aimed at mitigating the adverse effects of climate change, such \u001b[0m  \u001b[32m┃\u001b[0m\n\u001b[32m┃\u001b[0m \u001b[2mas unpredictable weather patterns and water scarcity.\u001b[0m                                                           \u001b[32m┃\u001b[0m\n\u001b[32m┃\u001b[0m \u001b[1;2mConfidence:\u001b[0m\u001b[2m 0.9\u001b[0m                                                                                                 \u001b[32m┃\u001b[0m\n\u001b[32m┃\u001b[0m                                                                                                                 \u001b[32m┃\u001b[0m\n\u001b[32m┗━━━━━━━━━━━━━━━━━━━━━━━━━━━━━━━━━━━━━━━━━━━━━━━━━━━━━━━━━━━━━━━━━━━━━━━━━━━━━━━━━━━━━━━━━━━━━━━━━━━━━━━━━━━━━━━━━┛\u001b[0m\n\u001b[33m┏━\u001b[0m\u001b[33m Tool Calls \u001b[0m\u001b[33m━━━━━━━━━━━━━━━━━━━━━━━━━━━━━━━━━━━━━━━━━━━━━━━━━━━━━━━━━━━━━━━━━━━━━━━━━━━━━━━━━━━━━━━━━━━━━━━━━━━\u001b[0m\u001b[33m━┓\u001b[0m\n\u001b[33m┃\u001b[0m                                                                                                                 \u001b[33m┃\u001b[0m\n\u001b[33m┃\u001b[0m • think(title=Understanding the Impact of Climate Change on Indian Agriculture, thought=Climate change          \u001b[33m┃\u001b[0m\n\u001b[33m┃\u001b[0m significantly impacts agriculture worldwide, including in India, where a large portion of the population relies \u001b[33m┃\u001b[0m\n\u001b[33m┃\u001b[0m on farming for their livelihood. The key effects in India include changes in precipitation patterns, increased  \u001b[33m┃\u001b[0m\n\u001b[33m┃\u001b[0m frequency of extreme weather events, rising temperatures, and altered growing seasons. These changes affect     \u001b[33m┃\u001b[0m\n\u001b[33m┃\u001b[0m crop yields, soil health, and water availability.                                                               \u001b[33m┃\u001b[0m\n\u001b[33m┃\u001b[0m                                                                                                                 \u001b[33m┃\u001b[0m\n\u001b[33m┃\u001b[0m To fully understand the current adaptations Indian farmers are making, it's essential to look at how they have  \u001b[33m┃\u001b[0m\n\u001b[33m┃\u001b[0m traditionally dealt with these challenges and what innovative practices are being implemented. This includes    \u001b[33m┃\u001b[0m\n\u001b[33m┃\u001b[0m water management techniques, crop diversification, adoption of resilient crop varieties, and changes in         \u001b[33m┃\u001b[0m\n\u001b[33m┃\u001b[0m planting schedules.                                                                                             \u001b[33m┃\u001b[0m\n\u001b[33m┃\u001b[0m                                                                                                                 \u001b[33m┃\u001b[0m\n\u001b[33m┃\u001b[0m I will conduct a search to explore recent articles or reports on this topic to gather current data and insights \u001b[33m┃\u001b[0m\n\u001b[33m┃\u001b[0m into the adaptations being made by Indian farmers due to climate change., action=Conduct a web search to gather \u001b[33m┃\u001b[0m\n\u001b[33m┃\u001b[0m recent information on adaptations by Indian farmers to climate change., confidence=0.9)                         \u001b[33m┃\u001b[0m\n\u001b[33m┃\u001b[0m • duckduckgo_search(query=impact of climate change on agriculture in India adaptations by farmers,              \u001b[33m┃\u001b[0m\n\u001b[33m┃\u001b[0m max_results=5)                                                                                                  \u001b[33m┃\u001b[0m\n\u001b[33m┃\u001b[0m • analyze(title=Analyzing Search Results for Adaptations by Indian Farmers, result=The search results provided  \u001b[33m┃\u001b[0m\n\u001b[33m┃\u001b[0m several academic and review articles focusing on the impact of climate change on Indian agriculture and the     \u001b[33m┃\u001b[0m\n\u001b[33m┃\u001b[0m adaptations being made by farmers. Highlights include a systematic review of adaptation strategies, insights    \u001b[33m┃\u001b[0m\n\u001b[33m┃\u001b[0m into the vulnerability and adaptation among rural agricultural communities, and government initiatives to       \u001b[33m┃\u001b[0m\n\u001b[33m┃\u001b[0m promote climate-smart practices., analysis=The information gathered from these articles indicates a robust      \u001b[33m┃\u001b[0m\n\u001b[33m┃\u001b[0m academic and practical interest in how Indian farmers are adapting to climate change. Current adaptations       \u001b[33m┃\u001b[0m\n\u001b[33m┃\u001b[0m include the adoption of climate-resilient crops, improved water management practices, and government            \u001b[33m┃\u001b[0m\n\u001b[33m┃\u001b[0m initiatives to support sustainable agricultural practices. These adaptations are aimed at mitigating the        \u001b[33m┃\u001b[0m\n\u001b[33m┃\u001b[0m adverse effects of climate change, such as unpredictable weather patterns and water scarcity.,                  \u001b[33m┃\u001b[0m\n\u001b[33m┃\u001b[0m next_action=final_answer, confidence=0.9)                                                                       \u001b[33m┃\u001b[0m\n\u001b[33m┃\u001b[0m                                                                                                                 \u001b[33m┃\u001b[0m\n\u001b[33m┗━━━━━━━━━━━━━━━━━━━━━━━━━━━━━━━━━━━━━━━━━━━━━━━━━━━━━━━━━━━━━━━━━━━━━━━━━━━━━━━━━━━━━━━━━━━━━━━━━━━━━━━━━━━━━━━━━┛\u001b[0m\n\u001b[34m┏━\u001b[0m\u001b[34m Response (20.9s) \u001b[0m\u001b[34m━━━━━━━━━━━━━━━━━━━━━━━━━━━━━━━━━━━━━━━━━━━━━━━━━━━━━━━━━━━━━━━━━━━━━━━━━━━━━━━━━━━━━━━━━━━━━\u001b[0m\u001b[34m━┓\u001b[0m\n\u001b[34m┃\u001b[0m                                                                                                                 \u001b[34m┃\u001b[0m\n\u001b[34m┃\u001b[0m Climate change has been exerting significant pressure on agricultural practices in India, impacting crop        \u001b[34m┃\u001b[0m\n\u001b[34m┃\u001b[0m yields, water availability, and overall farm productivity. In response, Indian farmers are adopting various     \u001b[34m┃\u001b[0m\n\u001b[34m┃\u001b[0m adaptation strategies to mitigate these effects:                                                                \u001b[34m┃\u001b[0m\n\u001b[34m┃\u001b[0m                                                                                                                 \u001b[34m┃\u001b[0m\n\u001b[34m┃\u001b[0m \u001b[1;33m 1 \u001b[0m\u001b[1mClimate-Resilient Crops\u001b[0m: Farmers are increasingly planting crop varieties that are more resistant to climate \u001b[34m┃\u001b[0m\n\u001b[34m┃\u001b[0m \u001b[1;33m   \u001b[0mstresses such as droughts and floods. These crops are developed to thrive under less predictable weather     \u001b[34m┃\u001b[0m\n\u001b[34m┃\u001b[0m \u001b[1;33m   \u001b[0mconditions.                                                                                                  \u001b[34m┃\u001b[0m\n\u001b[34m┃\u001b[0m \u001b[1;33m 2 \u001b[0m\u001b[1mWater Management Techniques\u001b[0m: Efficient irrigation methods, rainwater harvesting, and the use of              \u001b[34m┃\u001b[0m\n\u001b[34m┃\u001b[0m \u001b[1;33m   \u001b[0mmicro-irrigation systems like drip and sprinkler systems are becoming more widespread to conserve water and  \u001b[34m┃\u001b[0m\n\u001b[34m┃\u001b[0m \u001b[1;33m   \u001b[0mensure its optimal use.                                                                                      \u001b[34m┃\u001b[0m\n\u001b[34m┃\u001b[0m \u001b[1;33m 3 \u001b[0m\u001b[1mDiversification of Crops\u001b[0m: Many farmers are diversifying their crops to reduce dependency on a single type of \u001b[34m┃\u001b[0m\n\u001b[34m┃\u001b[0m \u001b[1;33m   \u001b[0mcrop. This diversification helps spread risk and can improve overall resilience to climate variability.      \u001b[34m┃\u001b[0m\n\u001b[34m┃\u001b[0m \u001b[1;33m 4 \u001b[0m\u001b[1mGovernment Initiatives\u001b[0m: The Indian government is implementing policies and programs that promote sustainable \u001b[34m┃\u001b[0m\n\u001b[34m┃\u001b[0m \u001b[1;33m   \u001b[0magricultural practices, provide financial support for adaptation technologies, and offer training to enhance \u001b[34m┃\u001b[0m\n\u001b[34m┃\u001b[0m \u001b[1;33m   \u001b[0mfarmers' knowledge about climate-smart practices.                                                            \u001b[34m┃\u001b[0m\n\u001b[34m┃\u001b[0m \u001b[1;33m 5 \u001b[0m\u001b[1mAltered Planting Schedules\u001b[0m: Adjusting planting and harvesting schedules to align better with the changing    \u001b[34m┃\u001b[0m\n\u001b[34m┃\u001b[0m \u001b[1;33m   \u001b[0mpatterns of rainfall and temperature is another strategy being employed.                                     \u001b[34m┃\u001b[0m\n\u001b[34m┃\u001b[0m                                                                                                                 \u001b[34m┃\u001b[0m\n\u001b[34m┃\u001b[0m These adaptations aim to enhance the sustainability and resilience of Indian agriculture in the face of ongoing \u001b[34m┃\u001b[0m\n\u001b[34m┃\u001b[0m climate challenges.                                                                                             \u001b[34m┃\u001b[0m\n\u001b[34m┃\u001b[0m                                                                                                                 \u001b[34m┃\u001b[0m\n\u001b[34m┗━━━━━━━━━━━━━━━━━━━━━━━━━━━━━━━━━━━━━━━━━━━━━━━━━━━━━━━━━━━━━━━━━━━━━━━━━━━━━━━━━━━━━━━━━━━━━━━━━━━━━━━━━━━━━━━━━┛\u001b[0m\n"
                },
                "metadata": {},
                "output_type": "display_data"
              }
            ]
          }
        },
        "7f8c90d02c794ebdb04144ab72db9b07": {
          "model_module": "@jupyter-widgets/output",
          "model_module_version": "1.0.0",
          "model_name": "OutputModel",
          "state": {
            "_dom_classes": [],
            "_model_module": "@jupyter-widgets/output",
            "_model_module_version": "1.0.0",
            "_model_name": "OutputModel",
            "_view_count": null,
            "_view_module": "@jupyter-widgets/output",
            "_view_module_version": "1.0.0",
            "_view_name": "OutputView",
            "layout": "IPY_MODEL_17955860ffac442db97e3fb3cf9cd5df",
            "msg_id": "",
            "outputs": [
              {
                "data": {
                  "text/html": "<pre style=\"white-space:pre;overflow-x:auto;line-height:normal;font-family:Menlo,'DejaVu Sans Mono',consolas,'Courier New',monospace\"><span style=\"color: #008000; text-decoration-color: #008000\">▰▱▱▱▱▱▱</span> Thinking...\n<span style=\"color: #008080; text-decoration-color: #008080\">┏━ Message ━━━━━━━━━━━━━━━━━━━━━━━━━━━━━━━━━━━━━━━━━━━━━━━━━━━━━━━━━━━━━━━━━━━━━━━━━━━━━━━━━━━━━━━━━━━━━━━━━━━━━━━┓</span>\n<span style=\"color: #008080; text-decoration-color: #008080\">┃</span>                                                                                                                 <span style=\"color: #008080; text-decoration-color: #008080\">┃</span>\n<span style=\"color: #008080; text-decoration-color: #008080\">┃</span> <span style=\"color: #008000; text-decoration-color: #008000\">Tell me about the history of yoga in India.</span>                                                                     <span style=\"color: #008080; text-decoration-color: #008080\">┃</span>\n<span style=\"color: #008080; text-decoration-color: #008080\">┃</span>                                                                                                                 <span style=\"color: #008080; text-decoration-color: #008080\">┃</span>\n<span style=\"color: #008080; text-decoration-color: #008080\">┗━━━━━━━━━━━━━━━━━━━━━━━━━━━━━━━━━━━━━━━━━━━━━━━━━━━━━━━━━━━━━━━━━━━━━━━━━━━━━━━━━━━━━━━━━━━━━━━━━━━━━━━━━━━━━━━━━┛</span>\n<span style=\"color: #000080; text-decoration-color: #000080\">┏━ Response (25.5s) ━━━━━━━━━━━━━━━━━━━━━━━━━━━━━━━━━━━━━━━━━━━━━━━━━━━━━━━━━━━━━━━━━━━━━━━━━━━━━━━━━━━━━━━━━━━━━━┓</span>\n<span style=\"color: #000080; text-decoration-color: #000080\">┃</span>                                                                                                                 <span style=\"color: #000080; text-decoration-color: #000080\">┃</span>\n<span style=\"color: #000080; text-decoration-color: #000080\">┃</span> The history of yoga in India is deep and multifaceted, stretching back thousands of years. Here is an overview  <span style=\"color: #000080; text-decoration-color: #000080\">┃</span>\n<span style=\"color: #000080; text-decoration-color: #000080\">┃</span> of its evolution through various eras:                                                                          <span style=\"color: #000080; text-decoration-color: #000080\">┃</span>\n<span style=\"color: #000080; text-decoration-color: #000080\">┃</span>                                                                                                                 <span style=\"color: #000080; text-decoration-color: #000080\">┃</span>\n<span style=\"color: #000080; text-decoration-color: #000080\">┃</span>                              <span style=\"font-weight: bold\">Prehistoric and Vedic Period (c. 3000 BCE - 800 BCE)</span>                               <span style=\"color: #000080; text-decoration-color: #000080\">┃</span>\n<span style=\"color: #000080; text-decoration-color: #000080\">┃</span>                                                                                                                 <span style=\"color: #000080; text-decoration-color: #000080\">┃</span>\n<span style=\"color: #000080; text-decoration-color: #000080\">┃</span> <span style=\"color: #808000; text-decoration-color: #808000; font-weight: bold\"> • </span><span style=\"font-weight: bold\">Indus Valley Civilization</span>: Some scholars trace the origins of yoga to the Indus Valley Civilization.         <span style=\"color: #000080; text-decoration-color: #000080\">┃</span>\n<span style=\"color: #000080; text-decoration-color: #000080\">┃</span> <span style=\"color: #808000; text-decoration-color: #808000; font-weight: bold\">   </span>Artifacts such as the Pashupati seal from around 2500 BCE depict figures in meditative postures, resembling  <span style=\"color: #000080; text-decoration-color: #000080\">┃</span>\n<span style=\"color: #000080; text-decoration-color: #000080\">┃</span> <span style=\"color: #808000; text-decoration-color: #808000; font-weight: bold\">   </span>yoga poses.                                                                                                  <span style=\"color: #000080; text-decoration-color: #000080\">┃</span>\n<span style=\"color: #000080; text-decoration-color: #000080\">┃</span> <span style=\"color: #808000; text-decoration-color: #808000; font-weight: bold\"> • </span><span style=\"font-weight: bold\">Vedic Period</span>: The earliest scriptures of India, the Vedas, contain references to elements of yoga. The       <span style=\"color: #000080; text-decoration-color: #000080\">┃</span>\n<span style=\"color: #000080; text-decoration-color: #000080\">┃</span> <span style=\"color: #808000; text-decoration-color: #808000; font-weight: bold\">   </span>Rigveda mentions the concept of control of the senses and a focus on a higher state of consciousness,        <span style=\"color: #000080; text-decoration-color: #000080\">┃</span>\n<span style=\"color: #000080; text-decoration-color: #000080\">┃</span> <span style=\"color: #808000; text-decoration-color: #808000; font-weight: bold\">   </span>although not explicitly called \"yoga.\"                                                                       <span style=\"color: #000080; text-decoration-color: #000080\">┃</span>\n<span style=\"color: #000080; text-decoration-color: #000080\">┃</span>                                                                                                                 <span style=\"color: #000080; text-decoration-color: #000080\">┃</span>\n<span style=\"color: #000080; text-decoration-color: #000080\">┃</span>                                    <span style=\"font-weight: bold\">Upanishadic Period (c. 800 BCE - 300 BCE)</span>                                    <span style=\"color: #000080; text-decoration-color: #000080\">┃</span>\n<span style=\"color: #000080; text-decoration-color: #000080\">┃</span>                                                                                                                 <span style=\"color: #000080; text-decoration-color: #000080\">┃</span>\n<span style=\"color: #000080; text-decoration-color: #000080\">┃</span> <span style=\"color: #808000; text-decoration-color: #808000; font-weight: bold\"> • </span><span style=\"font-weight: bold\">The Upanishads</span>: These spiritual texts, which form the concluding part of the Vedas, delve deeper into the    <span style=\"color: #000080; text-decoration-color: #000080\">┃</span>\n<span style=\"color: #000080; text-decoration-color: #000080\">┃</span> <span style=\"color: #808000; text-decoration-color: #808000; font-weight: bold\">   </span>philosophy of yoga. The Upanishads discuss meditation (dhyana) and ways to achieve union (yuj) with the      <span style=\"color: #000080; text-decoration-color: #000080\">┃</span>\n<span style=\"color: #000080; text-decoration-color: #000080\">┃</span> <span style=\"color: #808000; text-decoration-color: #808000; font-weight: bold\">   </span>ultimate reality (Brahman).                                                                                  <span style=\"color: #000080; text-decoration-color: #000080\">┃</span>\n<span style=\"color: #000080; text-decoration-color: #000080\">┃</span>                                                                                                                 <span style=\"color: #000080; text-decoration-color: #000080\">┃</span>\n<span style=\"color: #000080; text-decoration-color: #000080\">┃</span>                                     <span style=\"font-weight: bold\">Classical Period (c. 300 BCE - 500 CE)</span>                                      <span style=\"color: #000080; text-decoration-color: #000080\">┃</span>\n<span style=\"color: #000080; text-decoration-color: #000080\">┃</span>                                                                                                                 <span style=\"color: #000080; text-decoration-color: #000080\">┃</span>\n<span style=\"color: #000080; text-decoration-color: #000080\">┃</span> <span style=\"color: #808000; text-decoration-color: #808000; font-weight: bold\"> • </span><span style=\"font-weight: bold\">The Bhagavad Gita</span>: This sacred text, part of the Mahabharata, emphasizes different paths of yoga: Karma Yoga <span style=\"color: #000080; text-decoration-color: #000080\">┃</span>\n<span style=\"color: #000080; text-decoration-color: #000080\">┃</span> <span style=\"color: #808000; text-decoration-color: #808000; font-weight: bold\">   </span>(path of action), Bhakti Yoga (path of devotion), and Jnana Yoga (path of knowledge).                        <span style=\"color: #000080; text-decoration-color: #000080\">┃</span>\n<span style=\"color: #000080; text-decoration-color: #000080\">┃</span> <span style=\"color: #808000; text-decoration-color: #808000; font-weight: bold\"> • </span><span style=\"font-weight: bold\">Patanjali's Yoga Sutras</span>: Around 400 CE, the sage Patanjali compiled the Yoga Sutras, a foundational text     <span style=\"color: #000080; text-decoration-color: #000080\">┃</span>\n<span style=\"color: #000080; text-decoration-color: #000080\">┃</span> <span style=\"color: #808000; text-decoration-color: #808000; font-weight: bold\">   </span>that outlines the eightfold path (Ashtanga Yoga), including practices such as yama (ethical standards),      <span style=\"color: #000080; text-decoration-color: #000080\">┃</span>\n<span style=\"color: #000080; text-decoration-color: #000080\">┃</span> <span style=\"color: #808000; text-decoration-color: #808000; font-weight: bold\">   </span>niyama (self-discipline), asana (posture), pranayama (breath control), pratyahara (sensory withdrawal),      <span style=\"color: #000080; text-decoration-color: #000080\">┃</span>\n<span style=\"color: #000080; text-decoration-color: #000080\">┃</span> <span style=\"color: #808000; text-decoration-color: #808000; font-weight: bold\">   </span>dharana (concentration), dhyana (meditation), and samadhi (absorption or enlightenment).                     <span style=\"color: #000080; text-decoration-color: #000080\">┃</span>\n<span style=\"color: #000080; text-decoration-color: #000080\">┃</span>                                                                                                                 <span style=\"color: #000080; text-decoration-color: #000080\">┃</span>\n<span style=\"color: #000080; text-decoration-color: #000080\">┃</span>                                   <span style=\"font-weight: bold\">Post-Classical Period (c. 500 CE - 1500 CE)</span>                                   <span style=\"color: #000080; text-decoration-color: #000080\">┃</span>\n<span style=\"color: #000080; text-decoration-color: #000080\">┃</span>                                                                                                                 <span style=\"color: #000080; text-decoration-color: #000080\">┃</span>\n<span style=\"color: #000080; text-decoration-color: #000080\">┃</span> <span style=\"color: #808000; text-decoration-color: #808000; font-weight: bold\"> • </span><span style=\"font-weight: bold\">Tantric Yoga</span>: This period saw the emergence of Tantra, which emphasizes rituals and esoteric practices.      <span style=\"color: #000080; text-decoration-color: #000080\">┃</span>\n<span style=\"color: #000080; text-decoration-color: #000080\">┃</span> <span style=\"color: #808000; text-decoration-color: #808000; font-weight: bold\">   </span>Tantric yoga includes practices for achieving enlightenment in the body itself, breaking from the ascetic    <span style=\"color: #000080; text-decoration-color: #000080\">┃</span>\n<span style=\"color: #000080; text-decoration-color: #000080\">┃</span> <span style=\"color: #808000; text-decoration-color: #808000; font-weight: bold\">   </span>practices of traditional yoga.                                                                               <span style=\"color: #000080; text-decoration-color: #000080\">┃</span>\n<span style=\"color: #000080; text-decoration-color: #000080\">┃</span> <span style=\"color: #808000; text-decoration-color: #808000; font-weight: bold\"> • </span><span style=\"font-weight: bold\">Hatha Yoga</span>: Around the 11th century, texts like the <span style=\"font-style: italic\">Hatha Yoga Pradipika</span> emerged, focusing on physical       <span style=\"color: #000080; text-decoration-color: #000080\">┃</span>\n<span style=\"color: #000080; text-decoration-color: #000080\">┃</span> <span style=\"color: #808000; text-decoration-color: #808000; font-weight: bold\">   </span>postures and breathing exercises to prepare the body for meditation and spiritual awakening.                 <span style=\"color: #000080; text-decoration-color: #000080\">┃</span>\n<span style=\"color: #000080; text-decoration-color: #000080\">┃</span>                                                                                                                 <span style=\"color: #000080; text-decoration-color: #000080\">┃</span>\n<span style=\"color: #000080; text-decoration-color: #000080\">┃</span>                                     <span style=\"font-weight: bold\">Modern Period (19th Century - Present)</span>                                      <span style=\"color: #000080; text-decoration-color: #000080\">┃</span>\n<span style=\"color: #000080; text-decoration-color: #000080\">┃</span>                                                                                                                 <span style=\"color: #000080; text-decoration-color: #000080\">┃</span>\n<span style=\"color: #000080; text-decoration-color: #000080\">┃</span> <span style=\"color: #808000; text-decoration-color: #808000; font-weight: bold\"> • </span><span style=\"font-weight: bold\">Swami Vivekananda</span>: In the late 19th century, Swami Vivekananda played a pivotal role in introducing yoga to  <span style=\"color: #000080; text-decoration-color: #000080\">┃</span>\n<span style=\"color: #000080; text-decoration-color: #000080\">┃</span> <span style=\"color: #808000; text-decoration-color: #808000; font-weight: bold\">   </span>the Western world. His address at the Parliament of the World's Religions in Chicago in 1893 brought global  <span style=\"color: #000080; text-decoration-color: #000080\">┃</span>\n<span style=\"color: #000080; text-decoration-color: #000080\">┃</span> <span style=\"color: #808000; text-decoration-color: #808000; font-weight: bold\">   </span>attention to yoga.                                                                                           <span style=\"color: #000080; text-decoration-color: #000080\">┃</span>\n<span style=\"color: #000080; text-decoration-color: #000080\">┃</span> <span style=\"color: #808000; text-decoration-color: #808000; font-weight: bold\"> • </span><span style=\"font-weight: bold\">20th Century</span>: Figures like Tirumalai Krishnamacharya, B.K.S. Iyengar, and Pattabhi Jois popularized styles   <span style=\"color: #000080; text-decoration-color: #000080\">┃</span>\n<span style=\"color: #000080; text-decoration-color: #000080\">┃</span> <span style=\"color: #808000; text-decoration-color: #808000; font-weight: bold\">   </span>like Iyengar Yoga and Ashtanga Vinyasa Yoga. Hatha Yoga and its variations spread widely, with an increased  <span style=\"color: #000080; text-decoration-color: #000080\">┃</span>\n<span style=\"color: #000080; text-decoration-color: #000080\">┃</span> <span style=\"color: #808000; text-decoration-color: #808000; font-weight: bold\">   </span>focus on physical postures (asana).                                                                          <span style=\"color: #000080; text-decoration-color: #000080\">┃</span>\n<span style=\"color: #000080; text-decoration-color: #000080\">┃</span> <span style=\"color: #808000; text-decoration-color: #808000; font-weight: bold\"> • </span><span style=\"font-weight: bold\">21st Century</span>: Yoga has become a global phenomenon, practiced for physical fitness, mental well-being, and    <span style=\"color: #000080; text-decoration-color: #000080\">┃</span>\n<span style=\"color: #000080; text-decoration-color: #000080\">┃</span> <span style=\"color: #808000; text-decoration-color: #808000; font-weight: bold\">   </span>spiritual growth. The United Nations declared June 21st as International Day of Yoga, celebrated worldwide.  <span style=\"color: #000080; text-decoration-color: #000080\">┃</span>\n<span style=\"color: #000080; text-decoration-color: #000080\">┃</span>                                                                                                                 <span style=\"color: #000080; text-decoration-color: #000080\">┃</span>\n<span style=\"color: #000080; text-decoration-color: #000080\">┃</span> Throughout its history, yoga has evolved, adapted, and transcended cultural boundaries while remaining deeply   <span style=\"color: #000080; text-decoration-color: #000080\">┃</span>\n<span style=\"color: #000080; text-decoration-color: #000080\">┃</span> rooted in Indian spiritual traditions.                                                                          <span style=\"color: #000080; text-decoration-color: #000080\">┃</span>\n<span style=\"color: #000080; text-decoration-color: #000080\">┃</span>                                                                                                                 <span style=\"color: #000080; text-decoration-color: #000080\">┃</span>\n<span style=\"color: #000080; text-decoration-color: #000080\">┗━━━━━━━━━━━━━━━━━━━━━━━━━━━━━━━━━━━━━━━━━━━━━━━━━━━━━━━━━━━━━━━━━━━━━━━━━━━━━━━━━━━━━━━━━━━━━━━━━━━━━━━━━━━━━━━━━┛</span>\n</pre>\n",
                  "text/plain": "\u001b[32m▰▱▱▱▱▱▱\u001b[0m Thinking...\n\u001b[36m┏━\u001b[0m\u001b[36m Message \u001b[0m\u001b[36m━━━━━━━━━━━━━━━━━━━━━━━━━━━━━━━━━━━━━━━━━━━━━━━━━━━━━━━━━━━━━━━━━━━━━━━━━━━━━━━━━━━━━━━━━━━━━━━━━━━━━━\u001b[0m\u001b[36m━┓\u001b[0m\n\u001b[36m┃\u001b[0m                                                                                                                 \u001b[36m┃\u001b[0m\n\u001b[36m┃\u001b[0m \u001b[32mTell me about the history of yoga in India.\u001b[0m                                                                     \u001b[36m┃\u001b[0m\n\u001b[36m┃\u001b[0m                                                                                                                 \u001b[36m┃\u001b[0m\n\u001b[36m┗━━━━━━━━━━━━━━━━━━━━━━━━━━━━━━━━━━━━━━━━━━━━━━━━━━━━━━━━━━━━━━━━━━━━━━━━━━━━━━━━━━━━━━━━━━━━━━━━━━━━━━━━━━━━━━━━━┛\u001b[0m\n\u001b[34m┏━\u001b[0m\u001b[34m Response (25.5s) \u001b[0m\u001b[34m━━━━━━━━━━━━━━━━━━━━━━━━━━━━━━━━━━━━━━━━━━━━━━━━━━━━━━━━━━━━━━━━━━━━━━━━━━━━━━━━━━━━━━━━━━━━━\u001b[0m\u001b[34m━┓\u001b[0m\n\u001b[34m┃\u001b[0m                                                                                                                 \u001b[34m┃\u001b[0m\n\u001b[34m┃\u001b[0m The history of yoga in India is deep and multifaceted, stretching back thousands of years. Here is an overview  \u001b[34m┃\u001b[0m\n\u001b[34m┃\u001b[0m of its evolution through various eras:                                                                          \u001b[34m┃\u001b[0m\n\u001b[34m┃\u001b[0m                                                                                                                 \u001b[34m┃\u001b[0m\n\u001b[34m┃\u001b[0m                              \u001b[1mPrehistoric and Vedic Period (c. 3000 BCE - 800 BCE)\u001b[0m                               \u001b[34m┃\u001b[0m\n\u001b[34m┃\u001b[0m                                                                                                                 \u001b[34m┃\u001b[0m\n\u001b[34m┃\u001b[0m \u001b[1;33m • \u001b[0m\u001b[1mIndus Valley Civilization\u001b[0m: Some scholars trace the origins of yoga to the Indus Valley Civilization.         \u001b[34m┃\u001b[0m\n\u001b[34m┃\u001b[0m \u001b[1;33m   \u001b[0mArtifacts such as the Pashupati seal from around 2500 BCE depict figures in meditative postures, resembling  \u001b[34m┃\u001b[0m\n\u001b[34m┃\u001b[0m \u001b[1;33m   \u001b[0myoga poses.                                                                                                  \u001b[34m┃\u001b[0m\n\u001b[34m┃\u001b[0m \u001b[1;33m • \u001b[0m\u001b[1mVedic Period\u001b[0m: The earliest scriptures of India, the Vedas, contain references to elements of yoga. The       \u001b[34m┃\u001b[0m\n\u001b[34m┃\u001b[0m \u001b[1;33m   \u001b[0mRigveda mentions the concept of control of the senses and a focus on a higher state of consciousness,        \u001b[34m┃\u001b[0m\n\u001b[34m┃\u001b[0m \u001b[1;33m   \u001b[0malthough not explicitly called \"yoga.\"                                                                       \u001b[34m┃\u001b[0m\n\u001b[34m┃\u001b[0m                                                                                                                 \u001b[34m┃\u001b[0m\n\u001b[34m┃\u001b[0m                                    \u001b[1mUpanishadic Period (c. 800 BCE - 300 BCE)\u001b[0m                                    \u001b[34m┃\u001b[0m\n\u001b[34m┃\u001b[0m                                                                                                                 \u001b[34m┃\u001b[0m\n\u001b[34m┃\u001b[0m \u001b[1;33m • \u001b[0m\u001b[1mThe Upanishads\u001b[0m: These spiritual texts, which form the concluding part of the Vedas, delve deeper into the    \u001b[34m┃\u001b[0m\n\u001b[34m┃\u001b[0m \u001b[1;33m   \u001b[0mphilosophy of yoga. The Upanishads discuss meditation (dhyana) and ways to achieve union (yuj) with the      \u001b[34m┃\u001b[0m\n\u001b[34m┃\u001b[0m \u001b[1;33m   \u001b[0multimate reality (Brahman).                                                                                  \u001b[34m┃\u001b[0m\n\u001b[34m┃\u001b[0m                                                                                                                 \u001b[34m┃\u001b[0m\n\u001b[34m┃\u001b[0m                                     \u001b[1mClassical Period (c. 300 BCE - 500 CE)\u001b[0m                                      \u001b[34m┃\u001b[0m\n\u001b[34m┃\u001b[0m                                                                                                                 \u001b[34m┃\u001b[0m\n\u001b[34m┃\u001b[0m \u001b[1;33m • \u001b[0m\u001b[1mThe Bhagavad Gita\u001b[0m: This sacred text, part of the Mahabharata, emphasizes different paths of yoga: Karma Yoga \u001b[34m┃\u001b[0m\n\u001b[34m┃\u001b[0m \u001b[1;33m   \u001b[0m(path of action), Bhakti Yoga (path of devotion), and Jnana Yoga (path of knowledge).                        \u001b[34m┃\u001b[0m\n\u001b[34m┃\u001b[0m \u001b[1;33m • \u001b[0m\u001b[1mPatanjali's Yoga Sutras\u001b[0m: Around 400 CE, the sage Patanjali compiled the Yoga Sutras, a foundational text     \u001b[34m┃\u001b[0m\n\u001b[34m┃\u001b[0m \u001b[1;33m   \u001b[0mthat outlines the eightfold path (Ashtanga Yoga), including practices such as yama (ethical standards),      \u001b[34m┃\u001b[0m\n\u001b[34m┃\u001b[0m \u001b[1;33m   \u001b[0mniyama (self-discipline), asana (posture), pranayama (breath control), pratyahara (sensory withdrawal),      \u001b[34m┃\u001b[0m\n\u001b[34m┃\u001b[0m \u001b[1;33m   \u001b[0mdharana (concentration), dhyana (meditation), and samadhi (absorption or enlightenment).                     \u001b[34m┃\u001b[0m\n\u001b[34m┃\u001b[0m                                                                                                                 \u001b[34m┃\u001b[0m\n\u001b[34m┃\u001b[0m                                   \u001b[1mPost-Classical Period (c. 500 CE - 1500 CE)\u001b[0m                                   \u001b[34m┃\u001b[0m\n\u001b[34m┃\u001b[0m                                                                                                                 \u001b[34m┃\u001b[0m\n\u001b[34m┃\u001b[0m \u001b[1;33m • \u001b[0m\u001b[1mTantric Yoga\u001b[0m: This period saw the emergence of Tantra, which emphasizes rituals and esoteric practices.      \u001b[34m┃\u001b[0m\n\u001b[34m┃\u001b[0m \u001b[1;33m   \u001b[0mTantric yoga includes practices for achieving enlightenment in the body itself, breaking from the ascetic    \u001b[34m┃\u001b[0m\n\u001b[34m┃\u001b[0m \u001b[1;33m   \u001b[0mpractices of traditional yoga.                                                                               \u001b[34m┃\u001b[0m\n\u001b[34m┃\u001b[0m \u001b[1;33m • \u001b[0m\u001b[1mHatha Yoga\u001b[0m: Around the 11th century, texts like the \u001b[3mHatha Yoga Pradipika\u001b[0m emerged, focusing on physical       \u001b[34m┃\u001b[0m\n\u001b[34m┃\u001b[0m \u001b[1;33m   \u001b[0mpostures and breathing exercises to prepare the body for meditation and spiritual awakening.                 \u001b[34m┃\u001b[0m\n\u001b[34m┃\u001b[0m                                                                                                                 \u001b[34m┃\u001b[0m\n\u001b[34m┃\u001b[0m                                     \u001b[1mModern Period (19th Century - Present)\u001b[0m                                      \u001b[34m┃\u001b[0m\n\u001b[34m┃\u001b[0m                                                                                                                 \u001b[34m┃\u001b[0m\n\u001b[34m┃\u001b[0m \u001b[1;33m • \u001b[0m\u001b[1mSwami Vivekananda\u001b[0m: In the late 19th century, Swami Vivekananda played a pivotal role in introducing yoga to  \u001b[34m┃\u001b[0m\n\u001b[34m┃\u001b[0m \u001b[1;33m   \u001b[0mthe Western world. His address at the Parliament of the World's Religions in Chicago in 1893 brought global  \u001b[34m┃\u001b[0m\n\u001b[34m┃\u001b[0m \u001b[1;33m   \u001b[0mattention to yoga.                                                                                           \u001b[34m┃\u001b[0m\n\u001b[34m┃\u001b[0m \u001b[1;33m • \u001b[0m\u001b[1m20th Century\u001b[0m: Figures like Tirumalai Krishnamacharya, B.K.S. Iyengar, and Pattabhi Jois popularized styles   \u001b[34m┃\u001b[0m\n\u001b[34m┃\u001b[0m \u001b[1;33m   \u001b[0mlike Iyengar Yoga and Ashtanga Vinyasa Yoga. Hatha Yoga and its variations spread widely, with an increased  \u001b[34m┃\u001b[0m\n\u001b[34m┃\u001b[0m \u001b[1;33m   \u001b[0mfocus on physical postures (asana).                                                                          \u001b[34m┃\u001b[0m\n\u001b[34m┃\u001b[0m \u001b[1;33m • \u001b[0m\u001b[1m21st Century\u001b[0m: Yoga has become a global phenomenon, practiced for physical fitness, mental well-being, and    \u001b[34m┃\u001b[0m\n\u001b[34m┃\u001b[0m \u001b[1;33m   \u001b[0mspiritual growth. The United Nations declared June 21st as International Day of Yoga, celebrated worldwide.  \u001b[34m┃\u001b[0m\n\u001b[34m┃\u001b[0m                                                                                                                 \u001b[34m┃\u001b[0m\n\u001b[34m┃\u001b[0m Throughout its history, yoga has evolved, adapted, and transcended cultural boundaries while remaining deeply   \u001b[34m┃\u001b[0m\n\u001b[34m┃\u001b[0m rooted in Indian spiritual traditions.                                                                          \u001b[34m┃\u001b[0m\n\u001b[34m┃\u001b[0m                                                                                                                 \u001b[34m┃\u001b[0m\n\u001b[34m┗━━━━━━━━━━━━━━━━━━━━━━━━━━━━━━━━━━━━━━━━━━━━━━━━━━━━━━━━━━━━━━━━━━━━━━━━━━━━━━━━━━━━━━━━━━━━━━━━━━━━━━━━━━━━━━━━━┛\u001b[0m\n"
                },
                "metadata": {},
                "output_type": "display_data"
              }
            ]
          }
        },
        "974d878f3a4344b69aa39edfd2b9d373": {
          "model_module": "@jupyter-widgets/output",
          "model_module_version": "1.0.0",
          "model_name": "OutputModel",
          "state": {
            "_dom_classes": [],
            "_model_module": "@jupyter-widgets/output",
            "_model_module_version": "1.0.0",
            "_model_name": "OutputModel",
            "_view_count": null,
            "_view_module": "@jupyter-widgets/output",
            "_view_module_version": "1.0.0",
            "_view_name": "OutputView",
            "layout": "IPY_MODEL_cf90c6ea5b064c7eb0f51fab1aaa2c0f",
            "msg_id": "",
            "outputs": [
              {
                "data": {
                  "text/html": "<pre style=\"white-space:pre;overflow-x:auto;line-height:normal;font-family:Menlo,'DejaVu Sans Mono',consolas,'Courier New',monospace\"><span style=\"color: #008000; text-decoration-color: #008000\">▰▰▰▱▱▱▱</span> Thinking...\n<span style=\"color: #008080; text-decoration-color: #008080\">┏━ Message ━━━━━━━━━━━━━━━━━━━━━━━━━━━━━━━━━━━━━━━━━━━━━━━━━━━━━━━━━━━━━━━━━━━━━━━━━━━━━━━━━━━━━━━━━━━━━━━━━━━━━━━┓</span>\n<span style=\"color: #008080; text-decoration-color: #008080\">┃</span>                                                                                                                 <span style=\"color: #008080; text-decoration-color: #008080\">┃</span>\n<span style=\"color: #008080; text-decoration-color: #008080\">┃</span> <span style=\"color: #008000; text-decoration-color: #008000\">भारत में जलवायु परिवर्तन का कृषि पर क्या प्रभाव पड़ रहा है? किसान कैसे अनुकूलन कर रहे हैं?</span>                                                <span style=\"color: #008080; text-decoration-color: #008080\">┃</span>\n<span style=\"color: #008080; text-decoration-color: #008080\">┃</span>                                                                                                                 <span style=\"color: #008080; text-decoration-color: #008080\">┃</span>\n<span style=\"color: #008080; text-decoration-color: #008080\">┗━━━━━━━━━━━━━━━━━━━━━━━━━━━━━━━━━━━━━━━━━━━━━━━━━━━━━━━━━━━━━━━━━━━━━━━━━━━━━━━━━━━━━━━━━━━━━━━━━━━━━━━━━━━━━━━━━┛</span>\n<span style=\"color: #008000; text-decoration-color: #008000\">┏━ Reasoning step 1 ━━━━━━━━━━━━━━━━━━━━━━━━━━━━━━━━━━━━━━━━━━━━━━━━━━━━━━━━━━━━━━━━━━━━━━━━━━━━━━━━━━━━━━━━━━━━━━┓</span>\n<span style=\"color: #008000; text-decoration-color: #008000\">┃</span>                                                                                                                 <span style=\"color: #008000; text-decoration-color: #008000\">┃</span>\n<span style=\"color: #008000; text-decoration-color: #008000\">┃</span> <span style=\"font-weight: bold\">Impact of Climate Change on Indian Agriculture</span>                                                                  <span style=\"color: #008000; text-decoration-color: #008000\">┃</span>\n<span style=\"color: #008000; text-decoration-color: #008000\">┃</span> <span style=\"color: #7f7f7f; text-decoration-color: #7f7f7f; font-weight: bold\">Action:</span><span style=\"color: #7f7f7f; text-decoration-color: #7f7f7f\"> Search for current information on how Indian farmers are adapting to climate change.</span>                    <span style=\"color: #008000; text-decoration-color: #008000\">┃</span>\n<span style=\"color: #008000; text-decoration-color: #008000\">┃</span>                                                                                                                 <span style=\"color: #008000; text-decoration-color: #008000\">┃</span>\n<span style=\"color: #008000; text-decoration-color: #008000\">┃</span> <span style=\"color: #7f7f7f; text-decoration-color: #7f7f7f; font-weight: bold\">Reasoning:</span><span style=\"color: #7f7f7f; text-decoration-color: #7f7f7f\"> Climate change significantly impacts agriculture through altered rainfall patterns, increased </span>       <span style=\"color: #008000; text-decoration-color: #008000\">┃</span>\n<span style=\"color: #008000; text-decoration-color: #008000\">┃</span> <span style=\"color: #7f7f7f; text-decoration-color: #7f7f7f\">temperatures, droughts, and other extreme weather conditions. These changes affect crop yields, pest patterns, </span> <span style=\"color: #008000; text-decoration-color: #008000\">┃</span>\n<span style=\"color: #008000; text-decoration-color: #008000\">┃</span> <span style=\"color: #7f7f7f; text-decoration-color: #7f7f7f\">and irrigation needs. Farmers in India face challenges such as water scarcity, decreased soil fertility, and </span>   <span style=\"color: #008000; text-decoration-color: #008000\">┃</span>\n<span style=\"color: #008000; text-decoration-color: #008000\">┃</span> <span style=\"color: #7f7f7f; text-decoration-color: #7f7f7f\">crop failures.</span>                                                                                                  <span style=\"color: #008000; text-decoration-color: #008000\">┃</span>\n<span style=\"color: #008000; text-decoration-color: #008000\">┃</span>                                                                                                                 <span style=\"color: #008000; text-decoration-color: #008000\">┃</span>\n<span style=\"color: #008000; text-decoration-color: #008000\">┃</span> <span style=\"color: #7f7f7f; text-decoration-color: #7f7f7f\">To ascertain current adaptations by Indian farmers, I need to check for up-to-date practices and government </span>    <span style=\"color: #008000; text-decoration-color: #008000\">┃</span>\n<span style=\"color: #008000; text-decoration-color: #008000\">┃</span> <span style=\"color: #7f7f7f; text-decoration-color: #7f7f7f\">policies aiding adaptation. Key areas might include diversification of crops, innovative farming techniques, </span>   <span style=\"color: #008000; text-decoration-color: #008000\">┃</span>\n<span style=\"color: #008000; text-decoration-color: #008000\">┃</span> <span style=\"color: #7f7f7f; text-decoration-color: #7f7f7f\">and government support systems.</span>                                                                                 <span style=\"color: #008000; text-decoration-color: #008000\">┃</span>\n<span style=\"color: #008000; text-decoration-color: #008000\">┃</span> <span style=\"color: #7f7f7f; text-decoration-color: #7f7f7f; font-weight: bold\">Confidence:</span><span style=\"color: #7f7f7f; text-decoration-color: #7f7f7f\"> 0.8</span>                                                                                                 <span style=\"color: #008000; text-decoration-color: #008000\">┃</span>\n<span style=\"color: #008000; text-decoration-color: #008000\">┃</span>                                                                                                                 <span style=\"color: #008000; text-decoration-color: #008000\">┃</span>\n<span style=\"color: #008000; text-decoration-color: #008000\">┗━━━━━━━━━━━━━━━━━━━━━━━━━━━━━━━━━━━━━━━━━━━━━━━━━━━━━━━━━━━━━━━━━━━━━━━━━━━━━━━━━━━━━━━━━━━━━━━━━━━━━━━━━━━━━━━━━┛</span>\n<span style=\"color: #008000; text-decoration-color: #008000\">┏━ Reasoning step 2 ━━━━━━━━━━━━━━━━━━━━━━━━━━━━━━━━━━━━━━━━━━━━━━━━━━━━━━━━━━━━━━━━━━━━━━━━━━━━━━━━━━━━━━━━━━━━━━┓</span>\n<span style=\"color: #008000; text-decoration-color: #008000\">┃</span>                                                                                                                 <span style=\"color: #008000; text-decoration-color: #008000\">┃</span>\n<span style=\"color: #008000; text-decoration-color: #008000\">┃</span> <span style=\"font-weight: bold\">Analysis of Current Adaptation Strategies</span>                                                                       <span style=\"color: #008000; text-decoration-color: #008000\">┃</span>\n<span style=\"color: #008000; text-decoration-color: #008000\">┃</span> <span style=\"color: #7f7f7f; text-decoration-color: #7f7f7f\">Current adaptation strategies by Indian farmers are diverse and focus on practical implementations at the </span>      <span style=\"color: #008000; text-decoration-color: #008000\">┃</span>\n<span style=\"color: #008000; text-decoration-color: #008000\">┃</span> <span style=\"color: #7f7f7f; text-decoration-color: #7f7f7f\">grassroots level. The strategies include:</span>                                                                       <span style=\"color: #008000; text-decoration-color: #008000\">┃</span>\n<span style=\"color: #008000; text-decoration-color: #008000\">┃</span>                                                                                                                 <span style=\"color: #008000; text-decoration-color: #008000\">┃</span>\n<span style=\"color: #008000; text-decoration-color: #008000\">┃</span> <span style=\"color: #7f7f7f; text-decoration-color: #7f7f7f\">1. **Crop Diversification**: Farmers are integrating various crop species to spread risk and enhance soil </span>      <span style=\"color: #008000; text-decoration-color: #008000\">┃</span>\n<span style=\"color: #008000; text-decoration-color: #008000\">┃</span> <span style=\"color: #7f7f7f; text-decoration-color: #7f7f7f\">health.</span>                                                                                                         <span style=\"color: #008000; text-decoration-color: #008000\">┃</span>\n<span style=\"color: #008000; text-decoration-color: #008000\">┃</span> <span style=\"color: #7f7f7f; text-decoration-color: #7f7f7f\">2. **Traditional Practices**: Revival of traditional crop varieties that are more resilient to climate </span>         <span style=\"color: #008000; text-decoration-color: #008000\">┃</span>\n<span style=\"color: #008000; text-decoration-color: #008000\">┃</span> <span style=\"color: #7f7f7f; text-decoration-color: #7f7f7f\">variations.</span>                                                                                                     <span style=\"color: #008000; text-decoration-color: #008000\">┃</span>\n<span style=\"color: #008000; text-decoration-color: #008000\">┃</span> <span style=\"color: #7f7f7f; text-decoration-color: #7f7f7f\">3. **Water Management**: Implementation of water-saving techniques such as drip irrigation and rainwater </span>       <span style=\"color: #008000; text-decoration-color: #008000\">┃</span>\n<span style=\"color: #008000; text-decoration-color: #008000\">┃</span> <span style=\"color: #7f7f7f; text-decoration-color: #7f7f7f\">harvesting.</span>                                                                                                     <span style=\"color: #008000; text-decoration-color: #008000\">┃</span>\n<span style=\"color: #008000; text-decoration-color: #008000\">┃</span> <span style=\"color: #7f7f7f; text-decoration-color: #7f7f7f\">4. **Infrastructure Development**: Building climate-proof infrastructure to withstand extreme weather events.</span>   <span style=\"color: #008000; text-decoration-color: #008000\">┃</span>\n<span style=\"color: #008000; text-decoration-color: #008000\">┃</span> <span style=\"color: #7f7f7f; text-decoration-color: #7f7f7f\">5. **Change in Planting Dates**: Adjusting planting schedules to better match the changing climate patterns.</span>    <span style=\"color: #008000; text-decoration-color: #008000\">┃</span>\n<span style=\"color: #008000; text-decoration-color: #008000\">┃</span>                                                                                                                 <span style=\"color: #008000; text-decoration-color: #008000\">┃</span>\n<span style=\"color: #008000; text-decoration-color: #008000\">┃</span> <span style=\"color: #7f7f7f; text-decoration-color: #7f7f7f\">These strategies are augmented by government support through subsidies and education programs.</span>                  <span style=\"color: #008000; text-decoration-color: #008000\">┃</span>\n<span style=\"color: #008000; text-decoration-color: #008000\">┃</span>                                                                                                                 <span style=\"color: #008000; text-decoration-color: #008000\">┃</span>\n<span style=\"color: #008000; text-decoration-color: #008000\">┃</span> <span style=\"color: #7f7f7f; text-decoration-color: #7f7f7f\">Source Links:</span>                                                                                                   <span style=\"color: #008000; text-decoration-color: #008000\">┃</span>\n<span style=\"color: #008000; text-decoration-color: #008000\">┃</span> <span style=\"color: #7f7f7f; text-decoration-color: #7f7f7f\">- [World Economic </span>                                                                                              <span style=\"color: #008000; text-decoration-color: #008000\">┃</span>\n<span style=\"color: #008000; text-decoration-color: #008000\">┃</span> <span style=\"color: #7f7f7f; text-decoration-color: #7f7f7f\">Forum](https://www.weforum.org/stories/2023/03/from-reviving-traditional-crops-to-building-climate-proof-infras</span> <span style=\"color: #008000; text-decoration-color: #008000\">┃</span>\n<span style=\"color: #008000; text-decoration-color: #008000\">┃</span> <span style=\"color: #7f7f7f; text-decoration-color: #7f7f7f\">tructure-how-5-indian-communities-are-adapting-to-climate-change/)</span>                                              <span style=\"color: #008000; text-decoration-color: #008000\">┃</span>\n<span style=\"color: #008000; text-decoration-color: #008000\">┃</span> <span style=\"color: #7f7f7f; text-decoration-color: #7f7f7f\">- [ScienceDirect](https://www.sciencedirect.com/science/article/pii/S2667010022001007)</span>                          <span style=\"color: #008000; text-decoration-color: #008000\">┃</span>\n<span style=\"color: #008000; text-decoration-color: #008000\">┃</span> <span style=\"color: #7f7f7f; text-decoration-color: #7f7f7f\">- </span>                                                                                                              <span style=\"color: #008000; text-decoration-color: #008000\">┃</span>\n<span style=\"color: #008000; text-decoration-color: #008000\">┃</span> <span style=\"color: #7f7f7f; text-decoration-color: #7f7f7f\">[Frontiers](https://www.frontiersin.org/journals/sustainable-food-systems/articles/10.3389/fsufs.2023.1010527/f</span> <span style=\"color: #008000; text-decoration-color: #008000\">┃</span>\n<span style=\"color: #008000; text-decoration-color: #008000\">┃</span> <span style=\"color: #7f7f7f; text-decoration-color: #7f7f7f\">ull)</span>                                                                                                            <span style=\"color: #008000; text-decoration-color: #008000\">┃</span>\n<span style=\"color: #008000; text-decoration-color: #008000\">┃</span> <span style=\"color: #7f7f7f; text-decoration-color: #7f7f7f; font-weight: bold\">Reasoning:</span><span style=\"color: #7f7f7f; text-decoration-color: #7f7f7f\"> Indian farmers are employing a range of adaptive strategies, combining modern techniques with </span>       <span style=\"color: #008000; text-decoration-color: #008000\">┃</span>\n<span style=\"color: #008000; text-decoration-color: #008000\">┃</span> <span style=\"color: #7f7f7f; text-decoration-color: #7f7f7f\">traditional knowledge. The effectiveness of these strategies can vary based on regional climate challenges, but</span> <span style=\"color: #008000; text-decoration-color: #008000\">┃</span>\n<span style=\"color: #008000; text-decoration-color: #008000\">┃</span> <span style=\"color: #7f7f7f; text-decoration-color: #7f7f7f\">they demonstrate proactive approaches in mitigating climate change impacts.</span>                                     <span style=\"color: #008000; text-decoration-color: #008000\">┃</span>\n<span style=\"color: #008000; text-decoration-color: #008000\">┃</span>                                                                                                                 <span style=\"color: #008000; text-decoration-color: #008000\">┃</span>\n<span style=\"color: #008000; text-decoration-color: #008000\">┃</span> <span style=\"color: #7f7f7f; text-decoration-color: #7f7f7f\">Next, I’ll summarize this for user understanding.</span>                                                               <span style=\"color: #008000; text-decoration-color: #008000\">┃</span>\n<span style=\"color: #008000; text-decoration-color: #008000\">┃</span> <span style=\"color: #7f7f7f; text-decoration-color: #7f7f7f; font-weight: bold\">Confidence:</span><span style=\"color: #7f7f7f; text-decoration-color: #7f7f7f\"> 0.9</span>                                                                                                 <span style=\"color: #008000; text-decoration-color: #008000\">┃</span>\n<span style=\"color: #008000; text-decoration-color: #008000\">┃</span>                                                                                                                 <span style=\"color: #008000; text-decoration-color: #008000\">┃</span>\n<span style=\"color: #008000; text-decoration-color: #008000\">┗━━━━━━━━━━━━━━━━━━━━━━━━━━━━━━━━━━━━━━━━━━━━━━━━━━━━━━━━━━━━━━━━━━━━━━━━━━━━━━━━━━━━━━━━━━━━━━━━━━━━━━━━━━━━━━━━━┛</span>\n<span style=\"color: #808000; text-decoration-color: #808000\">┏━ Tool Calls ━━━━━━━━━━━━━━━━━━━━━━━━━━━━━━━━━━━━━━━━━━━━━━━━━━━━━━━━━━━━━━━━━━━━━━━━━━━━━━━━━━━━━━━━━━━━━━━━━━━━┓</span>\n<span style=\"color: #808000; text-decoration-color: #808000\">┃</span>                                                                                                                 <span style=\"color: #808000; text-decoration-color: #808000\">┃</span>\n<span style=\"color: #808000; text-decoration-color: #808000\">┃</span> • think(title=Impact of Climate Change on Indian Agriculture, thought=Climate change significantly impacts      <span style=\"color: #808000; text-decoration-color: #808000\">┃</span>\n<span style=\"color: #808000; text-decoration-color: #808000\">┃</span> agriculture through altered rainfall patterns, increased temperatures, droughts, and other extreme weather      <span style=\"color: #808000; text-decoration-color: #808000\">┃</span>\n<span style=\"color: #808000; text-decoration-color: #808000\">┃</span> conditions. These changes affect crop yields, pest patterns, and irrigation needs. Farmers in India face        <span style=\"color: #808000; text-decoration-color: #808000\">┃</span>\n<span style=\"color: #808000; text-decoration-color: #808000\">┃</span> challenges such as water scarcity, decreased soil fertility, and crop failures.                                 <span style=\"color: #808000; text-decoration-color: #808000\">┃</span>\n<span style=\"color: #808000; text-decoration-color: #808000\">┃</span>                                                                                                                 <span style=\"color: #808000; text-decoration-color: #808000\">┃</span>\n<span style=\"color: #808000; text-decoration-color: #808000\">┃</span> To ascertain current adaptations by Indian farmers, I need to check for up-to-date practices and government     <span style=\"color: #808000; text-decoration-color: #808000\">┃</span>\n<span style=\"color: #808000; text-decoration-color: #808000\">┃</span> policies aiding adaptation. Key areas might include diversification of crops, innovative farming techniques,    <span style=\"color: #808000; text-decoration-color: #808000\">┃</span>\n<span style=\"color: #808000; text-decoration-color: #808000\">┃</span> and government support systems., action=Search for current information on how Indian farmers are adapting to    <span style=\"color: #808000; text-decoration-color: #808000\">┃</span>\n<span style=\"color: #808000; text-decoration-color: #808000\">┃</span> climate change., confidence=0.8)                                                                                <span style=\"color: #808000; text-decoration-color: #808000\">┃</span>\n<span style=\"color: #808000; text-decoration-color: #808000\">┃</span> • duckduckgo_search(query=current adaptation strategies by Indian farmers to climate change)                    <span style=\"color: #808000; text-decoration-color: #808000\">┃</span>\n<span style=\"color: #808000; text-decoration-color: #808000\">┃</span> • analyze(title=Analysis of Current Adaptation Strategies, result=Current adaptation strategies by Indian       <span style=\"color: #808000; text-decoration-color: #808000\">┃</span>\n<span style=\"color: #808000; text-decoration-color: #808000\">┃</span> farmers are diverse and focus on practical implementations at the grassroots level. The strategies include:     <span style=\"color: #808000; text-decoration-color: #808000\">┃</span>\n<span style=\"color: #808000; text-decoration-color: #808000\">┃</span>                                                                                                                 <span style=\"color: #808000; text-decoration-color: #808000\">┃</span>\n<span style=\"color: #808000; text-decoration-color: #808000\">┃</span> 1. **Crop Diversification**: Farmers are integrating various crop species to spread risk and enhance soil       <span style=\"color: #808000; text-decoration-color: #808000\">┃</span>\n<span style=\"color: #808000; text-decoration-color: #808000\">┃</span> health.                                                                                                         <span style=\"color: #808000; text-decoration-color: #808000\">┃</span>\n<span style=\"color: #808000; text-decoration-color: #808000\">┃</span> 2. **Traditional Practices**: Revival of traditional crop varieties that are more resilient to climate          <span style=\"color: #808000; text-decoration-color: #808000\">┃</span>\n<span style=\"color: #808000; text-decoration-color: #808000\">┃</span> variations.                                                                                                     <span style=\"color: #808000; text-decoration-color: #808000\">┃</span>\n<span style=\"color: #808000; text-decoration-color: #808000\">┃</span> 3. **Water Management**: Implementation of water-saving techniques such as drip irrigation and rainwater        <span style=\"color: #808000; text-decoration-color: #808000\">┃</span>\n<span style=\"color: #808000; text-decoration-color: #808000\">┃</span> harvesting.                                                                                                     <span style=\"color: #808000; text-decoration-color: #808000\">┃</span>\n<span style=\"color: #808000; text-decoration-color: #808000\">┃</span> 4. **Infrastructure Development**: Building climate-proof infrastructure to withstand extreme weather events.   <span style=\"color: #808000; text-decoration-color: #808000\">┃</span>\n<span style=\"color: #808000; text-decoration-color: #808000\">┃</span> 5. **Change in Planting Dates**: Adjusting planting schedules to better match the changing climate patterns.    <span style=\"color: #808000; text-decoration-color: #808000\">┃</span>\n<span style=\"color: #808000; text-decoration-color: #808000\">┃</span>                                                                                                                 <span style=\"color: #808000; text-decoration-color: #808000\">┃</span>\n<span style=\"color: #808000; text-decoration-color: #808000\">┃</span> These strategies are augmented by government support through subsidies and education programs.                  <span style=\"color: #808000; text-decoration-color: #808000\">┃</span>\n<span style=\"color: #808000; text-decoration-color: #808000\">┃</span>                                                                                                                 <span style=\"color: #808000; text-decoration-color: #808000\">┃</span>\n<span style=\"color: #808000; text-decoration-color: #808000\">┃</span> Source Links:                                                                                                   <span style=\"color: #808000; text-decoration-color: #808000\">┃</span>\n<span style=\"color: #808000; text-decoration-color: #808000\">┃</span> - [World Economic                                                                                               <span style=\"color: #808000; text-decoration-color: #808000\">┃</span>\n<span style=\"color: #808000; text-decoration-color: #808000\">┃</span> Forum](https://www.weforum.org/stories/2023/03/from-reviving-traditional-crops-to-building-climate-proof-infras <span style=\"color: #808000; text-decoration-color: #808000\">┃</span>\n<span style=\"color: #808000; text-decoration-color: #808000\">┃</span> tructure-how-5-indian-communities-are-adapting-to-climate-change/)                                              <span style=\"color: #808000; text-decoration-color: #808000\">┃</span>\n<span style=\"color: #808000; text-decoration-color: #808000\">┃</span> - [ScienceDirect](https://www.sciencedirect.com/science/article/pii/S2667010022001007)                          <span style=\"color: #808000; text-decoration-color: #808000\">┃</span>\n<span style=\"color: #808000; text-decoration-color: #808000\">┃</span> -                                                                                                               <span style=\"color: #808000; text-decoration-color: #808000\">┃</span>\n<span style=\"color: #808000; text-decoration-color: #808000\">┃</span> [Frontiers](https://www.frontiersin.org/journals/sustainable-food-systems/articles/10.3389/fsufs.2023.1010527/f <span style=\"color: #808000; text-decoration-color: #808000\">┃</span>\n<span style=\"color: #808000; text-decoration-color: #808000\">┃</span> ull), analysis=Indian farmers are employing a range of adaptive strategies, combining modern techniques with    <span style=\"color: #808000; text-decoration-color: #808000\">┃</span>\n<span style=\"color: #808000; text-decoration-color: #808000\">┃</span> traditional knowledge. The effectiveness of these strategies can vary based on regional climate challenges, but <span style=\"color: #808000; text-decoration-color: #808000\">┃</span>\n<span style=\"color: #808000; text-decoration-color: #808000\">┃</span> they demonstrate proactive approaches in mitigating climate change impacts.                                     <span style=\"color: #808000; text-decoration-color: #808000\">┃</span>\n<span style=\"color: #808000; text-decoration-color: #808000\">┃</span>                                                                                                                 <span style=\"color: #808000; text-decoration-color: #808000\">┃</span>\n<span style=\"color: #808000; text-decoration-color: #808000\">┃</span> Next, I’ll summarize this for user understanding., next_action=final_answer, confidence=0.9)                    <span style=\"color: #808000; text-decoration-color: #808000\">┃</span>\n<span style=\"color: #808000; text-decoration-color: #808000\">┃</span>                                                                                                                 <span style=\"color: #808000; text-decoration-color: #808000\">┃</span>\n<span style=\"color: #808000; text-decoration-color: #808000\">┗━━━━━━━━━━━━━━━━━━━━━━━━━━━━━━━━━━━━━━━━━━━━━━━━━━━━━━━━━━━━━━━━━━━━━━━━━━━━━━━━━━━━━━━━━━━━━━━━━━━━━━━━━━━━━━━━━┛</span>\n<span style=\"color: #000080; text-decoration-color: #000080\">┏━ Response (29.1s) ━━━━━━━━━━━━━━━━━━━━━━━━━━━━━━━━━━━━━━━━━━━━━━━━━━━━━━━━━━━━━━━━━━━━━━━━━━━━━━━━━━━━━━━━━━━━━━┓</span>\n<span style=\"color: #000080; text-decoration-color: #000080\">┃</span>                                                                                                                 <span style=\"color: #000080; text-decoration-color: #000080\">┃</span>\n<span style=\"color: #000080; text-decoration-color: #000080\">┃</span> भारत में जलवायु परिवर्तन का कृषि पर महत्वपूर्ण प्रभाव पड़ रहा है, जिससे किसान विभिन्न अनुकूलन रणनीतियाँ अपना रहे हैं। ये रणनीतियाँ आधुनिक तकनीकों और पारंपरिक   <span style=\"color: #000080; text-decoration-color: #000080\">┃</span>\n<span style=\"color: #000080; text-decoration-color: #000080\">┃</span> ज्ञान का संयोजन हैं और क्षेत्रीय जलवायु चुनौतियों के अनुसार भिन्न हो सकती हैं।                                                             <span style=\"color: #000080; text-decoration-color: #000080\">┃</span>\n<span style=\"color: #000080; text-decoration-color: #000080\">┃</span>                                                                                                                 <span style=\"color: #000080; text-decoration-color: #000080\">┃</span>\n<span style=\"color: #000080; text-decoration-color: #000080\">┃</span> कुछ प्रमुख अनुकूलन रणनीतियाँ निम्नलिखित हैं:                                                                                   <span style=\"color: #000080; text-decoration-color: #000080\">┃</span>\n<span style=\"color: #000080; text-decoration-color: #000080\">┃</span>                                                                                                                 <span style=\"color: #000080; text-decoration-color: #000080\">┃</span>\n<span style=\"color: #000080; text-decoration-color: #000080\">┃</span> <span style=\"color: #808000; text-decoration-color: #808000; font-weight: bold\"> 1 </span><span style=\"font-weight: bold\">फसलों का विविधिकरण</span>: विभिन्न प्रकार की फसलों का समावेश कर खतरे को कम करना और मिट्टी की सेहत को बढ़ावा देना।                                  <span style=\"color: #000080; text-decoration-color: #000080\">┃</span>\n<span style=\"color: #000080; text-decoration-color: #000080\">┃</span> <span style=\"color: #808000; text-decoration-color: #808000; font-weight: bold\"> 2 </span><span style=\"font-weight: bold\">पारंपरिक फसलों का पुनरुद्धार</span>: पारंपरिक फसलें जो जलवायु परिवर्तन के प्रति अधिक सहनशील हैं।                                               <span style=\"color: #000080; text-decoration-color: #000080\">┃</span>\n<span style=\"color: #000080; text-decoration-color: #000080\">┃</span> <span style=\"color: #808000; text-decoration-color: #808000; font-weight: bold\"> 3 </span><span style=\"font-weight: bold\">जल प्रबंधन</span>: ड्रिप इरीगेशन और वर्षा जल संचयन जैसी जल-बचत तकनीकों का उपयोग।                                                    <span style=\"color: #000080; text-decoration-color: #000080\">┃</span>\n<span style=\"color: #000080; text-decoration-color: #000080\">┃</span> <span style=\"color: #808000; text-decoration-color: #808000; font-weight: bold\"> 4 </span><span style=\"font-weight: bold\">बुनियादी ढाँचे का विकास</span>: चरम मौसम की घटनाओं का सामना करने के लिए जलवायु-प्रूफ बुनियादी ढाँचे का निर्माण।                                        <span style=\"color: #000080; text-decoration-color: #000080\">┃</span>\n<span style=\"color: #000080; text-decoration-color: #000080\">┃</span> <span style=\"color: #808000; text-decoration-color: #808000; font-weight: bold\"> 5 </span><span style=\"font-weight: bold\">रोपण तिथियों का बदलाव</span>: बदलते जलवायु पैटर्न के अनुसार रोपण के शेड्यूल को समायोजित करना।                                                <span style=\"color: #000080; text-decoration-color: #000080\">┃</span>\n<span style=\"color: #000080; text-decoration-color: #000080\">┃</span>                                                                                                                 <span style=\"color: #000080; text-decoration-color: #000080\">┃</span>\n<span style=\"color: #000080; text-decoration-color: #000080\">┃</span> सरकार द्वारा प्रदान की गई सब्सिडी और शिक्षा कार्यक्रमों के माध्यम से इन प्रयासों को समर्थन मिलता है। यह रणनीतियाँ भारतीय किसानों की जलवायु परिवर्तन के प्रभावों को  <span style=\"color: #000080; text-decoration-color: #000080\">┃</span>\n<span style=\"color: #000080; text-decoration-color: #000080\">┃</span> कम करने की सक्रियता दर्शाती हैं।                                                                                          <span style=\"color: #000080; text-decoration-color: #000080\">┃</span>\n<span style=\"color: #000080; text-decoration-color: #000080\">┃</span>                                                                                                                 <span style=\"color: #000080; text-decoration-color: #000080\">┃</span>\n<span style=\"color: #000080; text-decoration-color: #000080\">┃</span> अधिक जानकारी के लिए, आप <a href=\"https://www.weforum.org/stories/2023/03/from-reviving-traditional-crops-to-building-climate-proof-infrastructure-how-5-indian-communities-are-adapting-to-climate-change/\" target=\"_blank\"><span style=\"color: #000080; text-decoration-color: #000080; text-decoration: underline\">World Economic Forum</span></a> और <a href=\"https://www.frontiersin.org/journals/sustainable-food-systems/articles/10.3389/fsufs.2023.1010527/full\" target=\"_blank\"><span style=\"color: #000080; text-decoration-color: #000080; text-decoration: underline\">Frontiers</span></a> जैसे स्रोतों का अवलोकन कर सकते हैं।                                    <span style=\"color: #000080; text-decoration-color: #000080\">┃</span>\n<span style=\"color: #000080; text-decoration-color: #000080\">┃</span>                                                                                                                 <span style=\"color: #000080; text-decoration-color: #000080\">┃</span>\n<span style=\"color: #000080; text-decoration-color: #000080\">┗━━━━━━━━━━━━━━━━━━━━━━━━━━━━━━━━━━━━━━━━━━━━━━━━━━━━━━━━━━━━━━━━━━━━━━━━━━━━━━━━━━━━━━━━━━━━━━━━━━━━━━━━━━━━━━━━━┛</span>\n</pre>\n",
                  "text/plain": "\u001b[32m▰▰▰▱▱▱▱\u001b[0m Thinking...\n\u001b[36m┏━\u001b[0m\u001b[36m Message \u001b[0m\u001b[36m━━━━━━━━━━━━━━━━━━━━━━━━━━━━━━━━━━━━━━━━━━━━━━━━━━━━━━━━━━━━━━━━━━━━━━━━━━━━━━━━━━━━━━━━━━━━━━━━━━━━━━\u001b[0m\u001b[36m━┓\u001b[0m\n\u001b[36m┃\u001b[0m                                                                                                                 \u001b[36m┃\u001b[0m\n\u001b[36m┃\u001b[0m \u001b[32mभारत में जलवायु परिवर्तन का कृषि पर क्या प्रभाव पड़ रहा है? किसान कैसे अनुकूलन कर रहे हैं?\u001b[0m                                                \u001b[36m┃\u001b[0m\n\u001b[36m┃\u001b[0m                                                                                                                 \u001b[36m┃\u001b[0m\n\u001b[36m┗━━━━━━━━━━━━━━━━━━━━━━━━━━━━━━━━━━━━━━━━━━━━━━━━━━━━━━━━━━━━━━━━━━━━━━━━━━━━━━━━━━━━━━━━━━━━━━━━━━━━━━━━━━━━━━━━━┛\u001b[0m\n\u001b[32m┏━\u001b[0m\u001b[32m Reasoning step 1 \u001b[0m\u001b[32m━━━━━━━━━━━━━━━━━━━━━━━━━━━━━━━━━━━━━━━━━━━━━━━━━━━━━━━━━━━━━━━━━━━━━━━━━━━━━━━━━━━━━━━━━━━━━\u001b[0m\u001b[32m━┓\u001b[0m\n\u001b[32m┃\u001b[0m                                                                                                                 \u001b[32m┃\u001b[0m\n\u001b[32m┃\u001b[0m \u001b[1mImpact of Climate Change on Indian Agriculture\u001b[0m                                                                  \u001b[32m┃\u001b[0m\n\u001b[32m┃\u001b[0m \u001b[1;2mAction:\u001b[0m\u001b[2m Search for current information on how Indian farmers are adapting to climate change.\u001b[0m                    \u001b[32m┃\u001b[0m\n\u001b[32m┃\u001b[0m                                                                                                                 \u001b[32m┃\u001b[0m\n\u001b[32m┃\u001b[0m \u001b[1;2mReasoning:\u001b[0m\u001b[2m Climate change significantly impacts agriculture through altered rainfall patterns, increased \u001b[0m       \u001b[32m┃\u001b[0m\n\u001b[32m┃\u001b[0m \u001b[2mtemperatures, droughts, and other extreme weather conditions. These changes affect crop yields, pest patterns, \u001b[0m \u001b[32m┃\u001b[0m\n\u001b[32m┃\u001b[0m \u001b[2mand irrigation needs. Farmers in India face challenges such as water scarcity, decreased soil fertility, and \u001b[0m   \u001b[32m┃\u001b[0m\n\u001b[32m┃\u001b[0m \u001b[2mcrop failures.\u001b[0m                                                                                                  \u001b[32m┃\u001b[0m\n\u001b[32m┃\u001b[0m                                                                                                                 \u001b[32m┃\u001b[0m\n\u001b[32m┃\u001b[0m \u001b[2mTo ascertain current adaptations by Indian farmers, I need to check for up-to-date practices and government \u001b[0m    \u001b[32m┃\u001b[0m\n\u001b[32m┃\u001b[0m \u001b[2mpolicies aiding adaptation. Key areas might include diversification of crops, innovative farming techniques, \u001b[0m   \u001b[32m┃\u001b[0m\n\u001b[32m┃\u001b[0m \u001b[2mand government support systems.\u001b[0m                                                                                 \u001b[32m┃\u001b[0m\n\u001b[32m┃\u001b[0m \u001b[1;2mConfidence:\u001b[0m\u001b[2m 0.8\u001b[0m                                                                                                 \u001b[32m┃\u001b[0m\n\u001b[32m┃\u001b[0m                                                                                                                 \u001b[32m┃\u001b[0m\n\u001b[32m┗━━━━━━━━━━━━━━━━━━━━━━━━━━━━━━━━━━━━━━━━━━━━━━━━━━━━━━━━━━━━━━━━━━━━━━━━━━━━━━━━━━━━━━━━━━━━━━━━━━━━━━━━━━━━━━━━━┛\u001b[0m\n\u001b[32m┏━\u001b[0m\u001b[32m Reasoning step 2 \u001b[0m\u001b[32m━━━━━━━━━━━━━━━━━━━━━━━━━━━━━━━━━━━━━━━━━━━━━━━━━━━━━━━━━━━━━━━━━━━━━━━━━━━━━━━━━━━━━━━━━━━━━\u001b[0m\u001b[32m━┓\u001b[0m\n\u001b[32m┃\u001b[0m                                                                                                                 \u001b[32m┃\u001b[0m\n\u001b[32m┃\u001b[0m \u001b[1mAnalysis of Current Adaptation Strategies\u001b[0m                                                                       \u001b[32m┃\u001b[0m\n\u001b[32m┃\u001b[0m \u001b[2mCurrent adaptation strategies by Indian farmers are diverse and focus on practical implementations at the \u001b[0m      \u001b[32m┃\u001b[0m\n\u001b[32m┃\u001b[0m \u001b[2mgrassroots level. The strategies include:\u001b[0m                                                                       \u001b[32m┃\u001b[0m\n\u001b[32m┃\u001b[0m                                                                                                                 \u001b[32m┃\u001b[0m\n\u001b[32m┃\u001b[0m \u001b[2m1. **Crop Diversification**: Farmers are integrating various crop species to spread risk and enhance soil \u001b[0m      \u001b[32m┃\u001b[0m\n\u001b[32m┃\u001b[0m \u001b[2mhealth.\u001b[0m                                                                                                         \u001b[32m┃\u001b[0m\n\u001b[32m┃\u001b[0m \u001b[2m2. **Traditional Practices**: Revival of traditional crop varieties that are more resilient to climate \u001b[0m         \u001b[32m┃\u001b[0m\n\u001b[32m┃\u001b[0m \u001b[2mvariations.\u001b[0m                                                                                                     \u001b[32m┃\u001b[0m\n\u001b[32m┃\u001b[0m \u001b[2m3. **Water Management**: Implementation of water-saving techniques such as drip irrigation and rainwater \u001b[0m       \u001b[32m┃\u001b[0m\n\u001b[32m┃\u001b[0m \u001b[2mharvesting.\u001b[0m                                                                                                     \u001b[32m┃\u001b[0m\n\u001b[32m┃\u001b[0m \u001b[2m4. **Infrastructure Development**: Building climate-proof infrastructure to withstand extreme weather events.\u001b[0m   \u001b[32m┃\u001b[0m\n\u001b[32m┃\u001b[0m \u001b[2m5. **Change in Planting Dates**: Adjusting planting schedules to better match the changing climate patterns.\u001b[0m    \u001b[32m┃\u001b[0m\n\u001b[32m┃\u001b[0m                                                                                                                 \u001b[32m┃\u001b[0m\n\u001b[32m┃\u001b[0m \u001b[2mThese strategies are augmented by government support through subsidies and education programs.\u001b[0m                  \u001b[32m┃\u001b[0m\n\u001b[32m┃\u001b[0m                                                                                                                 \u001b[32m┃\u001b[0m\n\u001b[32m┃\u001b[0m \u001b[2mSource Links:\u001b[0m                                                                                                   \u001b[32m┃\u001b[0m\n\u001b[32m┃\u001b[0m \u001b[2m- [World Economic \u001b[0m                                                                                              \u001b[32m┃\u001b[0m\n\u001b[32m┃\u001b[0m \u001b[2mForum](https://www.weforum.org/stories/2023/03/from-reviving-traditional-crops-to-building-climate-proof-infras\u001b[0m \u001b[32m┃\u001b[0m\n\u001b[32m┃\u001b[0m \u001b[2mtructure-how-5-indian-communities-are-adapting-to-climate-change/)\u001b[0m                                              \u001b[32m┃\u001b[0m\n\u001b[32m┃\u001b[0m \u001b[2m- [ScienceDirect](https://www.sciencedirect.com/science/article/pii/S2667010022001007)\u001b[0m                          \u001b[32m┃\u001b[0m\n\u001b[32m┃\u001b[0m \u001b[2m- \u001b[0m                                                                                                              \u001b[32m┃\u001b[0m\n\u001b[32m┃\u001b[0m \u001b[2m[Frontiers](https://www.frontiersin.org/journals/sustainable-food-systems/articles/10.3389/fsufs.2023.1010527/f\u001b[0m \u001b[32m┃\u001b[0m\n\u001b[32m┃\u001b[0m \u001b[2mull)\u001b[0m                                                                                                            \u001b[32m┃\u001b[0m\n\u001b[32m┃\u001b[0m \u001b[1;2mReasoning:\u001b[0m\u001b[2m Indian farmers are employing a range of adaptive strategies, combining modern techniques with \u001b[0m       \u001b[32m┃\u001b[0m\n\u001b[32m┃\u001b[0m \u001b[2mtraditional knowledge. The effectiveness of these strategies can vary based on regional climate challenges, but\u001b[0m \u001b[32m┃\u001b[0m\n\u001b[32m┃\u001b[0m \u001b[2mthey demonstrate proactive approaches in mitigating climate change impacts.\u001b[0m                                     \u001b[32m┃\u001b[0m\n\u001b[32m┃\u001b[0m                                                                                                                 \u001b[32m┃\u001b[0m\n\u001b[32m┃\u001b[0m \u001b[2mNext, I’ll summarize this for user understanding.\u001b[0m                                                               \u001b[32m┃\u001b[0m\n\u001b[32m┃\u001b[0m \u001b[1;2mConfidence:\u001b[0m\u001b[2m 0.9\u001b[0m                                                                                                 \u001b[32m┃\u001b[0m\n\u001b[32m┃\u001b[0m                                                                                                                 \u001b[32m┃\u001b[0m\n\u001b[32m┗━━━━━━━━━━━━━━━━━━━━━━━━━━━━━━━━━━━━━━━━━━━━━━━━━━━━━━━━━━━━━━━━━━━━━━━━━━━━━━━━━━━━━━━━━━━━━━━━━━━━━━━━━━━━━━━━━┛\u001b[0m\n\u001b[33m┏━\u001b[0m\u001b[33m Tool Calls \u001b[0m\u001b[33m━━━━━━━━━━━━━━━━━━━━━━━━━━━━━━━━━━━━━━━━━━━━━━━━━━━━━━━━━━━━━━━━━━━━━━━━━━━━━━━━━━━━━━━━━━━━━━━━━━━\u001b[0m\u001b[33m━┓\u001b[0m\n\u001b[33m┃\u001b[0m                                                                                                                 \u001b[33m┃\u001b[0m\n\u001b[33m┃\u001b[0m • think(title=Impact of Climate Change on Indian Agriculture, thought=Climate change significantly impacts      \u001b[33m┃\u001b[0m\n\u001b[33m┃\u001b[0m agriculture through altered rainfall patterns, increased temperatures, droughts, and other extreme weather      \u001b[33m┃\u001b[0m\n\u001b[33m┃\u001b[0m conditions. These changes affect crop yields, pest patterns, and irrigation needs. Farmers in India face        \u001b[33m┃\u001b[0m\n\u001b[33m┃\u001b[0m challenges such as water scarcity, decreased soil fertility, and crop failures.                                 \u001b[33m┃\u001b[0m\n\u001b[33m┃\u001b[0m                                                                                                                 \u001b[33m┃\u001b[0m\n\u001b[33m┃\u001b[0m To ascertain current adaptations by Indian farmers, I need to check for up-to-date practices and government     \u001b[33m┃\u001b[0m\n\u001b[33m┃\u001b[0m policies aiding adaptation. Key areas might include diversification of crops, innovative farming techniques,    \u001b[33m┃\u001b[0m\n\u001b[33m┃\u001b[0m and government support systems., action=Search for current information on how Indian farmers are adapting to    \u001b[33m┃\u001b[0m\n\u001b[33m┃\u001b[0m climate change., confidence=0.8)                                                                                \u001b[33m┃\u001b[0m\n\u001b[33m┃\u001b[0m • duckduckgo_search(query=current adaptation strategies by Indian farmers to climate change)                    \u001b[33m┃\u001b[0m\n\u001b[33m┃\u001b[0m • analyze(title=Analysis of Current Adaptation Strategies, result=Current adaptation strategies by Indian       \u001b[33m┃\u001b[0m\n\u001b[33m┃\u001b[0m farmers are diverse and focus on practical implementations at the grassroots level. The strategies include:     \u001b[33m┃\u001b[0m\n\u001b[33m┃\u001b[0m                                                                                                                 \u001b[33m┃\u001b[0m\n\u001b[33m┃\u001b[0m 1. **Crop Diversification**: Farmers are integrating various crop species to spread risk and enhance soil       \u001b[33m┃\u001b[0m\n\u001b[33m┃\u001b[0m health.                                                                                                         \u001b[33m┃\u001b[0m\n\u001b[33m┃\u001b[0m 2. **Traditional Practices**: Revival of traditional crop varieties that are more resilient to climate          \u001b[33m┃\u001b[0m\n\u001b[33m┃\u001b[0m variations.                                                                                                     \u001b[33m┃\u001b[0m\n\u001b[33m┃\u001b[0m 3. **Water Management**: Implementation of water-saving techniques such as drip irrigation and rainwater        \u001b[33m┃\u001b[0m\n\u001b[33m┃\u001b[0m harvesting.                                                                                                     \u001b[33m┃\u001b[0m\n\u001b[33m┃\u001b[0m 4. **Infrastructure Development**: Building climate-proof infrastructure to withstand extreme weather events.   \u001b[33m┃\u001b[0m\n\u001b[33m┃\u001b[0m 5. **Change in Planting Dates**: Adjusting planting schedules to better match the changing climate patterns.    \u001b[33m┃\u001b[0m\n\u001b[33m┃\u001b[0m                                                                                                                 \u001b[33m┃\u001b[0m\n\u001b[33m┃\u001b[0m These strategies are augmented by government support through subsidies and education programs.                  \u001b[33m┃\u001b[0m\n\u001b[33m┃\u001b[0m                                                                                                                 \u001b[33m┃\u001b[0m\n\u001b[33m┃\u001b[0m Source Links:                                                                                                   \u001b[33m┃\u001b[0m\n\u001b[33m┃\u001b[0m - [World Economic                                                                                               \u001b[33m┃\u001b[0m\n\u001b[33m┃\u001b[0m Forum](https://www.weforum.org/stories/2023/03/from-reviving-traditional-crops-to-building-climate-proof-infras \u001b[33m┃\u001b[0m\n\u001b[33m┃\u001b[0m tructure-how-5-indian-communities-are-adapting-to-climate-change/)                                              \u001b[33m┃\u001b[0m\n\u001b[33m┃\u001b[0m - [ScienceDirect](https://www.sciencedirect.com/science/article/pii/S2667010022001007)                          \u001b[33m┃\u001b[0m\n\u001b[33m┃\u001b[0m -                                                                                                               \u001b[33m┃\u001b[0m\n\u001b[33m┃\u001b[0m [Frontiers](https://www.frontiersin.org/journals/sustainable-food-systems/articles/10.3389/fsufs.2023.1010527/f \u001b[33m┃\u001b[0m\n\u001b[33m┃\u001b[0m ull), analysis=Indian farmers are employing a range of adaptive strategies, combining modern techniques with    \u001b[33m┃\u001b[0m\n\u001b[33m┃\u001b[0m traditional knowledge. The effectiveness of these strategies can vary based on regional climate challenges, but \u001b[33m┃\u001b[0m\n\u001b[33m┃\u001b[0m they demonstrate proactive approaches in mitigating climate change impacts.                                     \u001b[33m┃\u001b[0m\n\u001b[33m┃\u001b[0m                                                                                                                 \u001b[33m┃\u001b[0m\n\u001b[33m┃\u001b[0m Next, I’ll summarize this for user understanding., next_action=final_answer, confidence=0.9)                    \u001b[33m┃\u001b[0m\n\u001b[33m┃\u001b[0m                                                                                                                 \u001b[33m┃\u001b[0m\n\u001b[33m┗━━━━━━━━━━━━━━━━━━━━━━━━━━━━━━━━━━━━━━━━━━━━━━━━━━━━━━━━━━━━━━━━━━━━━━━━━━━━━━━━━━━━━━━━━━━━━━━━━━━━━━━━━━━━━━━━━┛\u001b[0m\n\u001b[34m┏━\u001b[0m\u001b[34m Response (29.1s) \u001b[0m\u001b[34m━━━━━━━━━━━━━━━━━━━━━━━━━━━━━━━━━━━━━━━━━━━━━━━━━━━━━━━━━━━━━━━━━━━━━━━━━━━━━━━━━━━━━━━━━━━━━\u001b[0m\u001b[34m━┓\u001b[0m\n\u001b[34m┃\u001b[0m                                                                                                                 \u001b[34m┃\u001b[0m\n\u001b[34m┃\u001b[0m भारत में जलवायु परिवर्तन का कृषि पर महत्वपूर्ण प्रभाव पड़ रहा है, जिससे किसान विभिन्न अनुकूलन रणनीतियाँ अपना रहे हैं। ये रणनीतियाँ आधुनिक तकनीकों और पारंपरिक   \u001b[34m┃\u001b[0m\n\u001b[34m┃\u001b[0m ज्ञान का संयोजन हैं और क्षेत्रीय जलवायु चुनौतियों के अनुसार भिन्न हो सकती हैं।                                                             \u001b[34m┃\u001b[0m\n\u001b[34m┃\u001b[0m                                                                                                                 \u001b[34m┃\u001b[0m\n\u001b[34m┃\u001b[0m कुछ प्रमुख अनुकूलन रणनीतियाँ निम्नलिखित हैं:                                                                                   \u001b[34m┃\u001b[0m\n\u001b[34m┃\u001b[0m                                                                                                                 \u001b[34m┃\u001b[0m\n\u001b[34m┃\u001b[0m \u001b[1;33m 1 \u001b[0m\u001b[1mफसलों का विविधिकरण\u001b[0m: विभिन्न प्रकार की फसलों का समावेश कर खतरे को कम करना और मिट्टी की सेहत को बढ़ावा देना।                                  \u001b[34m┃\u001b[0m\n\u001b[34m┃\u001b[0m \u001b[1;33m 2 \u001b[0m\u001b[1mपारंपरिक फसलों का पुनरुद्धार\u001b[0m: पारंपरिक फसलें जो जलवायु परिवर्तन के प्रति अधिक सहनशील हैं।                                               \u001b[34m┃\u001b[0m\n\u001b[34m┃\u001b[0m \u001b[1;33m 3 \u001b[0m\u001b[1mजल प्रबंधन\u001b[0m: ड्रिप इरीगेशन और वर्षा जल संचयन जैसी जल-बचत तकनीकों का उपयोग।                                                    \u001b[34m┃\u001b[0m\n\u001b[34m┃\u001b[0m \u001b[1;33m 4 \u001b[0m\u001b[1mबुनियादी ढाँचे का विकास\u001b[0m: चरम मौसम की घटनाओं का सामना करने के लिए जलवायु-प्रूफ बुनियादी ढाँचे का निर्माण।                                        \u001b[34m┃\u001b[0m\n\u001b[34m┃\u001b[0m \u001b[1;33m 5 \u001b[0m\u001b[1mरोपण तिथियों का बदलाव\u001b[0m: बदलते जलवायु पैटर्न के अनुसार रोपण के शेड्यूल को समायोजित करना।                                                \u001b[34m┃\u001b[0m\n\u001b[34m┃\u001b[0m                                                                                                                 \u001b[34m┃\u001b[0m\n\u001b[34m┃\u001b[0m सरकार द्वारा प्रदान की गई सब्सिडी और शिक्षा कार्यक्रमों के माध्यम से इन प्रयासों को समर्थन मिलता है। यह रणनीतियाँ भारतीय किसानों की जलवायु परिवर्तन के प्रभावों को  \u001b[34m┃\u001b[0m\n\u001b[34m┃\u001b[0m कम करने की सक्रियता दर्शाती हैं।                                                                                          \u001b[34m┃\u001b[0m\n\u001b[34m┃\u001b[0m                                                                                                                 \u001b[34m┃\u001b[0m\n\u001b[34m┃\u001b[0m अधिक जानकारी के लिए, आप \u001b]8;id=218942;https://www.weforum.org/stories/2023/03/from-reviving-traditional-crops-to-building-climate-proof-infrastructure-how-5-indian-communities-are-adapting-to-climate-change/\u001b\\\u001b[4;34mWorld Economic Forum\u001b[0m\u001b]8;;\u001b\\ और \u001b]8;id=867597;https://www.frontiersin.org/journals/sustainable-food-systems/articles/10.3389/fsufs.2023.1010527/full\u001b\\\u001b[4;34mFrontiers\u001b[0m\u001b]8;;\u001b\\ जैसे स्रोतों का अवलोकन कर सकते हैं।                                    \u001b[34m┃\u001b[0m\n\u001b[34m┃\u001b[0m                                                                                                                 \u001b[34m┃\u001b[0m\n\u001b[34m┗━━━━━━━━━━━━━━━━━━━━━━━━━━━━━━━━━━━━━━━━━━━━━━━━━━━━━━━━━━━━━━━━━━━━━━━━━━━━━━━━━━━━━━━━━━━━━━━━━━━━━━━━━━━━━━━━━┛\u001b[0m\n"
                },
                "metadata": {},
                "output_type": "display_data"
              }
            ]
          }
        },
        "cc3647cb1b3248e2a2f7b37e0328474e": {
          "model_module": "@jupyter-widgets/base",
          "model_module_version": "1.2.0",
          "model_name": "LayoutModel",
          "state": {
            "_model_module": "@jupyter-widgets/base",
            "_model_module_version": "1.2.0",
            "_model_name": "LayoutModel",
            "_view_count": null,
            "_view_module": "@jupyter-widgets/base",
            "_view_module_version": "1.2.0",
            "_view_name": "LayoutView",
            "align_content": null,
            "align_items": null,
            "align_self": null,
            "border": null,
            "bottom": null,
            "display": null,
            "flex": null,
            "flex_flow": null,
            "grid_area": null,
            "grid_auto_columns": null,
            "grid_auto_flow": null,
            "grid_auto_rows": null,
            "grid_column": null,
            "grid_gap": null,
            "grid_row": null,
            "grid_template_areas": null,
            "grid_template_columns": null,
            "grid_template_rows": null,
            "height": null,
            "justify_content": null,
            "justify_items": null,
            "left": null,
            "margin": null,
            "max_height": null,
            "max_width": null,
            "min_height": null,
            "min_width": null,
            "object_fit": null,
            "object_position": null,
            "order": null,
            "overflow": null,
            "overflow_x": null,
            "overflow_y": null,
            "padding": null,
            "right": null,
            "top": null,
            "visibility": null,
            "width": null
          }
        },
        "cf90c6ea5b064c7eb0f51fab1aaa2c0f": {
          "model_module": "@jupyter-widgets/base",
          "model_module_version": "1.2.0",
          "model_name": "LayoutModel",
          "state": {
            "_model_module": "@jupyter-widgets/base",
            "_model_module_version": "1.2.0",
            "_model_name": "LayoutModel",
            "_view_count": null,
            "_view_module": "@jupyter-widgets/base",
            "_view_module_version": "1.2.0",
            "_view_name": "LayoutView",
            "align_content": null,
            "align_items": null,
            "align_self": null,
            "border": null,
            "bottom": null,
            "display": null,
            "flex": null,
            "flex_flow": null,
            "grid_area": null,
            "grid_auto_columns": null,
            "grid_auto_flow": null,
            "grid_auto_rows": null,
            "grid_column": null,
            "grid_gap": null,
            "grid_row": null,
            "grid_template_areas": null,
            "grid_template_columns": null,
            "grid_template_rows": null,
            "height": null,
            "justify_content": null,
            "justify_items": null,
            "left": null,
            "margin": null,
            "max_height": null,
            "max_width": null,
            "min_height": null,
            "min_width": null,
            "object_fit": null,
            "object_position": null,
            "order": null,
            "overflow": null,
            "overflow_x": null,
            "overflow_y": null,
            "padding": null,
            "right": null,
            "top": null,
            "visibility": null,
            "width": null
          }
        },
        "f2ac93ec60354469b5ed2fb4cc3eb0dd": {
          "model_module": "@jupyter-widgets/base",
          "model_module_version": "1.2.0",
          "model_name": "LayoutModel",
          "state": {
            "_model_module": "@jupyter-widgets/base",
            "_model_module_version": "1.2.0",
            "_model_name": "LayoutModel",
            "_view_count": null,
            "_view_module": "@jupyter-widgets/base",
            "_view_module_version": "1.2.0",
            "_view_name": "LayoutView",
            "align_content": null,
            "align_items": null,
            "align_self": null,
            "border": null,
            "bottom": null,
            "display": null,
            "flex": null,
            "flex_flow": null,
            "grid_area": null,
            "grid_auto_columns": null,
            "grid_auto_flow": null,
            "grid_auto_rows": null,
            "grid_column": null,
            "grid_gap": null,
            "grid_row": null,
            "grid_template_areas": null,
            "grid_template_columns": null,
            "grid_template_rows": null,
            "height": null,
            "justify_content": null,
            "justify_items": null,
            "left": null,
            "margin": null,
            "max_height": null,
            "max_width": null,
            "min_height": null,
            "min_width": null,
            "object_fit": null,
            "object_position": null,
            "order": null,
            "overflow": null,
            "overflow_x": null,
            "overflow_y": null,
            "padding": null,
            "right": null,
            "top": null,
            "visibility": null,
            "width": null
          }
        }
      }
    }
  },
  "nbformat": 4,
  "nbformat_minor": 0
}
