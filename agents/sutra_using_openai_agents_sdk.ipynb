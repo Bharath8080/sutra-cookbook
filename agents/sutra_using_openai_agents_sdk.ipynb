{
  "cells": [
    {
      "cell_type": "markdown",
      "metadata": {
        "id": "5h3xx2SjnNX8"
      },
      "source": [
        "<div style=\"display: flex; align-items: center; gap: 40px;\">\n",
        "\n",
        "<img src=\"https://play-lh.googleusercontent.com/_O9p4Z4yucA2NLmZBu9mTJCuBwXeT9NcbtrDN6I8gKlkIPRySV0adOmbyipjSj9Gew\" width=\"130\">\n",
        "<img src=\"https://static.vecteezy.com/system/resources/previews/021/059/827/non_2x/chatgpt-logo-chat-gpt-icon-on-white-background-free-vector.jpg\" width=\"130\">\n",
        "\n",
        "\n",
        "\n",
        "\n",
        "\n",
        "<div>\n",
        "  <h2>SUTRA by TWO Platforms </h2>\n",
        "  <p>SUTRA is a family of large multi-lingual language (LMLMs) models pioneered by Two Platforms. SUTRA’s dual-transformer approach extends the power of both MoE and Dense AI language model architectures, delivering cost-efficient multilingual capabilities for over 50+ languages. It powers scalable AI applications for conversation, search, and advanced reasoning, ensuring high-performance across diverse languages, domains and applications.</p>\n",
        "\n",
        "  <h2>OpenAI Agents SDK</h2>\n",
        "    <p>The OpenAI Agents SDK enables you to build agentic AI apps in a lightweight, easy-to-use package with very few abstractions. It's a production-ready upgrade of our previous experimentation for agents, Swarm..</p>\n",
        "  </div>\n",
        "</div>\n",
        "\n"
      ]
    },
    {
      "cell_type": "markdown",
      "metadata": {},
      "source": [
        "[![Open In Colab](https://colab.research.google.com/assets/colab-badge.svg)](https://colab.research.google.com/drive/1gLHm0yKqIIKIriNZ0zz2zI2t1duo8ocq?usp=sharing)\n"
      ]
    },
    {
      "cell_type": "markdown",
      "metadata": {
        "id": "rXc5N3uTozoW"
      },
      "source": [
        "## Get Your API Keys\n",
        "\n",
        "Before you begin, make sure you have:\n",
        "\n",
        "1. A SUTRA API key (Get yours at [TWO AI's SUTRA API page](https://www.two.ai/sutra/api))\n",
        "2. Basic familiarity with Python and Jupyter notebooks\n",
        "\n",
        "This notebook is designed to run in Google Colab, so no local Python installation is required."
      ]
    },
    {
      "cell_type": "markdown",
      "metadata": {
        "id": "pZyQ6qeEpJZ1"
      },
      "source": [
        "##**SUTRA Using OpenAI Agents SDK**"
      ]
    },
    {
      "cell_type": "markdown",
      "metadata": {
        "id": "z_VOFtPrpWrn"
      },
      "source": [
        "###Install Required Dependencies"
      ]
    },
    {
      "cell_type": "code",
      "execution_count": null,
      "metadata": {
        "collapsed": true,
        "id": "WkrLqOJ-N_u-"
      },
      "outputs": [],
      "source": [
        "!pip install \"openai-agents[litellm]\""
      ]
    },
    {
      "cell_type": "markdown",
      "metadata": {
        "id": "2jTy2X_4peyH"
      },
      "source": [
        "###Setup API Keys"
      ]
    },
    {
      "cell_type": "code",
      "execution_count": null,
      "metadata": {
        "id": "lgzFSAh-OM63"
      },
      "outputs": [],
      "source": [
        "import os\n",
        "from google.colab import userdata\n",
        "\n",
        "# Set the API key from Colab secrets\n",
        "os.environ[\"SUTRA_API_KEY\"] = userdata.get(\"SUTRA_API_KEY\")"
      ]
    },
    {
      "cell_type": "markdown",
      "metadata": {
        "id": "eRfhYhfQqGAv"
      },
      "source": [
        "###Configuring Logging to Silence OpenAI Agent Warnings"
      ]
    },
    {
      "cell_type": "code",
      "execution_count": null,
      "metadata": {
        "id": "B51rcCmoVe82"
      },
      "outputs": [],
      "source": [
        "import logging\n",
        "logging.getLogger(\"openai.agents\").setLevel(logging.ERROR)"
      ]
    },
    {
      "cell_type": "markdown",
      "metadata": {
        "id": "9mp5c0YrqsjU"
      },
      "source": [
        "###Initializing and Executing a LiteLLM-Based Agent with SUTRA"
      ]
    },
    {
      "cell_type": "code",
      "execution_count": null,
      "metadata": {
        "colab": {
          "base_uri": "https://localhost:8080/"
        },
        "id": "biPIsngSOd5r",
        "outputId": "6fe28960-9efa-46ef-bcd9-bcb197670a92"
      },
      "outputs": [
        {
          "name": "stdout",
          "output_type": "stream",
          "text": [
            "इक्विटी का मतलब होता है किसी कंपनी या संगठन में मालिकाना अधिकार या हिस्सेदारी। यह एक वित्तीय शब्द है जो आमतौर पर शेयर बाजार में इस्तेमाल होता है। जब आप किसी कंपनी के शेयर खरीदते हैं, तो आप उस कंपनी में एक हिस्सेदार बन जाते हैं और आपको उसके लाभ और हानि दोनों का हिस्सा मिलता है।\n",
            "\n",
            "इक्विटी के मुख्य प्रकार निम्नलिखित हैं:\n",
            "\n",
            "1. **साधारण शेयर (Common Stock)**: ये शेयर आमतौर पर कंपनी के मालिकाना हक को दर्शाते हैं और शेयरधारकों को वोट देने का अधिकार देते हैं। साधारण शेयरधारक लाभांश प्राप्त कर सकते हैं, लेकिन उन्हें पहले बांडधारकों और प्राथमिक शेयरधारकों के बाद भुगतान किया जाता है।\n",
            "\n",
            "2. **प्राथमिक शेयर (Preferred Stock)**: ये शेयर साधारण शेयर की तुलना में कुछ विशेष अधिकार प्रदान करते हैं, जैसे कि स्थिर लाभांश और कंपनी के परिसमापन के समय पहले भुगतान का अधिकार।\n",
            "\n",
            "इक्विटी निवेशकों के लिए एक आकर्षक विकल्प हो सकता है क्योंकि यह लंबी अवधि में अच्छा रिटर्न दे सकता है, लेकिन इसमें जोखिम भी होता है, क्योंकि शेयरों की कीमतें ऊपर-नीचे होती रहती हैं।\n"
          ]
        }
      ],
      "source": [
        "import nest_asyncio\n",
        "import asyncio\n",
        "import os\n",
        "from agents import Agent, Runner\n",
        "from agents.extensions.models.litellm_model import LitellmModel\n",
        "\n",
        "# Patch the running event loop\n",
        "nest_asyncio.apply()\n",
        "\n",
        "# Main async logic\n",
        "async def main():\n",
        "    agent = Agent(\n",
        "        name=\"Sutra Agent\",\n",
        "        instructions=\"You are a helpful assistant that responds in Hindi.\",\n",
        "        model=LitellmModel(\n",
        "            model=\"openai/sutra-v2\",\n",
        "            api_key=os.environ.get(\"SUTRA_API_KEY\"),\n",
        "            base_url=\"https://api.two.ai/v2\"\n",
        "        )\n",
        "    )\n",
        "\n",
        "    result = await Runner.run(agent, \"इक्विटी क्या होता है?\")\n",
        "    print(result.final_output)\n",
        "\n",
        "# Run the async function safely\n",
        "await main()"
      ]
    },
    {
      "cell_type": "markdown",
      "metadata": {
        "id": "XzRQwLoLr5cB"
      },
      "source": [
        "###Streaming Response"
      ]
    },
    {
      "cell_type": "code",
      "execution_count": null,
      "metadata": {
        "colab": {
          "base_uri": "https://localhost:8080/"
        },
        "id": "BFE9Nsfmr0Ld",
        "outputId": "ebe742a5-249b-45a0-aec0-d173c3955f2e"
      },
      "outputs": [
        {
          "name": "stdout",
          "output_type": "stream",
          "text": [
            "🟢 Streaming started...\n",
            "\n",
            "भारत का इतिहास अत्यंत समृद्ध और विविध है, जो हजारों वर्षों में फैला हुआ है। इसे विभिन्न कालखंडों में विभाजित किया जा सकता है:\n",
            "\n",
            "1. **प्राचीन भारत**: \n",
            "   - सिंधु घाटी सभ्यता (लगभग 3300-1300 ईसा पूर्व): यह सबसे पुरानी ज्ञात सभ्यताओं में से एक थी, जिसमें मोहनजोदड़ो और हड़प्पा जैसे नगर शामिल थे।\n",
            "   - वेदिक काल (लगभग 1500-500 ईसा पूर्व): वैदिक साहित्य की रचना इस दौरान हुई, और आर्य संस्कृति का विकास हुआ।\n",
            "\n",
            "2. **क्लासिकल भारत**:\n",
            "   - महाजनपद काल (लगभग 600-300 ईसा पूर्व): इस दौरान कई राज्य और गणराज्य अस्तित्व में आए।\n",
            "   - मौर्य साम्राज्य (322-185 ईसा पूर्व): चंद्रगुप्त मौर्य और अशोक महान के तहत भारत का एक बड़ा साम्राज्य बना।\n",
            "   - गुप्त साम्राज्य (लगभग 320-550 ईस्वी): इसे 'सोने की अवधि' कहा जाता है, जब विज्ञान, कला और संस्कृति में बड़ी प्रगति हुई।\n",
            "\n",
            "3. **मध्यकालीन भारत**:\n",
            "   - दिल्ली सल्तनत (1206-1526): तुर्कों और अफगानों द्वारा स्थापित विभिन्न राजवंशों का शासन।\n",
            "   - मुग़ल साम्राज्य (1526-1857): बाबर द्वारा स्थापित, यह साम्राज्य भारतीय उपमहाद्वीप में एक महत्वपूर्ण सांस्कृतिक और राजनीतिक युग था।\n",
            "\n",
            "4. **आधुनिक भारत**:\n",
            "   - ब्रिटिश उपनिवेशीय काल (1858-1947): भारत पर ब्रिटिश राज का प्रभाव और इसके खिलाफ स्वतंत्रता संग्राम।\n",
            "   - स्वतंत्रता संग्राम (1857-1947): महात्मा गांधी, सुभाष चंद्र बोस, और अन्य नेताओं के नेतृत्व में देश ने स्वतंत्रता के लिए संघर्ष किया।\n",
            "   - स्वतंत्रता (15 अगस्त 1947): भारत ने स्वतंत्रता प्राप्त की और एक लोकतांत्रिक गणराज्य बना।\n",
            "\n",
            "5. **समकालीन भारत**:\n",
            "   - भारत आज एक लोकतांत्रिक गणराज्य है, जो आर्थिक विकास, सामाजिक परिवर्तन और वैश्विक मुद्दों में सक्रिय भागीदारी के लिए जाना जाता है।\n",
            "\n",
            "भारत का इतिहास विभिन्न संस्कृतियों, धर्मों और भाषाओं का संगम है, जिसने इसे एक अद्वितीय और विविध राष्ट्र बनाया है।\n",
            "✅ Streaming complete.\n"
          ]
        }
      ],
      "source": [
        "import asyncio\n",
        "import os\n",
        "from openai.types.responses import ResponseTextDeltaEvent\n",
        "from agents import Agent, Runner\n",
        "from agents.extensions.models.litellm_model import LitellmModel\n",
        "\n",
        "async def main():\n",
        "    # Create an Agent using Sutra (via LiteLLM)\n",
        "    agent = Agent(\n",
        "        name=\"Sutra Stream Agent\",\n",
        "        instructions=\"तुम एक सहायक हो जो हिंदी में जवाब देता है।\",  # Instructions in Hindi\n",
        "        model=LitellmModel(\n",
        "            model=\"openai/sutra-v2\",\n",
        "            api_key=os.environ.get(\"SUTRA_API_KEY\"),\n",
        "            base_url=\"https://api.two.ai/v2\"\n",
        "        ),\n",
        "    )\n",
        "\n",
        "    # Start streaming the response\n",
        "    result = Runner.run_streamed(agent, input=\"भारत का इतिहास बताइए।\")\n",
        "\n",
        "    print(\"🟢 Streaming started...\\n\")\n",
        "    async for event in result.stream_events():\n",
        "        # Print LLM tokens as they're streamed\n",
        "        if event.type == \"raw_response_event\" and isinstance(event.data, ResponseTextDeltaEvent):\n",
        "            print(event.data.delta, end=\"\", flush=True)\n",
        "\n",
        "    print(\"\\n✅ Streaming complete.\")\n",
        "\n",
        "# 🔁 Run in a proper async environment\n",
        "await main()"
      ]
    },
    {
      "cell_type": "markdown",
      "metadata": {
        "id": "lvsGvNEiq4Bm"
      },
      "source": [
        "###Define Weather Tool"
      ]
    },
    {
      "cell_type": "code",
      "execution_count": null,
      "metadata": {
        "id": "7pgPrGSGReln"
      },
      "outputs": [],
      "source": [
        "from agents import function_tool\n",
        "\n",
        "@function_tool\n",
        "def get_weather(city: str) -> str:\n",
        "    \"\"\"Get weather details for a given city.\"\"\"\n",
        "    return f\"{city} में मौसम बहुत ही सुहावना है।\""
      ]
    },
    {
      "cell_type": "markdown",
      "metadata": {
        "id": "LdjXRcaCrGU5"
      },
      "source": [
        "###Define User Info Tool"
      ]
    },
    {
      "cell_type": "code",
      "execution_count": null,
      "metadata": {
        "id": "4dIzmq3pRgjM"
      },
      "outputs": [],
      "source": [
        "from typing import Any\n",
        "from pydantic import BaseModel\n",
        "from agents import FunctionTool, RunContextWrapper\n",
        "\n",
        "class UserInfo(BaseModel):\n",
        "    name: str\n",
        "    age: int\n",
        "\n",
        "async def process_user(ctx: RunContextWrapper[Any], args: str) -> str:\n",
        "    data = UserInfo.model_validate_json(args)\n",
        "    return f\"{data.name} की उम्र {data.age} वर्ष है।\"\n",
        "\n",
        "process_user_tool = FunctionTool(\n",
        "    name=\"process_user_info\",\n",
        "    description=\"उपयोगकर्ता की जानकारी को संसाधित करता है।\",\n",
        "    params_json_schema=UserInfo.model_json_schema(),\n",
        "    on_invoke_tool=process_user\n",
        ")\n"
      ]
    },
    {
      "cell_type": "markdown",
      "metadata": {
        "id": "sOfqmk4ArTgK"
      },
      "source": [
        "###Translation Agent Setup"
      ]
    },
    {
      "cell_type": "code",
      "execution_count": null,
      "metadata": {
        "id": "WFbgkw2dRilV"
      },
      "outputs": [],
      "source": [
        "from agents import Agent\n",
        "\n",
        "hindi_translator = Agent(\n",
        "    name=\"Hindi Translator\",\n",
        "    instructions=\"आप उपयोगकर्ता के संदेश को हिंदी में अनुवाद करते हैं।\",\n",
        ")\n",
        "\n",
        "# Turn agent into a tool\n",
        "translator_tool = hindi_translator.as_tool(\n",
        "    tool_name=\"translate_to_hindi\",\n",
        "    tool_description=\"संदेश को हिंदी में अनुवाद करें।\"\n",
        ")"
      ]
    },
    {
      "cell_type": "markdown",
      "metadata": {
        "id": "IvtBdKvnrhQN"
      },
      "source": [
        "###Run Multi-Tool Sutra Agent"
      ]
    },
    {
      "cell_type": "code",
      "execution_count": null,
      "metadata": {
        "colab": {
          "base_uri": "https://localhost:8080/"
        },
        "id": "5u3bDupMRk7e",
        "outputId": "20d5137b-85c2-4f1e-f638-9162b210e110"
      },
      "outputs": [
        {
          "name": "stdout",
          "output_type": "stream",
          "text": [
            "जयपुर का मौसम आमतौर पर गर्म और शुष्क होता है, विशेषकर गर्मियों में (मार्च से जून) जब तापमान 40 डिग्री सेल्सियस तक पहुँच सकता है। मानसून (जुलाई से सितंबर) के दौरान, शहर में बारिश होती है, जिससे मौसम थोड़ी राहत मिलती है। सर्दियों (दिसंबर से फरवरी) में, तापमान 5-10 डिग्री सेल्सियस तक गिर सकता है, जो ठंडा महसूस कराता है। \n",
            "\n",
            "वर्तमान मौसम की जानकारी जानने के लिए आप मौसम सेवा वेबसाइट या ऐप्स पर देख सकते हैं।\n"
          ]
        }
      ],
      "source": [
        "import nest_asyncio\n",
        "import asyncio\n",
        "import os\n",
        "from agents import Agent, Runner\n",
        "from agents.extensions.models.litellm_model import LitellmModel\n",
        "\n",
        "nest_asyncio.apply()\n",
        "\n",
        "async def main():\n",
        "    agent = Agent(\n",
        "        name=\"Sutra Agent\",\n",
        "        instructions=\"आप एक सहायक हैं जो हिंदी में जवाब देता है।\",\n",
        "        model=LitellmModel(\n",
        "            model=\"openai/sutra-v2\",\n",
        "            api_key=os.environ[\"SUTRA_API_KEY\"],\n",
        "            base_url=\"https://api.two.ai/v2\"\n",
        "        ),\n",
        "        tools=[get_weather, process_user_tool, translator_tool],\n",
        "    )\n",
        "\n",
        "    result = await Runner.run(agent, \"मुझे जयपुर के मौसम के बारे में बताइए।\")\n",
        "    print(result.final_output)\n",
        "\n",
        "await main()\n"
      ]
    },
    {
      "cell_type": "markdown",
      "metadata": {
        "id": "gsKJWvMhsm9I"
      },
      "source": [
        "###Guardrails via OpenAI Agents SDK"
      ]
    },
    {
      "cell_type": "code",
      "execution_count": null,
      "metadata": {
        "id": "-X1XzOcvUsB-"
      },
      "outputs": [],
      "source": [
        "import nest_asyncio\n",
        "import asyncio\n",
        "import os\n",
        "from pydantic import BaseModel\n",
        "from agents import (\n",
        "    Agent,\n",
        "    Runner,\n",
        "    function_tool,\n",
        "    GuardrailFunctionOutput,\n",
        "    RunContextWrapper,\n",
        "    InputGuardrailTripwireTriggered,\n",
        "    input_guardrail,\n",
        "    TResponseInputItem,\n",
        ")\n",
        "from agents.extensions.models.litellm_model import LitellmModel\n",
        "\n",
        "# Patch event loop for Jupyter or other async environments\n",
        "nest_asyncio.apply()\n",
        "\n",
        "\n",
        "# Define the guardrail output model\n",
        "class MathHomeworkOutput(BaseModel):\n",
        "    is_math_homework: bool\n",
        "    reasoning: str\n",
        "\n",
        "# Setup guardrail agent - MUST output strict JSON only!\n",
        "guardrail_agent = Agent(\n",
        "    name=\"Math Homework Guardrail\",\n",
        "    instructions=(\n",
        "        \"You are a JSON API. Determine if the input asks for math homework help.\\n\"\n",
        "        \"Output ONLY a JSON object with fields:\\n\"\n",
        "        \"- is_math_homework (boolean)\\n\"\n",
        "        \"- reasoning (string)\\n\"\n",
        "        \"Do NOT output any extra text.\"\n",
        "    ),\n",
        "    output_type=MathHomeworkOutput,\n",
        "    model=LitellmModel(\n",
        "        model=\"openai/sutra-v2\",\n",
        "        api_key=os.environ.get(\"SUTRA_API_KEY\"),\n",
        "        base_url=\"https://api.two.ai/v2\",\n",
        "\n",
        "    ),\n",
        ")\n",
        "\n",
        "# Guardrail function using input_guardrail decorator\n",
        "@input_guardrail\n",
        "async def math_guardrail(\n",
        "    ctx: RunContextWrapper[None],\n",
        "    agent: Agent,\n",
        "    input: str | list[TResponseInputItem]\n",
        ") -> GuardrailFunctionOutput:\n",
        "    result = await Runner.run(guardrail_agent, input, context=ctx.context)\n",
        "    return GuardrailFunctionOutput(\n",
        "        output_info=result.final_output,\n",
        "        tripwire_triggered=result.final_output.is_math_homework,\n",
        "    )\n",
        "\n",
        "# Main agent setup with Sutra model and input guardrail\n",
        "main_agent = Agent(\n",
        "    name=\"Sutra Agent\",\n",
        "    instructions=\"You are a helpful assistant that responds in Hindi.\",\n",
        "    model=LitellmModel(\n",
        "        model=\"openai/sutra-v2\",\n",
        "        api_key=os.environ.get(\"SUTRA_API_KEY\"),\n",
        "        base_url=\"https://api.two.ai/v2\",\n",
        "    ),\n",
        "    tools=[get_weather],\n",
        "    input_guardrails=[math_guardrail],\n",
        ")"
      ]
    },
    {
      "cell_type": "markdown",
      "metadata": {
        "id": "uU_xkcDjs4Hr"
      },
      "source": [
        "### Guardrail Blocking vs Allowing Queries"
      ]
    },
    {
      "cell_type": "code",
      "execution_count": null,
      "metadata": {
        "colab": {
          "base_uri": "https://localhost:8080/"
        },
        "id": "E3fVPQyiVRCV",
        "outputId": "01f910d3-d4ab-4947-8185-3b0792b3d9cd"
      },
      "outputs": [
        {
          "name": "stdout",
          "output_type": "stream",
          "text": [
            "Example 1 - ⚠️ Guardrail triggered: Math homework detected! Agent run stopped.\n",
            "Example 2 - Agent response: दिल्ली का मौसम आमतौर पर चार मुख्य मौसमों में बंटा होता है: गर्मी, मानसून, सर्दी और पतझड़।\n",
            "\n",
            "1. **गर्मी (मार्च से जून)**: मार्च से जून तक का समय गर्मी का होता है। इस दौरान तापमान 30°C से लेकर 45°C तक जा सकता है। मई और जून में गर्मी सबसे अधिक होती है।\n",
            "\n",
            "2. **मानसून (जुलाई से सितंबर)**: जुलाई में मानसून की शुरुआत होती है, और यह सितंबर तक जारी रहता है। इस दौरान बारिश होती है, जो तापमान को थोड़ा कम कर देती है। औसत वर्षा लगभग 600 मिमी होती है।\n",
            "\n",
            "3. **सर्दी (दिसंबर से फरवरी)**: दिसंबर से फरवरी तक दिल्ली में सर्दी का मौसम होता है। तापमान 5°C से 20°C के बीच रहता है। जनवरी सबसे ठंडा महीना होता है।\n",
            "\n",
            "4. **पतझड़ (अक्टूबर से नवंबर)**: अक्टूबर और नवंबर में मौसम सुहावना रहता है। तापमान सामान्यतः 15°C से 30°C के बीच होता है।\n",
            "\n",
            "आप वर्तमान मौसम की जानकारी के लिए मौसम की वेबसाइट या ऐप्स देख सकते हैं, क्योंकि यह समय के साथ बदलता रहता है।\n"
          ]
        }
      ],
      "source": [
        "async def main():\n",
        "    # Example 1: Math homework input (should trigger guardrail)\n",
        "    try:\n",
        "        response = await Runner.run(main_agent, \"मुझे 2x + 3 = 11 का हल निकालने में मदद करें।\")\n",
        "        print(\"Example 1 - Agent response:\", response.final_output)\n",
        "    except InputGuardrailTripwireTriggered:\n",
        "        print(\"Example 1 - ⚠️ Guardrail triggered: Math homework detected! Agent run stopped.\")\n",
        "\n",
        "    # Example 2: Non-math input (should NOT trigger guardrail)\n",
        "    try:\n",
        "        response = await Runner.run(main_agent, \"मुझे दिल्ली के मौसम के बारे में बताओ।\")\n",
        "        print(\"Example 2 - Agent response:\", response.final_output)\n",
        "    except InputGuardrailTripwireTriggered:\n",
        "        print(\"Example 2 - ⚠️ Guardrail triggered unexpectedly!\")\n",
        "\n",
        "if __name__ == \"__main__\":\n",
        "    asyncio.run(main())"
      ]
    },
    {
      "cell_type": "markdown",
      "metadata": {
        "id": "6R-635wmtbDO"
      },
      "source": [
        "###Orchestrating multiple agents"
      ]
    },
    {
      "cell_type": "code",
      "execution_count": null,
      "metadata": {
        "colab": {
          "base_uri": "https://localhost:8080/"
        },
        "collapsed": true,
        "id": "wO-ywLpVX0sR",
        "outputId": "b2c3049b-72f0-41a7-fbb9-cf3437641684"
      },
      "outputs": [
        {
          "name": "stdout",
          "output_type": "stream",
          "text": [
            "===== Orchestration via code =====\n",
            "\n",
            "[Research Agent Output]: Climate change significantly impacts agriculture through alterations in temperature, precipitation patterns, and the frequency of extreme weather events. Key effects include:\n",
            "\n",
            "1. **Crop Yields**: Changes in temperature can affect crop growth cycles, potentially reducing yields for heat-sensitive crops like wheat and maize, especially in tropical regions.\n",
            "\n",
            "2. **Water Availability**: Altered precipitation patterns may lead to droughts in some areas and flooding in others, affecting irrigation and water supply for farming.\n",
            "\n",
            "3. **Pest and Disease Pressure**: Warmer temperatures can expand the range and lifecycle of pests and diseases, posing new challenges for crop management.\n",
            "\n",
            "4. **Soil Health**: Increased rainfall intensity can lead to soil erosion and degradation, while rising temperatures can affect soil moisture content and nutrient availability.\n",
            "\n",
            "5. **Food Security**: Lower agricultural productivity can threaten food security, particularly in developing countries that rely heavily on rain-fed agriculture.\n",
            "\n",
            "6. **Adaptation Strategies**: Farmers may need to adopt new practices, such as drought-resistant crop varieties, improved water management techniques, and diversified cropping systems to mitigate these impacts.\n",
            "\n",
            "Overall, addressing climate change's impact on agriculture is crucial for ensuring sustainable food production and security in the future.\n",
            "\n",
            "[Writer Agent Output]: ### The Impact of Climate Change on Agriculture: Challenges and Adaptation Strategies\n",
            "\n",
            "Climate change poses a significant threat to global agriculture, influencing various aspects of farming practices and food security. As temperatures rise, precipitation patterns shift, and extreme weather events become more frequent, the agricultural sector faces unprecedented challenges. Understanding these impacts is essential for developing effective adaptation strategies that ensure sustainable food production.\n",
            "\n",
            "#### 1. Crop Yields\n",
            "\n",
            "One of the most immediate effects of climate change on agriculture is the alteration of crop yields. Temperature changes can disrupt growth cycles, particularly affecting heat-sensitive crops such as wheat and maize. In tropical regions, where temperatures are already high, even slight increases can lead to substantial reductions in crop productivity. For instance, studies indicate that a 1°C rise in temperature could result in a 10% decrease in yields for staple crops, threatening the livelihoods of millions who depend on these crops for survival.\n",
            "\n",
            "#### 2. Water Availability\n",
            "\n",
            "Water availability is another critical concern as climate change alters precipitation patterns. Some regions may experience prolonged droughts, while others may face increased flooding. This variability complicates irrigation practices and can strain water supplies necessary for farming. Areas that rely heavily on rain-fed agriculture are particularly vulnerable, as unpredictable rainfall can lead to crop failures and reduced harvests.\n",
            "\n",
            "#### 3. Pest and Disease Pressure\n",
            "\n",
            "Warmer temperatures also create favorable conditions for pests and diseases, expanding their range and lifecycle. This shift poses new challenges for farmers, as they must adapt their pest management strategies to combat an increasing number of threats. For example, insects like locusts and aphids thrive in warmer climates, potentially leading to devastating infestations that can wipe out crops.\n",
            "\n",
            "#### 4. Soil Health\n",
            "\n",
            "The health of soil is crucial for sustainable agriculture, yet climate change threatens its integrity. Increased rainfall intensity can cause soil erosion and degradation, stripping away vital nutrients needed for crop growth. Additionally, rising temperatures can affect soil moisture content, leading to nutrient leaching and reduced fertility. Healthy soil is foundational to productive agriculture, and its degradation can have long-lasting impacts on food production systems.\n",
            "\n",
            "#### 5. Food Security\n",
            "\n",
            "The cumulative effects of reduced agricultural productivity due to climate change pose a significant threat to food security, especially in developing countries. These nations often rely on rain-fed agriculture and lack the resources to implement adaptive measures. As crop yields decline, food prices may rise, exacerbating hunger and malnutrition among vulnerable populations. Ensuring food security in the face of climate change is imperative for global stability and health.\n",
            "\n",
            "#### 6. Adaptation Strategies\n",
            "\n",
            "To mitigate the impacts of climate change on agriculture, farmers and policymakers must adopt innovative adaptation strategies. These may include:\n",
            "\n",
            "- **Drought-resistant Crop Varieties**: Developing and planting crops that can withstand prolonged periods of low water availability is crucial for maintaining yields in drier conditions.\n",
            "  \n",
            "- **Improved Water Management Techniques**: Implementing efficient irrigation systems and rainwater harvesting can help ensure a reliable water supply for crops, even in changing climates.\n",
            "  \n",
            "- **Diversified Cropping Systems**: Rotating crops and integrating various species can enhance resilience against pests and diseases, while also improving soil health.\n",
            "\n",
            "By embracing these strategies, the agricultural sector can better navigate the challenges posed by climate change and work towards sustainable food production.\n",
            "\n",
            "### Conclusion\n",
            "\n",
            "Addressing the impacts of climate change on agriculture is not just a matter of improving farming practices; it is essential for ensuring food security and sustainability in the future. By understanding the challenges and implementing effective adaptation strategies, we can build a resilient agricultural system capable of withstanding the pressures of a changing climate.\n",
            "\n",
            "===== Orchestration via LLM handoffs =====\n",
            "\n",
            "[Orchestrator Agent Output]: **Blog Post Workflow on \"Climate Change Impact on Agriculture\"**\n",
            "\n",
            "1. **Research Tasks Delegation to Research Agent:**\n",
            "   - Investigate the current scientific consensus on climate change and its effects on agricultural productivity.\n",
            "   - Collect data on specific crops most affected by climate change, including changes in yield, growth patterns, and geographic distribution.\n",
            "   - Explore case studies from different regions (e.g., North America, Sub-Saharan Africa, Southeast Asia) that illustrate the impact of climate change on agriculture.\n",
            "   - Analyze potential adaptive strategies that farmers can implement to mitigate the effects of climate change.\n",
            "   - Gather statistics on economic impacts, such as changes in food prices, farmer income, and food security related to climate change.\n",
            "   - Review policy responses from governments and organizations addressing climate change in agriculture.\n",
            "\n",
            "2. **Writing Delegation to Writer Agent:**\n",
            "   - Use the research output to craft a comprehensive blog post that includes:\n",
            "     - An introduction outlining the urgency of addressing climate change in the context of agriculture.\n",
            "     - A section detailing the scientific findings on how climate change affects crop yields, with specific examples.\n",
            "     - Case studies showcasing real-world impacts on farmers and communities.\n",
            "     - Discussion of adaptive strategies and innovations in agricultural practices to combat climate change.\n",
            "     - An analysis of the economic implications of climate change on agriculture, supported by statistics.\n",
            "     - Conclusion summarizing the importance of proactive measures and policy interventions to support sustainable agriculture in the face of climate change.\n",
            "\n",
            "Once the research tasks are completed, the Writer Agent will compile the information into a structured and engaging blog post.\n"
          ]
        }
      ],
      "source": [
        "import nest_asyncio\n",
        "import asyncio\n",
        "import os\n",
        "from agents import Agent, Runner, function_tool\n",
        "from agents.extensions.models.litellm_model import LitellmModel\n",
        "\n",
        "nest_asyncio.apply()\n",
        "\n",
        "# Function tool example (optional)\n",
        "@function_tool\n",
        "def search_web(query: str) -> str:\n",
        "    # Placeholder: pretend to search web and return snippet\n",
        "    return f\"Search results for '{query}': Important info about {query}.\"\n",
        "\n",
        "# Setup Research Agent\n",
        "research_agent = Agent(\n",
        "    name=\"Research Agent\",\n",
        "    instructions=\"You research topics and return concise summaries.\",\n",
        "    model=LitellmModel(\n",
        "        model=\"openai/sutra-v2\",\n",
        "        api_key=os.environ.get(\"SUTRA_API_KEY\"),\n",
        "        base_url=\"https://api.two.ai/v2\",\n",
        "    ),\n",
        "    tools=[search_web],\n",
        ")\n",
        "\n",
        "# Setup Writer Agent\n",
        "writer_agent = Agent(\n",
        "    name=\"Writer Agent\",\n",
        "    instructions=\"You write a blog post based on the provided research notes.\",\n",
        "    model=LitellmModel(\n",
        "        model=\"openai/sutra-v2\",\n",
        "        api_key=os.environ.get(\"SUTRA_API_KEY\"),\n",
        "        base_url=\"https://api.two.ai/v2\",\n",
        "    ),\n",
        ")\n",
        "\n",
        "# Orchestrator Agent: will delegate via handoffs\n",
        "orchestrator_agent = Agent(\n",
        "    name=\"Orchestrator Agent\",\n",
        "    instructions=(\n",
        "        \"You plan a blog post workflow. \"\n",
        "        \"First, delegate research tasks to the Research Agent, \"\n",
        "        \"then delegate writing to the Writer Agent using research output.\"\n",
        "    ),\n",
        "    model=LitellmModel(\n",
        "        model=\"openai/sutra-v2\",\n",
        "        api_key=os.environ.get(\"SUTRA_API_KEY\"),\n",
        "        base_url=\"https://api.two.ai/v2\",\n",
        "    ),\n",
        "    handoffs=[research_agent, writer_agent],  # allows delegating tasks\n",
        ")\n",
        "\n",
        "# -------- ORCHESTRATION VIA CODE --------\n",
        "async def orchestrate_via_code(topic: str):\n",
        "    # Step 1: Run Research Agent\n",
        "    research_result = await Runner.run(research_agent, topic)\n",
        "    research_notes = research_result.final_output\n",
        "    print(\"\\n[Research Agent Output]:\", research_notes)\n",
        "\n",
        "    # Step 2: Run Writer Agent with research notes as input\n",
        "    writer_result = await Runner.run(writer_agent, research_notes)\n",
        "    blog_post = writer_result.final_output\n",
        "    print(\"\\n[Writer Agent Output]:\", blog_post)\n",
        "\n",
        "# -------- ORCHESTRATION VIA LLM HANDOFFS --------\n",
        "async def orchestrate_via_llm(topic: str):\n",
        "    # Just call orchestrator agent with the topic and it handles handoffs internally\n",
        "    result = await Runner.run(orchestrator_agent, topic)\n",
        "    print(\"\\n[Orchestrator Agent Output]:\", result.final_output)\n",
        "\n",
        "async def main():\n",
        "    topic = \"Climate change impact on agriculture\"\n",
        "\n",
        "    print(\"===== Orchestration via code =====\")\n",
        "    await orchestrate_via_code(topic)\n",
        "\n",
        "    print(\"\\n===== Orchestration via LLM handoffs =====\")\n",
        "    await orchestrate_via_llm(topic)\n",
        "\n",
        "if __name__ == \"__main__\":\n",
        "    asyncio.run(main())"
      ]
    }
  ],
  "metadata": {
    "colab": {
      "provenance": []
    },
    "kernelspec": {
      "display_name": "Python 3",
      "name": "python3"
    },
    "language_info": {
      "name": "python"
    }
  },
  "nbformat": 4,
  "nbformat_minor": 0
}
