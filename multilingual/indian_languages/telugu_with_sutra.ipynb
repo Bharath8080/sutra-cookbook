{
  "nbformat": 4,
  "nbformat_minor": 0,
  "metadata": {
    "colab": {
      "provenance": []
    },
    "kernelspec": {
      "name": "python3",
      "display_name": "Python 3"
    },
    "language_info": {
      "name": "python"
    }
  },
  "cells": [
    {
      "cell_type": "markdown",
      "source": [
        "# OpenAI క్లయింట్‌తో తెలుగు భాష కోసం సూత్ర మోడల్ వినియోగం\n",
        "\n",
        "<img src=\"https://play-lh.googleusercontent.com/_O9p4Z4yucA2NLmZBu9mTJCuBwXeT9NcbtrDN6I8gKlkIPRySV0adOmbyipjSj9Gew\" width=\"150\">\n",
        "\n",
        "[![Open In Colab](https://colab.research.google.com/assets/colab-badge.svg)](https://colab.research.google.com/drive/1Qi4khmFNCqmRPaiQ0Z-jUf9dwZueOJsz?usp=sharing)\n",
        "\n",
        "\n",
        "## పరిచయం\n",
        "\n",
        "ఈ నోట్బుక్‌లో, OpenAI క్లయింట్‌తో సూత్ర మోడల్‌ను **తెలుగు భాషా** అప్లికేషన్‌ల కోసం ఎలా ఉపయోగించాలో మేము ప్రదర్శిస్తాము। భారతీయ భాషలను ప్రాసెస్ చేయడం మరియు కంటెంట్ రూపొందించడంలో సూత్ర మోడల్ చాలా సమర్థవంతంగా ఉంటుంది, కాబట్టి ఇది **తెలుగు** కోసం సరైన ఎంపికగా ఉంటుంది।\n",
        "\n",
        "### మీరు ఏమి నేర్చుకుంటారు\n",
        "\n",
        "* OpenAI క్లయింట్‌ను సూత్ర మోడల్‌తో ఎలా సెటప్ చేయాలో\n",
        "* **తెలుగు**లో ప్రాంప్ట్‌లను సృష్టించడం మరియు స్పందనలను అర్థం చేసుకోవడం\n",
        "* వివిధ **తెలుగు భాషా** వినియోగ ఉదాహరణలను అన్వేషించడం\n",
        "* **తెలుగు**లో కంటెంట్ రూపొందించడానికి ఉత్తమ చర్యలు\n"
      ],
      "metadata": {
        "id": "Kk8D2EkMmEeu"
      }
    },
    {
      "cell_type": "markdown",
      "source": [
        "## మీ API కీలను పొందండి\n",
        "\n",
        "ప్రారంభించడానికి ముందు, మీ వద్ద ఈ క్రింది వాటి ఉన్నాయని నిర్ధారించుకోండి:\n",
        "\n",
        "1. SUTRA API కీ ([TWO AI యొక్క SUTRA API పేజీ](https://www.two.ai/sutra/api) వద్ద పొందండి)\n",
        "2. Python మరియు Jupyter నోట్‌బుక్‌ల గురించి ప్రాథమిక పరిచయం\n",
        "\n",
        "ఈ నోట్‌బుక్ Google Colabలో రన్ అయ్యేలా రూపొందించబడింది, కాబట్టి స్థానిక Python ఇన్‌స్టాలేషన్ అవసరం లేదు."
      ],
      "metadata": {
        "id": "zI13p9GpnGDv"
      }
    },
    {
      "cell_type": "markdown",
      "source": [
        "\n",
        "\n",
        "## సెటప్\n",
        "\n",
        "మొదట, అవసరమైన లైబ్రరీలను ఇన్‌స్టాల్ చేయండి.\n",
        "\n"
      ],
      "metadata": {
        "id": "8kSlfHzmmSx0"
      }
    },
    {
      "cell_type": "code",
      "source": [
        "## అవసరమైన ప్యాకేజీలు ఇన్‌స్టాల్ చేయండి\n",
        "\n",
        "!pip install openai requests pandas matplotlib"
      ],
      "metadata": {
        "id": "mYcb5wejmfJm",
        "colab": {
          "base_uri": "https://localhost:8080/"
        },
        "outputId": "f57c0804-9b82-4e24-e514-bb2b2efa78ad"
      },
      "execution_count": null,
      "outputs": [
        {
          "output_type": "stream",
          "name": "stdout",
          "text": [
            "Requirement already satisfied: openai in /usr/local/lib/python3.11/dist-packages (1.76.2)\n",
            "Requirement already satisfied: requests in /usr/local/lib/python3.11/dist-packages (2.32.3)\n",
            "Requirement already satisfied: pandas in /usr/local/lib/python3.11/dist-packages (2.2.2)\n",
            "Requirement already satisfied: matplotlib in /usr/local/lib/python3.11/dist-packages (3.10.0)\n",
            "Requirement already satisfied: anyio<5,>=3.5.0 in /usr/local/lib/python3.11/dist-packages (from openai) (4.9.0)\n",
            "Requirement already satisfied: distro<2,>=1.7.0 in /usr/local/lib/python3.11/dist-packages (from openai) (1.9.0)\n",
            "Requirement already satisfied: httpx<1,>=0.23.0 in /usr/local/lib/python3.11/dist-packages (from openai) (0.28.1)\n",
            "Requirement already satisfied: jiter<1,>=0.4.0 in /usr/local/lib/python3.11/dist-packages (from openai) (0.9.0)\n",
            "Requirement already satisfied: pydantic<3,>=1.9.0 in /usr/local/lib/python3.11/dist-packages (from openai) (2.11.4)\n",
            "Requirement already satisfied: sniffio in /usr/local/lib/python3.11/dist-packages (from openai) (1.3.1)\n",
            "Requirement already satisfied: tqdm>4 in /usr/local/lib/python3.11/dist-packages (from openai) (4.67.1)\n",
            "Requirement already satisfied: typing-extensions<5,>=4.11 in /usr/local/lib/python3.11/dist-packages (from openai) (4.13.2)\n",
            "Requirement already satisfied: charset-normalizer<4,>=2 in /usr/local/lib/python3.11/dist-packages (from requests) (3.4.1)\n",
            "Requirement already satisfied: idna<4,>=2.5 in /usr/local/lib/python3.11/dist-packages (from requests) (3.10)\n",
            "Requirement already satisfied: urllib3<3,>=1.21.1 in /usr/local/lib/python3.11/dist-packages (from requests) (2.4.0)\n",
            "Requirement already satisfied: certifi>=2017.4.17 in /usr/local/lib/python3.11/dist-packages (from requests) (2025.4.26)\n",
            "Requirement already satisfied: numpy>=1.23.2 in /usr/local/lib/python3.11/dist-packages (from pandas) (2.0.2)\n",
            "Requirement already satisfied: python-dateutil>=2.8.2 in /usr/local/lib/python3.11/dist-packages (from pandas) (2.9.0.post0)\n",
            "Requirement already satisfied: pytz>=2020.1 in /usr/local/lib/python3.11/dist-packages (from pandas) (2025.2)\n",
            "Requirement already satisfied: tzdata>=2022.7 in /usr/local/lib/python3.11/dist-packages (from pandas) (2025.2)\n",
            "Requirement already satisfied: contourpy>=1.0.1 in /usr/local/lib/python3.11/dist-packages (from matplotlib) (1.3.2)\n",
            "Requirement already satisfied: cycler>=0.10 in /usr/local/lib/python3.11/dist-packages (from matplotlib) (0.12.1)\n",
            "Requirement already satisfied: fonttools>=4.22.0 in /usr/local/lib/python3.11/dist-packages (from matplotlib) (4.57.0)\n",
            "Requirement already satisfied: kiwisolver>=1.3.1 in /usr/local/lib/python3.11/dist-packages (from matplotlib) (1.4.8)\n",
            "Requirement already satisfied: packaging>=20.0 in /usr/local/lib/python3.11/dist-packages (from matplotlib) (24.2)\n",
            "Requirement already satisfied: pillow>=8 in /usr/local/lib/python3.11/dist-packages (from matplotlib) (11.2.1)\n",
            "Requirement already satisfied: pyparsing>=2.3.1 in /usr/local/lib/python3.11/dist-packages (from matplotlib) (3.2.3)\n",
            "Requirement already satisfied: httpcore==1.* in /usr/local/lib/python3.11/dist-packages (from httpx<1,>=0.23.0->openai) (1.0.9)\n",
            "Requirement already satisfied: h11>=0.16 in /usr/local/lib/python3.11/dist-packages (from httpcore==1.*->httpx<1,>=0.23.0->openai) (0.16.0)\n",
            "Requirement already satisfied: annotated-types>=0.6.0 in /usr/local/lib/python3.11/dist-packages (from pydantic<3,>=1.9.0->openai) (0.7.0)\n",
            "Requirement already satisfied: pydantic-core==2.33.2 in /usr/local/lib/python3.11/dist-packages (from pydantic<3,>=1.9.0->openai) (2.33.2)\n",
            "Requirement already satisfied: typing-inspection>=0.4.0 in /usr/local/lib/python3.11/dist-packages (from pydantic<3,>=1.9.0->openai) (0.4.0)\n",
            "Requirement already satisfied: six>=1.5 in /usr/local/lib/python3.11/dist-packages (from python-dateutil>=2.8.2->pandas) (1.17.0)\n"
          ]
        }
      ]
    },
    {
      "cell_type": "markdown",
      "source": [
        "### అవసరమైన లైబ్రరీలు దిగుమతి చేసుకోండి\n"
      ],
      "metadata": {
        "id": "ojrZbJSOmpBk"
      }
    },
    {
      "cell_type": "code",
      "source": [
        "# అవసరమైన లైబ్రరీలను దిగుమతి చేసుకోండి\n",
        "import os\n",
        "import time\n",
        "import pandas as pd\n",
        "import matplotlib.pyplot as plt\n",
        "from openai import OpenAI\n",
        "from IPython.display import display, Markdown, HTML\n",
        "from google.colab import userdata"
      ],
      "metadata": {
        "id": "JUUWX2ComxB-"
      },
      "execution_count": null,
      "outputs": []
    },
    {
      "cell_type": "markdown",
      "source": [
        "## ప్రామాణికత\n",
        "\n",
        "Sutra APIని ఉపయోగించడానికి, మీరు మీ API కీని సెట్ చేయాలి."
      ],
      "metadata": {
        "id": "ALYktuKgnF0a"
      }
    },
    {
      "cell_type": "code",
      "source": [
        "# ఉదాహరణకి, కోడ్లో ఉపయోగించాలంటే:\n",
        "os.environ[\"SUTRA_API_KEY\"] = userdata.get('SUTRA_API_KEY')"
      ],
      "metadata": {
        "id": "mqnwDQBkneXp"
      },
      "execution_count": null,
      "outputs": []
    },
    {
      "cell_type": "markdown",
      "source": [
        "###OpenAI క్లయింట్‌ను సుత్ర API ఎండ్పాయింట్‌తో సృష్టించండి"
      ],
      "metadata": {
        "id": "EQ-oB99qnsHn"
      }
    },
    {
      "cell_type": "code",
      "source": [
        "# OpenAI క్లయింట్‌ను సుత్ర API ఎండ్పాయింట్‌తో సృష్టించడం\n",
        "client = OpenAI(\n",
        "    base_url=\"https://api.two.ai/v2\",  # సుత్ర API ఎండ్పాయింట్ URL\n",
        "    api_key=os.environ.get(\"SUTRA_API_KEY\")  # API కీ నుండి పొందిన విలువ\n",
        ")"
      ],
      "metadata": {
        "id": "gJqTFZqnn1fj"
      },
      "execution_count": null,
      "outputs": []
    },
    {
      "cell_type": "markdown",
      "source": [
        "# హెల్పర్ ఫంక్షన్లు\n",
        "\n",
        "సూత్ర API ని ఉపయోగించి ఇంగ్లీష్ భాషా పనులకు సహాయపడే ఫంక్షన్లు సృష్టించడం"
      ],
      "metadata": {
        "id": "SQCudFlLn_OS"
      }
    },
    {
      "cell_type": "code",
      "source": [
        "import time\n",
        "\n",
        "def get_sutra_response(prompt, temperature=0.7, max_tokens=100):\n",
        "    \"\"\"\n",
        "    ఇచ్చిన ప్రాంప్ట్ ఆధారంగా సూత్ర API నుండి స్పందనను పొందుతుంది.\n",
        "\n",
        "    పారామీటర్లు:\n",
        "        prompt (str): యూజర్ అందించిన ప్రాంప్ట్ లేదా ప్రశ్న.\n",
        "        temperature (float): స్పందనలో సృజనాత్మకతను నియంత్రిస్తుంది (0 నుండి 1 వరకు).\n",
        "        max_tokens (int): స్పందనలో గరిష్టంగా ఉండే టోకెన్ల సంఖ్య.\n",
        "\n",
        "    రిటర్న్:\n",
        "        str: సూత్ర నుండి వచ్చిన స్పందన\n",
        "        float: స్పందనను పొందడానికి తీసుకున్న సమయం (సెకన్లలో)\n",
        "    \"\"\"\n",
        "    start_time = time.time()\n",
        "\n",
        "    try:\n",
        "        response = client.chat.completions.create(\n",
        "            model=\"sutra-v2\",  # సూత్ర మోడల్ వర్షన్\n",
        "            messages=[{\"role\": \"user\", \"content\": prompt}],\n",
        "            max_tokens=max_tokens,\n",
        "            temperature=temperature\n",
        "        )\n",
        "\n",
        "        end_time = time.time()\n",
        "        response_text = response.choices[0].message.content.strip()\n",
        "        time_taken = end_time - start_time\n",
        "\n",
        "        # ఫలితాన్ని ప్రింట్ చేయండి\n",
        "        print(\"ప్రాంప్ట్:\", prompt)\n",
        "        print(\"సూత్ర స్పందన:\", response_text)\n",
        "        print(f\"సమయం తీసుకుంది: {time_taken:.2f} సెకన్లు\\n\")\n",
        "\n",
        "        return response_text, time_taken\n",
        "\n",
        "    except Exception as e:\n",
        "        print(\"లోపం:\", str(e))\n",
        "        return f\"లోపం: {str(e)}\", None\n",
        "\n",
        "import time\n",
        "\n",
        "def get_sutra_streaming_response(prompt, temperature=0.7, max_tokens=100):\n",
        "    \"\"\"\n",
        "    ఇచ్చిన ప్రాంప్ట్‌కు సూత్ర API నుండి స్ట్రీమింగ్ స్పందనను పొందుతుంది.\n",
        "\n",
        "    పారామీటర్లు:\n",
        "        prompt (str): యూజర్ ఇచ్చిన ప్రాంప్ట్ లేదా ప్రశ్న\n",
        "        temperature (float): సృజనాత్మకత స్థాయిని నియంత్రిస్తుంది (0 నుండి 1)\n",
        "        max_tokens (int): గరిష్టంగా జనరేట్ చేయబడే టోకెన్ల సంఖ్య\n",
        "\n",
        "    రిటర్న్:\n",
        "        str: పూర్తిగా స్ట్రీమ్ అయిన స్పందన\n",
        "    \"\"\"\n",
        "    start_time = time.time()\n",
        "\n",
        "    try:\n",
        "        stream = client.chat.completions.create(\n",
        "            model=\"sutra-v2\",  # సూత్ర మోడల్\n",
        "            messages=[{\"role\": \"user\", \"content\": prompt}],\n",
        "            temperature=temperature,\n",
        "            max_tokens=max_tokens,\n",
        "            stream=True\n",
        "        )\n",
        "\n",
        "        print(\"ప్రాంప్ట్:\", prompt)\n",
        "        print(\"సూత్ర స్ట్రీమింగ్ స్పందన:\")\n",
        "\n",
        "        full_response = \"\"\n",
        "        for chunk in stream:\n",
        "            if chunk.choices[0].delta.content is not None:\n",
        "                content = chunk.choices[0].delta.content\n",
        "                print(content, end=\"\", flush=True)\n",
        "                full_response += content\n",
        "\n",
        "        end_time = time.time()\n",
        "        print(f\"\\nసమయం తీసుకుంది: {end_time - start_time:.2f} సెకన్లు\\n\")\n",
        "\n",
        "        return full_response\n",
        "\n",
        "    except Exception as e:\n",
        "        print(\"లోపం:\", str(e))\n",
        "        return f\"లోపం: {str(e)}\""
      ],
      "metadata": {
        "id": "N5AxIOWEoF6w"
      },
      "execution_count": null,
      "outputs": []
    },
    {
      "cell_type": "markdown",
      "source": [
        "## 1. ప్రాథమిక తెలుగు భాష జనరేషన్\n",
        "\n",
        "సుత్రాతో తెలుగు టెక్స్ట్‌ను జనరేట్ చేసే కొన్ని ప్రాథమిక ఉదాహరణలతో ప్రారంభిద్దాం.\n"
      ],
      "metadata": {
        "id": "_H7gNV8KofqO"
      }
    },
    {
      "cell_type": "code",
      "source": [
        "telugu_prompt = \"హలో, నా పేరు రాహుల్. మీరు ఎలా ఉన్నారు?\"\n",
        "\n",
        "response, time_taken = get_sutra_response(telugu_prompt)"
      ],
      "metadata": {
        "id": "R4dqGHJipDjm",
        "colab": {
          "base_uri": "https://localhost:8080/"
        },
        "outputId": "75771720-5c2c-472e-a21a-ba96881b214e"
      },
      "execution_count": null,
      "outputs": [
        {
          "output_type": "stream",
          "name": "stdout",
          "text": [
            "ప్రాంప్ట్: హలో, నా పేరు రాహుల్. మీరు ఎలా ఉన్నారు?\n",
            "సూత్ర స్పందన: హలో, రాహుల్! నేను ఇక్కడ ఉన్నాను మరియు మీకు సహాయం చేయడానికి సిద్ధంగా ఉన్నాను. ఈరోజు నేను మీకు ఎలా సహాయం చేయగలను?\n",
            "సమయం తీసుకుంది: 2.33 సెకన్లు\n",
            "\n"
          ]
        }
      ]
    },
    {
      "cell_type": "markdown",
      "source": [
        "## 2. తెలుగు లో సమాచారపు పునరుద్ధరణ\n",
        "\n",
        "తెలుగులో సమాచారాన్ని పునరుద్ధరించడానికి సుత్రా ఉపయోగించుకుందాం."
      ],
      "metadata": {
        "id": "r8GrsNIopL5u"
      }
    },
    {
      "cell_type": "code",
      "source": [
        "# తెలుగు లో సమాచారపు పునరుద్ధరణ\n",
        "\n",
        "info_prompt = \"భారతదేశంలోని ఐదు ప్రధాన పండుగల గురించి చెప్పండి మరియు వాటి ప్రాముఖ్యతపై వివరణ ఇవ్వండి.\"\n",
        "\n",
        "response, time_taken = get_sutra_response(info_prompt)"
      ],
      "metadata": {
        "id": "QJCv4P2opT0B",
        "colab": {
          "base_uri": "https://localhost:8080/"
        },
        "outputId": "a2eb348b-f504-4ea0-d85d-3cc84b64df62"
      },
      "execution_count": null,
      "outputs": [
        {
          "output_type": "stream",
          "name": "stdout",
          "text": [
            "ప్రాంప్ట్: భారతదేశంలోని ఐదు ప్రధాన పండుగల గురించి చెప్పండి మరియు వాటి ప్రాముఖ్యతపై వివరణ ఇవ్వండి.\n",
            "సూత్ర స్పందన: భారతదేశం గొప్ప సాంస్కృతిక వారసత్వం కలిగిన వైవిధ్యభరితమైన దేశం, మరియు దాని పండుగలు ఈ వైవిధ్యాన్ని ప్రతిబింబిస్తాయి. భారతదేశంలో జరుపుకునే ఐదు ప్రధాన పండుగలు, వాటి ప్రాముఖ్యతతో పాటు ఇక్కడ ఉన్నాయి.:\n",
            "\n",
            "1. **దీపావళి (దీపావళి))**:\n",
            "   - **వివరణ**: దీపాల పండుగగా పిలువబడే దీపావళిని హిందువులు, జైనులు, సిక్కులు మరియు కొంతమంది బౌద్ధులు జరుపుకుంటారు. ఇది చీకటిపై కాంతి విజయాన్ని, చెడుపై మంచి విజయాన్ని సూచిస్తుంది.\n",
            "   - **ప్రాముఖ్యత**: దీపావళి శ్రీరాముని పునరాగమనాన్ని గౌరవిస్తుంది.\n",
            "సమయం తీసుకుంది: 7.46 సెకన్లు\n",
            "\n"
          ]
        }
      ]
    },
    {
      "cell_type": "markdown",
      "source": [
        "## 3. తెలుగు లో సృజనాత్మక రచన\n",
        "\n",
        "సుత్రా తెలుగు లో సృజనాత్మక కంటెంట్ ను జనరేట్ చేయవచ్చు."
      ],
      "metadata": {
        "id": "LgXUYbJepjr6"
      }
    },
    {
      "cell_type": "code",
      "source": [
        "#తెలుగు లో సృజనాత్మక రచన\n",
        "creative_prompt = \"హిమాలయాల గురించి చిన్న కవిత రాయండి.\"\n",
        "\n",
        "response, time_taken = get_sutra_response(creative_prompt, temperature=0.8)"
      ],
      "metadata": {
        "id": "y08Kk5gPplc7",
        "colab": {
          "base_uri": "https://localhost:8080/"
        },
        "outputId": "3ebf63d5-77b9-4b35-cc6c-2648452dc3a6"
      },
      "execution_count": null,
      "outputs": [
        {
          "output_type": "stream",
          "name": "stdout",
          "text": [
            "ప్రాంప్ట్: హిమాలయాల గురించి చిన్న కవిత రాయండి.\n",
            "సూత్ర స్పందన: హిమాలయాలు శిఖరాల ఉచ్చములో,  \n",
            "నీలి ఆకాశంలో నిండిన సంద్రములో.  \n",
            "సంతోషం, శాంతి కాబట్టి, అందరూ పిలుస్తారు,  \n",
            "ఒక అనుభవం, ఒక చిరంతన కలలు.\n",
            "\n",
            "శివుని గుడిలో ఆశీర్వాదాలు,  \n",
            "తటస్థంగా నిలబడే తూర్పు అన్నా,  \n",
            "పర్వతాల ఎత్త\n",
            "సమయం తీసుకుంది: 2.49 సెకన్లు\n",
            "\n"
          ]
        }
      ]
    },
    {
      "cell_type": "markdown",
      "source": [
        "## 4. తెలుగు లో సారాంశం\n",
        "\n",
        "సుత్రా తెలుగు టెక్స్ట్‌ను సమర్ధంగా సారాంశం చేయవచ్చు."
      ],
      "metadata": {
        "id": "bov8Acn8p26v"
      }
    },
    {
      "cell_type": "code",
      "source": [
        "# సారాంశం కోసం టెక్స్ట్\n",
        "\n",
        "long_text = \"\"\"\n",
        "భారతదేశం స్వాతంత్య్రం యొక్క చరిత్ర చాలా పొడవైనది మరియు క్లిష్టమైనది. బ్రిటిష్ పాలన 1757లో ప్లాసీ యుద్ధం తర్వాత భారతదేశంలో మొదలైంది, అప్పటి ఈస్ట్ ఇండియా కంపెనీ బెంగాల్ నవాబ్ సిరాజ్-ఉద్-దౌలాను ఓడించి, భారతదేశంలో తమ ప్రభావాన్ని వ్యాప్తి చేసింది. 1858 నాటికి, భారతదేశం నేరుగా బ్రిటిష్ క్రౌన్ యొక్క పాలనలోకి వచ్చిపోయింది.\n",
        "\n",
        "1857 తిరుగుబాటు, మొదటి స్వాతంత్య్ర యుద్ధం అని కూడా పిలుస్తారు, బ్రిటిష్ పాలనకు వ్యతిరేకంగా మొదటి పెద్ద తిరుగుబాటుగా ఉంది. ఈ తిరుగుబాటు విఫలమైనప్పటికీ, భారతీయులలో జాతీయ చైతన్యాన్ని ఉత్తేజపరిచింది.\n",
        "\n",
        "1885లో భారత జాతీయ కాంగ్రెస్ స్థాపనతో స్వాతంత్య్ర ఉద్యమం మరింత నిర్విఘ్నంగా మారింది. మహాత్మా గాంధీ నాయకత్వంలో, స్వాతంత్య్రం కోసం నిర్భయ ప్రతిఘటన మరియు సత్యాగ్రహం ద్వారా డిమాండ్లు చేయబడతాయి.\n",
        "\n",
        "1942లో 'క్విట్ ఇండియా ఉద్యమం' ప్రారంభమైంది, ఇది బ్రిటిష్‌లను భారతదేశం విడిచిపెట్టడానికి బలవంతం చేసింది. ప్రపంచ యుద్ధం II తర్వాత, బ్రిటన్ ఆర్థిక పరిస్థితి బలహీనపడింది, మరియు చివరికి, భారతదేశం ఆగస్టు 15, 1947న స్వాతంత్య్రాన్ని పొందింది, అయితే దేశం భారతదేశం మరియు పాకిస్తాన్‌గా విభజించబడింది.\n",
        "\"\"\"\n",
        "\n",
        "summarize_prompt = f\"కింది టెక్స్ట్‌ను 100 పదాలలో కన్నా తక్కువగా సారాంశం చేయండి:\\n\\n{long_text}\"\n",
        "\n",
        "summary, time_taken = get_sutra_response(summarize_prompt, temperature=0.3)"
      ],
      "metadata": {
        "id": "qxJ7oEUJroj7",
        "colab": {
          "base_uri": "https://localhost:8080/"
        },
        "outputId": "e9512612-2f20-4471-cd2a-356099155396"
      },
      "execution_count": null,
      "outputs": [
        {
          "output_type": "stream",
          "name": "stdout",
          "text": [
            "ప్రాంప్ట్: కింది టెక్స్ట్‌ను 100 పదాలలో కన్నా తక్కువగా సారాంశం చేయండి:\n",
            "\n",
            "\n",
            "భారతదేశం స్వాతంత్య్రం యొక్క చరిత్ర చాలా పొడవైనది మరియు క్లిష్టమైనది. బ్రిటిష్ పాలన 1757లో ప్లాసీ యుద్ధం తర్వాత భారతదేశంలో మొదలైంది, అప్పటి ఈస్ట్ ఇండియా కంపెనీ బెంగాల్ నవాబ్ సిరాజ్-ఉద్-దౌలాను ఓడించి, భారతదేశంలో తమ ప్రభావాన్ని వ్యాప్తి చేసింది. 1858 నాటికి, భారతదేశం నేరుగా బ్రిటిష్ క్రౌన్ యొక్క పాలనలోకి వచ్చిపోయింది.\n",
            "\n",
            "1857 తిరుగుబాటు, మొదటి స్వాతంత్య్ర యుద్ధం అని కూడా పిలుస్తారు, బ్రిటిష్ పాలనకు వ్యతిరేకంగా మొదటి పెద్ద తిరుగుబాటుగా ఉంది. ఈ తిరుగుబాటు విఫలమైనప్పటికీ, భారతీయులలో జాతీయ చైతన్యాన్ని ఉత్తేజపరిచింది.\n",
            "\n",
            "1885లో భారత జాతీయ కాంగ్రెస్ స్థాపనతో స్వాతంత్య్ర ఉద్యమం మరింత నిర్విఘ్నంగా మారింది. మహాత్మా గాంధీ నాయకత్వంలో, స్వాతంత్య్రం కోసం నిర్భయ ప్రతిఘటన మరియు సత్యాగ్రహం ద్వారా డిమాండ్లు చేయబడతాయి.\n",
            "\n",
            "1942లో 'క్విట్ ఇండియా ఉద్యమం' ప్రారంభమైంది, ఇది బ్రిటిష్‌లను భారతదేశం విడిచిపెట్టడానికి బలవంతం చేసింది. ప్రపంచ యుద్ధం II తర్వాత, బ్రిటన్ ఆర్థిక పరిస్థితి బలహీనపడింది, మరియు చివరికి, భారతదేశం ఆగస్టు 15, 1947న స్వాతంత్య్రాన్ని పొందింది, అయితే దేశం భారతదేశం మరియు పాకిస్తాన్‌గా విభజించబడింది.\n",
            "\n",
            "సూత్ర స్పందన: 1757 ప్లాసీ యుద్ధం తర్వాత భారతదేశంలో బ్రిటిష్ పాలన ప్రారంభమైంది, ఇది 1858 నాటికి ప్రత్యక్ష క్రౌన్ నియంత్రణకు దారితీసింది. 1857 తిరుగుబాటు జాతీయ చైతన్యాన్ని పెంపొందించే మొదటి ప్రధాన ప్రతిఘటనగా గుర్తించబడింది. మహాత్మా గాంధీ అహింసా మార్గాల ద్వారా స్వాతంత్ర్యం కోసం వాదించడంతో 1885లో భారత జాతీయ కాంగ్రెస్ స్థాపించబడింది. 1942లో 'క్విట్ ఇండియా ఉద్యమం' స్వాతంత్ర్య డిమాండ్లను తీవ్రతరం చేసింది. రెండవ ప్రపంచ యుద్ధం మరియు బ్రిటన్ ఆర్థిక వ్యవస్థ బలహీనపడిన తరువాత, భారతదేశం ఆగస్టు 15, 1947న స్వాతంత్ర్యం సాధించింది.\n",
            "సమయం తీసుకుంది: 2.93 సెకన్లు\n",
            "\n"
          ]
        }
      ]
    },
    {
      "cell_type": "markdown",
      "source": [
        "## 5. తెలుగు లో ప్రశ్న-జవాబు\n",
        "\n",
        "సుత్రాను తెలుగు లో ప్రశ్న-జవాబుల కోసం ఉపయోగిద్దాం.\n"
      ],
      "metadata": {
        "id": "ZavHc0pur5nZ"
      }
    },
    {
      "cell_type": "code",
      "source": [
        "# ప్రశ్న-జవాబు కోసం సందర్భం\n",
        "\n",
        "context = \"\"\"\n",
        "భారతదేశం యొక్క రాజ్యాంగం ప్రపంచంలోనే అతి పెద్ద వ్రాయబడిన రాజ్యాంగంగా పరిగణించబడుతుంది. ఇది 1949 నవంబర్ 26న ఆమోదించబడింది మరియు 1950 జనవరి 26న అమల్లోకి వచ్చింది. డాక్టర్ బి. ఆర్. అంబేడ్కర్ భారత రాజ్యాంగం యొక్క ప్రధాన రూపకర్తగా పరిగణించబడతారు. అసలైన రాజ్యాంగం 395 కథనాలు, 22 భాగాలు మరియు 8 షెడ్యూల్లతో ఉన్నది. ప్రస్తుతం, ఇందులో 448 కథనాలు, 25 భాగాలు మరియు 12 షెడ్యూల్లు ఉన్నాయి. 'సోషలిస్టు', 'సెక్యులర్' మరియు 'ఐక్యత' అనే పదాలను 42వ సవరణ (1976) ద్వారా ప్రవేశపెట్టారు.\n",
        "\"\"\"\n",
        "\n",
        "qa_prompt = f\"కింది సమాచారం ఆధారంగా ప్రశ్నలకు జవాబులు ఇవ్వండి:\\n\\n{context}\\n\\nప్రశ్న 1: భారత రాజ్యాంగం ఎప్పుడు అమల్లోకి వచ్చింది?\\nప్రశ్న 2: భారత రాజ్యాంగం యొక్క ప్రధాన రూపకర్త ఎవరు?\\nప్రశ్న 3: 42వ సవరణ ద్వారా ప్రీ అంబుల్‌లో ఏ పదాలు జోడించబడ్డాయి?\"\n",
        "\n",
        "answers, time_taken = get_sutra_response(qa_prompt, temperature=0.2)"
      ],
      "metadata": {
        "id": "T5FYvk1RsCwj",
        "colab": {
          "base_uri": "https://localhost:8080/"
        },
        "outputId": "66a944a4-00f1-48d2-bdb5-f3ab8beaac57"
      },
      "execution_count": null,
      "outputs": [
        {
          "output_type": "stream",
          "name": "stdout",
          "text": [
            "ప్రాంప్ట్: కింది సమాచారం ఆధారంగా ప్రశ్నలకు జవాబులు ఇవ్వండి:\n",
            "\n",
            "\n",
            "భారతదేశం యొక్క రాజ్యాంగం ప్రపంచంలోనే అతి పెద్ద వ్రాయబడిన రాజ్యాంగంగా పరిగణించబడుతుంది. ఇది 1949 నవంబర్ 26న ఆమోదించబడింది మరియు 1950 జనవరి 26న అమల్లోకి వచ్చింది. డాక్టర్ బి. ఆర్. అంబేడ్కర్ భారత రాజ్యాంగం యొక్క ప్రధాన రూపకర్తగా పరిగణించబడతారు. అసలైన రాజ్యాంగం 395 కథనాలు, 22 భాగాలు మరియు 8 షెడ్యూల్లతో ఉన్నది. ప్రస్తుతం, ఇందులో 448 కథనాలు, 25 భాగాలు మరియు 12 షెడ్యూల్లు ఉన్నాయి. 'సోషలిస్టు', 'సెక్యులర్' మరియు 'ఐక్యత' అనే పదాలను 42వ సవరణ (1976) ద్వారా ప్రవేశపెట్టారు.\n",
            "\n",
            "\n",
            "ప్రశ్న 1: భారత రాజ్యాంగం ఎప్పుడు అమల్లోకి వచ్చింది?\n",
            "ప్రశ్న 2: భారత రాజ్యాంగం యొక్క ప్రధాన రూపకర్త ఎవరు?\n",
            "ప్రశ్న 3: 42వ సవరణ ద్వారా ప్రీ అంబుల్‌లో ఏ పదాలు జోడించబడ్డాయి?\n",
            "సూత్ర స్పందన: 1. భారత రాజ్యాంగం 1950 జనవరి 26న అమల్లోకి వచ్చింది.\n",
            "2. డాక్టర్ బి. ఆర్. అంబేద్కర్ భారత రాజ్యాంగ ప్రధాన శిల్పిగా పరిగణించబడ్డాడు.\n",
            "3. 1976లో 42వ సవరణ ద్వారా 'సోషలిస్ట్', 'లౌకిక' మరియు 'ఐక్యత' అనే పదాలను ప్రవేశికలో చేర్చారు.\n",
            "సమయం తీసుకుంది: 2.64 సెకన్లు\n",
            "\n"
          ]
        }
      ]
    },
    {
      "cell_type": "markdown",
      "source": [
        "## 6. తెలుగు-ఇంగ్లీష్ అనువాదం\n",
        "\n",
        "సుత్రా తెలుగు మరియు ఇంగ్లీష్ మధ్య సమర్థవంతంగా అనువదించగలదు."
      ],
      "metadata": {
        "id": "YEja9e8psNkP"
      }
    },
    {
      "cell_type": "code",
      "source": [
        "# తెలుగు నుండి ఇంగ్లీష్ అనువాదం\n",
        "\n",
        "telugu_text = \"భారతదేశం ఒక వైవిధ్యమైన దేశం, ఇక్కడ అనేక భాషలు, మతాలు మరియు సంస్కృతులు కలిసి అభివృద్ధి చెందుతున్నాయి. దీని సంపన్నమైన సంప్రదాయాలు మరియు చరిత్ర దీన్ని ప్రపంచంలో ప్రత్యేకమైన స్థానాన్ని ఇస్తాయి.\"\n",
        "\n",
        "translate_te_to_en_prompt = f\"కింది తెలుగు టెక్స్ట్‌ను ఇంగ్లీష్ లో అనువదించండి:\\n\\n{telugu_text}\"\n",
        "\n",
        "translation_en, time_taken = get_sutra_response(translate_te_to_en_prompt)"
      ],
      "metadata": {
        "id": "XScac0irswRL",
        "colab": {
          "base_uri": "https://localhost:8080/"
        },
        "outputId": "4659b653-5adc-4646-ef30-88b607e59e80"
      },
      "execution_count": null,
      "outputs": [
        {
          "output_type": "stream",
          "name": "stdout",
          "text": [
            "ప్రాంప్ట్: కింది తెలుగు టెక్స్ట్‌ను ఇంగ్లీష్ లో అనువదించండి:\n",
            "\n",
            "భారతదేశం ఒక వైవిధ్యమైన దేశం, ఇక్కడ అనేక భాషలు, మతాలు మరియు సంస్కృతులు కలిసి అభివృద్ధి చెందుతున్నాయి. దీని సంపన్నమైన సంప్రదాయాలు మరియు చరిత్ర దీన్ని ప్రపంచంలో ప్రత్యేకమైన స్థానాన్ని ఇస్తాయి.\n",
            "సూత్ర స్పందన: India is a diverse country where many languages, religions, and cultures coexist and thrive together. Its rich traditions and history give it a unique place in the world.\n",
            "సమయం తీసుకుంది: 2.43 సెకన్లు\n",
            "\n"
          ]
        }
      ]
    },
    {
      "cell_type": "code",
      "source": [
        "# ఇంగ్లీష్ నుండి తెలుగు అనువాదం\n",
        "\n",
        "english_text = \"Artificial intelligence is transforming the way we live and work. It has applications in healthcare, education, transportation, and many other fields. As technology advances, it's important to ensure that AI is developed ethically and responsibly.\"\n",
        "\n",
        "translate_en_to_te_prompt = f\"కింది ఇంగ్లీష్ టెక్స్ట్‌ను తెలుగు లో అనువదించండి:\\n\\n{english_text}\"\n",
        "\n",
        "translation_te, time_taken = get_sutra_response(translate_en_to_te_prompt)"
      ],
      "metadata": {
        "id": "R75NplLhtH42",
        "colab": {
          "base_uri": "https://localhost:8080/"
        },
        "outputId": "3cb39fdf-22c5-4860-c41a-26ce0af4c6cc"
      },
      "execution_count": null,
      "outputs": [
        {
          "output_type": "stream",
          "name": "stdout",
          "text": [
            "ప్రాంప్ట్: కింది ఇంగ్లీష్ టెక్స్ట్‌ను తెలుగు లో అనువదించండి:\n",
            "\n",
            "Artificial intelligence is transforming the way we live and work. It has applications in healthcare, education, transportation, and many other fields. As technology advances, it's important to ensure that AI is developed ethically and responsibly.\n",
            "సూత్ర స్పందన: కృత్రిమ మేధస్సు మన జీవనశైలి మరియు పని విధానాన్ని మారుస్తోంది. ఇది ఆరోగ్య సంరక్షణ, విద్య, రవాణా మరియు అనేక ఇతర రంగాలలో ఉపయోగాలు కలిగి ఉంది. టెక్నాలజీ అభివృద్ధి చెందుతున్నప్పుడూ, కృత్రిమ మేధస్సు నైతికంగా మరియు బాధ్యతాయుతంగా అభివృద్ధి చేయబడుతున్నదని నిర్ధారించడం చాలా ముఖ\n",
            "సమయం తీసుకుంది: 3.16 సెకన్లు\n",
            "\n"
          ]
        }
      ]
    },
    {
      "cell_type": "markdown",
      "source": [
        "## 7. తెలుగు సెంటిమెంట్ విశ్లేషణ\n",
        "\n",
        "సుత్రాను తెలుగు టెక్స్ట్ పై సెంటిమెంట్ విశ్లేషణ చేయడానికి ఉపయోగిద్దాం."
      ],
      "metadata": {
        "id": "KScNxyl7tTLF"
      }
    },
    {
      "cell_type": "code",
      "source": [
        "# భావనాత్మక విశ్లేషణ కోసం ఇంగ్లీష్ సమీక్షలు\n",
        "reviews = [\n",
        "    \"ఈ సినిమా చాలా మంచిది. కథ ఆసక్తికరంగా ఉంది మరియు నటన అద్భుతం.\",\n",
        "    \"ఆహారం అంగీకరించదగినది కాదు మరియు సేవ చాలా పేదది.\",\n",
        "    \"ఉత్పత్తి బాగుంది, కానీ ధర కొంచెం ఎక్కువ.\",\n",
        "    \"నేను ఈ పుస్తకాన్ని మెచ్చుకున్నాను, రచయిత విషయం చాలా బాగా వివరించారు.\",\n",
        "    \"యాత్ర నిరాశపరచింది, హోటల్ దుర్గంధం మరియు సిబ్బంది అనియతంగా ఉన్నారు.\"\n",
        "]\n",
        "\n",
        "sentiment_prompt = \"క్రింది ఇంగ్లీష్ సమీక్షలపై భావనాత్మక విశ్లేషణను నిర్వహించండి మరియు ప్రతి ఒక్కటీని 'సానుకూల', 'నెగటివ్', లేదా 'తటస్థ' గా వర్గీకరించండి:\\n\\n\"\n",
        "\n",
        "for i, review in enumerate(reviews):\n",
        "    sentiment_prompt += f\"{i+1}. {review}\\n\"\n",
        "\n",
        "sentiment_analysis, time_taken = get_sutra_response(sentiment_prompt, temperature=0.1)"
      ],
      "metadata": {
        "id": "WPu3nXzHtsD5",
        "colab": {
          "base_uri": "https://localhost:8080/"
        },
        "outputId": "def62b8e-f763-41eb-9f86-a957a51a3972"
      },
      "execution_count": null,
      "outputs": [
        {
          "output_type": "stream",
          "name": "stdout",
          "text": [
            "ప్రాంప్ట్: క్రింది ఇంగ్లీష్ సమీక్షలపై భావనాత్మక విశ్లేషణను నిర్వహించండి మరియు ప్రతి ఒక్కటీని 'సానుకూల', 'నెగటివ్', లేదా 'తటస్థ' గా వర్గీకరించండి:\n",
            "\n",
            "1. ఈ సినిమా చాలా మంచిది. కథ ఆసక్తికరంగా ఉంది మరియు నటన అద్భుతం.\n",
            "2. ఆహారం అంగీకరించదగినది కాదు మరియు సేవ చాలా పేదది.\n",
            "3. ఉత్పత్తి బాగుంది, కానీ ధర కొంచెం ఎక్కువ.\n",
            "4. నేను ఈ పుస్తకాన్ని మెచ్చుకున్నాను, రచయిత విషయం చాలా బాగా వివరించారు.\n",
            "5. యాత్ర నిరాశపరచింది, హోటల్ దుర్గంధం మరియు సిబ్బంది అనియతంగా ఉన్నారు.\n",
            "\n",
            "సూత్ర స్పందన: 1. **పాజిటివ్**: ఈ సమీక్ష సినిమా గురించి అనుకూలమైన అభిప్రాయాన్ని వ్యక్తం చేస్తుంది, ఆసక్తికరమైన కథ మరియు అద్భుతమైన నటన రెండింటినీ హైలైట్ చేస్తుంది.\n",
            "\n",
            "2. **ప్రతికూలమైనది**: ఈ సమీక్ష ఆహారం మరియు సేవ రెండింటిపైనా అసంతృప్తిని స్పష్టంగా తెలియజేస్తుంది, ఇది పేలవమైన అనుభవాన్ని సూచిస్తుంది.\n",
            "\n",
            "3. **తటస్థ**: ఉత్పత్తి మంచిదని వర్ణించబడినప్పటికీ, అధిక ధర గురించి ప్రస్తావించడం స్వల్ప విమర్శను కలిగిస్తుంది, మొత్తం సెంటిమెంట్‌ను ఖచ్చితంగా సానుకూలంగా లేదా ప్రతికూలంగా కాకుండా మరింత సమతుల్యంగా చేస్తుంది.\n",
            "\n",
            "4. **పాజిటివ్**: సమీక్షకుడు పుస్తకాన్ని ప్రశంసిస్తాడు మరియు ప్రశంసిస్తాడు\n",
            "సమయం తీసుకుంది: 3.32 సెకన్లు\n",
            "\n"
          ]
        }
      ]
    },
    {
      "cell_type": "markdown",
      "source": [
        "## 8. వివిధ ఫార్మాట్ల కోసం తెలుగు కంటెంట్ ఉత్పత్తి\n",
        "\n",
        "సుత్రా వివిధ ఫార్మాట్లలో తెలుగు కంటెంట్‌ను ఉత్పత్తి చేయగలదు."
      ],
      "metadata": {
        "id": "j3dCFQhquFeH"
      }
    },
    {
      "cell_type": "code",
      "source": [
        "# తెలుగు బ్లాగ్ పోస్ట్ ఉత్పత్తి చేయండి\n",
        "\n",
        "blog_prompt = \"'భారతీయ వంటకాల మరియు వాటి ఆరోగ్యంపై ప్రభావం' అనే అంశంపై ఒక బ్లాగ్ పోస్ట్ రాయండి. ఇందులో శీర్షిక, పరిచయం, ముఖ్యాంశాలు మరియు నిర్థారణ చేర్చండి.\"\n",
        "\n",
        "blog_post = get_sutra_streaming_response(blog_prompt, temperature=0.7)"
      ],
      "metadata": {
        "id": "9oehzxuBuXa7",
        "colab": {
          "base_uri": "https://localhost:8080/"
        },
        "outputId": "93641730-04a9-4b47-ad28-785217d5ac7f"
      },
      "execution_count": null,
      "outputs": [
        {
          "output_type": "stream",
          "name": "stdout",
          "text": [
            "ప్రాంప్ట్: 'భారతీయ వంటకాల మరియు వాటి ఆరోగ్యంపై ప్రభావం' అనే అంశంపై ఒక బ్లాగ్ పోస్ట్ రాయండి. ఇందులో శీర్షిక, పరిచయం, ముఖ్యాంశాలు మరియు నిర్థారణ చేర్చండి.\n",
            "సూత్ర స్ట్రీమింగ్ స్పందన:\n",
            "# భారతీయ వంటకాల యొక్క వైబ్రంట్ ప్యాలెట్ మరియు ఆరోగ్యంపై దాని ప్రభావం\n",
            "\n",
            "## పరిచయం\n",
            "\n",
            "భారతీయ వంటకాలు శతాబ్దాల చరిత్ర, విభిన్న సంస్కృతులు మరియు ప్రాంతీయ రుచుల నుండి అల్లిన రంగురంగుల వస్త్రం. గొప్ప సుగంధ ద్రవ్యాలు, సుగంధ మూలికలు మరియు వైవిధ్యమైన పదార్థాలకు ప్రసిద్ధి చెందిన భారతీయ ఆహారం, రుచి మొగ్గలను ఆకట్టుకోవడమే కాకుండా గణనీయమైన ఆరోగ్య ప్రయోజనాలను కూడా కలిగి ఉంది. ఈ బ్లాగ్ పోస్ట్ భారతీయ వంటకాల పోషక అంశాలు, ఆరోగ్యంపై దాని ప్రభావం మరియు దానిని సమతుల్య ఆహారంలో ఎలా చేర్చవచ్చో అన్వేషిస్తుంది.\n",
            "\n",
            "## ప్రధాన అంశాలు\n",
            "\n",
            "### 1.\n",
            "సమయం తీసుకుంది: 2.95 సెకన్లు\n",
            "\n"
          ]
        }
      ]
    },
    {
      "cell_type": "markdown",
      "source": [
        "## 9. నిర్థారణ\n",
        "\n",
        "ఈ నోట్‌బుక్‌లో, మేము హిందీ భాషా అనువర్తనాల కోసం OpenAI క్లయింట్‌తో సుత్రా మోడల్‌ను ఉపయోగించడం అన్వేషించాము. మేము వివిధ ఉపయోగం కేసులను కవర్ చేశాము, అందులో ఉన్నాయి:\n",
        "\n",
        "* ప్రాథమిక తెలుగు టెక్స్ట్ ఉత్పత్తి\n",
        "* తెలుగు సమాచారం తిరిగి పొందడం\n",
        "* తెలుగు సృజనాత్మక రచన\n",
        "* తెలుగు టెక్స్ట్ సంక్షిప్తీకరణ\n",
        "* తెలుగు ప్రశ్న-జవాబు\n",
        "* తెలుగు-ఇంగ్లీష్ అనువాదం\n",
        "* తెలుగు భావన విశ్లేషణ\n",
        "* వివిధ ఫార్మాట్ల కోసం తెలుగు కంటెంట్ ఉత్పత్తి\n",
        "* తెలుగు కోడ్-స్విచ్చింగ్\n",
        "* తెలుగు సాంస్కృతిక సందర్భం అర్థం చేసుకోవడం\n",
        "* తెలుగు నిర్మిత అవుట్‌పుట్ ఉత్పత్తి\n",
        "\n",
        "తెలుగు మరియు ఇతర భారతీయ భాషల్లో సుత్రా యొక్క బలమైన సామర్థ్యాలు దీనిని తెలుగు-భాషా వినియోగదారులను లక్ష్యం చేసే లేదా తెలుగు భాషా ప్రాసెసింగ్ అవసరమయ్యే అనువర్తనాల కోసం ఒక అద్భుతమైన ఎంపికగా మార్చుతాయి.\n"
      ],
      "metadata": {
        "id": "RqriC_rWu0lv"
      }
    },
    {
      "cell_type": "markdown",
      "source": [
        "## 10. అదనపు వనరులు\n",
        "\n",
        "తెలుగు భాషతో సుత్రా ఉపయోగించే విషయంపై మరింత తెలుసుకోవడానికి, క్రింద ఇచ్చిన వనరులను ఉపయోగించండి:\n",
        "\n",
        "1. [సుత్రా API డాక్యుమెంటేషన్](https://docs.two.ai)\n",
        "2. [సుత్రా మోడల్ వేరియెంట్లు](https://docs.two.ai/models)\n",
        "3. [బహుభాషా సామర్థ్యాల గురించి మరింత సమాచారం](https://docs.two.ai/multilingual)\n",
        "\n",
        "తెలుగు మరియు ఇతర భారతీయ భాషల కోసం సుత్రా ఉపయోగించి మీ స్వంత అనువర్తనాలను రూపొందించడానికి ప్రేరణ పొందండి!"
      ],
      "metadata": {
        "id": "H8mdzXGGu-8d"
      }
    }
  ]
}