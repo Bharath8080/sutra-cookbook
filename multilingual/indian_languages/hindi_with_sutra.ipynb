{
  "cells": [
    {
      "cell_type": "markdown",
      "metadata": {
        "id": "BlEdCjdRqfad"
      },
      "source": [
        "# सुत्र मॉडल का उपयोग हिंदी भाषा के लिए OpenAI क्लाइंट के साथ\n",
        "\n",
        "<img src=\"https://play-lh.googleusercontent.com/_O9p4Z4yucA2NLmZBu9mTJCuBwXeT9NcbtrDN6I8gKlkIPRySV0adOmbyipjSj9Gew\" width=\"150\">\n",
        "\n",
        "[![Open In Colab](https://colab.research.google.com/assets/colab-badge.svg)](https://colab.research.google.com/drive/12clKIF1dkeUXkkTdDG9qlCM6tnmfLpPp?usp=sharing)\n",
        "\n",
        "## परिचय\n",
        "\n",
        "इस नोटबुक में हम सुत्र मॉडल का उपयोग OpenAI क्लाइंट के साथ विशेष रूप से हिंदी भाषा के अनुप्रयोगों के लिए कैसे करें, यह दिखाया गया है। सुत्र भारतीय भाषाओं में सामग्री को संसाधित करने और उत्पन्न करने में उत्कृष्ट है, जिससे यह हिंदी भाषा के कार्यों के लिए एक आदर्श विकल्प बन जाता है।\n",
        "\n",
        "### आप क्या सीखेंगे\n",
        "\n",
        "- सुत्र मॉडल के साथ काम करने के लिए OpenAI क्लाइंट को सेट करना\n",
        "- हिंदी भाषा के प्रॉम्प्ट बनाना और प्रतिक्रियाओं को समझना\n",
        "- विभिन्न हिंदी भाषा के उपयोग के मामलों का अन्वेषण\n",
        "- हिंदी भाषा में सामग्री उत्पादन के लिए सर्वोत्तम अभ्यास"
      ]
    },
    {
      "cell_type": "markdown",
      "source": [
        "##अपने API कीज़ प्राप्त करें\n",
        "शुरू करने से पहले, सुनिश्चित करें कि आपके पास:\n",
        "\n",
        "1. एक SUTRA API की (इसे TWO AI की SUTRA API (https://www.two.ai/sutra/api) पेज पर प्राप्त करें)\n",
        "2. Python और Jupyter नोटबुक्स की बुनियादी जानकारी\n",
        "\n",
        "यह नोटबुक Google Colab में चलने के लिए डिज़ाइन की गई है, इसलिए स्थानीय Python इंस्टॉलेशन की आवश्यकता नहीं है।"
      ],
      "metadata": {
        "id": "68bp5TdxmK12"
      }
    },
    {
      "cell_type": "markdown",
      "metadata": {
        "id": "uBXOpVMYqfaf"
      },
      "source": [
        "## सेटअप\n",
        "\n",
        "सबसे पहले, आवश्यक लाइब्रेरी स्थापित करें।"
      ]
    },
    {
      "cell_type": "code",
      "execution_count": null,
      "metadata": {
        "id": "zqKtkhgjqfag",
        "colab": {
          "base_uri": "https://localhost:8080/"
        },
        "outputId": "c4451f11-35d2-4ce8-af3f-5087085399d5"
      },
      "outputs": [
        {
          "output_type": "stream",
          "name": "stdout",
          "text": [
            "Requirement already satisfied: openai in /usr/local/lib/python3.11/dist-packages (1.61.1)\n",
            "Requirement already satisfied: requests in /usr/local/lib/python3.11/dist-packages (2.32.3)\n",
            "Requirement already satisfied: pandas in /usr/local/lib/python3.11/dist-packages (2.2.2)\n",
            "Requirement already satisfied: matplotlib in /usr/local/lib/python3.11/dist-packages (3.10.0)\n",
            "Requirement already satisfied: anyio<5,>=3.5.0 in /usr/local/lib/python3.11/dist-packages (from openai) (3.7.1)\n",
            "Requirement already satisfied: distro<2,>=1.7.0 in /usr/local/lib/python3.11/dist-packages (from openai) (1.9.0)\n",
            "Requirement already satisfied: httpx<1,>=0.23.0 in /usr/local/lib/python3.11/dist-packages (from openai) (0.28.1)\n",
            "Requirement already satisfied: jiter<1,>=0.4.0 in /usr/local/lib/python3.11/dist-packages (from openai) (0.8.2)\n",
            "Requirement already satisfied: pydantic<3,>=1.9.0 in /usr/local/lib/python3.11/dist-packages (from openai) (2.10.6)\n",
            "Requirement already satisfied: sniffio in /usr/local/lib/python3.11/dist-packages (from openai) (1.3.1)\n",
            "Requirement already satisfied: tqdm>4 in /usr/local/lib/python3.11/dist-packages (from openai) (4.67.1)\n",
            "Requirement already satisfied: typing-extensions<5,>=4.11 in /usr/local/lib/python3.11/dist-packages (from openai) (4.12.2)\n",
            "Requirement already satisfied: charset-normalizer<4,>=2 in /usr/local/lib/python3.11/dist-packages (from requests) (3.4.1)\n",
            "Requirement already satisfied: idna<4,>=2.5 in /usr/local/lib/python3.11/dist-packages (from requests) (3.10)\n",
            "Requirement already satisfied: urllib3<3,>=1.21.1 in /usr/local/lib/python3.11/dist-packages (from requests) (2.3.0)\n",
            "Requirement already satisfied: certifi>=2017.4.17 in /usr/local/lib/python3.11/dist-packages (from requests) (2025.1.31)\n",
            "Requirement already satisfied: numpy>=1.23.2 in /usr/local/lib/python3.11/dist-packages (from pandas) (1.26.4)\n",
            "Requirement already satisfied: python-dateutil>=2.8.2 in /usr/local/lib/python3.11/dist-packages (from pandas) (2.8.2)\n",
            "Requirement already satisfied: pytz>=2020.1 in /usr/local/lib/python3.11/dist-packages (from pandas) (2025.1)\n",
            "Requirement already satisfied: tzdata>=2022.7 in /usr/local/lib/python3.11/dist-packages (from pandas) (2025.1)\n",
            "Requirement already satisfied: contourpy>=1.0.1 in /usr/local/lib/python3.11/dist-packages (from matplotlib) (1.3.1)\n",
            "Requirement already satisfied: cycler>=0.10 in /usr/local/lib/python3.11/dist-packages (from matplotlib) (0.12.1)\n",
            "Requirement already satisfied: fonttools>=4.22.0 in /usr/local/lib/python3.11/dist-packages (from matplotlib) (4.56.0)\n",
            "Requirement already satisfied: kiwisolver>=1.3.1 in /usr/local/lib/python3.11/dist-packages (from matplotlib) (1.4.8)\n",
            "Requirement already satisfied: packaging>=20.0 in /usr/local/lib/python3.11/dist-packages (from matplotlib) (24.2)\n",
            "Requirement already satisfied: pillow>=8 in /usr/local/lib/python3.11/dist-packages (from matplotlib) (11.1.0)\n",
            "Requirement already satisfied: pyparsing>=2.3.1 in /usr/local/lib/python3.11/dist-packages (from matplotlib) (3.2.1)\n",
            "Requirement already satisfied: httpcore==1.* in /usr/local/lib/python3.11/dist-packages (from httpx<1,>=0.23.0->openai) (1.0.7)\n",
            "Requirement already satisfied: h11<0.15,>=0.13 in /usr/local/lib/python3.11/dist-packages (from httpcore==1.*->httpx<1,>=0.23.0->openai) (0.14.0)\n",
            "Requirement already satisfied: annotated-types>=0.6.0 in /usr/local/lib/python3.11/dist-packages (from pydantic<3,>=1.9.0->openai) (0.7.0)\n",
            "Requirement already satisfied: pydantic-core==2.27.2 in /usr/local/lib/python3.11/dist-packages (from pydantic<3,>=1.9.0->openai) (2.27.2)\n",
            "Requirement already satisfied: six>=1.5 in /usr/local/lib/python3.11/dist-packages (from python-dateutil>=2.8.2->pandas) (1.17.0)\n"
          ]
        }
      ],
      "source": [
        "# आवश्यक पैकेज स्थापित करें\n",
        "!pip install openai requests pandas matplotlib"
      ]
    },
    {
      "cell_type": "markdown",
      "source": [
        "### आवश्यक लाइब्रेरी आयात करें\n"
      ],
      "metadata": {
        "id": "epWi8kAkrLgs"
      }
    },
    {
      "cell_type": "code",
      "source": [
        "# आवश्यक लाइब्रेरी आयात करें\n",
        "import os\n",
        "import time\n",
        "import pandas as pd\n",
        "import matplotlib.pyplot as plt\n",
        "from openai import OpenAI\n",
        "from IPython.display import display, Markdown, HTML\n",
        "from google.colab import userdata"
      ],
      "metadata": {
        "id": "LZbaRD00rKLx"
      },
      "execution_count": null,
      "outputs": []
    },
    {
      "cell_type": "markdown",
      "metadata": {
        "id": "uC7N6MySqfah"
      },
      "source": [
        "## प्रमाणीकरण\n",
        "\n",
        "सुत्र API का उपयोग करने के लिए, आपको अपनी API कुंजी सेट करने की आवश्यकता है।"
      ]
    },
    {
      "cell_type": "code",
      "execution_count": null,
      "metadata": {
        "id": "rYFgF5Ifqfah"
      },
      "outputs": [],
      "source": [
        "# यदि आप कोड संदर्भ में इसका उपयोग करना चाहते हैं, तो उदाहरण के लिए:\n",
        "os.environ[\"SUTRA_API_KEY\"] = userdata.get('SUTRA_API_KEY')"
      ]
    },
    {
      "cell_type": "markdown",
      "source": [
        "### सुत्र के API एंडपॉइंट के साथ OpenAI क्लाइंट बनाएं\n"
      ],
      "metadata": {
        "id": "YvCcj9R9rR7X"
      }
    },
    {
      "cell_type": "code",
      "source": [
        "# सुत्र के API एंडपॉइंट के साथ OpenAI क्लाइंट बनाएं\n",
        "client = OpenAI(\n",
        "    base_url=\"https://api.two.ai/v2\",\n",
        "    api_key=os.environ.get(\"SUTRA_API_KEY\")\n",
        ")"
      ],
      "metadata": {
        "id": "18Pg2LE-rQ9G"
      },
      "execution_count": null,
      "outputs": []
    },
    {
      "cell_type": "markdown",
      "metadata": {
        "id": "lRhdOSZAqfah"
      },
      "source": [
        "## सहायक फ़ंक्शन\n",
        "\n",
        "हिंदी भाषा के कार्यों के लिए सुत्र API के साथ बातचीत करने के लिए सहायक फ़ंक्शन बनाएं।"
      ]
    },
    {
      "cell_type": "code",
      "execution_count": null,
      "metadata": {
        "id": "ojlZAQD6qfah"
      },
      "outputs": [],
      "source": [
        "import time\n",
        "\n",
        "def get_sutra_response(prompt, model=\"sutra-v2\", temperature=0.7, max_tokens=1024):\n",
        "    \"\"\"\n",
        "    दिए गए प्रॉम्प्ट के लिए सुत्र AI से सामान्य (non-streaming) प्रतिक्रिया प्राप्त करें।\n",
        "\n",
        "    आर्ग्स:\n",
        "        prompt (str): उपयोगकर्ता का प्रॉम्प्ट या प्रश्न।\n",
        "        model (str): उपयोग करने के लिए सुत्र मॉडल।\n",
        "        temperature (float): यादृच्छिकता को नियंत्रित करता है (0 से 1)।\n",
        "        max_tokens (int): उत्पन्न करने के लिए अधिकतम टोकन की संख्या।\n",
        "\n",
        "    रिटर्न्स:\n",
        "        str: मॉडल की प्रतिक्रिया।\n",
        "        float: प्रतिक्रिया प्राप्त करने में लगा समय।\n",
        "    \"\"\"\n",
        "    start_time = time.time()\n",
        "\n",
        "    try:\n",
        "        response = client.chat.completions.create(\n",
        "            model=model,\n",
        "            messages=[{\"role\": \"user\", \"content\": prompt}],\n",
        "            max_tokens=max_tokens,\n",
        "            temperature=temperature\n",
        "        )\n",
        "\n",
        "        end_time = time.time()\n",
        "        result = response.choices[0].message.content\n",
        "        time_taken = end_time - start_time\n",
        "\n",
        "        # सरल आउटपुट\n",
        "        print(\"प्रॉम्प्ट:\", prompt)\n",
        "        print(\"प्रतिक्रिया:\", result)\n",
        "        print(f\"समय: {time_taken:.2f} सेकंड\\n\")\n",
        "\n",
        "        return result, time_taken\n",
        "\n",
        "    except Exception as e:\n",
        "        end_time = time.time()\n",
        "        print(\"त्रुटि:\", str(e))\n",
        "        return f\"त्रुटि: {str(e)}\", end_time - start_time\n",
        "\n",
        "\n",
        "def get_sutra_streaming_response(prompt, model=\"sutra-v2\", temperature=0.7, max_tokens=1024):\n",
        "    \"\"\"\n",
        "    दिए गए प्रॉम्प्ट के लिए सुत्र AI से स्ट्रीमिंग प्रतिक्रिया प्राप्त करें।\n",
        "\n",
        "    आर्ग्स:\n",
        "        prompt (str): उपयोगकर्ता का प्रॉम्प्ट या प्रश्न।\n",
        "        model (str): उपयोग करने के लिए सुत्र मॉडल।\n",
        "        temperature (float): यादृच्छिकता को नियंत्रित करता है (0 से 1)।\n",
        "        max_tokens (int): उत्पन्न करने के लिए अधिकतम टोकन की संख्या।\n",
        "\n",
        "    रिटर्न्स:\n",
        "        str: पूरी मॉडल प्रतिक्रिया।\n",
        "        float: प्रतिक्रिया प्राप्त करने में लगा कुल समय।\n",
        "    \"\"\"\n",
        "    start_time = time.time()\n",
        "\n",
        "    try:\n",
        "        stream = client.chat.completions.create(\n",
        "            model=model,\n",
        "            messages=[{\"role\": \"user\", \"content\": prompt}],\n",
        "            max_tokens=max_tokens,\n",
        "            temperature=temperature,\n",
        "            stream=True\n",
        "        )\n",
        "\n",
        "        print(\"प्रॉम्प्ट:\", prompt)\n",
        "        print(\"प्रतिक्रिया:\")\n",
        "\n",
        "        full_response = \"\"\n",
        "        for chunk in stream:\n",
        "            if chunk.choices[0].delta.content is not None:\n",
        "                content = chunk.choices[0].delta.content\n",
        "                full_response += content\n",
        "                print(content, end=\"\")\n",
        "\n",
        "        print(\"\\n\")\n",
        "        time_taken = time.time() - start_time\n",
        "        print(f\"समय: {time_taken:.2f} सेकंड\\n\")\n",
        "\n",
        "        return full_response, time_taken\n",
        "\n",
        "    except Exception as e:\n",
        "        end_time = time.time()\n",
        "        print(\"त्रुटि:\", str(e))\n",
        "        return f\"त्रुटि: {str(e)}\", end_time - start_time\n"
      ]
    },
    {
      "cell_type": "markdown",
      "metadata": {
        "id": "IXM9gIRZqfah"
      },
      "source": [
        "## 1. बुनियादी हिंदी भाषा उत्पादन\n",
        "\n",
        "आइए सुत्र के साथ हिंदी पाठ उत्पन्न करने के कुछ बुनियादी उदाहरणों से शुरू करें।"
      ]
    },
    {
      "cell_type": "code",
      "execution_count": null,
      "metadata": {
        "id": "ogSPvWWIqfai",
        "colab": {
          "base_uri": "https://localhost:8080/"
        },
        "outputId": "fb77ba1d-5837-48c1-d7d6-eea204d961c4"
      },
      "outputs": [
        {
          "output_type": "stream",
          "name": "stdout",
          "text": [
            "प्रॉम्प्ट: नमस्ते, मेरा नाम राहुल है। आप कैसे हैं?\n",
            "प्रतिक्रिया: नमस्ते राहुल! मैं ठीक हूँ, धन्यवाद। आप कैसे हैं?\n",
            "समय: 2.53 सेकंड\n",
            "\n"
          ]
        }
      ],
      "source": [
        "# सरल हिंदी पाठ उत्पादन\n",
        "hindi_prompt = \"नमस्ते, मेरा नाम राहुल है। आप कैसे हैं?\"\n",
        "\n",
        "response, time_taken = get_sutra_response(hindi_prompt)"
      ]
    },
    {
      "cell_type": "markdown",
      "metadata": {
        "id": "NJH3TOeQqfai"
      },
      "source": [
        "## 2. हिंदी में जानकारी पुनर्प्राप्ति\n",
        "\n",
        "आइए हिंदी में जानकारी पुनर्प्राप्त करने के लिए सुत्र का उपयोग करें।"
      ]
    },
    {
      "cell_type": "code",
      "execution_count": null,
      "metadata": {
        "id": "xlvxebHXqfai",
        "colab": {
          "base_uri": "https://localhost:8080/"
        },
        "outputId": "8de67ea5-8515-4aa7-d5e1-ed14e79591bb"
      },
      "outputs": [
        {
          "output_type": "stream",
          "name": "stdout",
          "text": [
            "प्रॉम्प्ट: भारत के पांच प्रमुख त्योहारों के बारे में बताएं और उनके महत्व पर प्रकाश डालें।\n",
            "प्रतिक्रिया: भारत में अनेक त्योहार मनाए जाते हैं, जो देश की विविधता और सांस्कृतिक धरोहर को दर्शाते हैं। यहाँ पांच प्रमुख त्योहारों और उनके महत्व के बारे में जानकारी दी गई है:\n",
            "\n",
            "1. **दीवाली (दीपावली)**:\n",
            "   - **महत्व**: दीवाली, जिसे दीपावली भी कहा जाता है, हिंदू धर्म का एक प्रमुख त्यौहार है। यह विशेष रूप से भगवान राम के अयोध्या लौटने और रावण पर विजय प्राप्त करने के उपलक्ष्य में मनाया जाता है। यह अंधकार से प्रकाश की ओर जाने का प्रतीक है।\n",
            "   - **विशेषताएँ**: घरों की सफाई, दीप जलाना, पटाखे फोड़ना और मिठाई बाँटना इस त्योहार की विशेषताएँ हैं।\n",
            "\n",
            "2. **होली**:\n",
            "   - **महत्व**: होली, रंगों का त्योहार, बुराई पर अच्छाई की विजय का प्रतीक है। इसे फाल्गुन मास की पूर्णिमा को मनाया जाता है और यह वसंत ऋतु के आगमन का स्वागत करता है।\n",
            "   - **विशेषताएँ**: लोग एक-दूसरे पर रंग डालते हैं, गाते-बजाते हैं और मिठाइयाँ बांटते हैं। यह प्रेम और भाईचारे का संदेश फैलाता है।\n",
            "\n",
            "3. **ईद-उल-फितर**:\n",
            "   - **महत्व**: ईद-उल-फितर रमजान के महीने के बाद मनाया जाने वाला एक महत्वपूर्ण मुस्लिम त्योहार है। यह उपवास और प्रार्थना के बाद एकता और भाईचारे का प्रतीक है।\n",
            "   - **विशेषताएँ**: इस दिन लोग नमाज़ अदा करते हैं, एक-दूसरे को गले लगाते हैं और दावतें देते हैं। ज़कात (दान) देना भी इस त्योहार का एक महत्वपूर्ण हिस्सा है।\n",
            "\n",
            "4. **रक्षा बंधन**:\n",
            "   - **महत्व**: यह त्योहार भाई-बहन के रिश्ते को समर्पित है। बहनें अपने भाइयों की कलाई पर राखी बांधती हैं, जबकि भाई अपनी बहनों को सुरक्षा और प्रेम का आश्वासन देते हैं।\n",
            "   - **विशेषताएँ**: इस दिन भाई बहनों को उपहार देते हैं और परिवार के बीच प्रेम बढ़ाने का अवसर होता है।\n",
            "\n",
            "5. **गणेश चतुर्थी**:\n",
            "   - **महत्व**: गणेश चतुर्थी भगवान गणेश के जन्मोत्सव के रूप में मनाया जाता है। यह समृद्धि और खुशहाली का प्रतीक है।\n",
            "   - **विशेषताएँ**: भक्त गणेश की मूर्तियाँ स्थापित करते हैं, उनकी पूजा करते हैं और अंत में विसर्जन करते हैं। यह एकता और सामूहिकता का प्रतीक है।\n",
            "\n",
            "इन त्योहारों का मनाना न केवल धार्मिक आस्था का प्रदर्शन है, बल्कि यह समाज में एकता, प्रेम और सांस्कृतिक विरासत को भी सुदृढ़ करता है।\n",
            "समय: 9.56 सेकंड\n",
            "\n"
          ]
        }
      ],
      "source": [
        "# हिंदी में जानकारी पुनर्प्राप्ति\n",
        "info_prompt = \"भारत के पांच प्रमुख त्योहारों के बारे में बताएं और उनके महत्व पर प्रकाश डालें।\"\n",
        "\n",
        "response, time_taken = get_sutra_response(info_prompt)"
      ]
    },
    {
      "cell_type": "markdown",
      "metadata": {
        "id": "sIfPbsr_qfai"
      },
      "source": [
        "## 3. हिंदी रचनात्मक लेखन\n",
        "\n",
        "सुत्र हिंदी में रचनात्मक सामग्री उत्पन्न कर सकता है।"
      ]
    },
    {
      "cell_type": "code",
      "execution_count": null,
      "metadata": {
        "id": "Y2bPoD8cqfai",
        "colab": {
          "base_uri": "https://localhost:8080/"
        },
        "outputId": "68c5860e-47fc-4784-80e1-63cde6f224cf"
      },
      "outputs": [
        {
          "output_type": "stream",
          "name": "stdout",
          "text": [
            "प्रॉम्प्ट: हिमालय पर्वत पर एक छोटी कविता लिखें।\n",
            "प्रतिक्रिया: हिमालय की ऊँचाइयों में, बसा है एक संसार,  \n",
            "बर्फीली चादर ओढ़े, जैसे कोई अनमोल बहार।  \n",
            "गगनचुंबी चोटी पर, बादल करते हैं नृत्य,  \n",
            "सूरज की किरणें छूकर, बिखेरती हैं ज्योत्स्ना के रंग।\n",
            "\n",
            "नदियाँ बहतीं यहाँ, जैसे गीत गाती हों,  \n",
            "हरियाली के हथेलियों पर, जीवन फूल खिलाती हों।  \n",
            "तपस्वियों की साधना, गूंजती है इन घाटियों में,  \n",
            "हिमालय की गोद में, छिपा है सुख का सागर यहाँ।\n",
            "समय: 3.18 सेकंड\n",
            "\n"
          ]
        }
      ],
      "source": [
        "# हिंदी में रचनात्मक लेखन\n",
        "creative_prompt = \"हिमालय पर्वत पर एक छोटी कविता लिखें।\"\n",
        "\n",
        "response, time_taken = get_sutra_response(creative_prompt, temperature=0.8)"
      ]
    },
    {
      "cell_type": "markdown",
      "metadata": {
        "id": "OcHcwTPXqRyJ"
      },
      "source": [
        "## 4. हिंदी सारांशीकरण\n",
        "\n",
        "सुत्र हिंदी पाठ को प्रभावी ढंग से सारांशित कर सकता है।"
      ]
    },
    {
      "cell_type": "code",
      "execution_count": null,
      "metadata": {
        "id": "cuQMamU1qRyL",
        "colab": {
          "base_uri": "https://localhost:8080/"
        },
        "outputId": "454ee382-4a78-4922-95b5-73e484fb6e0b"
      },
      "outputs": [
        {
          "output_type": "stream",
          "name": "stdout",
          "text": [
            "प्रॉम्प्ट: निम्नलिखित पाठ का सारांश करें (100 शब्दों से कम में):\n",
            "\n",
            "\n",
            "भारत की स्वतंत्रता का इतिहास एक लंबा और जटिल है। भारत में ब्रिटिश शासन की शुरुआत 1757 में प्लासी के युद्ध के बाद हुई, जब ईस्ट इंडिया कंपनी ने बंगाल के नवाब सिराज-उद-दौला को हराया। इसके बाद, कंपनी ने धीरे-धीरे अपने प्रभाव क्षेत्र का विस्तार किया और 1858 तक, भारत सीधे ब्रिटिश क्राउन के अधीन आ गया।\n",
            "\n",
            "1857 का विद्रोह, जिसे प्रथम स्वतंत्रता संग्राम के रूप में भी जाना जाता है, ब्रिटिश शासन के खिलाफ पहला बड़ा विद्रोह था। हालांकि यह विद्रोह असफल रहा, लेकिन इसने भारतीयों में राष्ट्रीय चेतना को जगाया।\n",
            "\n",
            "1885 में भारतीय राष्ट्रीय कांग्रेस की स्थापना के साथ, स्वतंत्रता आंदोलन ने एक संगठित रूप ले लिया। महात्मा गांधी के नेतृत्व में, अहिंसात्मक प्रतिरोध और सत्याग्रह के माध्यम से स्वतंत्रता की मांग की गई।\n",
            "\n",
            "1942 में 'भारत छोड़ो आंदोलन' शुरू हुआ, जिसने ब्रिटिश शासन को भारत छोड़ने के लिए मजबूर किया। द्वितीय विश्व युद्ध के बाद, ब्रिटेन की आर्थिक स्थिति कमजोर हो गई और अंततः 15 अगस्त 1947 को भारत को स्वतंत्रता मिली, हालांकि देश का विभाजन भारत और पाकिस्तान में हो गया।\n",
            "\n",
            "प्रतिक्रिया: भारत की स्वतंत्रता का इतिहास 1757 में ब्रिटिश शासन की शुरुआत से शुरू होता है, जब ईस्ट इंडिया कंपनी ने प्लासी के युद्ध में जीत हासिल की। 1858 तक, भारत ब्रिटिश क्राउन के अधीन आ गया। 1857 का विद्रोह, जिसे प्रथम स्वतंत्रता संग्राम कहा जाता है, ने राष्ट्रीय चेतना को जागृत किया। 1885 में भारतीय राष्ट्रीय कांग्रेस की स्थापना हुई, और महात्मा गांधी के नेतृत्व में अहिंसात्मक प्रतिरोध शुरू हुआ। 1942 में 'भारत छोड़ो आंदोलन' ने ब्रिटिश शासन को चुनौती दी। द्वितीय विश्व युद्ध के बाद, 15 अगस्त 1947 को भारत स्वतंत्र हुआ, लेकिन विभाजन के साथ।\n",
            "समय: 3.12 सेकंड\n",
            "\n"
          ]
        }
      ],
      "source": [
        "# सारांशित करने के लिए पाठ\n",
        "long_text = \"\"\"\n",
        "भारत की स्वतंत्रता का इतिहास एक लंबा और जटिल है। भारत में ब्रिटिश शासन की शुरुआत 1757 में प्लासी के युद्ध के बाद हुई, जब ईस्ट इंडिया कंपनी ने बंगाल के नवाब सिराज-उद-दौला को हराया। इसके बाद, कंपनी ने धीरे-धीरे अपने प्रभाव क्षेत्र का विस्तार किया और 1858 तक, भारत सीधे ब्रिटिश क्राउन के अधीन आ गया।\n",
        "\n",
        "1857 का विद्रोह, जिसे प्रथम स्वतंत्रता संग्राम के रूप में भी जाना जाता है, ब्रिटिश शासन के खिलाफ पहला बड़ा विद्रोह था। हालांकि यह विद्रोह असफल रहा, लेकिन इसने भारतीयों में राष्ट्रीय चेतना को जगाया।\n",
        "\n",
        "1885 में भारतीय राष्ट्रीय कांग्रेस की स्थापना के साथ, स्वतंत्रता आंदोलन ने एक संगठित रूप ले लिया। महात्मा गांधी के नेतृत्व में, अहिंसात्मक प्रतिरोध और सत्याग्रह के माध्यम से स्वतंत्रता की मांग की गई।\n",
        "\n",
        "1942 में 'भारत छोड़ो आंदोलन' शुरू हुआ, जिसने ब्रिटिश शासन को भारत छोड़ने के लिए मजबूर किया। द्वितीय विश्व युद्ध के बाद, ब्रिटेन की आर्थिक स्थिति कमजोर हो गई और अंततः 15 अगस्त 1947 को भारत को स्वतंत्रता मिली, हालांकि देश का विभाजन भारत और पाकिस्तान में हो गया।\n",
        "\"\"\"\n",
        "\n",
        "summarize_prompt = f\"निम्नलिखित पाठ का सारांश करें (100 शब्दों से कम में):\\n\\n{long_text}\"\n",
        "\n",
        "summary, time_taken = get_sutra_response(summarize_prompt, temperature=0.3)"
      ]
    },
    {
      "cell_type": "markdown",
      "metadata": {
        "id": "quxKdajPqRyM"
      },
      "source": [
        "## 5. हिंदी प्रश्न उत्तर\n",
        "\n",
        "आइए हिंदी में प्रश्न उत्तर के लिए सुत्र का उपयोग करें।"
      ]
    },
    {
      "cell_type": "code",
      "execution_count": null,
      "metadata": {
        "id": "gU1BUTeYqRyN",
        "colab": {
          "base_uri": "https://localhost:8080/"
        },
        "outputId": "74579ed8-1be0-41ad-80dc-eec0c704b46b"
      },
      "outputs": [
        {
          "output_type": "stream",
          "name": "stdout",
          "text": [
            "प्रॉम्प्ट: निम्नलिखित जानकारी के आधार पर प्रश्नों के उत्तर दें:\n",
            "\n",
            "\n",
            "भारतीय संविधान दुनिया का सबसे लंबा लिखित संविधान है। इसे 26 नवंबर 1949 को अपनाया गया था और 26 जनवरी 1950 को लागू किया गया था। डॉ. भीमराव अंबेडकर को भारतीय संविधान का मुख्य वास्तुकार माना जाता है। संविधान में मूल रूप से 395 अनुच्छेद, 22 भाग और 8 अनुसूचियां थीं। वर्तमान में, इसमें 448 अनुच्छेद, 25 भाग और 12 अनुसूचियां हैं। संविधान की प्रस्तावना में 'समाजवादी', 'धर्मनिरपेक्ष' और 'अखंडता' शब्द 42वें संशोधन (1976) द्वारा जोड़े गए थे।\n",
            "\n",
            "\n",
            "प्रश्न 1: भारतीय संविधान कब लागू हुआ?\n",
            "प्रश्न 2: भारतीय संविधान का मुख्य वास्तुकार कौन था?\n",
            "प्रश्न 3: 42वें संशोधन द्वारा प्रस्तावना में कौन से शब्द जोड़े गए थे?\n",
            "प्रतिक्रिया: प्रश्न 1: भारतीय संविधान 26 जनवरी 1950 को लागू हुआ था।\n",
            "\n",
            "प्रश्न 2: भारतीय संविधान का मुख्य वास्तुकार डॉ. भीमराव अंबेडकर थे।\n",
            "\n",
            "प्रश्न 3: 42वें संशोधन (1976) द्वारा प्रस्तावना में 'समाजवादी', 'धर्मनिरपेक्ष' और 'अखंडता' शब्द जोड़े गए थे।\n",
            "समय: 3.30 सेकंड\n",
            "\n"
          ]
        }
      ],
      "source": [
        "# प्रश्न उत्तर के लिए संदर्भ\n",
        "context = \"\"\"\n",
        "भारतीय संविधान दुनिया का सबसे लंबा लिखित संविधान है। इसे 26 नवंबर 1949 को अपनाया गया था और 26 जनवरी 1950 को लागू किया गया था। डॉ. भीमराव अंबेडकर को भारतीय संविधान का मुख्य वास्तुकार माना जाता है। संविधान में मूल रूप से 395 अनुच्छेद, 22 भाग और 8 अनुसूचियां थीं। वर्तमान में, इसमें 448 अनुच्छेद, 25 भाग और 12 अनुसूचियां हैं। संविधान की प्रस्तावना में 'समाजवादी', 'धर्मनिरपेक्ष' और 'अखंडता' शब्द 42वें संशोधन (1976) द्वारा जोड़े गए थे।\n",
        "\"\"\"\n",
        "\n",
        "qa_prompt = f\"निम्नलिखित जानकारी के आधार पर प्रश्नों के उत्तर दें:\\n\\n{context}\\n\\nप्रश्न 1: भारतीय संविधान कब लागू हुआ?\\nप्रश्न 2: भारतीय संविधान का मुख्य वास्तुकार कौन था?\\nप्रश्न 3: 42वें संशोधन द्वारा प्रस्तावना में कौन से शब्द जोड़े गए थे?\"\n",
        "\n",
        "answers, time_taken = get_sutra_response(qa_prompt, temperature=0.2)"
      ]
    },
    {
      "cell_type": "markdown",
      "metadata": {
        "id": "tNZ4gxcDqRyN"
      },
      "source": [
        "## 6. हिंदी-अंग्रेजी अनुवाद\n",
        "\n",
        "सुत्र हिंदी और अंग्रेजी के बीच प्रभावी ढंग से अनुवाद कर सकता है।"
      ]
    },
    {
      "cell_type": "code",
      "execution_count": null,
      "metadata": {
        "id": "7lxY0NHzqRyN",
        "colab": {
          "base_uri": "https://localhost:8080/"
        },
        "outputId": "9a845443-a82f-4b3f-93c2-10e1bb7abaf6"
      },
      "outputs": [
        {
          "output_type": "stream",
          "name": "stdout",
          "text": [
            "प्रॉम्प्ट: निम्नलिखित हिंदी पाठ का अंग्रेजी में अनुवाद करें:\n",
            "\n",
            "भारत एक विविधतापूर्ण देश है जहां अनेक भाषाएँ, धर्म और संस्कृतियाँ एक साथ फलती-फूलती हैं। यहाँ की समृद्ध परंपराएँ और इतिहास इसे विश्व में एक अनोखा स्थान देते हैं।\n",
            "प्रतिक्रिया: India is a diverse country where numerous languages, religions, and cultures thrive together. Its rich traditions and history give it a unique place in the world.\n",
            "समय: 2.04 सेकंड\n",
            "\n"
          ]
        }
      ],
      "source": [
        "# हिंदी से अंग्रेजी अनुवाद\n",
        "hindi_text = \"भारत एक विविधतापूर्ण देश है जहां अनेक भाषाएँ, धर्म और संस्कृतियाँ एक साथ फलती-फूलती हैं। यहाँ की समृद्ध परंपराएँ और इतिहास इसे विश्व में एक अनोखा स्थान देते हैं।\"\n",
        "\n",
        "translate_hi_to_en_prompt = f\"निम्नलिखित हिंदी पाठ का अंग्रेजी में अनुवाद करें:\\n\\n{hindi_text}\"\n",
        "\n",
        "translation_en, time_taken = get_sutra_response(translate_hi_to_en_prompt)"
      ]
    },
    {
      "cell_type": "code",
      "execution_count": null,
      "metadata": {
        "id": "Bx10gRwjqRyN",
        "colab": {
          "base_uri": "https://localhost:8080/"
        },
        "outputId": "d18592f4-7912-49c0-827f-e2cb7ef7ce11"
      },
      "outputs": [
        {
          "output_type": "stream",
          "name": "stdout",
          "text": [
            "प्रॉम्प्ट: निम्नलिखित अंग्रेजी पाठ का हिंदी में अनुवाद करें:\n",
            "\n",
            "Artificial intelligence is transforming the way we live and work. It has applications in healthcare, education, transportation, and many other fields. As technology advances, it's important to ensure that AI is developed ethically and responsibly.\n",
            "प्रतिक्रिया: कृत्रिम बुद्धिमत्ता हमारे जीने और काम करने के तरीके को बदल रही है। इसके स्वास्थ्य देखभाल, शिक्षा, परिवहन और कई अन्य क्षेत्रों में अनुप्रयोग हैं। जैसे-जैसे तकनीक आगे बढ़ती है, यह सुनिश्चित करना महत्वपूर्ण है कि एआई का विकास नैतिक और जिम्मेदार तरीके से किया जाए।\n",
            "समय: 2.58 सेकंड\n",
            "\n"
          ]
        }
      ],
      "source": [
        "# अंग्रेजी से हिंदी अनुवाद\n",
        "english_text = \"Artificial intelligence is transforming the way we live and work. It has applications in healthcare, education, transportation, and many other fields. As technology advances, it's important to ensure that AI is developed ethically and responsibly.\"\n",
        "\n",
        "translate_en_to_hi_prompt = f\"निम्नलिखित अंग्रेजी पाठ का हिंदी में अनुवाद करें:\\n\\n{english_text}\"\n",
        "\n",
        "translation_hi, time_taken = get_sutra_response(translate_en_to_hi_prompt)"
      ]
    },
    {
      "cell_type": "markdown",
      "metadata": {
        "id": "d0OTkGo4qRyN"
      },
      "source": [
        "## 7. हिंदी भावात्मक विश्लेषण\n",
        "\n",
        "आइए हिंदी पाठ के भावात्मक विश्लेषण के लिए सुत्र का उपयोग करें।"
      ]
    },
    {
      "cell_type": "code",
      "execution_count": null,
      "metadata": {
        "id": "K8UrF8heqRyO",
        "colab": {
          "base_uri": "https://localhost:8080/"
        },
        "outputId": "1cfb1002-99e4-4c94-a4ac-239dd10cb257"
      },
      "outputs": [
        {
          "output_type": "stream",
          "name": "stdout",
          "text": [
            "प्रॉम्प्ट: निम्नलिखित हिंदी समीक्षाओं का भावात्मक विश्लेषण करें और प्रत्येक को 'सकारात्मक', 'नकारात्मक', या 'तटस्थ' के रूप में वर्गीकृत करें:\n",
            "\n",
            "1. यह फिल्म बहुत अच्छी थी। कहानी रोचक थी और अभिनय शानदार था।\n",
            "2. खाना बिल्कुल स्वादिष्ट नहीं था और सेवा भी बहुत खराब थी।\n",
            "3. उत्पाद ठीक-ठाक है, लेकिन कीमत थोड़ी ज्यादा है।\n",
            "4. मुझे यह किताब पसंद आई, लेखक ने विषय को बहुत अच्छे से समझाया है।\n",
            "5. यात्रा निराशाजनक थी, होटल गंदा था और स्टाफ अमित्रवत था।\n",
            "\n",
            "प्रतिक्रिया: 1. **सकारात्मक** - यह फिल्म बहुत अच्छी थी। कहानी रोचक थी और अभिनय शानदार था।\n",
            "2. **नकारात्मक** - खाना बिल्कुल स्वादिष्ट नहीं था और सेवा भी बहुत खराब थी।\n",
            "3. **तटस्थ** - उत्पाद ठीक-ठाक है, लेकिन कीमत थोड़ी ज्यादा है।\n",
            "4. **सकारात्मक** - मुझे यह किताब पसंद आई, लेखक ने विषय को बहुत अच्छे से समझाया है।\n",
            "5. **नकारात्मक** - यात्रा निराशाजनक थी, होटल गंदा था और स्टाफ अमित्रवत था।\n",
            "समय: 3.46 सेकंड\n",
            "\n"
          ]
        }
      ],
      "source": [
        "# भावात्मक विश्लेषण के लिए हिंदी समीक्षाएँ\n",
        "reviews = [\n",
        "    \"यह फिल्म बहुत अच्छी थी। कहानी रोचक थी और अभिनय शानदार था।\",\n",
        "    \"खाना बिल्कुल स्वादिष्ट नहीं था और सेवा भी बहुत खराब थी।\",\n",
        "    \"उत्पाद ठीक-ठाक है, लेकिन कीमत थोड़ी ज्यादा है।\",\n",
        "    \"मुझे यह किताब पसंद आई, लेखक ने विषय को बहुत अच्छे से समझाया है।\",\n",
        "    \"यात्रा निराशाजनक थी, होटल गंदा था और स्टाफ अमित्रवत था।\"\n",
        "]\n",
        "\n",
        "sentiment_prompt = f\"निम्नलिखित हिंदी समीक्षाओं का भावात्मक विश्लेषण करें और प्रत्येक को 'सकारात्मक', 'नकारात्मक', या 'तटस्थ' के रूप में वर्गीकृत करें:\\n\\n\"\n",
        "\n",
        "for i, review in enumerate(reviews):\n",
        "    sentiment_prompt += f\"{i+1}. {review}\\n\"\n",
        "\n",
        "sentiment_analysis, time_taken = get_sutra_response(sentiment_prompt, temperature=0.1)"
      ]
    },
    {
      "cell_type": "markdown",
      "metadata": {
        "id": "kLuOcRB2qRyO"
      },
      "source": [
        "## 8. विभिन्न प्रारूपों के लिए हिंदी सामग्री उत्पादन\n",
        "\n",
        "सुत्र विभिन्न प्रारूपों में हिंदी सामग्री उत्पन्न कर सकता है।"
      ]
    },
    {
      "cell_type": "code",
      "execution_count": null,
      "metadata": {
        "id": "GHcjsiKYqRyO",
        "colab": {
          "base_uri": "https://localhost:8080/"
        },
        "outputId": "ab5e99de-46dc-4ec7-d9ca-f760c21f4152"
      },
      "outputs": [
        {
          "output_type": "stream",
          "name": "stdout",
          "text": [
            "प्रॉम्प्ट: 'भारतीय व्यंजन और उनका स्वास्थ्य पर प्रभाव' विषय पर एक ब्लॉग पोस्ट लिखें। इसमें शीर्षक, परिचय, मुख्य बिंदु और निष्कर्ष शामिल करें।\n",
            "प्रतिक्रिया:\n",
            "### भारतीय व्यंजन और उनका स्वास्थ्य पर प्रभाव\n",
            "\n",
            "#### परिचय\n",
            "भारतीय व्यंजन अपनी विविधता, रंग-बिरंगे स्वाद और सुगंध के लिए प्रसिद्ध हैं। भारत की संस्कृति और परंपराओं का एक अभिन्न हिस्सा होने के नाते, ये व्यंजन न केवल स्वादिष्ट होते हैं, बल्कि इनमें पोषण भी भरपूर होता है। इस ब्लॉग पोस्ट में हम भारतीय व्यंजनों के विभिन्न प्रकारों और उनके स्वास्थ्य पर प्रभाव का विश्लेषण करेंगे।\n",
            "\n",
            "#### मुख्य बिंदु\n",
            "\n",
            "1. **विविधता और क्षेत्रीय विशेषताएँ**  \n",
            "   भारत के विभिन्न राज्यों में व्यंजनों की विविधता अद्भुत है। उत्तर भारत में रोटी, दाल और सब्जियाँ लोकप्रिय हैं, जबकि दक्षिण भारत में चावल, सांबर और डोसा मुख्य भोजन हैं। हर क्षेत्र के व्यंजनों में स्थानीय सामग्री और मसालों का प्रयोग किया जाता है, जो उन्हें विशेष बनाता है।\n",
            "\n",
            "2. **मसालों का महत्व**  \n",
            "   भारतीय व्यंजनों में मसाले न केवल स्वाद बढ़ाते हैं, बल्कि स्वास्थ्य के लिए भी फायदेमंद होते हैं। जैसे हल्दी, जो एंटी-इंफ्लेमेटरी गुणों से भरपूर है, और जीरा, जो पाचन में सहायक होता है। इन मसालों का नियमित सेवन कई बीमारियों से बचाने में मदद कर सकता है।\n",
            "\n",
            "3. **पौष्टिक तत्वों की भरपूरता**  \n",
            "   भारतीय व्यंजन जैसे दाल, चना, और हरी सब्जियाँ प्रोटीन, फाइबर और विटामिनों का अच्छा स्रोत हैं। शाकाहारी विकल्पों में ये पौष्टिक तत्व शरीर को आवश्यक ऊर्जा और स्वास्थ्य बनाए रखने में मदद करते हैं।\n",
            "\n",
            "4. **तले हुए और भारी खाद्य पदार्थ**  \n",
            "   भारतीय व्यंजनों में तले हुए और भारी भोजन का भी स्थान है, जैसे समोसा और पकौड़े। इनका अधिक सेवन वजन बढ़ाने और कोलेस्ट्रॉल बढ़ाने का कारण बन सकता है। संतुलित आहार के लिए इनका सेवन सीमित करना चाहिए।\n",
            "\n",
            "5. **स्वास्थ्य के लिए सुझाव**  \n",
            "   भारतीय व्यंजनों में स्वास्थ्य को ध्यान में रखते हुए कुछ बदलाव किए जा सकते हैं। जैसे, तेल का मात्रा कम करना, गहरे तलने के बजाय भाप में पकाना, और अधिक हरी सब्जियों का उपयोग करना। यह न केवल स्वाद को बनाए रखता है, बल्कि स्वास्थ्य के लिए भी फायदेमंद होता है।\n",
            "\n",
            "#### निष्कर्ष\n",
            "भारतीय व्यंजन न केवल स्वादिष्ट और विविध हैं, बल्कि इनमें स्वास्थ्य लाभों का खजाना भी छिपा है। सही तरीके से तैयार किए जाने पर, ये व्यंजन हमारे स्वास्थ्य को बेहतर बनाने में महत्वपूर्ण भूमिका निभा सकते हैं। स्वस्थ जीवनशैली के लिए हमें अपने आहार में संतुलन बनाना होगा, ताकि हम भारतीय व्यंजनों का आनंद लेते हुए अपने स्वास्थ्य का भी ध्यान रख सकें।\n",
            "\n",
            "समय: 9.29 सेकंड\n",
            "\n"
          ]
        }
      ],
      "source": [
        "# हिंदी ब्लॉग पोस्ट उत्पन्न करें\n",
        "blog_prompt = \"'भारतीय व्यंजन और उनका स्वास्थ्य पर प्रभाव' विषय पर एक ब्लॉग पोस्ट लिखें। इसमें शीर्षक, परिचय, मुख्य बिंदु और निष्कर्ष शामिल करें।\"\n",
        "\n",
        "blog_post = get_sutra_streaming_response(blog_prompt, temperature=0.7)"
      ]
    },
    {
      "cell_type": "markdown",
      "metadata": {
        "id": "bZE8XXdqqIaC"
      },
      "source": [
        "## 9. निष्कर्ष\n",
        "\n",
        "इस नोटबुक में, हमने हिंदी भाषा के अनुप्रयोगों के लिए OpenAI क्लाइंट के साथ सुत्र मॉडल का उपयोग करने का अन्वेषण किया है। हमने विभिन्न उपयोग के मामलों को कवर किया है, जिनमें शामिल हैं:\n",
        "\n",
        "- बुनियादी हिंदी पाठ उत्पादन\n",
        "- हिंदी में जानकारी पुनर्प्राप्ति\n",
        "- हिंदी रचनात्मक लेखन\n",
        "- हिंदी पाठ सारांशीकरण\n",
        "- हिंदी प्रश्न उत्तर\n",
        "- हिंदी-अंग्रेजी अनुवाद\n",
        "- हिंदी भावात्मक विश्लेषण\n",
        "\n",
        "हिंदी और अन्य भारतीय भाषाओं में सुत्र की मजबूत क्षमताएं इसे हिंदी-भाषी उपयोगकर्ताओं को लक्षित करने वाले या हिंदी भाषा प्रसंस्करण की आवश्यकता वाले अनुप्रयोगों के लिए एक उत्कृष्ट विकल्प बनाती हैं।"
      ]
    },
    {
      "cell_type": "markdown",
      "metadata": {
        "id": "hRLrQxonqIaD"
      },
      "source": [
        "## 10. अतिरिक्त संसाधन\n",
        "\n",
        "हिंदी भाषा के साथ सुत्र का उपयोग करने के बारे में अधिक जानने के लिए, निम्नलिखित संसाधनों का उपयोग करें:\n",
        "\n",
        "1. [सुत्र API दस्तावेज़ीकरण](https://docs.two.ai)\n",
        "2. [सुत्र मॉडल वेरिएंट](https://docs.two.ai/models)\n",
        "3. [बहुभाषी क्षमताओं के बारे में अधिक जानकारी](https://docs.two.ai/multilingual)\n",
        "\n",
        "हिंदी और अन्य भारतीय भाषाओं के लिए सुत्र का उपयोग करके अपने स्वयं के अनुप्रयोगों का निर्माण करने के लिए प्रोत्साहित किया जाता है!"
      ]
    }
  ],
  "metadata": {
    "kernelspec": {
      "display_name": "Python 3",
      "language": "python",
      "name": "python3"
    },
    "language_info": {
      "codemirror_mode": {
        "name": "ipython",
        "version": 3
      },
      "file_extension": ".py",
      "mimetype": "text/x-python",
      "name": "python",
      "nbconvert_exporter": "python",
      "pygments_lexer": "ipython3",
      "version": "3.8.10"
    },
    "colab": {
      "provenance": []
    }
  },
  "nbformat": 4,
  "nbformat_minor": 0
}