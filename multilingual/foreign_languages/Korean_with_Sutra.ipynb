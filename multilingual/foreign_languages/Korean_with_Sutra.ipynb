{
  "nbformat": 4,
  "nbformat_minor": 0,
  "metadata": {
    "colab": {
      "provenance": []
    },
    "kernelspec": {
      "name": "python3",
      "display_name": "Python 3"
    },
    "language_info": {
      "name": "python"
    }
  },
  "cells": [
    {
      "cell_type": "markdown",
      "source": [
        "# SUTRA 모델을 OpenAI 클라이언트와 함께 한국어 용도로 사용하기\n",
        "\n",
        "<img src=\"https://play-lh.googleusercontent.com/_O9p4Z4yucA2NLmZBu9mTJCuBwXeT9NcbtrDN6I8gKlkIPRySV0adOmbyipjSj9Gew\" width=\"150\">\n",
        "\n",
        "[![Open In Colab](https://colab.research.google.com/assets/colab-badge.svg)](https://colab.research.google.com/drive/1v2O_jaPIIi9Re891Y76NWCxNr4tJe3x9?usp=sharing)\n",
        "\n",
        "## 소개\n",
        "\n",
        "이 노트북에서는 Sutra 모델을 OpenAI 클라이언트와 함께 한국어 애플리케이션에 사용하는 방법을 설명합니다. Sutra는 인도 언어 처리 및 생성에 강점을 가지며, 한국어 작업에도 이상적인 선택입니다.\n",
        "\n",
        "### 학습 내용\n",
        "\n",
        "* Sutra 모델을 사용하기 위한 OpenAI 클라이언트 설정 방법  \n",
        "* 한국어로 프롬프트를 생성하고 응답을 이해하는 방법  \n",
        "* 다양한 한국어 사용 사례 탐색  \n",
        "* 한국어 콘텐츠 생성을 위한 모범 사례\n"
      ],
      "metadata": {
        "id": "UIiLxhBSwQy3"
      }
    },
    {
      "cell_type": "markdown",
      "source": [
        "## API 키 받기\n",
        "\n",
        "시작하기 전에 다음이 있는지 확인하세요:\n",
        "\n",
        "1. SUTRA API 키 ([TWO AI의 SUTRA API 페이지](https://www.two.ai/sutra/api)에서 받으세요)\n",
        "2. Python 및 Jupyter 노트북에 대한 기본적인 지식\n",
        "\n",
        "이 노트북은 Google Colab에서 실행되도록 설계되었으므로 로컬 Python 설치가 필요하지 않습니다."
      ],
      "metadata": {
        "id": "y246ncUAm3ra"
      }
    },
    {
      "cell_type": "markdown",
      "source": [
        "## 설정  \n",
        "먼저, 필요한 라이브러리를 설치합니다."
      ],
      "metadata": {
        "id": "dnzPNqcyxBPM"
      }
    },
    {
      "cell_type": "code",
      "execution_count": null,
      "metadata": {
        "colab": {
          "base_uri": "https://localhost:8080/"
        },
        "id": "jj6mVTBLvurW",
        "outputId": "abe80f81-6996-44d4-db91-b702ae84e9df"
      },
      "outputs": [
        {
          "output_type": "stream",
          "name": "stdout",
          "text": [
            "Requirement already satisfied: openai in /usr/local/lib/python3.11/dist-packages (1.76.2)\n",
            "Requirement already satisfied: requests in /usr/local/lib/python3.11/dist-packages (2.32.3)\n",
            "Requirement already satisfied: pandas in /usr/local/lib/python3.11/dist-packages (2.2.2)\n",
            "Requirement already satisfied: matplotlib in /usr/local/lib/python3.11/dist-packages (3.10.0)\n",
            "Requirement already satisfied: anyio<5,>=3.5.0 in /usr/local/lib/python3.11/dist-packages (from openai) (4.9.0)\n",
            "Requirement already satisfied: distro<2,>=1.7.0 in /usr/local/lib/python3.11/dist-packages (from openai) (1.9.0)\n",
            "Requirement already satisfied: httpx<1,>=0.23.0 in /usr/local/lib/python3.11/dist-packages (from openai) (0.28.1)\n",
            "Requirement already satisfied: jiter<1,>=0.4.0 in /usr/local/lib/python3.11/dist-packages (from openai) (0.9.0)\n",
            "Requirement already satisfied: pydantic<3,>=1.9.0 in /usr/local/lib/python3.11/dist-packages (from openai) (2.11.4)\n",
            "Requirement already satisfied: sniffio in /usr/local/lib/python3.11/dist-packages (from openai) (1.3.1)\n",
            "Requirement already satisfied: tqdm>4 in /usr/local/lib/python3.11/dist-packages (from openai) (4.67.1)\n",
            "Requirement already satisfied: typing-extensions<5,>=4.11 in /usr/local/lib/python3.11/dist-packages (from openai) (4.13.2)\n",
            "Requirement already satisfied: charset-normalizer<4,>=2 in /usr/local/lib/python3.11/dist-packages (from requests) (3.4.1)\n",
            "Requirement already satisfied: idna<4,>=2.5 in /usr/local/lib/python3.11/dist-packages (from requests) (3.10)\n",
            "Requirement already satisfied: urllib3<3,>=1.21.1 in /usr/local/lib/python3.11/dist-packages (from requests) (2.4.0)\n",
            "Requirement already satisfied: certifi>=2017.4.17 in /usr/local/lib/python3.11/dist-packages (from requests) (2025.4.26)\n",
            "Requirement already satisfied: numpy>=1.23.2 in /usr/local/lib/python3.11/dist-packages (from pandas) (2.0.2)\n",
            "Requirement already satisfied: python-dateutil>=2.8.2 in /usr/local/lib/python3.11/dist-packages (from pandas) (2.9.0.post0)\n",
            "Requirement already satisfied: pytz>=2020.1 in /usr/local/lib/python3.11/dist-packages (from pandas) (2025.2)\n",
            "Requirement already satisfied: tzdata>=2022.7 in /usr/local/lib/python3.11/dist-packages (from pandas) (2025.2)\n",
            "Requirement already satisfied: contourpy>=1.0.1 in /usr/local/lib/python3.11/dist-packages (from matplotlib) (1.3.2)\n",
            "Requirement already satisfied: cycler>=0.10 in /usr/local/lib/python3.11/dist-packages (from matplotlib) (0.12.1)\n",
            "Requirement already satisfied: fonttools>=4.22.0 in /usr/local/lib/python3.11/dist-packages (from matplotlib) (4.57.0)\n",
            "Requirement already satisfied: kiwisolver>=1.3.1 in /usr/local/lib/python3.11/dist-packages (from matplotlib) (1.4.8)\n",
            "Requirement already satisfied: packaging>=20.0 in /usr/local/lib/python3.11/dist-packages (from matplotlib) (24.2)\n",
            "Requirement already satisfied: pillow>=8 in /usr/local/lib/python3.11/dist-packages (from matplotlib) (11.2.1)\n",
            "Requirement already satisfied: pyparsing>=2.3.1 in /usr/local/lib/python3.11/dist-packages (from matplotlib) (3.2.3)\n",
            "Requirement already satisfied: httpcore==1.* in /usr/local/lib/python3.11/dist-packages (from httpx<1,>=0.23.0->openai) (1.0.9)\n",
            "Requirement already satisfied: h11>=0.16 in /usr/local/lib/python3.11/dist-packages (from httpcore==1.*->httpx<1,>=0.23.0->openai) (0.16.0)\n",
            "Requirement already satisfied: annotated-types>=0.6.0 in /usr/local/lib/python3.11/dist-packages (from pydantic<3,>=1.9.0->openai) (0.7.0)\n",
            "Requirement already satisfied: pydantic-core==2.33.2 in /usr/local/lib/python3.11/dist-packages (from pydantic<3,>=1.9.0->openai) (2.33.2)\n",
            "Requirement already satisfied: typing-inspection>=0.4.0 in /usr/local/lib/python3.11/dist-packages (from pydantic<3,>=1.9.0->openai) (0.4.0)\n",
            "Requirement already satisfied: six>=1.5 in /usr/local/lib/python3.11/dist-packages (from python-dateutil>=2.8.2->pandas) (1.17.0)\n"
          ]
        }
      ],
      "source": [
        "# 필수 패키지 설치\n",
        "!pip install openai requests pandas matplotlib"
      ]
    },
    {
      "cell_type": "markdown",
      "source": [
        "### 필요한 라이브러리 불러오기\n"
      ],
      "metadata": {
        "id": "-3PclfpSxR0G"
      }
    },
    {
      "cell_type": "code",
      "source": [
        "# 필요한 라이브러리 불러오기\n",
        "import os\n",
        "import time\n",
        "import pandas as pd\n",
        "import matplotlib.pyplot as plt\n",
        "from openai import OpenAI\n",
        "from IPython.display import display, Markdown, HTML\n",
        "from google.colab import userdata"
      ],
      "metadata": {
        "id": "njXIE97uxYjl"
      },
      "execution_count": null,
      "outputs": []
    },
    {
      "cell_type": "markdown",
      "source": [
        "## 인증  \n",
        "Sutra API를 사용하려면 API 키를 설정해야 합니다."
      ],
      "metadata": {
        "id": "mYd8iIMHxf27"
      }
    },
    {
      "cell_type": "code",
      "source": [
        "# 코드에서 사용하려면 예를 들어 다음과 같이 설정할 수 있습니다:\n",
        "os.environ[\"SUTRA_API_KEY\"] = userdata.get('SUTRA_API_KEY')"
      ],
      "metadata": {
        "id": "rtlceeE3xrQW"
      },
      "execution_count": null,
      "outputs": []
    },
    {
      "cell_type": "markdown",
      "source": [
        "### Sutra API 엔드포인트로 OpenAI 클라이언트 생성\n"
      ],
      "metadata": {
        "id": "VWU87Ls-x4Y4"
      }
    },
    {
      "cell_type": "code",
      "source": [
        "# Sutra API 엔드포인트로 OpenAI 클라이언트 생성\n",
        "client = OpenAI(\n",
        "    base_url=\"https://api.two.ai/v2\",\n",
        "    api_key=os.environ.get(\"SUTRA_API_KEY\")\n",
        ")"
      ],
      "metadata": {
        "id": "1tUCwtRux9ZV"
      },
      "execution_count": null,
      "outputs": []
    },
    {
      "cell_type": "markdown",
      "source": [
        "## 도우미 함수\n",
        "\n",
        "한국어 작업을 위한 Sutra API와 상호작용할 도우미 함수를 만듭니다."
      ],
      "metadata": {
        "id": "ucbaEyLcyGUN"
      }
    },
    {
      "cell_type": "code",
      "source": [
        "import time\n",
        "\n",
        "def get_sutra_response(prompt, model=\"sutra-v2\", temperature=0.7, max_tokens=1024):\n",
        "    \"\"\"\n",
        "    주어진 프롬프트에 대해 Sutra에서 일반(비스트리밍) 응답을 받습니다.\n",
        "\n",
        "    인수:\n",
        "        prompt (str): 사용자 프롬프트 또는 질문\n",
        "        model (str): 사용할 Sutra 모델\n",
        "        temperature (float): 무작위성 제어 (0에서 1 사이)\n",
        "        max_tokens (int): 생성할 최대 토큰 수\n",
        "\n",
        "    반환:\n",
        "        str: 모델의 응답\n",
        "        float: 응답을 받는 데 걸린 시간\n",
        "    \"\"\"\n",
        "    start_time = time.time()\n",
        "\n",
        "    try:\n",
        "        response = client.chat.completions.create(\n",
        "            model=model,\n",
        "            messages=[{\"role\": \"user\", \"content\": prompt}],\n",
        "            max_tokens=max_tokens,\n",
        "            temperature=temperature\n",
        "        )\n",
        "\n",
        "        end_time = time.time()\n",
        "        result = response.choices[0].message.content\n",
        "        time_taken = end_time - start_time\n",
        "\n",
        "        # 결과 출력\n",
        "        print(\"프롬프트:\", prompt)\n",
        "        print(\"응답:\", result)\n",
        "        print(f\"소요 시간: {time_taken:.2f}초\\n\")\n",
        "\n",
        "        return result, time_taken\n",
        "\n",
        "    except Exception as e:\n",
        "        end_time = time.time()\n",
        "        print(\"오류:\", str(e))\n",
        "        return f\"오류: {str(e)}\", end_time - start_time\n",
        "\n",
        "\n",
        "def get_sutra_streaming_response(prompt, model=\"sutra-v2\", temperature=0.7, max_tokens=1024):\n",
        "    \"\"\"\n",
        "    주어진 프롬프트에 대해 Sutra에서 스트리밍 응답을 받습니다.\n",
        "\n",
        "    인수:\n",
        "        prompt (str): 사용자 프롬프트 또는 질문\n",
        "        model (str): 사용할 Sutra 모델\n",
        "        temperature (float): 무작위성 제어 (0에서 1 사이)\n",
        "        max_tokens (int): 생성할 최대 토큰 수\n",
        "\n",
        "    반환:\n",
        "        str: 전체 모델 응답\n",
        "        float: 전체 응답 시간\n",
        "    \"\"\"\n",
        "    start_time = time.time()\n",
        "\n",
        "    try:\n",
        "        stream = client.chat.completions.create(\n",
        "            model=model,\n",
        "            messages=[{\"role\": \"user\", \"content\": prompt}],\n",
        "            max_tokens=max_tokens,\n",
        "            temperature=temperature,\n",
        "            stream=True\n",
        "        )\n",
        "\n",
        "        print(\"프롬프트:\", prompt)\n",
        "        print(\"응답:\")\n",
        "\n",
        "        full_response = \"\"\n",
        "        for chunk in stream:\n",
        "            if chunk.choices[0].delta.content is not None:\n",
        "                content = chunk.choices[0].delta.content\n",
        "                full_response += content\n",
        "                print(content, end=\"\")\n",
        "\n",
        "        print(\"\\n\")\n",
        "        time_taken = time.time() - start_time\n",
        "        print(f\"소요 시간: {time_taken:.2f}초\\n\")\n",
        "\n",
        "        return full_response, time_taken\n",
        "\n",
        "    except Exception as e:\n",
        "        end_time = time.time()\n",
        "        print(\"오류:\", str(e))\n",
        "        return f\"오류: {str(e)}\", end_time - start_time\n"
      ],
      "metadata": {
        "id": "SgWokonEyX7k"
      },
      "execution_count": null,
      "outputs": []
    },
    {
      "cell_type": "markdown",
      "source": [
        "## 1. 기본 한국어 생성\n",
        "\n",
        "Sutra를 사용하여 한국어 텍스트를 생성하는 기본 예제를 시작해 봅시다.\n"
      ],
      "metadata": {
        "id": "XLnFf0UdykSP"
      }
    },
    {
      "cell_type": "code",
      "source": [
        "# 간단한 한국어 텍스트 생성\n",
        "korean_prompt = \"안녕하세요, 제 이름은 Rahul입니다. 어떻게 지내세요?\"\n",
        "\n",
        "response, time_taken = get_sutra_response(korean_prompt)"
      ],
      "metadata": {
        "colab": {
          "base_uri": "https://localhost:8080/"
        },
        "id": "DW-de4LPyqsg",
        "outputId": "b4e6f7d8-75e9-4f1b-8b6b-0fff829d364f"
      },
      "execution_count": null,
      "outputs": [
        {
          "output_type": "stream",
          "name": "stdout",
          "text": [
            "프롬프트: 안녕하세요, 제 이름은 Rahul입니다. 어떻게 지내세요?\n",
            "응답: 안녕하세요, Rahul님! 저는 잘 지내고 있습니다. 어떻게 도와드릴까요?\n",
            "소요 시간: 2.50초\n",
            "\n"
          ]
        }
      ]
    },
    {
      "cell_type": "markdown",
      "source": [
        "## 2. 한국어 정보 검색\n",
        "\n",
        "Sutra를 사용하여 한국어로 정보를 검색해 봅시다."
      ],
      "metadata": {
        "id": "KaPM3bumy6SR"
      }
    },
    {
      "cell_type": "code",
      "source": [
        "# 한국어 정보 검색\n",
        "info_prompt = \"인도의 5대 주요 축제에 대해 설명하고 그들의 중요성을 강조해주세요.\"\n",
        "\n",
        "response, time_taken = get_sutra_response(info_prompt)"
      ],
      "metadata": {
        "colab": {
          "base_uri": "https://localhost:8080/"
        },
        "id": "_5wai-tFzB4B",
        "outputId": "4557597f-8705-46dd-c3c9-bf7bf176744e"
      },
      "execution_count": null,
      "outputs": [
        {
          "output_type": "stream",
          "name": "stdout",
          "text": [
            "프롬프트: 인도의 5대 주요 축제에 대해 설명하고 그들의 중요성을 강조해주세요.\n",
            "응답: 인도의 5대 주요 축제는 다음과 같습니다:\n",
            "\n",
            "1. **디왈리 (Diwali)**: \n",
            "   - **설명**: 디왈리는 '빛의 축제'로, 힌두교에서 가장 중요한 축제 중 하나입니다. 일반적으로 10월 또는 11월에 기념되며, 라마 왕자가 악마 왕 라바나를 물리친 후 귀환하는 것을 기념합니다.\n",
            "   - **중요성**: 디왈리는 악의 승리를 상징하며, 가족과 친구가 모여 서로에게 선물을 주고, 불꽃놀이와 전통 음식을 즐깁니다. 이 축제를 통해 사람들은 희망과 새로운 시작을 다짐합니다.\n",
            "\n",
            "2. **홀리 (Holi)**: \n",
            "   - **설명**: 홀리는 봄의 도래를 축하하는 색의 축제로, 일반적으로 3월에 기념됩니다. 사람들은 서로에게 색색의 가루를 뿌리고 물놀이를 하며 즐깁니다.\n",
            "   - **중요성**: 홀리는 사랑과 우정을 기념하며, 사회적 경계를 허물고 사람들 간의 연대를 강화하는 역할을 합니다. 이는 인도 문화에서 다양성의 중요성을 강조합니다.\n",
            "\n",
            "3. **에크라트리 (Eid al-Fitr)**: \n",
            "   - **설명**: 에크라트리는 이슬람의 성스러운 금식 기간인 라마단이 끝난 후 기념되는 축제입니다. 이 날은 가족과 친구들이 모여 특별한 식사를 나누고, 기부를 통해 도움이 필요한 사람들을 지원합니다.\n",
            "   - **중요성**: 에크라트리는 용서, 자선, 그리고 공동체의 중요성을 강조하며, 신앙의 힘을 재확인하는 기회입니다.\n",
            "\n",
            "4. **재푸리 (Janmashtami)**: \n",
            "   - **설명**: 재푸리는 힌두교의 신 크리슈나의 탄생을 축하하는 축제입니다. 보통 8월에 기념되며, 밤새 경축 행사가 열립니다.\n",
            "   - **중요성**: 이 축제는 신성함과 종교적 헌신을 강화하는 의미가 있으며, 많은 사람들이 특별한 기도를 드리고, 크리슈나의 삶을 이야기합니다.\n",
            "\n",
            "5. **온암 (Onam)**: \n",
            "   - **설명**: 온암은 케랄라 주에서 기념되는 수확 축제로, 보통 8월 말에서 9월 초에 진행됩니다. 이 기간 동안 대규모의 잔치와 전통 무용, 게임이 열립니다.\n",
            "   - **중요성**: 온암은 공동체의 결속을 다지고, 풍요로운 수확에 감사하는 의미를 담고 있습니다. 사람들은 서로의 행복과 번영을 기원하며, 지역사회의 중요성을 강조합니다.\n",
            "\n",
            "이러한 축제들은 단순한 기념일이 아니라, 인도의 다양한 문화와 전통을 존중하고, 공동체의 유대감을 강화하는 중요한 역할을 합니다.\n",
            "소요 시간: 8.95초\n",
            "\n"
          ]
        }
      ]
    },
    {
      "cell_type": "markdown",
      "source": [
        "## 3. 한국어 창작 글쓰기\n",
        "\n",
        "Sutra는 한국어로 창의적인 콘텐츠를 생성할 수 있습니다."
      ],
      "metadata": {
        "id": "qQskXIWOzJJ-"
      }
    },
    {
      "cell_type": "code",
      "source": [
        "# 한국어 창작 글쓰기\n",
        "creative_prompt = \"히말라야에 관한 짧은 시를 써 주세요.\"\n",
        "\n",
        "response, time_taken = get_sutra_response(creative_prompt, temperature=0.8)"
      ],
      "metadata": {
        "colab": {
          "base_uri": "https://localhost:8080/"
        },
        "id": "Ah6XIZ8vzQWQ",
        "outputId": "5bb8949f-3a09-46f3-81cb-2bdb3798bcb9"
      },
      "execution_count": null,
      "outputs": [
        {
          "output_type": "stream",
          "name": "stdout",
          "text": [
            "프롬프트: 히말라야에 관한 짧은 시를 써 주세요.\n",
            "응답: 히말라야의 위엄, 구름을 뚫고 솟아  \n",
            "눈 덮인 봉우리, 신비로운 향기와 함께  \n",
            "시간을 초월한 고요 속에 숨쉬며  \n",
            "영혼의 여행자들을 기다리는 산.  \n",
            "\n",
            "찬란한 태양이 그 위를 비출 때  \n",
            "얼어붙은 세계에 따스함을 안겨  \n",
            "끝없는 모험과 꿈의 땅,  \n",
            "히말라야, 그대는 나의 영원한 사랑.\n",
            "소요 시간: 2.63초\n",
            "\n"
          ]
        }
      ]
    },
    {
      "cell_type": "markdown",
      "source": [
        "## 4. 한국어 요약\n",
        "\n",
        "Sutra는 한국어 텍스트를 효과적으로 요약할 수 있습니다."
      ],
      "metadata": {
        "id": "on-IWecPzVVs"
      }
    },
    {
      "cell_type": "code",
      "source": [
        "# 한국어 요약 텍스트\n",
        "long_text = \"\"\"\n",
        "인도의 독립 역사에는 길고 복잡한 과정이 있습니다. 1757년 플래시 전투에서 영국 동인도 회사가 벵골의 나와브 시라주드 다울라를 물리친 후, 영국은 인도를 지배하기 시작했습니다. 이후 회사는 점차 그 영향력을 확장했으며, 1858년에는 인도가 영국 왕실의 직접적인 지배 하에 들어갔습니다.\n",
        "\n",
        "1857년의 반란, 즉 첫 번째 독립 전쟁은 영국 지배에 대한 첫 번째 주요 반란이었습니다. 비록 이 반란은 실패했지만, 인도인들 사이에서 민족 의식을 일깨웠습니다.\n",
        "\n",
        "1885년에 인도 국민 회의가 결성되면서 독립 운동은 더 조직화되었습니다. 마하트마 간디의 지도 아래, 비폭력 저항과 사티아그라하를 통해 독립 요구가 제기되었습니다.\n",
        "\n",
        "1942년 '인도 탈출 운동'이 시작되면서 영국은 인도를 떠나야 했습니다. 제2차 세계대전 이후 영국의 경제적 상태가 악화되었고, 결국 인도는 1947년 8월 15일 독립을 달성했으며, 인도와 파키스탄으로 나뉘었습니다.\n",
        "\"\"\"\n",
        "\n",
        "summarize_prompt = f\"다음 텍스트를 100단어 이내로 요약하세요:\\n\\n{long_text}\"\n",
        "\n",
        "summary, time_taken = get_sutra_response(summarize_prompt, temperature=0.3)\n"
      ],
      "metadata": {
        "colab": {
          "base_uri": "https://localhost:8080/"
        },
        "id": "L7FPT-iwzdWd",
        "outputId": "bad26d64-3a0c-4ead-8a77-e3b3159f524f"
      },
      "execution_count": null,
      "outputs": [
        {
          "output_type": "stream",
          "name": "stdout",
          "text": [
            "프롬프트: 다음 텍스트를 100단어 이내로 요약하세요:\n",
            "\n",
            "\n",
            "인도의 독립 역사에는 길고 복잡한 과정이 있습니다. 1757년 플래시 전투에서 영국 동인도 회사가 벵골의 나와브 시라주드 다울라를 물리친 후, 영국은 인도를 지배하기 시작했습니다. 이후 회사는 점차 그 영향력을 확장했으며, 1858년에는 인도가 영국 왕실의 직접적인 지배 하에 들어갔습니다.\n",
            "\n",
            "1857년의 반란, 즉 첫 번째 독립 전쟁은 영국 지배에 대한 첫 번째 주요 반란이었습니다. 비록 이 반란은 실패했지만, 인도인들 사이에서 민족 의식을 일깨웠습니다.\n",
            "\n",
            "1885년에 인도 국민 회의가 결성되면서 독립 운동은 더 조직화되었습니다. 마하트마 간디의 지도 아래, 비폭력 저항과 사티아그라하를 통해 독립 요구가 제기되었습니다.\n",
            "\n",
            "1942년 '인도 탈출 운동'이 시작되면서 영국은 인도를 떠나야 했습니다. 제2차 세계대전 이후 영국의 경제적 상태가 악화되었고, 결국 인도는 1947년 8월 15일 독립을 달성했으며, 인도와 파키스탄으로 나뉘었습니다.\n",
            "\n",
            "응답: 인도의 독립 역사는 1757년 영국 동인도 회사의 벵골 정복으로 시작되어, 1858년에는 영국 왕실의 직접 통치로 이어졌다. 1857년 첫 번째 독립 전쟁은 실패했지만 민족 의식을 고취시켰다. 1885년 인도 국민 회의가 결성되며 독립 운동이 조직화되었고, 마하트마 간디의 비폭력 저항이 중요한 역할을 했다. 1942년 '인도 탈출 운동'을 통해 영국은 인도를 떠나게 되었고, 1947년 8월 15일 인도는 독립을 이루며 파키스탄과 분리되었다.\n",
            "소요 시간: 2.97초\n",
            "\n"
          ]
        }
      ]
    },
    {
      "cell_type": "markdown",
      "source": [
        "## 5. 한국어 질문 응답\n",
        "\n",
        "Sutra를 사용하여 한국어로 질문에 답해 봅시다.\n"
      ],
      "metadata": {
        "id": "vBzr5DnBzlCk"
      }
    },
    {
      "cell_type": "code",
      "source": [
        "# 질문 응답을 위한 컨텍스트\n",
        "context = \"\"\"\n",
        "인도 헌법은 세계에서 가장 긴 서면 헌법입니다. 1949년 11월 26일 채택되어 1950년 1월 26일에 시행되었습니다. Dr. B. R. Ambedkar는 인도 헌법의 주요 설계자로 여겨집니다. 원래의 헌법은 395개의 조항, 22개의 부분, 8개의 부록을 포함하고 있었습니다. 현재는 448개의 조항, 25개의 부분, 12개의 부록이 포함되어 있습니다. '사회주의', '세속주의', '통합'이라는 단어가 42차 수정 헌법(1976)에 의해 헌법 서문에 추가되었습니다.\n",
        "\"\"\"\n",
        "\n",
        "qa_prompt = f\"제공된 정보를 바탕으로 다음 질문에 답하세요:\\n\\n{context}\\n\\n질문 1: 인도 헌법은 언제 시행되었나요?\\n질문 2: 인도 헌법의 주요 설계자는 누구인가요?\\n질문 3: 42차 수정 헌법에 의해 서문에 추가된 단어는 무엇인가요?\"\n",
        "\n",
        "answers, time_taken = get_sutra_response(qa_prompt, temperature=0.2)\n"
      ],
      "metadata": {
        "colab": {
          "base_uri": "https://localhost:8080/"
        },
        "id": "YBhX3fWNzqpG",
        "outputId": "eea1b0bf-b136-4f1d-f03a-46ab380b58a0"
      },
      "execution_count": null,
      "outputs": [
        {
          "output_type": "stream",
          "name": "stdout",
          "text": [
            "프롬프트: 제공된 정보를 바탕으로 다음 질문에 답하세요:\n",
            "\n",
            "\n",
            "인도 헌법은 세계에서 가장 긴 서면 헌법입니다. 1949년 11월 26일 채택되어 1950년 1월 26일에 시행되었습니다. Dr. B. R. Ambedkar는 인도 헌법의 주요 설계자로 여겨집니다. 원래의 헌법은 395개의 조항, 22개의 부분, 8개의 부록을 포함하고 있었습니다. 현재는 448개의 조항, 25개의 부분, 12개의 부록이 포함되어 있습니다. '사회주의', '세속주의', '통합'이라는 단어가 42차 수정 헌법(1976)에 의해 헌법 서문에 추가되었습니다.\n",
            "\n",
            "\n",
            "질문 1: 인도 헌법은 언제 시행되었나요?\n",
            "질문 2: 인도 헌법의 주요 설계자는 누구인가요?\n",
            "질문 3: 42차 수정 헌법에 의해 서문에 추가된 단어는 무엇인가요?\n",
            "응답: 질문 1: 인도 헌법은 1950년 1월 26일에 시행되었습니다.\n",
            "\n",
            "질문 2: 인도 헌법의 주요 설계자는 Dr. B. R. Ambedkar입니다.\n",
            "\n",
            "질문 3: 42차 수정 헌법(1976)에 의해 서문에 추가된 단어는 '사회주의', '세속주의', '통합'입니다.\n",
            "소요 시간: 2.41초\n",
            "\n"
          ]
        }
      ]
    },
    {
      "cell_type": "markdown",
      "source": [
        "## 6. 한국어-힌디어 번역\n",
        "\n",
        "Sutra는 한국어와 힌디어 간의 번역을 효과적으로 할 수 있습니다.\n"
      ],
      "metadata": {
        "id": "52NywIFmzwVh"
      }
    },
    {
      "cell_type": "code",
      "source": [
        "# 영어에서 한국어로 번역\n",
        "english_text = \"India is a diverse country where many languages, religions, and cultures coexist. Its rich traditions and history give it a unique place in the world.\"\n",
        "\n",
        "translate_en_to_ko_prompt = f\"다음 영어 텍스트를 한국어로 번역하세요:\\n\\n{english_text}\"\n",
        "\n",
        "translation_ko, time_taken = get_sutra_response(translate_en_to_ko_prompt)"
      ],
      "metadata": {
        "colab": {
          "base_uri": "https://localhost:8080/"
        },
        "id": "AY6rHaBIz78A",
        "outputId": "47066567-a189-4ec8-f4f2-293712176c5d"
      },
      "execution_count": null,
      "outputs": [
        {
          "output_type": "stream",
          "name": "stdout",
          "text": [
            "프롬프트: 다음 영어 텍스트를 한국어로 번역하세요:\n",
            "\n",
            "India is a diverse country where many languages, religions, and cultures coexist. Its rich traditions and history give it a unique place in the world.\n",
            "응답: 인도는 여러 언어, 종교, 문화가 공존하는 다양한 나라입니다. 그 풍부한 전통과 역사는 세계에서 독특한 위치를 부여합니다.\n",
            "소요 시간: 4.30초\n",
            "\n"
          ]
        }
      ]
    },
    {
      "cell_type": "code",
      "source": [
        "# 영어에서 한국어로 번역\n",
        "english_text = \"Artificial intelligence is transforming the way we live and work. It has applications in healthcare, education, transportation, and many other fields. As technology advances, it's important to ensure that AI is developed ethically and responsibly.\"\n",
        "\n",
        "translate_en_to_ko_prompt = f\"다음 영어 텍스트를 한국어로 번역하세요:\\n\\n{english_text}\"\n",
        "\n",
        "translation_ko, time_taken = get_sutra_response(translate_en_to_ko_prompt)"
      ],
      "metadata": {
        "colab": {
          "base_uri": "https://localhost:8080/"
        },
        "id": "2G_FT4QV0FDK",
        "outputId": "e80fc4b4-ba27-49ec-dd77-4ef5d612c09c"
      },
      "execution_count": null,
      "outputs": [
        {
          "output_type": "stream",
          "name": "stdout",
          "text": [
            "프롬프트: 다음 영어 텍스트를 한국어로 번역하세요:\n",
            "\n",
            "Artificial intelligence is transforming the way we live and work. It has applications in healthcare, education, transportation, and many other fields. As technology advances, it's important to ensure that AI is developed ethically and responsibly.\n",
            "응답: 인공지능은 우리의 생활과 업무 방식을 변화시키고 있습니다. 이것은 의료, 교육, 운송 및 여러 다른 분야에서 응용되고 있습니다. 기술이 발전함에 따라 AI가 윤리적이고 책임감 있게 개발되도록 하는 것이 중요합니다.\n",
            "소요 시간: 2.54초\n",
            "\n"
          ]
        }
      ]
    },
    {
      "cell_type": "markdown",
      "source": [
        "## 7. 한국어 감정 분석\n",
        "\n",
        "Sutra를 사용하여 한국어 텍스트에 대한 감정 분석을 수행해 보겠습니다."
      ],
      "metadata": {
        "id": "enhxWZ3Q0K8C"
      }
    },
    {
      "cell_type": "code",
      "source": [
        "# 한국어 리뷰 감정 분석\n",
        "reviews = [\n",
        "    \"이 영화는 정말 좋았습니다. 이야기가 몰입감 있었고 연기가 훌륭했습니다.\",\n",
        "    \"음식은 전혀 맛이 없었고 서비스도 매우 형편없었습니다.\",\n",
        "    \"제품은 괜찮지만 가격이 조금 비쌉니다.\",\n",
        "    \"이 책이 마음에 들었고, 저자가 주제를 아주 잘 설명했습니다.\",\n",
        "    \"여행은 실망스러웠습니다. 호텔은 더럽고 직원들이 불친절했습니다.\"\n",
        "]\n",
        "\n",
        "sentiment_prompt = \"다음 한국어 리뷰에 대해 감정 분석을 수행하고 각 리뷰를 '긍정적', '부정적', 또는 '중립적'으로 분류하세요:\\n\\n\"\n",
        "\n",
        "for i, review in enumerate(reviews):\n",
        "    sentiment_prompt += f\"{i+1}. {review}\\n\"\n",
        "\n",
        "sentiment_analysis, time_taken = get_sutra_response(sentiment_prompt, temperature=0.1)"
      ],
      "metadata": {
        "colab": {
          "base_uri": "https://localhost:8080/"
        },
        "id": "RQ0QyFIm0QNf",
        "outputId": "afd46d32-576d-47bc-e3f3-da100f80267e"
      },
      "execution_count": null,
      "outputs": [
        {
          "output_type": "stream",
          "name": "stdout",
          "text": [
            "프롬프트: 다음 한국어 리뷰에 대해 감정 분석을 수행하고 각 리뷰를 '긍정적', '부정적', 또는 '중립적'으로 분류하세요:\n",
            "\n",
            "1. 이 영화는 정말 좋았습니다. 이야기가 몰입감 있었고 연기가 훌륭했습니다.\n",
            "2. 음식은 전혀 맛이 없었고 서비스도 매우 형편없었습니다.\n",
            "3. 제품은 괜찮지만 가격이 조금 비쌉니다.\n",
            "4. 이 책이 마음에 들었고, 저자가 주제를 아주 잘 설명했습니다.\n",
            "5. 여행은 실망스러웠습니다. 호텔은 더럽고 직원들이 불친절했습니다.\n",
            "\n",
            "응답: 1. 긍정적\n",
            "2. 부정적\n",
            "3. 중립적\n",
            "4. 긍정적\n",
            "5. 부정적\n",
            "소요 시간: 2.22초\n",
            "\n"
          ]
        }
      ]
    },
    {
      "cell_type": "markdown",
      "source": [
        "## 8. 한국어 콘텐츠 생성 다양한 형식\n",
        "\n",
        "Sutra는 다양한 형식으로 한국어 콘텐츠를 생성할 수 있습니다.\n"
      ],
      "metadata": {
        "id": "Ib_ukuOJ0XB4"
      }
    },
    {
      "cell_type": "code",
      "source": [
        "# 한국어 블로그 게시물 생성\n",
        "blog_prompt = \"주제 '인도 요리와 건강에 미치는 영향'에 대한 블로그 게시물을 작성하세요. 제목, 소개, 주요 사항, 결론을 포함하세요.\"\n",
        "\n",
        "blog_post = get_sutra_streaming_response(blog_prompt, temperature=0.7)"
      ],
      "metadata": {
        "colab": {
          "base_uri": "https://localhost:8080/"
        },
        "id": "G9RD0I9K0V8P",
        "outputId": "7692746a-c5f2-4f9a-ec77-7d40e4ea6154"
      },
      "execution_count": null,
      "outputs": [
        {
          "output_type": "stream",
          "name": "stdout",
          "text": [
            "프롬프트: 주제 '인도 요리와 건강에 미치는 영향'에 대한 블로그 게시물을 작성하세요. 제목, 소개, 주요 사항, 결론을 포함하세요.\n",
            "응답:\n",
            "### 제목: 인도 요리와 건강에 미치는 영향\n",
            "\n",
            "#### 소개\n",
            "인도 요리는 그 풍부한 맛과 다양한 재료로 세계적으로 유명합니다. 그러나 인도 요리는 단순히 맛있는 음식 그 이상입니다. 다양한 향신료, 신선한 채소, 그리고 지역 특산물들이 어우러져 건강에도 긍정적인 영향을 미칠 수 있습니다. 이 블로그에서는 인도 요리의 주요 재료와 그들이 우리 몸에 미치는 건강적 이점에 대해 알아보겠습니다.\n",
            "\n",
            "#### 주요 사항\n",
            "\n",
            "1. **향신료의 건강 이점**\n",
            "   - **강황**: 강황은 항염 및 항산화 효과가 뛰어난 커큐민을 포함하고 있어 면역 체계를 강화하고 염증을 줄이는 데 도움을 줍니다.\n",
            "   - **고수**: 고수는 소화를 돕고 해독 작용을 하며, 비타민 A와 C가 풍부하여 피부 건강에도 기여합니다.\n",
            "   - **생강**: 생강은 소화 불량, 메스꺼움, 염증을 완화하는 데 효과적이며, 면역력을 높이는 데 도움을 줍니다.\n",
            "\n",
            "2. **신선한 재료 사용**\n",
            "   - 인도 요리는 신선한 채소, 과일, 콩류, 곡물 등을 널리 사용합니다. 이러한 재료들은 섬유질과 영양소가 풍부하여 소화 건강을 개선하고 만성 질환 예방에 기여합니다.\n",
            "\n",
            "3. **균형 잡힌 식단**\n",
            "   - 전통적인 인도 식사는 탄수화물, 단백질, 지방이 균형 있게 포함되어 있습니다. 예를 들어, 쌀이나 난(인도식 빵)과 함께 제공되는 다양한 채소 카레는 영양소를 고르게 섭취할 수 있는 좋은 방법입니다.\n",
            "\n",
            "4. **채식 중심의 식사**\n",
            "   - 인도는 세계에서 가장 많은 채식 인구를 보유한 국가 중 하나입니다. 채식 식단은 심장병, 비만, 당뇨병 등의 위험을 줄이는 데 도움이 됩니다.\n",
            "\n",
            "5. **소금과 설탕의 조절**\n",
            "   - 전통적으로 인도 요리는 소금과 설탕의 사용을 절제하여 건강을 고려한 조리법을 따릅니다. 이는 고혈압이나 당뇨병 환자에게 긍정적인 영향을 미칠 수 있습니다.\n",
            "\n",
            "#### 결론\n",
            "인도 요리는 맛뿐만 아니라 건강에도 많은 이점을 제공합니다. 다양한 향신료와 신선한 재료들은 우리 몸에 긍정적인 영향을 미치며, 균형 잡힌 식사를 통해 여러 가지 질병을 예방하는 데 도움을 줄 수 있습니다. 따라서 인도 요리를 일상 식단에 포함시키는 것은 건강을 유지하는 데 좋은 선택이 될 것입니다. 요리의 다양성과 풍미를 즐기면서 건강도 챙길 수 있는 인도 요리는 현대인의 삶에 중요한 역할을 할 수 있습니다.\n",
            "\n",
            "소요 시간: 9.88초\n",
            "\n"
          ]
        }
      ]
    },
    {
      "cell_type": "markdown",
      "source": [
        "## 9. 결론\n",
        "\n",
        "이 노트북에서는 **한국어 언어 응용 프로그램**을 위한 Sutra 모델과 OpenAI 클라이언트를 사용하는 방법을 탐구했습니다. 우리는 다양한 사용 사례를 다뤘습니다:\n",
        "\n",
        "* 기본 한국어 텍스트 생성\n",
        "* 한국어 정보 검색\n",
        "* 한국어 창작 글쓰기\n",
        "* 한국어 텍스트 요약\n",
        "* 한국어 질문 응답\n",
        "* 한국어-힌디어 번역\n",
        "* 한국어 감정 분석\n",
        "* 다양한 형식의 한국어 콘텐츠 생성\n",
        "* 한국어 코드 전환\n",
        "* 한국어 문화적 맥락 이해\n",
        "* 한국어로 된 구조화된 출력 생성\n",
        "\n",
        "Sutra는 한국어 및 기타 인도 언어에서 강력한 능력을 발휘하므로 한국어 사용자를 대상으로 하는 응용 프로그램이나 한국어 처리가 필요한 응용 프로그램에 적합한 선택입니다.\n"
      ],
      "metadata": {
        "id": "9HVLpmLZ0l47"
      }
    },
    {
      "cell_type": "markdown",
      "source": [
        "## 10. 추가 리소스\n",
        "\n",
        "**한국어** 언어와 함께 Sutra를 사용하는 방법에 대해 더 알고 싶다면 아래 리소스를 참조하세요:\n",
        "\n",
        "1. [Sutra API 문서](https://docs.two.ai)\n",
        "2. [Sutra 모델 변형](https://docs.two.ai/models)\n",
        "3. [다국어 기능에 대해 더 알아보기](https://docs.two.ai/multilingual)\n",
        "\n",
        "여러분은 Sutra를 사용하여 **한국어** 및 기타 인도 언어로 응용 프로그램을 구축하는 것을 권장합니다!\n"
      ],
      "metadata": {
        "id": "o97FLk4w0sNM"
      }
    }
  ]
}