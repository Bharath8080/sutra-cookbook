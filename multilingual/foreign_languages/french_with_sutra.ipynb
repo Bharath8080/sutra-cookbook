{
  "cells": [
    {
      "cell_type": "markdown",
      "metadata": {
        "id": "xuuOn3Wdr03z"
      },
      "source": [
        "\n",
        "# Utilisation du modèle Sutra pour la langue **française** avec le client OpenAI\n",
        "\n",
        "<img src=\"https://play-lh.googleusercontent.com/_O9p4Z4yucA2NLmZBu9mTJCuBwXeT9NcbtrDN6I8gKlkIPRySV0adOmbyipjSj9Gew\" width=\"150\">\n",
        "\n",
        "\n",
        "[![Open In Colab](https://colab.research.google.com/assets/colab-badge.svg)](https://colab.research.google.com/drive/1FwKAsUNszojN-oZph3FAdRf4oM8tQURu?usp=sharing)\n",
        "\n",
        "## Introduction\n",
        "\n",
        "Dans ce notebook, nous démontrons comment utiliser le modèle Sutra avec le client OpenAI spécifiquement pour des applications en langue **française**. Sutra excelle dans le traitement et la génération de contenu en langues indiennes, ce qui en fait un choix idéal pour les tâches en langue **française**.\n",
        "\n",
        "### Ce que vous allez apprendre\n",
        "\n",
        "* Configurer le client OpenAI pour fonctionner avec le modèle Sutra\n",
        "* Créer des invites en **français** et comprendre les réponses\n",
        "* Explorer divers cas d'utilisation de la langue **française**\n",
        "* Bonnes pratiques pour générer du contenu en **français**\n",
        "\n"
      ]
    },
    {
      "cell_type": "markdown",
      "metadata": {
        "id": "HiQUaFxYnWAD"
      },
      "source": [
        "## Obtenez vos clés API\n",
        "\n",
        "Avant de commencer, assurez-vous d'avoir :\n",
        "\n",
        "1. Une clé API SUTRA (Obtenez la vôtre sur la [page API SUTRA de TWO AI](https://www.two.ai/sutra/api))\n",
        "2. Une connaissance de base de Python et des notebooks Jupyter\n",
        "\n",
        "Ce notebook est conçu pour fonctionner dans Google Colab, donc aucune installation locale de Python n'est requise."
      ]
    },
    {
      "cell_type": "markdown",
      "metadata": {
        "id": "a2jHmBSisGuX"
      },
      "source": [
        "## Configuration\n",
        "\n",
        "Tout d'abord, installez les bibliothèques requises."
      ]
    },
    {
      "cell_type": "code",
      "execution_count": null,
      "metadata": {
        "colab": {
          "base_uri": "https://localhost:8080/"
        },
        "id": "Rqn4-lvRq0ZY",
        "outputId": "b2b53860-b932-4800-a118-6564606d7c73"
      },
      "outputs": [
        {
          "name": "stdout",
          "output_type": "stream",
          "text": [
            "Requirement already satisfied: openai in /usr/local/lib/python3.11/dist-packages (1.76.2)\n",
            "Requirement already satisfied: requests in /usr/local/lib/python3.11/dist-packages (2.32.3)\n",
            "Requirement already satisfied: pandas in /usr/local/lib/python3.11/dist-packages (2.2.2)\n",
            "Requirement already satisfied: matplotlib in /usr/local/lib/python3.11/dist-packages (3.10.0)\n",
            "Requirement already satisfied: anyio<5,>=3.5.0 in /usr/local/lib/python3.11/dist-packages (from openai) (4.9.0)\n",
            "Requirement already satisfied: distro<2,>=1.7.0 in /usr/local/lib/python3.11/dist-packages (from openai) (1.9.0)\n",
            "Requirement already satisfied: httpx<1,>=0.23.0 in /usr/local/lib/python3.11/dist-packages (from openai) (0.28.1)\n",
            "Requirement already satisfied: jiter<1,>=0.4.0 in /usr/local/lib/python3.11/dist-packages (from openai) (0.9.0)\n",
            "Requirement already satisfied: pydantic<3,>=1.9.0 in /usr/local/lib/python3.11/dist-packages (from openai) (2.11.4)\n",
            "Requirement already satisfied: sniffio in /usr/local/lib/python3.11/dist-packages (from openai) (1.3.1)\n",
            "Requirement already satisfied: tqdm>4 in /usr/local/lib/python3.11/dist-packages (from openai) (4.67.1)\n",
            "Requirement already satisfied: typing-extensions<5,>=4.11 in /usr/local/lib/python3.11/dist-packages (from openai) (4.13.2)\n",
            "Requirement already satisfied: charset-normalizer<4,>=2 in /usr/local/lib/python3.11/dist-packages (from requests) (3.4.1)\n",
            "Requirement already satisfied: idna<4,>=2.5 in /usr/local/lib/python3.11/dist-packages (from requests) (3.10)\n",
            "Requirement already satisfied: urllib3<3,>=1.21.1 in /usr/local/lib/python3.11/dist-packages (from requests) (2.4.0)\n",
            "Requirement already satisfied: certifi>=2017.4.17 in /usr/local/lib/python3.11/dist-packages (from requests) (2025.4.26)\n",
            "Requirement already satisfied: numpy>=1.23.2 in /usr/local/lib/python3.11/dist-packages (from pandas) (2.0.2)\n",
            "Requirement already satisfied: python-dateutil>=2.8.2 in /usr/local/lib/python3.11/dist-packages (from pandas) (2.9.0.post0)\n",
            "Requirement already satisfied: pytz>=2020.1 in /usr/local/lib/python3.11/dist-packages (from pandas) (2025.2)\n",
            "Requirement already satisfied: tzdata>=2022.7 in /usr/local/lib/python3.11/dist-packages (from pandas) (2025.2)\n",
            "Requirement already satisfied: contourpy>=1.0.1 in /usr/local/lib/python3.11/dist-packages (from matplotlib) (1.3.2)\n",
            "Requirement already satisfied: cycler>=0.10 in /usr/local/lib/python3.11/dist-packages (from matplotlib) (0.12.1)\n",
            "Requirement already satisfied: fonttools>=4.22.0 in /usr/local/lib/python3.11/dist-packages (from matplotlib) (4.57.0)\n",
            "Requirement already satisfied: kiwisolver>=1.3.1 in /usr/local/lib/python3.11/dist-packages (from matplotlib) (1.4.8)\n",
            "Requirement already satisfied: packaging>=20.0 in /usr/local/lib/python3.11/dist-packages (from matplotlib) (24.2)\n",
            "Requirement already satisfied: pillow>=8 in /usr/local/lib/python3.11/dist-packages (from matplotlib) (11.2.1)\n",
            "Requirement already satisfied: pyparsing>=2.3.1 in /usr/local/lib/python3.11/dist-packages (from matplotlib) (3.2.3)\n",
            "Requirement already satisfied: httpcore==1.* in /usr/local/lib/python3.11/dist-packages (from httpx<1,>=0.23.0->openai) (1.0.9)\n",
            "Requirement already satisfied: h11>=0.16 in /usr/local/lib/python3.11/dist-packages (from httpcore==1.*->httpx<1,>=0.23.0->openai) (0.16.0)\n",
            "Requirement already satisfied: annotated-types>=0.6.0 in /usr/local/lib/python3.11/dist-packages (from pydantic<3,>=1.9.0->openai) (0.7.0)\n",
            "Requirement already satisfied: pydantic-core==2.33.2 in /usr/local/lib/python3.11/dist-packages (from pydantic<3,>=1.9.0->openai) (2.33.2)\n",
            "Requirement already satisfied: typing-inspection>=0.4.0 in /usr/local/lib/python3.11/dist-packages (from pydantic<3,>=1.9.0->openai) (0.4.0)\n",
            "Requirement already satisfied: six>=1.5 in /usr/local/lib/python3.11/dist-packages (from python-dateutil>=2.8.2->pandas) (1.17.0)\n"
          ]
        }
      ],
      "source": [
        "# Installer les packages requis\n",
        "\n",
        "!pip install openai requests pandas matplotlib"
      ]
    },
    {
      "cell_type": "markdown",
      "metadata": {
        "id": "Y3i1xu4YsSLh"
      },
      "source": [
        "### Importer les bibliothèques requises\n"
      ]
    },
    {
      "cell_type": "code",
      "execution_count": null,
      "metadata": {
        "id": "vUh2ebuWsWQe"
      },
      "outputs": [],
      "source": [
        "# Importer les bibliothèques requises\n",
        "\n",
        "import os\n",
        "import time\n",
        "import pandas as pd\n",
        "import matplotlib.pyplot as plt\n",
        "from openai import OpenAI\n",
        "from IPython.display import display, Markdown, HTML\n",
        "from google.colab import userdata\n"
      ]
    },
    {
      "cell_type": "markdown",
      "metadata": {
        "id": "cMgsY7gXsbIx"
      },
      "source": [
        "## Authentification\n",
        "\n",
        "Pour utiliser l'API Sutra, vous devez définir votre clé API.\n"
      ]
    },
    {
      "cell_type": "code",
      "execution_count": null,
      "metadata": {
        "id": "zMrsHYMtshF0"
      },
      "outputs": [],
      "source": [
        "# Si vous souhaitez l'utiliser dans le code, par exemple :\n",
        "os.environ[\"SUTRA_API_KEY\"] = userdata.get('SUTRA_API_KEY')"
      ]
    },
    {
      "cell_type": "markdown",
      "metadata": {
        "id": "Fw3Gmdp8ssaa"
      },
      "source": [
        "### Créer un client OpenAI avec le point de terminaison de l'API Sutra\n"
      ]
    },
    {
      "cell_type": "code",
      "execution_count": null,
      "metadata": {
        "id": "efvngmXqsy6w"
      },
      "outputs": [],
      "source": [
        "# Créer un client OpenAI avec le point de terminaison de l'API Sutra\n",
        "client = OpenAI(\n",
        "base_url=\"https://api.two.ai/v2\",\n",
        "api_key=os.environ.get(\"SUTRA_API_KEY\")\n",
        ")"
      ]
    },
    {
      "cell_type": "markdown",
      "metadata": {
        "id": "YCyHgbvHs6tZ"
      },
      "source": [
        "## Fonctions utilitaires\n",
        "\n",
        "Créer des fonctions utilitaires pour interagir avec l'API Sutra pour les tâches en langue **française**.\n"
      ]
    },
    {
      "cell_type": "code",
      "execution_count": null,
      "metadata": {
        "id": "ERR0RGVOtHq6"
      },
      "outputs": [],
      "source": [
        "def get_sutra_response(prompt, model=\"sutra-v2\", temperature=0.7, max_tokens=1024):\n",
        "    \"\"\"\n",
        "    Obtenir une réponse de Sutra pour l'invite donnée.\n",
        "\n",
        "    Args:\n",
        "        prompt (str): L'invite ou la question de l'utilisateur\n",
        "        model (str): Modèle Sutra à utiliser\n",
        "        temperature (float): Contrôle l'aléa (0 à 1)\n",
        "        max_tokens (int): Nombre maximal de tokens à générer\n",
        "\n",
        "    Returns:\n",
        "        str: Réponse du modèle\n",
        "        float: Temps pris pour obtenir la réponse\n",
        "    \"\"\"\n",
        "    start_time = time.time()\n",
        "\n",
        "    try:\n",
        "        response = client.chat.completions.create(\n",
        "            model=model,\n",
        "            messages=[{\"role\": \"user\", \"content\": prompt}],\n",
        "            max_tokens=max_tokens,\n",
        "            temperature=temperature\n",
        "        )\n",
        "\n",
        "        end_time = time.time()\n",
        "        result = response.choices[0].message.content\n",
        "        time_taken = end_time - start_time\n",
        "\n",
        "        # Afficher le résultat sans styles\n",
        "        display(HTML(f\"<h4>Invite :</h4><p>{prompt}</p>\"))\n",
        "        display(HTML(f\"<h4>Réponse :</h4><p>{result}</p>\"))\n",
        "        display(HTML(f\"<p><b>Temps :</b> {time_taken:.2f} secondes</p>\"))\n",
        "        display(HTML(\"<hr>\"))\n",
        "\n",
        "        return result, time_taken\n",
        "\n",
        "    except Exception as e:\n",
        "        end_time = time.time()\n",
        "        return f\"Erreur : {str(e)}\", end_time - start_time\n",
        "\n",
        "\n",
        "def get_sutra_streaming_response(prompt, model=\"sutra-v2\", temperature=0.7, max_tokens=1024):\n",
        "    \"\"\"\n",
        "    Obtenir une réponse en streaming de Sutra pour l'invite donnée.\n",
        "\n",
        "    Args:\n",
        "        prompt (str): L'invite ou la question de l'utilisateur\n",
        "        model (str): Modèle Sutra à utiliser\n",
        "        temperature (float): Contrôle l'aléa (0 à 1)\n",
        "        max_tokens (int): Nombre maximal de tokens à générer\n",
        "\n",
        "    Returns:\n",
        "        str: Réponse complète du modèle\n",
        "    \"\"\"\n",
        "    try:\n",
        "        stream = client.chat.completions.create(\n",
        "            model=model,\n",
        "            messages=[{\"role\": \"user\", \"content\": prompt}],\n",
        "            max_tokens=max_tokens,\n",
        "            temperature=temperature,\n",
        "            stream=True\n",
        "        )\n",
        "\n",
        "        # Afficher l'invite sans styles\n",
        "        display(HTML(f\"<h4>Invite :</h4><p>{prompt}</p>\"))\n",
        "        display(HTML(f\"<h4>Réponse :</h4>\"))\n",
        "\n",
        "        full_response = \"\"\n",
        "        for chunk in stream:\n",
        "            if chunk.choices[0].delta.content is not None:\n",
        "                content = chunk.choices[0].delta.content\n",
        "                full_response += content\n",
        "                print(content, end=\"\")\n",
        "        print(\"\\n\")\n",
        "        display(HTML(\"<hr>\"))\n",
        "\n",
        "        return full_response\n",
        "\n",
        "    except Exception as e:\n",
        "        return f\"Erreur : {str(e)}\"\n"
      ]
    },
    {
      "cell_type": "markdown",
      "metadata": {
        "id": "l4l1dRyAuwCU"
      },
      "source": [
        "## 1. Génération de texte de base en **français**\n",
        "\n",
        "Commençons par quelques exemples de génération de texte en **français** avec Sutra."
      ]
    },
    {
      "cell_type": "code",
      "execution_count": null,
      "metadata": {
        "colab": {
          "base_uri": "https://localhost:8080/",
          "height": 175
        },
        "id": "ISE1e3M0u8Wx",
        "outputId": "ea691dc2-7265-4c81-cb44-96d0f1853c84"
      },
      "outputs": [
        {
          "data": {
            "text/html": [
              "<h4>Invite :</h4><p>Bonjour, je m'appelle Rahul. Comment ça va ?</p>"
            ],
            "text/plain": [
              "<IPython.core.display.HTML object>"
            ]
          },
          "metadata": {},
          "output_type": "display_data"
        },
        {
          "data": {
            "text/html": [
              "<h4>Réponse :</h4><p>Bonjour Rahul ! Je vais bien, merci. Et toi, comment ça va ?</p>"
            ],
            "text/plain": [
              "<IPython.core.display.HTML object>"
            ]
          },
          "metadata": {},
          "output_type": "display_data"
        },
        {
          "data": {
            "text/html": [
              "<p><b>Temps :</b> 2.23 secondes</p>"
            ],
            "text/plain": [
              "<IPython.core.display.HTML object>"
            ]
          },
          "metadata": {},
          "output_type": "display_data"
        },
        {
          "data": {
            "text/html": [
              "<hr>"
            ],
            "text/plain": [
              "<IPython.core.display.HTML object>"
            ]
          },
          "metadata": {},
          "output_type": "display_data"
        }
      ],
      "source": [
        "# Génération simple de texte en français\n",
        "francais_prompt = \"Bonjour, je m'appelle Rahul. Comment ça va ?\"\n",
        "\n",
        "response, time_taken = get_sutra_response(francais_prompt)"
      ]
    },
    {
      "cell_type": "markdown",
      "metadata": {
        "id": "lPm7QEN-vliD"
      },
      "source": [
        "## 2. Recherche d'information en **français**\n",
        "\n",
        "Utilisons Sutra pour récupérer des informations en **français**.\n"
      ]
    },
    {
      "cell_type": "code",
      "execution_count": null,
      "metadata": {
        "colab": {
          "base_uri": "https://localhost:8080/",
          "height": 331
        },
        "id": "cGAaMt6Ivqqa",
        "outputId": "3a0dea70-7761-406c-b2dd-3fddd5b51afb"
      },
      "outputs": [
        {
          "data": {
            "text/html": [
              "<h4>Invite :</h4><p>Parlez-moi des cinq principaux festivals de l'Inde et mettez en évidence leur signification.</p>"
            ],
            "text/plain": [
              "<IPython.core.display.HTML object>"
            ]
          },
          "metadata": {},
          "output_type": "display_data"
        },
        {
          "data": {
            "text/html": [
              "<h4>Réponse :</h4><p>L'Inde, avec sa riche diversité culturelle et religieuse, célèbre de nombreux festivals tout au long de l'année. Voici cinq des principaux festivals indiens et leur signification :\n",
              "\n",
              "1. **Diwali (Deepavali)** :\n",
              "   - **Signification** : Diwali, également connu sous le nom de la \"Fête des Lumières\", symbolise la victoire de la lumière sur les ténèbres et du bien sur le mal. Il commémore le retour de Lord Rama à Ayodhya après avoir vaincu le roi démon Ravana.\n",
              "   - **Célébrations** : Les gens allument des diyas (lampes), décorent leurs maisons, échangent des cadeaux et des douceurs, et participent à des feux d'artifice.\n",
              "\n",
              "2. **Holi** :\n",
              "   - **Signification** : Holi, la \"Fête des Couleurs\", célèbre l'arrivée du printemps et la fin de l'hiver. Il symbolise l'amour entre Radha et Krishna et la victoire du bien sur le mal, évoquée par la légende de Holika et Prahlad.\n",
              "   - **Célébrations** : Les participants se jettent des poudres colorées, dansent, chantent, et partagent des plats sucrés, créant une atmosphère de joie et d'unité.\n",
              "\n",
              "3. **Eid al-Fitr** :\n",
              "   - **Signification** : Eid al-Fitr marque la fin du Ramadan, le mois de jeûne observé par les musulmans. C'est un moment de gratitude envers Allah pour la force d'avoir jeûné et un temps de réflexion spirituelle.\n",
              "   - **Célébrations** : Les fidèles prient en commun, échangent des vœux et des cadeaux, et partagent des repas festifs, notamment des douceurs.\n",
              "\n",
              "4. **Navratri/Dussehra** :\n",
              "   - **Signification** : Navratri est un festival de neuf nuits dédié à la déesse Durga, symbolisant la lutte contre le mal. Dussehra, qui suit Navratri, commémore la victoire de Rama sur Ravana.\n",
              "   - **Célébrations** : Les gens dansent (Garba et Dandiya) pendant Navratri, et lors de Dussehra, des effigies de Ravana sont brûlées pour célébrer la victoire du bien sur le mal.\n",
              "\n",
              "5. **Pongal/Makar Sankranti** :\n",
              "   - **Signification** : Pongal est un festival de récolte célébré principalement dans le sud de l'Inde, tandis que Makar Sankranti marque le changement de saison. Tous deux rendent hommage au soleil et à la nature.\n",
              "   - **Célébrations** : Les familles préparent des plats spéciaux, décorent leurs maisons avec des kolams (dessins en poudre), et participent à des activités communautaires et des jeux traditionnels.\n",
              "\n",
              "Ces festivals jouent un rôle important dans la vie sociale et culturelle de l'Inde, favorisant l'harmonie et l'unité parmi les diverses communautés.</p>"
            ],
            "text/plain": [
              "<IPython.core.display.HTML object>"
            ]
          },
          "metadata": {},
          "output_type": "display_data"
        },
        {
          "data": {
            "text/html": [
              "<p><b>Temps :</b> 8.10 secondes</p>"
            ],
            "text/plain": [
              "<IPython.core.display.HTML object>"
            ]
          },
          "metadata": {},
          "output_type": "display_data"
        },
        {
          "data": {
            "text/html": [
              "<hr>"
            ],
            "text/plain": [
              "<IPython.core.display.HTML object>"
            ]
          },
          "metadata": {},
          "output_type": "display_data"
        }
      ],
      "source": [
        "# Recherche d'information en français\n",
        "info_prompt = \"Parlez-moi des cinq principaux festivals de l'Inde et mettez en évidence leur signification.\"\n",
        "\n",
        "response, time_taken = get_sutra_response(info_prompt)"
      ]
    },
    {
      "cell_type": "markdown",
      "metadata": {
        "id": "dezOeR40vxrH"
      },
      "source": [
        "## 3. Écriture créative en **français**\n",
        "\n",
        "Sutra peut générer du contenu créatif en **français**.\n"
      ]
    },
    {
      "cell_type": "code",
      "execution_count": null,
      "metadata": {
        "colab": {
          "base_uri": "https://localhost:8080/",
          "height": 192
        },
        "id": "ZxnDpAcpv15S",
        "outputId": "b476bbc7-1434-4564-c5f8-5060c10626d5"
      },
      "outputs": [
        {
          "data": {
            "text/html": [
              "<h4>Invite :</h4><p>Écrivez un court poème sur l'Himalaya.</p>"
            ],
            "text/plain": [
              "<IPython.core.display.HTML object>"
            ]
          },
          "metadata": {},
          "output_type": "display_data"
        },
        {
          "data": {
            "text/html": [
              "<h4>Réponse :</h4><p>Dans les cieux où le silence règne,  \n",
              "L'Himalaya s'élève, majestueux et ancien.  \n",
              "Ses sommets effleurent les étoiles brillantes,  \n",
              "Gardien de mystères, par la neige vivante.  \n",
              "\n",
              "Des vallées profondes aux glaciers éclatants,  \n",
              "Le souffle du vent chante des chants d'antan.  \n",
              "Montagnes sacrées, témoins des âges,  \n",
              "Écrivez l'histoire sur vos pages.  \n",
              "\n",
              "Sous un ciel azur, en leur ombre paisible,  \n",
              "Les âmes errantes trouvent refuge, invisible.  \n",
              "Himalaya, éternel, dans ta grandeur infinie,  \n",
              "Rêveurs et sages y puisent l'harmonie.</p>"
            ],
            "text/plain": [
              "<IPython.core.display.HTML object>"
            ]
          },
          "metadata": {},
          "output_type": "display_data"
        },
        {
          "data": {
            "text/html": [
              "<p><b>Temps :</b> 2.45 secondes</p>"
            ],
            "text/plain": [
              "<IPython.core.display.HTML object>"
            ]
          },
          "metadata": {},
          "output_type": "display_data"
        },
        {
          "data": {
            "text/html": [
              "<hr>"
            ],
            "text/plain": [
              "<IPython.core.display.HTML object>"
            ]
          },
          "metadata": {},
          "output_type": "display_data"
        }
      ],
      "source": [
        "# Écriture créative en français\n",
        "creative_prompt = \"Écrivez un court poème sur l'Himalaya.\"\n",
        "\n",
        "response, time_taken = get_sutra_response(creative_prompt, temperature=0.8)"
      ]
    },
    {
      "cell_type": "markdown",
      "metadata": {
        "id": "7IqaUuSrv8Ih"
      },
      "source": [
        "## 4. Résumé en **français**\n",
        "\n",
        "Sutra peut résumer efficacement un texte en **français**.\n"
      ]
    },
    {
      "cell_type": "code",
      "execution_count": null,
      "metadata": {
        "colab": {
          "base_uri": "https://localhost:8080/",
          "height": 279
        },
        "id": "sFV0h7ngwCiX",
        "outputId": "f462f4e1-603f-4957-a54a-0d53273ee348"
      },
      "outputs": [
        {
          "data": {
            "text/html": [
              "<h4>Invite :</h4><p>Résumez le texte suivant en moins de 100 mots :\n",
              "\n",
              "\n",
              "L'histoire de l'indépendance de l'Inde est longue et complexe. La domination britannique en Inde a commencé en 1757 après la bataille de Plassey, lorsque la East India Company a défait le Nawab du Bengale, Siraj-ud-Daula. Par la suite, la compagnie a progressivement étendu son influence, et en 1858, l'Inde est passée directement sous la couronne britannique.\n",
              "\n",
              "La rébellion de 1857, également connue sous le nom de Première guerre d'indépendance, fut la première grande révolte contre la domination britannique. Bien que cette rébellion ait échoué, elle a éveillé la conscience nationale chez les Indiens.\n",
              "\n",
              "Avec la formation du Congrès national indien en 1885, le mouvement pour l'indépendance est devenu plus organisé. Sous la direction de Mahatma Gandhi, des demandes d'indépendance ont été formulées par la résistance non violente et le Satyagraha.\n",
              "\n",
              "En 1942, le 'Quit India Movement' a été lancé, forçant les Britanniques à quitter l'Inde. Après la Seconde Guerre mondiale, la condition économique de la Grande-Bretagne s'est affaiblie, et finalement, l'Inde a obtenu son indépendance le 15 août 1947, bien que le pays ait été partitionné en Inde et Pakistan.\n",
              "</p>"
            ],
            "text/plain": [
              "<IPython.core.display.HTML object>"
            ]
          },
          "metadata": {},
          "output_type": "display_data"
        },
        {
          "data": {
            "text/html": [
              "<h4>Réponse :</h4><p>L'indépendance de l'Inde a débuté avec la domination britannique en 1757 après la bataille de Plassey. La rébellion de 1857, première grande révolte contre cette domination, a éveillé la conscience nationale. Le Congrès national indien, fondé en 1885, a structuré le mouvement d'indépendance, dirigé par Mahatma Gandhi avec des méthodes non violentes. Le 'Quit India Movement' de 1942 a intensifié les pressions sur les Britanniques. Après la Seconde Guerre mondiale et face à une économie affaiblie, l'Inde a obtenu son indépendance le 15 août 1947, entraînant la partition en Inde et Pakistan.</p>"
            ],
            "text/plain": [
              "<IPython.core.display.HTML object>"
            ]
          },
          "metadata": {},
          "output_type": "display_data"
        },
        {
          "data": {
            "text/html": [
              "<p><b>Temps :</b> 3.41 secondes</p>"
            ],
            "text/plain": [
              "<IPython.core.display.HTML object>"
            ]
          },
          "metadata": {},
          "output_type": "display_data"
        },
        {
          "data": {
            "text/html": [
              "<hr>"
            ],
            "text/plain": [
              "<IPython.core.display.HTML object>"
            ]
          },
          "metadata": {},
          "output_type": "display_data"
        }
      ],
      "source": [
        "# Texte à résumer\n",
        "long_text = \"\"\"\n",
        "L'histoire de l'indépendance de l'Inde est longue et complexe. La domination britannique en Inde a commencé en 1757 après la bataille de Plassey, lorsque la East India Company a défait le Nawab du Bengale, Siraj-ud-Daula. Par la suite, la compagnie a progressivement étendu son influence, et en 1858, l'Inde est passée directement sous la couronne britannique.\n",
        "\n",
        "La rébellion de 1857, également connue sous le nom de Première guerre d'indépendance, fut la première grande révolte contre la domination britannique. Bien que cette rébellion ait échoué, elle a éveillé la conscience nationale chez les Indiens.\n",
        "\n",
        "Avec la formation du Congrès national indien en 1885, le mouvement pour l'indépendance est devenu plus organisé. Sous la direction de Mahatma Gandhi, des demandes d'indépendance ont été formulées par la résistance non violente et le Satyagraha.\n",
        "\n",
        "En 1942, le 'Quit India Movement' a été lancé, forçant les Britanniques à quitter l'Inde. Après la Seconde Guerre mondiale, la condition économique de la Grande-Bretagne s'est affaiblie, et finalement, l'Inde a obtenu son indépendance le 15 août 1947, bien que le pays ait été partitionné en Inde et Pakistan.\n",
        "\"\"\"\n",
        "\n",
        "summarize_prompt = f\"Résumez le texte suivant en moins de 100 mots :\\n\\n{long_text}\"\n",
        "\n",
        "summary, time_taken = get_sutra_response(summarize_prompt, temperature=0.3)"
      ]
    },
    {
      "cell_type": "markdown",
      "metadata": {
        "id": "jay2l0ECwI2A"
      },
      "source": [
        "## 5. Réponse à des questions en **français**\n",
        "\n",
        "Utilisons Sutra pour répondre à des questions en **français**.\n"
      ]
    },
    {
      "cell_type": "code",
      "execution_count": null,
      "metadata": {
        "colab": {
          "base_uri": "https://localhost:8080/",
          "height": 244
        },
        "id": "-l_pvzt0wOMq",
        "outputId": "ead7f7ee-f93a-4edc-c02a-869538e85860"
      },
      "outputs": [
        {
          "data": {
            "text/html": [
              "<h4>Invite :</h4><p>Répondez aux questions suivantes en vous basant sur les informations fournies :\n",
              "\n",
              "\n",
              "La Constitution de l'Inde est la constitution écrite la plus longue du monde. Elle a été adoptée le 26 novembre 1949 et est entrée en vigueur le 26 janvier 1950. Dr. B. R. Ambedkar est considéré comme le principal architecte de la Constitution indienne. La constitution originale comptait 395 articles, 22 parties et 8 annexes. Actuellement, elle contient 448 articles, 25 parties et 12 annexes. Les mots 'Socialiste', 'Laïque' et 'Intégrité' ont été ajoutés au préambule par le 42e amendement (1976).\n",
              "\n",
              "\n",
              "Question 1 : Quand la Constitution indienne est-elle entrée en vigueur ?\n",
              "Question 2 : Qui était le principal architecte de la Constitution indienne ?\n",
              "Question 3 : Quels mots ont été ajoutés au préambule par le 42e amendement ?</p>"
            ],
            "text/plain": [
              "<IPython.core.display.HTML object>"
            ]
          },
          "metadata": {},
          "output_type": "display_data"
        },
        {
          "data": {
            "text/html": [
              "<h4>Réponse :</h4><p>Question 1 : La Constitution indienne est entrée en vigueur le 26 janvier 1950.\n",
              "\n",
              "Question 2 : Le principal architecte de la Constitution indienne est Dr. B. R. Ambedkar.\n",
              "\n",
              "Question 3 : Les mots 'Socialiste', 'Laïque' et 'Intégrité' ont été ajoutés au préambule par le 42e amendement en 1976.</p>"
            ],
            "text/plain": [
              "<IPython.core.display.HTML object>"
            ]
          },
          "metadata": {},
          "output_type": "display_data"
        },
        {
          "data": {
            "text/html": [
              "<p><b>Temps :</b> 2.84 secondes</p>"
            ],
            "text/plain": [
              "<IPython.core.display.HTML object>"
            ]
          },
          "metadata": {},
          "output_type": "display_data"
        },
        {
          "data": {
            "text/html": [
              "<hr>"
            ],
            "text/plain": [
              "<IPython.core.display.HTML object>"
            ]
          },
          "metadata": {},
          "output_type": "display_data"
        }
      ],
      "source": [
        "# Contexte pour la réponse aux questions\n",
        "context = \"\"\"\n",
        "La Constitution de l'Inde est la constitution écrite la plus longue du monde. Elle a été adoptée le 26 novembre 1949 et est entrée en vigueur le 26 janvier 1950. Dr. B. R. Ambedkar est considéré comme le principal architecte de la Constitution indienne. La constitution originale comptait 395 articles, 22 parties et 8 annexes. Actuellement, elle contient 448 articles, 25 parties et 12 annexes. Les mots 'Socialiste', 'Laïque' et 'Intégrité' ont été ajoutés au préambule par le 42e amendement (1976).\n",
        "\"\"\"\n",
        "\n",
        "qa_prompt = f\"Répondez aux questions suivantes en vous basant sur les informations fournies :\\n\\n{context}\\n\\nQuestion 1 : Quand la Constitution indienne est-elle entrée en vigueur ?\\nQuestion 2 : Qui était le principal architecte de la Constitution indienne ?\\nQuestion 3 : Quels mots ont été ajoutés au préambule par le 42e amendement ?\"\n",
        "\n",
        "answers, time_taken = get_sutra_response(qa_prompt, temperature=0.2)"
      ]
    },
    {
      "cell_type": "markdown",
      "metadata": {
        "id": "3uN1tOwvwU0K"
      },
      "source": [
        "## 6. Traduction **français**-**anglais**\n",
        "\n",
        "Sutra peut traduire efficacement entre **français** et **anglais**.\n"
      ]
    },
    {
      "cell_type": "code",
      "execution_count": null,
      "metadata": {
        "colab": {
          "base_uri": "https://localhost:8080/",
          "height": 175
        },
        "id": "CuKRHeTsw4TB",
        "outputId": "bf582a3a-d247-4bb4-efa7-fead9cf52d99"
      },
      "outputs": [
        {
          "data": {
            "text/html": [
              "<h4>Invite :</h4><p>Translate the following French text into English:\n",
              "\n",
              "La France est un pays riche en histoire, culture et art. Paris, sa capitale, est connue pour ses monuments emblématiques comme la Tour Eiffel et le Louvre.</p>"
            ],
            "text/plain": [
              "<IPython.core.display.HTML object>"
            ]
          },
          "metadata": {},
          "output_type": "display_data"
        },
        {
          "data": {
            "text/html": [
              "<h4>Réponse :</h4><p>France is a country rich in history, culture, and art. Paris, its capital, is known for its iconic landmarks such as the Eiffel Tower and the Louvre.</p>"
            ],
            "text/plain": [
              "<IPython.core.display.HTML object>"
            ]
          },
          "metadata": {},
          "output_type": "display_data"
        },
        {
          "data": {
            "text/html": [
              "<p><b>Temps :</b> 1.63 secondes</p>"
            ],
            "text/plain": [
              "<IPython.core.display.HTML object>"
            ]
          },
          "metadata": {},
          "output_type": "display_data"
        },
        {
          "data": {
            "text/html": [
              "<hr>"
            ],
            "text/plain": [
              "<IPython.core.display.HTML object>"
            ]
          },
          "metadata": {},
          "output_type": "display_data"
        }
      ],
      "source": [
        "# Traduction français vers anglais\n",
        "french_text = \"La France est un pays riche en histoire, culture et art. Paris, sa capitale, est connue pour ses monuments emblématiques comme la Tour Eiffel et le Louvre.\"\n",
        "\n",
        "translate_fr_to_en_prompt = f\"Translate the following French text into English:\\n\\n{french_text}\"\n",
        "\n",
        "translation_en, time_taken = get_sutra_response(translate_fr_to_en_prompt)"
      ]
    },
    {
      "cell_type": "code",
      "execution_count": null,
      "metadata": {
        "colab": {
          "base_uri": "https://localhost:8080/",
          "height": 209
        },
        "id": "GiCuDfROw983",
        "outputId": "cea176d5-fc6c-4b56-ba18-8cbee8f99181"
      },
      "outputs": [
        {
          "data": {
            "text/html": [
              "<h4>Invite :</h4><p>Translate the following English text into French:\n",
              "\n",
              "Artificial intelligence is transforming the way we live and work. It has applications in healthcare, education, transportation, and many other fields. As technology advances, it's important to ensure that AI is developed ethically and responsibly.</p>"
            ],
            "text/plain": [
              "<IPython.core.display.HTML object>"
            ]
          },
          "metadata": {},
          "output_type": "display_data"
        },
        {
          "data": {
            "text/html": [
              "<h4>Réponse :</h4><p>L'intelligence artificielle transforme notre façon de vivre et de travailler. Elle a des applications dans la santé, l'éducation, les transports et de nombreux autres domaines. À mesure que la technologie progresse, il est important de veiller à ce que l'IA soit développée de manière éthique et responsable.</p>"
            ],
            "text/plain": [
              "<IPython.core.display.HTML object>"
            ]
          },
          "metadata": {},
          "output_type": "display_data"
        },
        {
          "data": {
            "text/html": [
              "<p><b>Temps :</b> 1.67 secondes</p>"
            ],
            "text/plain": [
              "<IPython.core.display.HTML object>"
            ]
          },
          "metadata": {},
          "output_type": "display_data"
        },
        {
          "data": {
            "text/html": [
              "<hr>"
            ],
            "text/plain": [
              "<IPython.core.display.HTML object>"
            ]
          },
          "metadata": {},
          "output_type": "display_data"
        }
      ],
      "source": [
        "# Traduction anglais vers français\n",
        "english_text = \"Artificial intelligence is transforming the way we live and work. It has applications in healthcare, education, transportation, and many other fields. As technology advances, it's important to ensure that AI is developed ethically and responsibly.\"\n",
        "\n",
        "translate_en_to_fr_prompt = f\"Translate the following English text into French:\\n\\n{english_text}\"\n",
        "\n",
        "translation_fr, time_taken = get_sutra_response(translate_en_to_fr_prompt)"
      ]
    },
    {
      "cell_type": "markdown",
      "metadata": {
        "id": "I4hK9vLPxFUl"
      },
      "source": [
        "## 7. Analyse de sentiment en **français**\n",
        "\n",
        "Utilisons Sutra pour effectuer une analyse de sentiment sur un texte en **français**.\n"
      ]
    },
    {
      "cell_type": "code",
      "execution_count": null,
      "metadata": {
        "colab": {
          "base_uri": "https://localhost:8080/",
          "height": 227
        },
        "id": "khRPT7zhxKQh",
        "outputId": "84b22df7-845b-416d-bb8b-535f00c897b5"
      },
      "outputs": [
        {
          "data": {
            "text/html": [
              "<h4>Invite :</h4><p>Effectuer une analyse de sentiment sur les critiques suivantes en français et classer chaque critique comme 'Positif', 'Négatif' ou 'Neutre' :\n",
              "\n",
              "1. Ce film était très bon. L'histoire était captivante et le jeu d'acteur excellent.\n",
              "2. La nourriture n'était pas du tout savoureuse et le service était très mauvais.\n",
              "3. Le produit est correct, mais le prix est un peu élevé.\n",
              "4. J'ai aimé ce livre, l'auteur a très bien expliqué le sujet.\n",
              "5. Le voyage était décevant, l'hôtel était sale et le personnel pas sympathique.\n",
              "</p>"
            ],
            "text/plain": [
              "<IPython.core.display.HTML object>"
            ]
          },
          "metadata": {},
          "output_type": "display_data"
        },
        {
          "data": {
            "text/html": [
              "<h4>Réponse :</h4><p>Voici l'analyse de sentiment pour chaque critique :\n",
              "\n",
              "1. **Critique** : Ce film était très bon. L'histoire était captivante et le jeu d'acteur excellent.  \n",
              "   **Classification** : Positif\n",
              "\n",
              "2. **Critique** : La nourriture n'était pas du tout savoureuse et le service était très mauvais.  \n",
              "   **Classification** : Négatif\n",
              "\n",
              "3. **Critique** : Le produit est correct, mais le prix est un peu élevé.  \n",
              "   **Classification** : Neutre\n",
              "\n",
              "4. **Critique** : J'ai aimé ce livre, l'auteur a très bien expliqué le sujet.  \n",
              "   **Classification** : Positif\n",
              "\n",
              "5. **Critique** : Le voyage était décevant, l'hôtel était sale et le personnel pas sympathique.  \n",
              "   **Classification** : Négatif</p>"
            ],
            "text/plain": [
              "<IPython.core.display.HTML object>"
            ]
          },
          "metadata": {},
          "output_type": "display_data"
        },
        {
          "data": {
            "text/html": [
              "<p><b>Temps :</b> 4.48 secondes</p>"
            ],
            "text/plain": [
              "<IPython.core.display.HTML object>"
            ]
          },
          "metadata": {},
          "output_type": "display_data"
        },
        {
          "data": {
            "text/html": [
              "<hr>"
            ],
            "text/plain": [
              "<IPython.core.display.HTML object>"
            ]
          },
          "metadata": {},
          "output_type": "display_data"
        }
      ],
      "source": [
        "# Analyse de sentiment en français\n",
        "reviews = [\n",
        "\"Ce film était très bon. L'histoire était captivante et le jeu d'acteur excellent.\",\n",
        "\"La nourriture n'était pas du tout savoureuse et le service était très mauvais.\",\n",
        "\"Le produit est correct, mais le prix est un peu élevé.\",\n",
        "\"J'ai aimé ce livre, l'auteur a très bien expliqué le sujet.\",\n",
        "\"Le voyage était décevant, l'hôtel était sale et le personnel pas sympathique.\"\n",
        "]\n",
        "\n",
        "sentiment_prompt = \"Effectuer une analyse de sentiment sur les critiques suivantes en français et classer chaque critique comme 'Positif', 'Négatif' ou 'Neutre' :\\n\\n\"\n",
        "\n",
        "for i, review in enumerate(reviews):\n",
        "    sentiment_prompt += f\"{i+1}. {review}\\n\"\n",
        "\n",
        "sentiment_analysis, time_taken = get_sutra_response(sentiment_prompt, temperature=0.1)"
      ]
    },
    {
      "cell_type": "markdown",
      "metadata": {
        "id": "L6kWtGoIxWys"
      },
      "source": [
        "## 8. Génération de contenu en **français** pour divers formats\n",
        "\n",
        "Sutra peut générer du contenu en **français** pour divers formats.\n"
      ]
    },
    {
      "cell_type": "code",
      "execution_count": null,
      "metadata": {
        "colab": {
          "base_uri": "https://localhost:8080/",
          "height": 736
        },
        "id": "Y7Kr0DvRyB4b",
        "outputId": "bf44310e-3eba-4317-afe3-396e91a1c667"
      },
      "outputs": [
        {
          "data": {
            "text/html": [
              "<h4>Invite :</h4><p>Rédigez un article de blog sur le sujet 'La cuisine indienne et son impact sur la santé'. Incluez un titre, une introduction, les points principaux et une conclusion.</p>"
            ],
            "text/plain": [
              "<IPython.core.display.HTML object>"
            ]
          },
          "metadata": {},
          "output_type": "display_data"
        },
        {
          "data": {
            "text/html": [
              "<h4>Réponse :</h4>"
            ],
            "text/plain": [
              "<IPython.core.display.HTML object>"
            ]
          },
          "metadata": {},
          "output_type": "display_data"
        },
        {
          "name": "stdout",
          "output_type": "stream",
          "text": [
            "# La cuisine indienne et son impact sur la santé\n",
            "\n",
            "## Introduction\n",
            "\n",
            "La cuisine indienne est réputée pour sa diversité, ses saveurs vibrantes et ses épices aromatiques. Au-delà de son goût délicieux, elle offre également une multitude de bénéfices pour la santé. Dans cet article, nous allons explorer les éléments clés de la cuisine indienne et leur impact positif sur le bien-être physique et mental.\n",
            "\n",
            "## Les points principaux\n",
            "\n",
            "### 1. Utilisation des épices\n",
            "\n",
            "Les épices sont au cœur de la cuisine indienne et jouent un rôle essentiel non seulement dans l'arôme des plats, mais aussi dans leurs propriétés bénéfiques pour la santé. Des épices comme le curcuma, le gingembre et le cumin contiennent des antioxydants et des propriétés anti-inflammatoires. Le curcuma, par exemple, est reconnu pour sa capacité à réduire l'inflammation et à renforcer le système immunitaire.\n",
            "\n",
            "### 2. Plats à base de légumes\n",
            "\n",
            "La cuisine indienne met une grande importance sur les légumes, souvent préparés dans des currys ou en accompagnements. Les plats végétariens, qui constituent une part importante de l'alimentation indienne, sont riches en fibres, vitamines et minéraux. Cette approche contribue à la prévention de maladies chroniques telles que le diabète et les maladies cardiaques.\n",
            "\n",
            "### 3. Légumineuses et protéines\n",
            "\n",
            "Les légumineuses, telles que les lentilles, les pois chiches et les haricots, sont des sources essentielles de protéines végétales dans la cuisine indienne. Elles sont non seulement nourrissantes, mais aussi bénéfiques pour la digestion grâce à leur haute teneur en fibres. Incorporer des légumineuses dans son alimentation aide à maintenir un poids santé et favorise une meilleure santé intestinale.\n",
            "\n",
            "### 4. Influence sur la santé mentale\n",
            "\n",
            "La cuisine indienne n'est pas seulement nutritive, elle a également un impact sur la santé mentale. La préparation et le partage des repas sont souvent des moments de convivialité et de célébration dans la culture indienne. De plus, certaines épices comme le safran et le fenouil sont associées à des effets positifs sur l'humeur et peuvent aider à réduire le stress et l'anxiété.\n",
            "\n",
            "### 5. Alimentation équilibrée\n",
            "\n",
            "Un repas indien typique est souvent composé d'une variété de plats, ce qui favorise une alimentation équilibrée. L'association de glucides (riz, pain), de protéines (viande, légumineuses), de légumes et de produits laitiers (yaourt) assure un apport nutritionnel complet. Cette diversité permet de couvrir les besoins essentiels du corps tout en offrant un éventail de saveurs.\n",
            "\n",
            "## Conclusion\n",
            "\n",
            "La cuisine indienne est bien plus qu'un simple régal pour les papilles; elle est également une source inestimable de bienfaits pour la santé. Grâce à l'utilisation judicieuse des épices, des légumes, des légumineuses et à sa capacité à promouvoir une alimentation équilibrée, elle participe à la prévention des maladies et à l'amélioration du bien-être général. En intégrant ces éléments dans notre alimentation quotidienne, nous pouvons non seulement savourer des plats exquis, mais également prendre soin de notre santé.\n",
            "\n"
          ]
        },
        {
          "data": {
            "text/html": [
              "<hr>"
            ],
            "text/plain": [
              "<IPython.core.display.HTML object>"
            ]
          },
          "metadata": {},
          "output_type": "display_data"
        }
      ],
      "source": [
        "# Générer un article de blog en français\n",
        "blog_prompt = \"Rédigez un article de blog sur le sujet 'La cuisine indienne et son impact sur la santé'. Incluez un titre, une introduction, les points principaux et une conclusion.\"\n",
        "\n",
        "blog_post = get_sutra_streaming_response(blog_prompt, temperature=0.7)"
      ]
    },
    {
      "cell_type": "markdown",
      "metadata": {
        "id": "YQB_WCnLyMr4"
      },
      "source": [
        "## 9. Conclusion\n",
        "\n",
        "Dans ce notebook, nous avons exploré l'utilisation du modèle Sutra avec le client OpenAI pour les applications en **français**. Nous avons couvert divers cas d'utilisation, notamment :\n",
        "\n",
        "* Génération de texte de base en français\n",
        "* Récupération d'informations en français\n",
        "* Écriture créative en français\n",
        "* Résumé de texte en français\n",
        "* Réponse aux questions en français\n",
        "* Traduction français-hindi\n",
        "* Analyse de sentiment en français\n",
        "* Génération de contenu en français pour divers formats\n",
        "* Changement de code en français\n",
        "* Compréhension du contexte culturel français\n",
        "* Génération de sorties structurées en français\n",
        "\n",
        "Les capacités impressionnantes de Sutra en français et dans d'autres langues indiennes en font un excellent choix pour les applications ciblant les utilisateurs francophones ou nécessitant un traitement en français.\n"
      ]
    },
    {
      "cell_type": "markdown",
      "metadata": {
        "id": "nSiMJblayTM4"
      },
      "source": [
        "## 10. Ressources supplémentaires\n",
        "\n",
        "Pour en savoir plus sur l'utilisation de Sutra avec la **langue française**, consultez les ressources suivantes :\n",
        "\n",
        "1. [Documentation de l'API Sutra](https://docs.two.ai)\n",
        "2. [Variantes du modèle Sutra](https://docs.two.ai/models)\n",
        "3. [Plus d'informations sur les capacités multilingues](https://docs.two.ai/multilingual)\n",
        "\n",
        "Nous vous encourageons à créer vos propres applications en utilisant Sutra pour le **français** et d'autres langues indiennes !\n"
      ]
    }
  ],
  "metadata": {
    "colab": {
      "provenance": []
    },
    "kernelspec": {
      "display_name": "Python 3",
      "name": "python3"
    },
    "language_info": {
      "name": "python"
    }
  },
  "nbformat": 4,
  "nbformat_minor": 0
}
