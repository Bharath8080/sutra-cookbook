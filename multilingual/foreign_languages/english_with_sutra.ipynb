{
  "nbformat": 4,
  "nbformat_minor": 0,
  "metadata": {
    "colab": {
      "provenance": []
    },
    "kernelspec": {
      "name": "python3",
      "display_name": "Python 3"
    },
    "language_info": {
      "name": "python"
    }
  },
  "cells": [
    {
      "cell_type": "markdown",
      "source": [
        "# Using Sutra Model for English Language\n",
        "\n",
        "<img src=\"https://play-lh.googleusercontent.com/_O9p4Z4yucA2NLmZBu9mTJCuBwXeT9NcbtrDN6I8gKlkIPRySV0adOmbyipjSj9Gew\" width=\"150\">\n",
        "\n",
        "[![Open In Colab](https://colab.research.google.com/assets/colab-badge.svg)](https://colab.research.google.com/drive/1crWD-n3ii5EGLDaRYwy9bHBpRGx-6bLg?usp=sharing)\n",
        "\n",
        "\n",
        "## Introduction\n",
        "\n",
        "In this notebook, we demonstrate how to use the Sutra model with the OpenAI client specifically for English language applications. Sutra excels in processing and generating content in Indian languages, making it an ideal choice for English language tasks.\n",
        "\n",
        "### What You Will Learn\n",
        "\n",
        "* Setting up the OpenAI client to work with the Sutra model\n",
        "* Creating prompts in English and understanding the responses\n",
        "* Exploring various English language use cases\n",
        "* Best practices for generating content in English\n"
      ],
      "metadata": {
        "id": "yyr18q4duygs"
      }
    },
    {
      "cell_type": "markdown",
      "source": [
        "## Get Your API Keys\n",
        "\n",
        "Before you begin, make sure you have:\n",
        "\n",
        "1. A SUTRA API key (Get yours at [TWO AI's SUTRA API page](https://www.two.ai/sutra/api))\n",
        "2. Basic familiarity with Python and Jupyter notebooks\n",
        "\n",
        "This notebook is designed to run in Google Colab, so no local Python installation is required."
      ],
      "metadata": {
        "id": "RNkRXVzul_n5"
      }
    },
    {
      "cell_type": "markdown",
      "source": [
        "## Setup\n",
        "First, install the required libraries."
      ],
      "metadata": {
        "id": "k8I8APqau_yf"
      }
    },
    {
      "cell_type": "code",
      "source": [
        "# Install required packages\n",
        "!pip install openai"
      ],
      "metadata": {
        "id": "tTLnrtjovTiG",
        "colab": {
          "base_uri": "https://localhost:8080/"
        },
        "outputId": "b8768001-bae4-48d0-b1a8-3d3c84589868"
      },
      "execution_count": null,
      "outputs": [
        {
          "output_type": "stream",
          "name": "stdout",
          "text": [
            "Requirement already satisfied: openai in /usr/local/lib/python3.11/dist-packages (1.76.2)\n",
            "Requirement already satisfied: requests in /usr/local/lib/python3.11/dist-packages (2.32.3)\n",
            "Requirement already satisfied: pandas in /usr/local/lib/python3.11/dist-packages (2.2.2)\n",
            "Requirement already satisfied: matplotlib in /usr/local/lib/python3.11/dist-packages (3.10.0)\n",
            "Requirement already satisfied: anyio<5,>=3.5.0 in /usr/local/lib/python3.11/dist-packages (from openai) (4.9.0)\n",
            "Requirement already satisfied: distro<2,>=1.7.0 in /usr/local/lib/python3.11/dist-packages (from openai) (1.9.0)\n",
            "Requirement already satisfied: httpx<1,>=0.23.0 in /usr/local/lib/python3.11/dist-packages (from openai) (0.28.1)\n",
            "Requirement already satisfied: jiter<1,>=0.4.0 in /usr/local/lib/python3.11/dist-packages (from openai) (0.9.0)\n",
            "Requirement already satisfied: pydantic<3,>=1.9.0 in /usr/local/lib/python3.11/dist-packages (from openai) (2.11.4)\n",
            "Requirement already satisfied: sniffio in /usr/local/lib/python3.11/dist-packages (from openai) (1.3.1)\n",
            "Requirement already satisfied: tqdm>4 in /usr/local/lib/python3.11/dist-packages (from openai) (4.67.1)\n",
            "Requirement already satisfied: typing-extensions<5,>=4.11 in /usr/local/lib/python3.11/dist-packages (from openai) (4.13.2)\n",
            "Requirement already satisfied: charset-normalizer<4,>=2 in /usr/local/lib/python3.11/dist-packages (from requests) (3.4.1)\n",
            "Requirement already satisfied: idna<4,>=2.5 in /usr/local/lib/python3.11/dist-packages (from requests) (3.10)\n",
            "Requirement already satisfied: urllib3<3,>=1.21.1 in /usr/local/lib/python3.11/dist-packages (from requests) (2.4.0)\n",
            "Requirement already satisfied: certifi>=2017.4.17 in /usr/local/lib/python3.11/dist-packages (from requests) (2025.4.26)\n",
            "Requirement already satisfied: numpy>=1.23.2 in /usr/local/lib/python3.11/dist-packages (from pandas) (2.0.2)\n",
            "Requirement already satisfied: python-dateutil>=2.8.2 in /usr/local/lib/python3.11/dist-packages (from pandas) (2.9.0.post0)\n",
            "Requirement already satisfied: pytz>=2020.1 in /usr/local/lib/python3.11/dist-packages (from pandas) (2025.2)\n",
            "Requirement already satisfied: tzdata>=2022.7 in /usr/local/lib/python3.11/dist-packages (from pandas) (2025.2)\n",
            "Requirement already satisfied: contourpy>=1.0.1 in /usr/local/lib/python3.11/dist-packages (from matplotlib) (1.3.2)\n",
            "Requirement already satisfied: cycler>=0.10 in /usr/local/lib/python3.11/dist-packages (from matplotlib) (0.12.1)\n",
            "Requirement already satisfied: fonttools>=4.22.0 in /usr/local/lib/python3.11/dist-packages (from matplotlib) (4.57.0)\n",
            "Requirement already satisfied: kiwisolver>=1.3.1 in /usr/local/lib/python3.11/dist-packages (from matplotlib) (1.4.8)\n",
            "Requirement already satisfied: packaging>=20.0 in /usr/local/lib/python3.11/dist-packages (from matplotlib) (24.2)\n",
            "Requirement already satisfied: pillow>=8 in /usr/local/lib/python3.11/dist-packages (from matplotlib) (11.2.1)\n",
            "Requirement already satisfied: pyparsing>=2.3.1 in /usr/local/lib/python3.11/dist-packages (from matplotlib) (3.2.3)\n",
            "Requirement already satisfied: httpcore==1.* in /usr/local/lib/python3.11/dist-packages (from httpx<1,>=0.23.0->openai) (1.0.9)\n",
            "Requirement already satisfied: h11>=0.16 in /usr/local/lib/python3.11/dist-packages (from httpcore==1.*->httpx<1,>=0.23.0->openai) (0.16.0)\n",
            "Requirement already satisfied: annotated-types>=0.6.0 in /usr/local/lib/python3.11/dist-packages (from pydantic<3,>=1.9.0->openai) (0.7.0)\n",
            "Requirement already satisfied: pydantic-core==2.33.2 in /usr/local/lib/python3.11/dist-packages (from pydantic<3,>=1.9.0->openai) (2.33.2)\n",
            "Requirement already satisfied: typing-inspection>=0.4.0 in /usr/local/lib/python3.11/dist-packages (from pydantic<3,>=1.9.0->openai) (0.4.0)\n",
            "Requirement already satisfied: six>=1.5 in /usr/local/lib/python3.11/dist-packages (from python-dateutil>=2.8.2->pandas) (1.17.0)\n"
          ]
        }
      ]
    },
    {
      "cell_type": "markdown",
      "source": [
        "### Import required libraries\n"
      ],
      "metadata": {
        "id": "yeHEtpG8vbCS"
      }
    },
    {
      "cell_type": "code",
      "source": [
        "# Import required libraries\n",
        "import os\n",
        "import time\n",
        "from openai import OpenAI\n",
        "from IPython.display import display, Markdown, HTML\n",
        "from google.colab import userdata"
      ],
      "metadata": {
        "id": "WwFyn2fivcsW"
      },
      "execution_count": null,
      "outputs": []
    },
    {
      "cell_type": "markdown",
      "source": [
        "## Authentication\n",
        "To use the Sutra API, you need to set your API key.\n",
        "\n"
      ],
      "metadata": {
        "id": "QHR9CHddvr_C"
      }
    },
    {
      "cell_type": "code",
      "source": [
        "# If you want to use it in code, for example:\n",
        "os.environ[\"SUTRA_API_KEY\"] = userdata.get('SUTRA_API_KEY')"
      ],
      "metadata": {
        "id": "LKpXC_pTv8mq"
      },
      "execution_count": null,
      "outputs": []
    },
    {
      "cell_type": "markdown",
      "source": [
        "### Create OpenAI Client with Sutra API Endpoint\n"
      ],
      "metadata": {
        "id": "WOS3DVEuwELW"
      }
    },
    {
      "cell_type": "code",
      "source": [
        "# Create OpenAI Client with Sutra API Endpoint\n",
        "client = OpenAI(\n",
        "    base_url=\"https://api.two.ai/v2\",\n",
        "    api_key=os.environ.get(\"SUTRA_API_KEY\")\n",
        ")"
      ],
      "metadata": {
        "id": "KOk5-vyKwFfc"
      },
      "execution_count": null,
      "outputs": []
    },
    {
      "cell_type": "markdown",
      "source": [
        "## Helper Functions\n",
        "\n",
        "Create helper functions to interact with the Sutra API for English language tasks."
      ],
      "metadata": {
        "id": "egWJTPP-wRVr"
      }
    },
    {
      "cell_type": "code",
      "source": [
        "import time\n",
        "from IPython.display import display, HTML\n",
        "\n",
        "def get_sutra_response(prompt, model=\"sutra-v2\", temperature=0.7, max_tokens=1024):\n",
        "    \"\"\"Simple non-streaming response from Sutra AI\"\"\"\n",
        "    try:\n",
        "        start_time = time.time()\n",
        "\n",
        "        # Basic API call\n",
        "        response = client.chat.completions.create(\n",
        "            model=model,\n",
        "            messages=[{\"role\": \"user\", \"content\": prompt}],\n",
        "            temperature=temperature,\n",
        "            max_tokens=max_tokens\n",
        "        )\n",
        "\n",
        "        # Get the response content\n",
        "        result = response.choices[0].message.content\n",
        "        time_taken = time.time() - start_time\n",
        "\n",
        "        # Simple display\n",
        "        print(f\"Prompt: {prompt}\")\n",
        "        print(f\"Response: {result}\")\n",
        "        print(f\"Time taken: {time_taken:.2f}s\")\n",
        "\n",
        "        return result, time_taken\n",
        "\n",
        "    except Exception as e:\n",
        "        error_msg = f\"Error: {str(e)}\"\n",
        "        print(error_msg)\n",
        "        return error_msg, 0\n",
        "\n",
        "def get_sutra_streaming_response(prompt, model=\"sutra-v2\", temperature=0.7, max_tokens=1024):\n",
        "    \"\"\"Simple streaming response from Sutra AI\"\"\"\n",
        "    try:\n",
        "        start_time = time.time()\n",
        "\n",
        "        # Start streaming\n",
        "        stream = client.chat.completions.create(\n",
        "            model=model,\n",
        "            messages=[{\"role\": \"user\", \"content\": prompt}],\n",
        "            temperature=temperature,\n",
        "            max_tokens=max_tokens,\n",
        "            stream=True\n",
        "        )\n",
        "\n",
        "        print(f\"Prompt: {prompt}\")\n",
        "        print(\"Response:\", end=\" \")\n",
        "\n",
        "        full_response = \"\"\n",
        "\n",
        "        # Print chunks as they come\n",
        "        for chunk in stream:\n",
        "            if chunk.choices[0].delta.content:\n",
        "                content = chunk.choices[0].delta.content\n",
        "                print(content, end=\"\", flush=True)\n",
        "                full_response += content\n",
        "\n",
        "        time_taken = time.time() - start_time\n",
        "        print(f\"\\nTime taken: {time_taken:.2f}s\")\n",
        "\n",
        "        return full_response\n",
        "\n",
        "    except Exception as e:\n",
        "        error_msg = f\"Error: {str(e)}\"\n",
        "        print(error_msg)\n",
        "        return error_msg"
      ],
      "metadata": {
        "id": "g9wHZIgAwTHA"
      },
      "execution_count": null,
      "outputs": []
    },
    {
      "cell_type": "markdown",
      "source": [
        "## 1. Basic English Language Generation\n",
        "\n",
        "Let's start with some basic examples of generating English text with Sutra."
      ],
      "metadata": {
        "id": "N0qX54OAwmhP"
      }
    },
    {
      "cell_type": "code",
      "source": [
        "# Simple English Text Generation\n",
        "english_prompt = \"Hello, my name is Rahul. How are you?\"\n",
        "\n",
        "response, time_taken = get_sutra_response(english_prompt)"
      ],
      "metadata": {
        "id": "EPLSpKS0wuaI",
        "colab": {
          "base_uri": "https://localhost:8080/"
        },
        "outputId": "d6dedd63-18c2-492f-9a03-2056d4a57bf2"
      },
      "execution_count": null,
      "outputs": [
        {
          "output_type": "stream",
          "name": "stdout",
          "text": [
            "Prompt: Hello, my name is Rahul. How are you?\n",
            "Response: Hello, Rahul! I'm here and ready to assist you. How can I help you today?\n",
            "Time taken: 1.63s\n"
          ]
        }
      ]
    },
    {
      "cell_type": "markdown",
      "source": [
        "## 2. Information Retrieval in English\n",
        "\n",
        "Let's use Sutra to retrieve information in English."
      ],
      "metadata": {
        "id": "KkXLy8Nqw3TP"
      }
    },
    {
      "cell_type": "code",
      "source": [
        "# Information Retrieval in English\n",
        "info_prompt = \"Tell me about the five major festivals of India and highlight their significance.\"\n",
        "\n",
        "response, time_taken = get_sutra_response(info_prompt)"
      ],
      "metadata": {
        "id": "5g6Ff0iuw491",
        "colab": {
          "base_uri": "https://localhost:8080/"
        },
        "outputId": "e15d1973-cbaa-4c22-a558-538f4f55d06c"
      },
      "execution_count": null,
      "outputs": [
        {
          "output_type": "stream",
          "name": "stdout",
          "text": [
            "Prompt: Tell me about the five major festivals of India and highlight their significance.\n",
            "Response: India is known for its rich cultural diversity, and its festivals reflect this variety. Here are five major festivals celebrated across the country, along with their significance:\n",
            "\n",
            "1. **Diwali (Deepavali)**:\n",
            "   - **Significance**: Known as the Festival of Lights, Diwali symbolizes the victory of light over darkness and good over evil. It commemorates the return of Lord Rama to Ayodhya after defeating the demon king Ravana. Celebrated by Hindus, Jains, Sikhs, and some Buddhists, Diwali involves lighting oil lamps, bursting fireworks, exchanging gifts, and sharing sweets.\n",
            "\n",
            "2. **Holi**:\n",
            "   - **Significance**: Holi, the Festival of Colors, celebrates the arrival of spring and the victory of good over evil. It is associated with the legend of Prahlada and Holika, symbolizing devotion and faith. During Holi, people play with colored powders and water, representing joy, love, and the vibrant spirit of life. It fosters social bonds and breaks down barriers.\n",
            "\n",
            "3. **Eid al-Fitr**:\n",
            "   - **Significance**: Eid al-Fitr marks the end of Ramadan, the holy month of fasting observed by Muslims. It is a time of gratitude to Allah for the strength to complete the fast. The festival begins with a special prayer service, followed by feasting and sharing meals with family and friends. It emphasizes charity, community, and compassion.\n",
            "\n",
            "4. **Navratri/Dussehra**:\n",
            "   - **Significance**: Navratri is a nine-night festival dedicated to the worship of Goddess Durga, celebrating her victory over the buffalo demon Mahishasura. It culminates in Dussehra, which signifies the triumph of Lord Rama over Ravana. The festival involves fasting, dance (Garba and Dandiya), and cultural performances, promoting devotion, unity, and cultural heritage.\n",
            "\n",
            "5. **Pongal/Makar Sankranti**:\n",
            "   - **Significance**: Pongal, primarily celebrated in Tamil Nadu, marks the harvest season and is a way to thank the Sun God for the bountiful harvest. Makar Sankranti is a similar festival celebrated across India, with regional variations. It involves cooking traditional dishes, flying kites, and various community activities, symbolizing prosperity, gratitude, and the joy of harvest.\n",
            "\n",
            "These festivals not only showcase India's diverse traditions but also foster community spirit, strengthen familial bonds, and promote cultural values and teachings.\n",
            "Time taken: 8.22s\n"
          ]
        }
      ]
    },
    {
      "cell_type": "markdown",
      "source": [
        "## 3. Creative Writing in English\n",
        "\n",
        "Sutra can generate creative content in English."
      ],
      "metadata": {
        "id": "Rn_QyFgoxH-Y"
      }
    },
    {
      "cell_type": "code",
      "source": [
        "# Creative Writing in English\n",
        "creative_prompt = \"Write a short poem about the Himalayas.\"\n",
        "\n",
        "response, time_taken = get_sutra_response(creative_prompt, temperature=0.8)"
      ],
      "metadata": {
        "id": "rYCDHgDAxO9y",
        "colab": {
          "base_uri": "https://localhost:8080/"
        },
        "outputId": "5638a255-5243-4943-9517-d9869b512b44"
      },
      "execution_count": null,
      "outputs": [
        {
          "output_type": "stream",
          "name": "stdout",
          "text": [
            "Prompt: Write a short poem about the Himalayas.\n",
            "Response: Majestic peaks in silence soar,  \n",
            "Where whispers of the ancients roar.  \n",
            "Cloaked in snow, a timeless grace,  \n",
            "The Himalayas, nature's embrace.  \n",
            "\n",
            "Rivers carved from ice and stone,  \n",
            "Legends etched, their tales intone.  \n",
            "Beneath the stars, the yaks roam free,  \n",
            "In sacred heights, the soul finds peace.  \n",
            "\n",
            "With every dawn, the sun ignites,  \n",
            "A canvas rich with mountain sights.  \n",
            "In shadows deep, where eagles glide,  \n",
            "The spirit of the world resides.  \n",
            "Time taken: 2.33s\n"
          ]
        }
      ]
    },
    {
      "cell_type": "markdown",
      "source": [
        "## 4. Summarization in English\n",
        "\n",
        "Sutra can effectively summarize English text."
      ],
      "metadata": {
        "id": "I2IhAC0DxVvp"
      }
    },
    {
      "cell_type": "code",
      "source": [
        "# Text for Summarization\n",
        "long_text = \"\"\"\n",
        "The history of India's independence is long and complex. British rule in India began in 1757 after the Battle of Plassey, when the East India Company defeated the Nawab of Bengal, Siraj-ud-Daula. Subsequently, the company gradually expanded its area of influence, and by 1858, India came directly under the British Crown.\n",
        "\n",
        "The 1857 rebellion, also known as the First War of Independence, was the first major revolt against British rule. Although this rebellion failed, it awakened national consciousness among Indians.\n",
        "\n",
        "With the formation of the Indian National Congress in 1885, the independence movement became more organized. Under the leadership of Mahatma Gandhi, demands for independence were made through non-violent resistance and Satyagraha.\n",
        "\n",
        "In 1942, the 'Quit India Movement' was launched, forcing the British to leave India. After World War II, Britain's economic condition weakened, and eventually, India gained independence on August 15, 1947, although the country was partitioned into India and Pakistan.\n",
        "\"\"\"\n",
        "\n",
        "summarize_prompt = f\"Summarize the following text in less than 100 words:\\n\\n{long_text}\"\n",
        "\n",
        "summary, time_taken = get_sutra_response(summarize_prompt, temperature=0.3)"
      ],
      "metadata": {
        "id": "ZP-cy9LmxVZ9",
        "colab": {
          "base_uri": "https://localhost:8080/"
        },
        "outputId": "af58b566-7e0d-4334-8f7a-9fdb199e8aef"
      },
      "execution_count": null,
      "outputs": [
        {
          "output_type": "stream",
          "name": "stdout",
          "text": [
            "Prompt: Summarize the following text in less than 100 words:\n",
            "\n",
            "\n",
            "The history of India's independence is long and complex. British rule in India began in 1757 after the Battle of Plassey, when the East India Company defeated the Nawab of Bengal, Siraj-ud-Daula. Subsequently, the company gradually expanded its area of influence, and by 1858, India came directly under the British Crown.\n",
            "\n",
            "The 1857 rebellion, also known as the First War of Independence, was the first major revolt against British rule. Although this rebellion failed, it awakened national consciousness among Indians.\n",
            "\n",
            "With the formation of the Indian National Congress in 1885, the independence movement became more organized. Under the leadership of Mahatma Gandhi, demands for independence were made through non-violent resistance and Satyagraha.\n",
            "\n",
            "In 1942, the 'Quit India Movement' was launched, forcing the British to leave India. After World War II, Britain's economic condition weakened, and eventually, India gained independence on August 15, 1947, although the country was partitioned into India and Pakistan.\n",
            "\n",
            "Response: India's struggle for independence began with British rule in 1757, following the East India Company's victory at the Battle of Plassey. The 1857 rebellion marked the first significant revolt against this rule, fostering national awareness. The Indian National Congress was formed in 1885, and under Mahatma Gandhi's leadership, non-violent resistance gained momentum. The 1942 Quit India Movement intensified demands for independence. Following World War II and Britain's weakened economy, India achieved independence on August 15, 1947, resulting in the partition into India and Pakistan.\n",
            "Time taken: 2.47s\n"
          ]
        }
      ]
    },
    {
      "cell_type": "markdown",
      "source": [
        "## 5. Question-Answering in English\n",
        "\n",
        "Let's use Sutra for question-answering in English."
      ],
      "metadata": {
        "id": "-W82E6wGxkJX"
      }
    },
    {
      "cell_type": "code",
      "source": [
        "# Context for Question-Answering\n",
        "context = \"\"\"\n",
        "The Constitution of India is the longest written constitution in the world. It was adopted on November 26, 1949, and came into effect on January 26, 1950. Dr. B. R. Ambedkar is considered the chief architect of the Indian Constitution. The original constitution had 395 articles, 22 parts, and 8 schedules. Currently, it has 448 articles, 25 parts, and 12 schedules. The words 'Socialist', 'Secular', and 'Integrity' were added to the preamble by the 42nd Amendment (1976).\n",
        "\"\"\"\n",
        "\n",
        "qa_prompt = f\"Answer the following questions based on the information provided:\\n\\n{context}\\n\\nQuestion 1: When did the Indian Constitution come into effect?\\nQuestion 2: Who was the chief architect of the Indian Constitution?\\nQuestion 3: Which words were added to the preamble by the 42nd Amendment?\"\n",
        "\n",
        "answers, time_taken = get_sutra_response(qa_prompt, temperature=0.2)"
      ],
      "metadata": {
        "id": "eLW7llmBxsKZ",
        "colab": {
          "base_uri": "https://localhost:8080/"
        },
        "outputId": "ca75597b-8a08-44ae-a669-743c241ca637"
      },
      "execution_count": null,
      "outputs": [
        {
          "output_type": "stream",
          "name": "stdout",
          "text": [
            "Prompt: Answer the following questions based on the information provided:\n",
            "\n",
            "\n",
            "The Constitution of India is the longest written constitution in the world. It was adopted on November 26, 1949, and came into effect on January 26, 1950. Dr. B. R. Ambedkar is considered the chief architect of the Indian Constitution. The original constitution had 395 articles, 22 parts, and 8 schedules. Currently, it has 448 articles, 25 parts, and 12 schedules. The words 'Socialist', 'Secular', and 'Integrity' were added to the preamble by the 42nd Amendment (1976).\n",
            "\n",
            "\n",
            "Question 1: When did the Indian Constitution come into effect?\n",
            "Question 2: Who was the chief architect of the Indian Constitution?\n",
            "Question 3: Which words were added to the preamble by the 42nd Amendment?\n",
            "Response: 1. The Indian Constitution came into effect on January 26, 1950.\n",
            "2. Dr. B. R. Ambedkar is considered the chief architect of the Indian Constitution.\n",
            "3. The words 'Socialist', 'Secular', and 'Integrity' were added to the preamble by the 42nd Amendment in 1976.\n",
            "Time taken: 1.97s\n"
          ]
        }
      ]
    },
    {
      "cell_type": "markdown",
      "source": [
        "## 6. English-Hindi Translation\n",
        "\n",
        "Sutra can effectively translate between Hindi and English."
      ],
      "metadata": {
        "id": "uivkOeA3xr1v"
      }
    },
    {
      "cell_type": "code",
      "source": [
        "# Hindi to English Translation\n",
        "hindi_text = \"भारत एक विविधतापूर्ण देश है जहाँ कई भाषाएँ, धर्म और संस्कृतियाँ एक साथ विकसित होती हैं। इसकी समृद्ध परंपराएँ और इतिहास इसे दुनिया में एक अनोखा स्थान देते हैं।\"\n",
        "\n",
        "translate_hi_to_en_prompt = f\"Translate the following Hindi text into English:\\n\\n{hindi_text}\"\n",
        "\n",
        "translation_en, time_taken = get_sutra_response(translate_hi_to_en_prompt)"
      ],
      "metadata": {
        "id": "zJRRLM-Uy100",
        "colab": {
          "base_uri": "https://localhost:8080/"
        },
        "outputId": "73c99b69-4177-486f-8bc8-643e4638debf"
      },
      "execution_count": null,
      "outputs": [
        {
          "output_type": "stream",
          "name": "stdout",
          "text": [
            "Prompt: Translate the following Hindi text into English:\n",
            "\n",
            "भारत एक विविधतापूर्ण देश है जहाँ कई भाषाएँ, धर्म और संस्कृतियाँ एक साथ विकसित होती हैं। इसकी समृद्ध परंपराएँ और इतिहास इसे दुनिया में एक अनोखा स्थान देते हैं।\n",
            "Response: India is a diverse country where many languages, religions, and cultures develop together. Its rich traditions and history give it a unique position in the world.\n",
            "Time taken: 1.34s\n"
          ]
        }
      ]
    },
    {
      "cell_type": "code",
      "source": [
        "# English to Hindi Translation\n",
        "english_text = \"Artificial intelligence is transforming the way we live and work. It has applications in healthcare, education, transportation, and many other fields. As technology advances, it's important to ensure that AI is developed ethically and responsibly.\"\n",
        "\n",
        "translate_en_to_hi_prompt = f\"Translate the following English text into Hindi:\\n\\n{english_text}\"\n",
        "\n",
        "translation_hi, time_taken = get_sutra_response(translate_en_to_hi_prompt)"
      ],
      "metadata": {
        "colab": {
          "base_uri": "https://localhost:8080/"
        },
        "id": "IQ45bUeRiakr",
        "outputId": "fc41566c-a2b5-4391-f183-a008032b7717"
      },
      "execution_count": null,
      "outputs": [
        {
          "output_type": "stream",
          "name": "stdout",
          "text": [
            "Prompt: Translate the following English text into Hindi:\n",
            "\n",
            "Artificial intelligence is transforming the way we live and work. It has applications in healthcare, education, transportation, and many other fields. As technology advances, it's important to ensure that AI is developed ethically and responsibly.\n",
            "Response: कृत्रिम बुद्धिमत्ता हमारे जीवन और काम करने के तरीके को बदल रही है। इसके स्वास्थ्य देखभाल, शिक्षा, परिवहन और कई अन्य क्षेत्रों में अनुप्रयोग हैं। जैसे-जैसे तकनीक आगे बढ़ती है, यह महत्वपूर्ण है कि सुनिश्चित किया जाए कि AI का विकास नैतिक और जिम्मेदार तरीके से किया जाए।\n",
            "Time taken: 1.80s\n"
          ]
        }
      ]
    },
    {
      "cell_type": "markdown",
      "source": [
        "## 7. English Sentiment Analysis\n",
        "\n",
        "Let's use Sutra to perform sentiment analysis on English text."
      ],
      "metadata": {
        "id": "bK7_DhcOi5hP"
      }
    },
    {
      "cell_type": "code",
      "source": [
        "# English Reviews for Sentiment Analysis\n",
        "reviews = [\n",
        "    \"This movie was very good. The story was engaging and the acting was excellent.\",\n",
        "    \"The food was not at all tasty and the service was very poor.\",\n",
        "    \"The product is okay, but the price is a bit high.\",\n",
        "    \"I liked this book, the author explained the topic very well.\",\n",
        "    \"The trip was disappointing, the hotel was dirty and the staff was unfriendly.\"\n",
        "]\n",
        "\n",
        "sentiment_prompt = \"Perform sentiment analysis on the following English reviews and classify each as 'Positive', 'Negative', or 'Neutral':\\n\\n\"\n",
        "\n",
        "for i, review in enumerate(reviews):\n",
        "    sentiment_prompt += f\"{i+1}. {review}\\n\"\n",
        "\n",
        "sentiment_analysis, time_taken = get_sutra_response(sentiment_prompt, temperature=0.1)"
      ],
      "metadata": {
        "colab": {
          "base_uri": "https://localhost:8080/"
        },
        "id": "aYs1qwsijESm",
        "outputId": "ad988932-32d6-40e8-a89f-a75566231af6"
      },
      "execution_count": null,
      "outputs": [
        {
          "output_type": "stream",
          "name": "stdout",
          "text": [
            "Prompt: Perform sentiment analysis on the following English reviews and classify each as 'Positive', 'Negative', or 'Neutral':\n",
            "\n",
            "1. This movie was very good. The story was engaging and the acting was excellent.\n",
            "2. The food was not at all tasty and the service was very poor.\n",
            "3. The product is okay, but the price is a bit high.\n",
            "4. I liked this book, the author explained the topic very well.\n",
            "5. The trip was disappointing, the hotel was dirty and the staff was unfriendly.\n",
            "\n",
            "Response: 1. Positive\n",
            "2. Negative\n",
            "3. Neutral\n",
            "4. Positive\n",
            "5. Negative\n",
            "Time taken: 1.47s\n"
          ]
        }
      ]
    },
    {
      "cell_type": "markdown",
      "source": [
        "## 8. English Content Generation for Various Formats\n",
        "\n",
        "Sutra can generate English content in various formats."
      ],
      "metadata": {
        "id": "JS3SjqAijLiS"
      }
    },
    {
      "cell_type": "code",
      "source": [
        "# Generate English blog post\n",
        "blog_prompt = \"Write a blog post on the topic 'Indian Cuisine and Its Impact on Health'. Include a title, introduction, main points, and conclusion.\"\n",
        "\n",
        "blog_post = get_sutra_streaming_response(blog_prompt, temperature=0.7)"
      ],
      "metadata": {
        "colab": {
          "base_uri": "https://localhost:8080/"
        },
        "id": "HapYgv8LjTOU",
        "outputId": "8f05096e-8ded-49d6-bd1b-89d9acd54074"
      },
      "execution_count": null,
      "outputs": [
        {
          "output_type": "stream",
          "name": "stdout",
          "text": [
            "Prompt: Write a blog post on the topic 'Indian Cuisine and Its Impact on Health'. Include a title, introduction, main points, and conclusion.\n",
            "Response: # Indian Cuisine and Its Impact on Health\n",
            "\n",
            "## Introduction\n",
            "\n",
            "Indian cuisine is a vibrant tapestry of flavors, aromas, and colors that reflects the country's rich cultural heritage. It encompasses a diverse range of dishes, influenced by regional ingredients, historical events, and various religious practices. Beyond its delightful taste, Indian food is also known for its health benefits, thanks to the abundant use of spices, herbs, and wholesome ingredients. This blog post explores how Indian cuisine can positively impact health and well-being.\n",
            "\n",
            "## Main Points\n",
            "\n",
            "### 1. Nutritional Diversity\n",
            "\n",
            "Indian cuisine boasts a wide array of ingredients that provide essential nutrients. Staples such as lentils, beans, whole grains, vegetables, and fruits contribute to a balanced diet rich in proteins, fibers, vitamins, and minerals. For instance, legumes like chickpeas and lentils are excellent sources of plant-based protein, while vegetables provide fiber and essential micronutrients.\n",
            "\n",
            "### 2. Use of Spices\n",
            "\n",
            "The hallmark of Indian cooking lies in its liberal use of spices, many of which offer significant health benefits. Turmeric, known for its anti-inflammatory properties, contains curcumin, which has been studied for its potential role in preventing chronic diseases. Other spices such as cumin, coriander, ginger, and garlic not only enhance flavor but also support digestion, boost immunity, and improve metabolic health.\n",
            "\n",
            "### 3. Heart Health\n",
            "\n",
            "Many traditional Indian dishes emphasize healthy cooking methods, such as steaming, boiling, and sautéing with minimal oil. Ingredients like mustard oil and ghee (clarified butter), when used in moderation, can provide heart-healthy fats. Moreover, the incorporation of nuts and seeds, such as almonds and flaxseeds, adds omega-3 fatty acids, which have been associated with lower cholesterol levels and better cardiovascular health.\n",
            "\n",
            "### 4. Digestive Benefits\n",
            "\n",
            "Fermented foods play a significant role in Indian cuisine, particularly in regional varieties like dosa, idli, and curd (yogurt). These foods are rich in probiotics, which promote gut health and aid digestion. The high fiber content found in many Indian dishes also contributes to improved digestive function and helps prevent gastrointestinal issues.\n",
            "\n",
            "### 5. Anti-Diabetic Properties\n",
            "\n",
            "Several Indian dishes feature ingredients known for their anti-diabetic properties. For example, bitter gourd (karela) is often included in meals for its ability to help regulate blood sugar levels. Whole grains like brown rice and millets, which have a lower glycemic index compared to white rice, are frequently used in place of refined grains, making them a healthier choice for those managing diabetes.\n",
            "\n",
            "### 6. Mental Well-Being\n",
            "\n",
            "The act of cooking and sharing meals is deeply rooted in Indian culture, fostering social connections and emotional well-being. Furthermore, many spices used in Indian cuisine, such as saffron and cardamom, have been linked to improved mood and cognitive function, contributing to overall mental health.\n",
            "\n",
            "## Conclusion\n",
            "\n",
            "Indian cuisine is not only a feast for the senses but also a treasure trove of health benefits. The nutritional diversity, use of spices, and traditional cooking methods collectively contribute to a holistic approach to health and well-being. By incorporating elements of Indian cooking into our diets, individuals can enjoy delicious meals while reaping the rewards of a healthier lifestyle. Embracing this culinary heritage offers an opportunity to nourish both body and soul, highlighting the profound connection between food and health.\n",
            "Time taken: 8.40s\n"
          ]
        }
      ]
    },
    {
      "cell_type": "markdown",
      "source": [
        "## 9. Conclusion\n",
        "\n",
        "In this notebook, we explored the use of the Sutra model with the OpenAI client for **English language applications**. We covered various use cases, including:\n",
        "\n",
        "* Basic English text generation\n",
        "* Information retrieval in English\n",
        "* Creative writing in English\n",
        "* English text summarization\n",
        "* English question answering\n",
        "* English-Hindi translation\n",
        "* Sentiment analysis in English\n",
        "* English content generation in various formats\n",
        "* English code-switching\n",
        "* Understanding English cultural context\n",
        "* Structured output generation in English\n",
        "\n",
        "Sutra’s strong capabilities in English and other Indian languages make it an excellent choice for applications targeting English-speaking users or requiring English language processing.\n",
        "\n"
      ],
      "metadata": {
        "id": "upllGp8ijbQL"
      }
    },
    {
      "cell_type": "markdown",
      "source": [
        "## 10. Additional Resources\n",
        "\n",
        "To learn more about using Sutra with the **English language**, refer to the following resources:\n",
        "\n",
        "1. [Sutra API Documentation](https://docs.two.ai)\n",
        "2. [Sutra Model Variants](https://docs.two.ai/models)\n",
        "3. [More about Multilingual Capabilities](https://docs.two.ai/multilingual)\n",
        "\n",
        "You are encouraged to build your own applications using Sutra for **English** and other Indian languages!\n",
        "\n"
      ],
      "metadata": {
        "id": "bTS6yWexjrpl"
      }
    }
  ]
}