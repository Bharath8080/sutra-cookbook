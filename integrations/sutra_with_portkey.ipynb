{
  "cells": [
    {
      "cell_type": "markdown",
      "metadata": {
        "id": "title-section"
      },
      "source": [
        "# SUTRA x Portkey: The Gateway Cookbook\n",
        "\n",
        "<img src=\"https://play-lh.googleusercontent.com/_O9p4Z4yucA2NLmZBu9mTJCuBwXeT9NcbtrDN6I8gKlkIPRySV0adOmbyipjSj9Gew\" width=\"150\">\n",
        "\n",
        "<img src=\"https://encrypted-tbn0.gstatic.com/images?q=tbn:ANd9GcRX8V9wZZ69LrmJjm8VmbSw_2FnBbUOtXDAAQ&s\" width=\"150\">\n",
        "\n",
        "\n",
        "[![Open In Colab](https://colab.research.google.com/assets/colab-badge.svg)](https://colab.research.google.com/drive/11FLZl0gScugIpXpC0M9tMDWn9C_osZ9A?usp=sharing)\n",
        "\n",
        "This notebook provides a simple, easy-to-follow guide for using Sutra-v2 models with Portkey's AI Gateway. We'll focus on the basics to get you up and running quickly."
      ]
    },
    {
      "cell_type": "markdown",
      "source": [
        "## Get Your API Keys\n",
        "\n",
        "Before you begin, make sure you have:\n",
        "\n",
        "1. A SUTRA API key (Get yours at [TWO AI's SUTRA API Page](https://app.portkey.ai/api-keys))\n",
        "2. A Portkey API Key (Get yours at [PORTKEY API Page](https://www.two.ai/sutra/api))\n",
        "2. Basic familiarity with Python and Jupyter notebooks\n",
        "\n",
        "This notebook is designed to run in Google Colab, so no local Python installation is required."
      ],
      "metadata": {
        "id": "kfUMivYLrMSe"
      }
    },
    {
      "cell_type": "markdown",
      "metadata": {
        "id": "setup-section"
      },
      "source": [
        "## 1. Install Required Packages\n",
        "\n",
        "First, let's install the Portkey and OpenAI packages:"
      ]
    },
    {
      "cell_type": "code",
      "execution_count": null,
      "metadata": {
        "id": "install-packages",
        "colab": {
          "base_uri": "https://localhost:8080/"
        },
        "outputId": "63609485-6845-47ca-c85c-b9af835941c7"
      },
      "outputs": [
        {
          "output_type": "stream",
          "name": "stdout",
          "text": [
            "\u001b[?25l   \u001b[90m━━━━━━━━━━━━━━━━━━━━━━━━━━━━━━━━━━━━━━━━\u001b[0m \u001b[32m0.0/756.9 kB\u001b[0m \u001b[31m?\u001b[0m eta \u001b[36m-:--:--\u001b[0m\r\u001b[2K   \u001b[91m━━━━━━━━━━━━━━━━━━━━━━━\u001b[0m\u001b[91m╸\u001b[0m\u001b[90m━━━━━━━━━━━━━━━━\u001b[0m \u001b[32m450.6/756.9 kB\u001b[0m \u001b[31m13.4 MB/s\u001b[0m eta \u001b[36m0:00:01\u001b[0m\r\u001b[2K   \u001b[90m━━━━━━━━━━━━━━━━━━━━━━━━━━━━━━━━━━━━━━━━\u001b[0m \u001b[32m756.9/756.9 kB\u001b[0m \u001b[31m12.5 MB/s\u001b[0m eta \u001b[36m0:00:00\u001b[0m\n",
            "\u001b[?25h"
          ]
        }
      ],
      "source": [
        "!pip install -q portkey-ai openai"
      ]
    },
    {
      "cell_type": "markdown",
      "metadata": {
        "id": "api-keys"
      },
      "source": [
        "## 2. Set Up Your API Keys\n",
        "\n",
        "You'll need both a Sutra API key and a Portkey API key. For security, we'll use environment variables:"
      ]
    },
    {
      "cell_type": "code",
      "execution_count": null,
      "metadata": {
        "id": "setup-keys"
      },
      "outputs": [],
      "source": [
        "import os\n",
        "from google.colab import userdata\n",
        "\n",
        "# Set your API keys\n",
        "sutra_api_key = userdata.get('SUTRA_API_KEY')\n",
        "portkey_api_key = userdata.get('PORTKEY_API_KEY')"
      ]
    },
    {
      "cell_type": "markdown",
      "metadata": {
        "id": "initialize-portkey"
      },
      "source": [
        "## 3. Initialize Portkey with Sutra-v2\n",
        "\n",
        "Now we'll set up Portkey to work with Sutra-v2 models:"
      ]
    },
    {
      "cell_type": "code",
      "execution_count": null,
      "metadata": {
        "id": "portkey-init",
        "colab": {
          "base_uri": "https://localhost:8080/"
        },
        "outputId": "565c63d1-edf9-473b-a02f-0e3e62f036e7"
      },
      "outputs": [
        {
          "output_type": "stream",
          "name": "stdout",
          "text": [
            "Portkey client initialized with Sutra-v2!\n"
          ]
        }
      ],
      "source": [
        "from portkey_ai import Portkey\n",
        "\n",
        "# Initialize Portkey client with Sutra as the provider\n",
        "client = Portkey(\n",
        "    api_key=portkey_api_key,\n",
        "    provider=\"custom\",  # Using custom provider for Sutra\n",
        "    base_url=\"https://api.two.ai/v2\",  # Sutra API endpoint\n",
        "    Authorization=sutra_api_key  # Sutra API key\n",
        ")\n",
        "\n",
        "print(\"Portkey client initialized with Sutra-v2!\")"
      ]
    },
    {
      "cell_type": "markdown",
      "metadata": {
        "id": "helper-function"
      },
      "source": [
        "## 4. Create a Simple Helper Function\n",
        "\n",
        "Let's create a simple function to generate text using Sutra-v2 models through Portkey:"
      ]
    },
    {
      "cell_type": "code",
      "execution_count": null,
      "metadata": {
        "id": "helper-code"
      },
      "outputs": [],
      "source": [
        "def ask_sutra(prompt, model=\"sutra-v2\", temperature=0.7, max_tokens=500):\n",
        "    \"\"\"Simple function to get responses from Sutra-v2 via Portkey\"\"\"\n",
        "    response = client.chat.completions.create(\n",
        "        model=model,\n",
        "        messages=[\n",
        "            {\"role\": \"user\", \"content\": prompt}\n",
        "        ],\n",
        "        temperature=temperature,\n",
        "        max_tokens=max_tokens\n",
        "    )\n",
        "    return response.choices[0].message.content"
      ]
    },
    {
      "cell_type": "markdown",
      "metadata": {
        "id": "basic-example"
      },
      "source": [
        "## 5. Try a Simple Example\n",
        "\n",
        "Let's test our setup with a basic prompt:"
      ]
    },
    {
      "cell_type": "code",
      "execution_count": null,
      "metadata": {
        "id": "test-basic",
        "colab": {
          "base_uri": "https://localhost:8080/"
        },
        "outputId": "f63e0534-e584-4ce3-d349-6668da4bbd96"
      },
      "outputs": [
        {
          "output_type": "stream",
          "name": "stdout",
          "text": [
            "AI plays a crucial role in modern healthcare in India, impacting various aspects of the healthcare system. Here are some key points highlighting its importance:\n",
            "\n",
            "1. **Enhanced Diagnostics**: AI algorithms can analyze medical images (like X-rays, MRIs, and CT scans) with high accuracy, aiding radiologists in early disease detection, such as cancer or tuberculosis. This is particularly significant in India, where access to specialized medical professionals can be limited.\n",
            "\n",
            "2. **Personalized Medicine**: AI enables the analysis of vast amounts of patient data to tailor treatments to individual needs. By understanding genetic information and lifestyle factors, healthcare providers can offer more effective and personalized treatment plans.\n",
            "\n",
            "3. **Predictive Analytics**: AI can predict disease outbreaks and patient deterioration by analyzing historical data, which is vital for public health management. This capacity is particularly useful in a diverse country like India, where diseases can vary significantly across regions.\n",
            "\n",
            "4. **Operational Efficiency**: AI streamlines administrative processes in hospitals, such as patient scheduling, billing, and resource allocation. This reduces wait times and improves the overall patient experience, which is essential in a country with a high patient load.\n",
            "\n",
            "5. **Telemedicine and Remote Monitoring**: AI-powered tools facilitate remote consultations and continuous monitoring of patients, making healthcare accessible to those in rural or underserved areas. This is critical in India, where geographical barriers can limit access to quality healthcare.\n",
            "\n",
            "6. **Drug Discovery and Development**: AI accelerates the drug discovery process by predicting how different compounds will behave in the human body, thus reducing the time and cost associated with bringing new drugs to market.\n",
            "\n",
            "7. **Training and Support for Healthcare Professionals**: AI-based training programs can help medical professionals stay updated with the latest practices and technologies, enhancing their skills and knowledge.\n",
            "\n",
            "8. **Mental Health Support**: AI applications can provide initial mental health assessments and ongoing support through chatbots and mobile apps, helping to bridge the gap in mental health services in India.\n",
            "\n",
            "9. **Health Monitoring and Wearable Technology**: AI integrates with wearable devices to monitor vital signs and health metrics in real time, promoting proactive health management.\n",
            "\n",
            "10. **Cost Reduction**: By improving efficiencies and outcomes, AI has the potential to reduce healthcare costs, making it more affordable for the population, especially in a developing economy like India.\n",
            "\n",
            "In summary, AI is transforming healthcare in India by improving diagnostics, personalizing treatment, enhancing operational efficiency, and expanding access to services, ultimately leading to better health outcomes for the population.\n"
          ]
        }
      ],
      "source": [
        "# Test with a simple prompt\n",
        "simple_prompt = \"Explain the importance of AI in modern healthcare in India.\"\n",
        "response = ask_sutra(simple_prompt)\n",
        "print(response)"
      ]
    },
    {
      "cell_type": "markdown",
      "metadata": {
        "id": "multilingual"
      },
      "source": [
        "## 6. Try Multilingual Capabilities\n",
        "\n",
        "Sutra-v2 excels at Indian languages. Let's test it with a Hindi prompt:"
      ]
    },
    {
      "cell_type": "code",
      "execution_count": null,
      "metadata": {
        "id": "hindi-example",
        "colab": {
          "base_uri": "https://localhost:8080/"
        },
        "outputId": "911208d9-c082-436d-ba95-54848a824831"
      },
      "outputs": [
        {
          "output_type": "stream",
          "name": "stdout",
          "text": [
            "भारत में कृत्रिम बुद्धिमत्ता (AI) का महत्व तेजी से बढ़ रहा है और यह विभिन्न क्षेत्रों में क्रांतिकारी परिवर्तन लाने की क्षमता रखता है। यहाँ कुछ मुख्य बिंदु हैं जो AI के महत्व को स्पष्ट करते हैं:\n",
            "\n",
            "1. **आर्थिक विकास**: AI तकनीकों का उपयोग करके भारत अपनी आर्थिक वृद्धि को गति दे सकता है। यह उत्पादकता बढ़ाने, लागत कम करने और नए व्यवसायों के निर्माण में सहायता कर सकता है।\n",
            "\n",
            "2. **स्वास्थ्य सेवा**: AI का उपयोग चिकित्सा क्षेत्र में रोग निदान, उपचार योजना और स्वास्थ्य सेवाओं की पहुंच को बेहतर बनाने के लिए किया जा रहा है। मशीन लर्निंग मॉडल्स का इस्तेमाल करके डॉक्टर मरीजों के स्वास्थ्य का बेहतर विश्लेषण कर सकते हैं।\n",
            "\n",
            "3. **शिक्षा**: AI शैक्षणिक प्रणाली को व्यक्तिगत बनाने में मदद कर सकता है, जिससे छात्रों की जरूरतों के अनुसार अध्ययन सामग्री उपलब्ध कराई जा सके। यह शिक्षकों के लिए भी मूल्यवान जानकारी प्रदान करता है।\n",
            "\n",
            "4. **कृषि**: AI तकनीकों का उपयोग करके फसल उत्पादन, कीट नियंत्रण और जल प्रबंधन में सुधार किया जा सकता है। इससे भारतीय कृषि को अधिक प्रभावी और टिकाऊ बनाया जा सकता है।\n",
            "\n",
            "5. **सुरक्षा**: AI का उपयोग सुरक्षा क्षेत्र में निगरानी, अपराध रोकने और आपातकालीन सेवाओं को बेहतर बनाने के लिए किया जा रहा है। यह डेटा एनालिटिक्स के माध्यम से संभावित खतरों की पहचान करने में मदद कर सकता है।\n",
            "\n",
            "6. **आधारभूत ढांचा और स्मार्ट शहर**: AI का उपयोग स्मार्ट शहरों के विकास में किया जा रहा है, जहां ट्रैफिक प्रबंधन, ऊर्जा प्रबंधन और सार्वजनिक सेवाओं को बेहतर बनाने के लिए AI समाधान लागू किए जा रहे हैं।\n",
            "\n",
            "7. **नौकरी और कौशल विकास**: हालांकि AI कुछ पारंपरिक नौकरियों को प्रभावित कर सकता है, लेकिन यह नई प्रकार की नौकरियों और कौशलों के विकास का भी मार्ग प्रशस्त कर रहा है, जिससे श्रमिकों को नए कौशल हासिल करने की आवश्यकता होगी।\n",
            "\n",
            "8. **वैश्विक प्रतिस्पर्धा**: AI के क्षेत्र में उत्कृष्टता हासिल करके भारत वैश्विक स्तर पर प्रतिस्पर्धात्मक बने रहने की कोशिश कर रहा है। यह अनुसंधान, विकास और नवाचार को बढ़ावा देने में सहायक है।\n",
            "\n",
            "इन सभी पहलुओं से\n"
          ]
        }
      ],
      "source": [
        "# Hindi prompt\n",
        "hindi_prompt = \"भारत में कृत्रिम बुद्धिमत्ता (AI) के महत्व के बारे में बताएं।\"\n",
        "hindi_response = ask_sutra(hindi_prompt)\n",
        "print(hindi_response)"
      ]
    },
    {
      "cell_type": "markdown",
      "metadata": {
        "id": "creative-writing"
      },
      "source": [
        "## 7. Creative Writing Example\n",
        "\n",
        "Let's try a creative writing prompt:"
      ]
    },
    {
      "cell_type": "code",
      "execution_count": null,
      "metadata": {
        "id": "creative-example",
        "colab": {
          "base_uri": "https://localhost:8080/"
        },
        "outputId": "4a7568ce-d604-4afd-f44f-134159df4f9c"
      },
      "outputs": [
        {
          "output_type": "stream",
          "name": "stdout",
          "text": [
            "In the cradle of the sky, where the eagles soar,  \n",
            "Majestic peaks rise high, ancient tales they bore.  \n",
            "Veils of snow like whispers drape the rugged stone,  \n",
            "In the heart of the Himalayas, nature’s beauty shone.  \n",
            "\n",
            "Rivers dance through valleys, a silver thread they weave,  \n",
            "Forests clad in emerald, where the wild spirits cleave.  \n",
            "Sunrise paints the summits in hues of gold and pink,  \n",
            "A sacred silence lingers, where the soul dares to think.  \n",
            "\n",
            "Beneath the stars’ embrace, in the chill of night’s grace,  \n",
            "The mountains hold their secrets, time slows its swift pace.  \n",
            "In every breath of wind, in every crystal stream,  \n",
            "The Himalayas whisper, life’s eternal dream.\n"
          ]
        }
      ],
      "source": [
        "# Creative writing prompt\n",
        "creative_prompt = \"Write a short poem about the beauty of the Himalayas.\"\n",
        "creative_response = ask_sutra(creative_prompt)\n",
        "print(creative_response)"
      ]
    },
    {
      "cell_type": "markdown",
      "metadata": {
        "id": "basic-portkey-features"
      },
      "source": [
        "## 8. Using Basic Portkey Features\n",
        "\n",
        "Let's try a simple Portkey feature - automatic retries for reliability:"
      ]
    },
    {
      "cell_type": "code",
      "execution_count": null,
      "metadata": {
        "id": "retry-example"
      },
      "outputs": [],
      "source": [
        "# Configure retries\n",
        "retry_config = {\n",
        "    \"retry\": {\n",
        "        \"attempts\": 3,  # Retry up to 3 times\n",
        "        \"initial_delay\": 1  # Start with a 1-second delay\n",
        "    }\n",
        "}\n",
        "\n",
        "# Create a client with retry configuration\n",
        "retry_client = client.with_options(config=retry_config)\n",
        "\n",
        "# Function to use the retry-enabled client\n",
        "def ask_with_retry(prompt, model=\"sutra-v2\"):\n",
        "    response = retry_client.chat.completions.create(\n",
        "        model=model,\n",
        "        messages=[{\"role\": \"user\", \"content\": prompt}],\n",
        "        max_tokens=500\n",
        "    )\n",
        "    return response.choices[0].message.content"
      ]
    },
    {
      "cell_type": "markdown",
      "source": [
        "### Test with a prompt\n"
      ],
      "metadata": {
        "id": "C60fUQE3peLj"
      }
    },
    {
      "cell_type": "code",
      "source": [
        "# Test with a prompt\n",
        "retry_prompt = \"What are the major festivals celebrated in different regions of India?\"\n",
        "retry_response = ask_with_retry(retry_prompt)\n",
        "print(retry_response)"
      ],
      "metadata": {
        "colab": {
          "base_uri": "https://localhost:8080/"
        },
        "id": "-uge8fehpdPr",
        "outputId": "823644ae-b12f-4118-8d04-b8d01c603823"
      },
      "execution_count": null,
      "outputs": [
        {
          "output_type": "stream",
          "name": "stdout",
          "text": [
            "India is known for its rich cultural diversity, and various festivals are celebrated across different regions, each reflecting local traditions, customs, and beliefs. Here are some major festivals from various parts of India:\n",
            "\n",
            "1. **Diwali** (Pan-India):\n",
            "   - Also known as the Festival of Lights, Diwali is celebrated by Hindus, Jains, Sikhs, and some Buddhists. It signifies the victory of light over darkness and good over evil.\n",
            "\n",
            "2. **Holi** (Pan-India):\n",
            "   - Known as the Festival of Colors, Holi marks the arrival of spring and is celebrated with vibrant colors, music, and dance.\n",
            "\n",
            "3. **Durga Puja** (West Bengal):\n",
            "   - A major festival in West Bengal, Durga Puja honors the goddess Durga. It involves elaborate rituals, artistic idols, and cultural performances.\n",
            "\n",
            "4. **Pongal** (Tamil Nadu):\n",
            "   - A harvest festival celebrated over four days, Pongal involves cooking rice in milk and is dedicated to the Sun God, marking gratitude for the harvest.\n",
            "\n",
            "5. **Baisakhi** (Punjab):\n",
            "   - This harvest festival is celebrated in April and marks the Punjabi New Year. It is significant for Sikhs as it commemorates the formation of the Khalsa.\n",
            "\n",
            "6. **Onam** (Kerala):\n",
            "   - Onam is a harvest festival celebrated with various cultural activities, including boat races, flower arrangements (Pookalam), and traditional feasts.\n",
            "\n",
            "7. **Eid al-Fitr** (Pan-India):\n",
            "   - Celebrated by Muslims after the month of Ramadan, Eid al-Fitr involves communal prayers, feasting, and charity.\n",
            "\n",
            "8. **Navratri/Dussehra** (Pan-India):\n",
            "   - Navratri is a nine-night festival dedicated to the goddess Durga, culminating in Dussehra, which celebrates the victory of Lord Rama over Ravana.\n",
            "\n",
            "9. **Makar Sankranti** (Pan-India):\n",
            "   - Celebrated in January, this harvest festival marks the transition of the sun into the zodiac sign of Capricorn. It is known by different names in various states, such as Lohri in Punjab and Uttarayan in Gujarat.\n",
            "\n",
            "10. **Gudi Padwa** (Maharashtra):\n",
            "    - The Marathi New Year, Gudi Padwa is celebrated with the raising of a Gudi (a decorated pole) and various traditional dishes.\n",
            "\n",
            "11. **Bihu** (Assam):\n",
            "\n"
          ]
        }
      ]
    },
    {
      "cell_type": "markdown",
      "metadata": {
        "id": "simple-caching"
      },
      "source": [
        "## 9. Simple Caching for Better Performance\n",
        "\n",
        "Let's implement basic caching to improve response times for repeated queries:"
      ]
    },
    {
      "cell_type": "code",
      "execution_count": null,
      "metadata": {
        "id": "cache-example"
      },
      "outputs": [],
      "source": [
        "# Configure simple caching\n",
        "cache_config = {\n",
        "    \"cache\": {\n",
        "        \"enabled\": True,  # Enable caching\n",
        "        \"ttl\": 3600  # Cache for 1 hour (in seconds)\n",
        "    }\n",
        "}\n",
        "\n",
        "# Create a client with caching\n",
        "cached_client = client.with_options(config=cache_config)\n",
        "\n",
        "# Function to demonstrate caching\n",
        "def test_simple_caching(prompt):\n",
        "    import time\n",
        "\n",
        "    print(\"First request (cache miss):\")\n",
        "    start_time = time.time()\n",
        "    response1 = cached_client.chat.completions.create(\n",
        "        model=\"sutra-v2\",\n",
        "        messages=[{\"role\": \"user\", \"content\": prompt}],\n",
        "        max_tokens=500\n",
        "    )\n",
        "    time1 = time.time() - start_time\n",
        "    print(f\"Time taken: {time1:.2f} seconds\")\n",
        "    print(f\"Response: {response1.choices[0].message.content[:150]}...\\n\")\n",
        "\n",
        "    print(\"Second request with same prompt (cache hit):\")\n",
        "    start_time = time.time()\n",
        "    response2 = cached_client.chat.completions.create(\n",
        "        model=\"sutra-v2\",\n",
        "        messages=[{\"role\": \"user\", \"content\": prompt}],\n",
        "        max_tokens=500\n",
        "    )\n",
        "    time2 = time.time() - start_time\n",
        "    print(f\"Time taken: {time2:.2f} seconds\")\n",
        "    print(f\"Response: {response2.choices[0].message.content[:150]}...\")\n",
        "\n",
        "    if time2 < time1:\n",
        "        print(f\"\\nCaching improved response time by {time1/time2:.1f}x!\")"
      ]
    },
    {
      "cell_type": "markdown",
      "source": [
        "### Test caching\n"
      ],
      "metadata": {
        "id": "LWBLtKMApYEL"
      }
    },
    {
      "cell_type": "code",
      "source": [
        "# Test caching\n",
        "cache_prompt = \"Explain the concept of artificial intelligence to a 10-year-old child.\"\n",
        "test_simple_caching(cache_prompt)"
      ],
      "metadata": {
        "colab": {
          "base_uri": "https://localhost:8080/"
        },
        "id": "4-moy_aWpWzt",
        "outputId": "0ac20337-9ca1-4687-ea0a-e93fa7f3c401"
      },
      "execution_count": null,
      "outputs": [
        {
          "output_type": "stream",
          "name": "stdout",
          "text": [
            "First request (cache miss):\n",
            "Time taken: 2.71 seconds\n",
            "Response: Artificial intelligence, or AI for short, is like giving a computer or a robot a brain that helps it think and learn, similar to how people do. Imagin...\n",
            "\n",
            "Second request with same prompt (cache hit):\n",
            "Time taken: 2.85 seconds\n",
            "Response: Artificial intelligence, or AI, is like teaching a computer or a robot to think and learn in a way that’s similar to how people do. Imagine you have a...\n"
          ]
        }
      ]
    },
    {
      "cell_type": "markdown",
      "metadata": {
        "id": "conclusion"
      },
      "source": [
        "## 10. Conclusion\n",
        "\n",
        "In this simple guide, you've learned how to:\n",
        "\n",
        "1. Set up Portkey with Sutra-v2 models\n",
        "2. Create a simple helper function for generating text\n",
        "3. Test Sutra-v2's capabilities with different types of prompts\n",
        "4. Use basic Portkey features like retries and caching\n",
        "\n",
        "This integration gives you the best of both worlds: Sutra-v2's powerful language capabilities (especially for Indian languages) and Portkey's reliability features.\n",
        "\n"
      ]
    }
  ],
  "metadata": {
    "colab": {
      "provenance": []
    },
    "kernelspec": {
      "display_name": "Python 3",
      "name": "python3"
    },
    "language_info": {
      "name": "python"
    }
  },
  "nbformat": 4,
  "nbformat_minor": 0
}